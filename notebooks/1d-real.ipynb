{
 "cells": [
  {
   "cell_type": "markdown",
   "id": "59a99259",
   "metadata": {},
   "source": [
    "# Starting with a real robot\n",
    "\n",
    "The BotOp interface should work equally for a simulated and real robot. Note that currently only a locally compiled robotic package supports connecting to a Franka robot and Realsense camera. Here some first cautious steps to get started with a real robot."
   ]
  },
  {
   "cell_type": "markdown",
   "id": "fee0684d",
   "metadata": {},
   "source": [
    "## First robot motion, camera & pcl, and gripper motion"
   ]
  },
  {
   "cell_type": "code",
   "execution_count": 1,
   "id": "eca938ab",
   "metadata": {},
   "outputs": [
    {
     "name": "stdout",
     "output_type": "stream",
     "text": [
      "compile time: Sep 23 2023 18:22:45\n"
     ]
    }
   ],
   "source": [
    "from robotic import ry\n",
    "import numpy as np\n",
    "import time\n",
    "print(ry.compiled())"
   ]
  },
  {
   "cell_type": "code",
   "execution_count": 2,
   "id": "950397d7",
   "metadata": {},
   "outputs": [
    {
     "name": "stdout",
     "output_type": "stream",
     "text": [
      "-- ry.cpp:operator():99(0) python,\n",
      "message: \"Hello, the local 'rai.cfg' was loaded\",\n",
      "botsim/verbose: 1,\n",
      "physx/motorKp: 10000,\n",
      "physx/motorKd: 1000\n"
     ]
    }
   ],
   "source": [
    "#in case you switch to simulation\n",
    "ry.params_add({'botsim/verbose': 1., 'physx/motorKp': 10000., 'physx/motorKd': 1000.})\n",
    "ry.params_print()"
   ]
  },
  {
   "cell_type": "markdown",
   "id": "e3280d7b",
   "metadata": {},
   "source": [
    "First, also for a real robot we first load the configuration and maintain our own workspace configuration."
   ]
  },
  {
   "cell_type": "code",
   "execution_count": 3,
   "id": "33f75e77",
   "metadata": {},
   "outputs": [
    {
     "data": {
      "text/plain": [
       "0"
      ]
     },
     "execution_count": 3,
     "metadata": {},
     "output_type": "execute_result"
    }
   ],
   "source": [
    "C = ry.Config()\n",
    "C.addFile(ry.raiPath('../rai-robotModels/scenarios/pandaSingle.g'))\n",
    "pcl = C.addFrame('pcl', 'cameraWrist')\n",
    "C.view(False, 'this is your workspace data structure C -- NOT THE SIMULTATION')"
   ]
  },
  {
   "cell_type": "markdown",
   "id": "f0a194da",
   "metadata": {},
   "source": [
    "Now we start botop with real=True. By passing the model configuration C, the system knows which and how many robots there should be an tries to connect with them."
   ]
  },
  {
   "cell_type": "code",
   "execution_count": 4,
   "id": "f1119ecc",
   "metadata": {},
   "outputs": [
    {
     "name": "stdout",
     "output_type": "stream",
     "text": [
      "-- bot.cpp:BotOp:38(0) CONNECTING TO FRANKAS..\n",
      "STACK9 /usr/bin/python3(PyObject_Call\n",
      "STACK8 /usr/bin/python3() [0x50b8a8]\n",
      "STACK7 /usr/bin/python3(_PyObject_MakeTpCall\n",
      "STACK6 /usr/bin/python3(PyCFunction_Call\n",
      "STACK5 /home/mtoussai/.local/lib/python3.8/site-packages/robotic/ry.cpython-38-x86_64-linux-gnu.so(+0xbc6af) [0x7f9a446ad6af]\n",
      "STACK4 /home/mtoussai/.local/lib/python3.8/site-packages/robotic/ry.cpython-38-x86_64-linux-gnu.so(+0x3bb9e) [0x7f9a4462cb9e]\n",
      "STACK3 BotOp::BotOp(rai::Configuration&, bool)\n",
      "STACK2 std::__shared_count<(__gnu_cxx::_Lock_policy)2>::__shared_count<FrankaThread, std::allocator<FrankaThread>, int, rai::Array<unsigned int>, Var<rai::CtrlCmdMsg>&, Var<rai::CtrlStateMsg>&>(FrankaThread*&, std::_Sp_alloc_shared_tag<std::allocator<FrankaThread> >, int&&, rai::Array<unsigned int>&&, Var<rai::CtrlCmdMsg>&, Var<rai::CtrlStateMsg>&)\n",
      "STACK1 FrankaThread::init(unsigned int, rai::Array<unsigned int> const&)\n",
      "STACK0 rai::LogToken::~LogToken()\n",
      "-- WARNING:bot.cpp:BotOp:70(-1) Starting the real robot failed! Error msg: franka.cpp:init:356(-2) not implemented with this compiler options: usually this means that the implementation needs an external library and a corresponding compiler option - see the source code\n"
     ]
    },
    {
     "name": "stderr",
     "output_type": "stream",
     "text": [
      "== ERROR:franka.cpp:init:356(-2) not implemented with this compiler options: usually this means that the implementation needs an external library and a corresponding compiler option - see the source code\n"
     ]
    }
   ],
   "source": [
    "# True = real robot!!\n",
    "bot = ry.BotOp(C, useRealRobot=True)"
   ]
  },
  {
   "cell_type": "markdown",
   "id": "570afef1",
   "metadata": {},
   "source": [
    "If that failed, you could `ry.params_print()` to see which global parameters were used and whether you should change them."
   ]
  },
  {
   "cell_type": "code",
   "execution_count": 5,
   "id": "bafdead7",
   "metadata": {},
   "outputs": [
    {
     "name": "stdout",
     "output_type": "stream",
     "text": [
      "-- bot.cpp:~BotOp:112(0) shutting down BotOp...\n"
     ]
    }
   ],
   "source": [
    "if bot.get_t()==0: #if the above failed, use a sim...\n",
    "    del bot\n",
    "    bot = ry.BotOp(C, useRealRobot=False)"
   ]
  },
  {
   "cell_type": "markdown",
   "id": "b7d17dd0",
   "metadata": {},
   "source": [
    "A first **motion**:"
   ]
  },
  {
   "cell_type": "code",
   "execution_count": 6,
   "id": "df4ea390",
   "metadata": {},
   "outputs": [
    {
     "name": "stdout",
     "output_type": "stream",
     "text": [
      "first motion done\n"
     ]
    },
    {
     "data": {
      "text/plain": [
       "0"
      ]
     },
     "execution_count": 6,
     "metadata": {},
     "output_type": "execute_result"
    }
   ],
   "source": [
    "q = bot.get_qHome()\n",
    "q[1] = q[1] + .2\n",
    "\n",
    "bot.moveTo(q)\n",
    "bot.wait(C)\n",
    "print('first motion done')\n",
    "\n",
    "bot.moveTo(bot.get_qHome())\n",
    "bot.wait(C)"
   ]
  },
  {
   "cell_type": "markdown",
   "id": "a845b0fb",
   "metadata": {},
   "source": [
    "Grabbing a **camera image & pcl**, adding the pcl to the workspace C:"
   ]
  },
  {
   "cell_type": "code",
   "execution_count": 7,
   "id": "1b2144a8",
   "metadata": {},
   "outputs": [
    {
     "name": "stdout",
     "output_type": "stream",
     "text": [
      "-- WARNING:kin.cpp:addFrame:191(-1) frame already exists! returning existing without modifications!\n",
      "-- frame.cpp:glDraw:1668(1) trying to draw empty mesh (shape type:pointCloud)\n",
      "STACK9 /usr/bin/python3(PyCFunction_Call\n",
      "STACK8 /home/mtoussai/.local/lib/python3.8/site-packages/robotic/ry.cpython-38-x86_64-linux-gnu.so(+0xbc6af) [0x7f9a446ad6af]\n",
      "STACK7 /home/mtoussai/.local/lib/python3.8/site-packages/robotic/ry.cpython-38-x86_64-linux-gnu.so(+0x47f29) [0x7f9a44638f29]\n",
      "STACK6 BotOp::getImageDepthPcl(rai::Array<unsigned char>&, rai::Array<float>&, rai::ArrayDouble&, char const*, bool)\n",
      "STACK5 rai::Simulation::getImageAndDepth(rai::Array<unsigned char>&, rai::Array<float>&)\n",
      "STACK4 rai::CameraView::updateConfiguration(rai::Configuration const&)\n",
      "STACK3 rai::Configuration::getFrameState(rai::Array<rai::Frame*> const&) const\n",
      "STACK2 rai::Frame::ensure_X()\n",
      "STACK1 rai::Frame::calc_X_from_parent()\n",
      "STACK0 rai::LogToken::~LogToken()\n"
     ]
    },
    {
     "name": "stderr",
     "output_type": "stream",
     "text": [
      "== ERROR:frame.cpp:calc_X_from_parent:94(-2) CHECK failed: 'parent->_state_X_isGood' -- \n"
     ]
    },
    {
     "ename": "RuntimeError",
     "evalue": "frame.cpp:calc_X_from_parent:94(-2) CHECK failed: 'parent->_state_X_isGood' -- ",
     "output_type": "error",
     "traceback": [
      "\u001b[0;31m---------------------------------------------------------------------------\u001b[0m",
      "\u001b[0;31mRuntimeError\u001b[0m                              Traceback (most recent call last)",
      "Cell \u001b[0;32mIn[7], line 6\u001b[0m\n\u001b[1;32m      3\u001b[0m bot\u001b[38;5;241m.\u001b[39msync(C)\n\u001b[1;32m      5\u001b[0m \u001b[38;5;28;01mwhile\u001b[39;00m bot\u001b[38;5;241m.\u001b[39mgetKeyPressed()\u001b[38;5;241m!=\u001b[39m\u001b[38;5;28mord\u001b[39m(\u001b[38;5;124m'\u001b[39m\u001b[38;5;124mq\u001b[39m\u001b[38;5;124m'\u001b[39m):\n\u001b[0;32m----> 6\u001b[0m     image, depth, points \u001b[38;5;241m=\u001b[39m \u001b[43mbot\u001b[49m\u001b[38;5;241;43m.\u001b[39;49m\u001b[43mgetImageDepthPcl\u001b[49m\u001b[43m(\u001b[49m\u001b[38;5;124;43m\"\u001b[39;49m\u001b[38;5;124;43mcameraWrist\u001b[39;49m\u001b[38;5;124;43m\"\u001b[39;49m\u001b[43m)\u001b[49m\n\u001b[1;32m      7\u001b[0m     pcl\u001b[38;5;241m.\u001b[39msetPointCloud(points, image)\n\u001b[1;32m      8\u001b[0m     pcl\u001b[38;5;241m.\u001b[39msetColor([\u001b[38;5;241m1\u001b[39m,\u001b[38;5;241m0\u001b[39m,\u001b[38;5;241m0\u001b[39m])\n",
      "\u001b[0;31mRuntimeError\u001b[0m: frame.cpp:calc_X_from_parent:94(-2) CHECK failed: 'parent->_state_X_isGood' -- "
     ]
    }
   ],
   "source": [
    "pcl = C.addFrame('pcl', 'cameraWrist')\n",
    "pcl.setShape(ry.ST.pointCloud, [2]) # the size here is pixel size for display\n",
    "bot.sync(C)\n",
    "\n",
    "while bot.getKeyPressed()!=ord('q'):\n",
    "    image, depth, points = bot.getImageDepthPcl(\"cameraWrist\")\n",
    "    pcl.setPointCloud(points, image)\n",
    "    pcl.setColor([1,0,0])\n",
    "    bot.sync(C, .1)"
   ]
  },
  {
   "cell_type": "markdown",
   "id": "e0563891",
   "metadata": {},
   "source": [
    "Closing & opening the **gripper**:"
   ]
  },
  {
   "cell_type": "code",
   "execution_count": null,
   "id": "79a8549c",
   "metadata": {},
   "outputs": [],
   "source": [
    "#slow close\n",
    "bot.gripperMove(ry._left, width=.01, speed=.2)\n",
    "\n",
    "while not bot.gripperDone(ry._left):\n",
    "    bot.sync(C)\n",
    "\n",
    "#fast open\n",
    "bot.gripperMove(ry._left, width=.08, speed=1.)\n",
    "\n",
    "while not bot.gripperDone(ry._left):\n",
    "    bot.sync(C)"
   ]
  },
  {
   "cell_type": "markdown",
   "id": "0f41998c",
   "metadata": {},
   "source": [
    "Always shut down the robot properly by destroying the handle:"
   ]
  },
  {
   "cell_type": "code",
   "execution_count": 8,
   "id": "10443e09",
   "metadata": {},
   "outputs": [
    {
     "name": "stdout",
     "output_type": "stream",
     "text": [
      "-- bot.cpp:~BotOp:112(0) shutting down BotOp...\n",
      "-- simulation.cpp:~BotThreadedSim:56(0) shutting down SimThread\n",
      "-- simulation.cpp:~Simulation:148(0) shutting down Simulation\n"
     ]
    }
   ],
   "source": [
    "del bot\n",
    "del C"
   ]
  },
  {
   "cell_type": "markdown",
   "id": "c1278498",
   "metadata": {},
   "source": [
    "## Advanced: Compliance & Force/Torque feedback"
   ]
  },
  {
   "cell_type": "code",
   "execution_count": 1,
   "id": "6e82d8f8",
   "metadata": {},
   "outputs": [],
   "source": [
    "from robotic import ry\n",
    "import numpy as np\n",
    "import time"
   ]
  },
  {
   "cell_type": "code",
   "execution_count": 2,
   "id": "aa1a93be",
   "metadata": {},
   "outputs": [
    {
     "data": {
      "text/plain": [
       "0"
      ]
     },
     "execution_count": 2,
     "metadata": {},
     "output_type": "execute_result"
    }
   ],
   "source": [
    "C = ry.Config()\n",
    "C.addFile(ry.raiPath('scenarios/pandaSingle.g'))\n",
    "C.view(False, 'this is your workspace data structure C -- NOT THE SIMULTATION')"
   ]
  },
  {
   "cell_type": "code",
   "execution_count": 3,
   "id": "5844a69c",
   "metadata": {},
   "outputs": [],
   "source": [
    "# True = real robot!!\n",
    "bot = ry.BotOp(C, False)"
   ]
  },
  {
   "cell_type": "markdown",
   "id": "fba6e622",
   "metadata": {},
   "source": [
    "After opening the robot, it is floating (=setting the reference always to q_current) but damped (with D-gains). You should be able to move the robot now!"
   ]
  },
  {
   "cell_type": "code",
   "execution_count": 4,
   "id": "18468cf5",
   "metadata": {},
   "outputs": [
    {
     "data": {
      "text/plain": [
       "86"
      ]
     },
     "execution_count": 4,
     "metadata": {},
     "output_type": "execute_result"
    }
   ],
   "source": [
    "C.view(True, 'Try moving the robot by hand!\\n-- press any key to continue --')"
   ]
  },
  {
   "cell_type": "markdown",
   "id": "63ee0298",
   "metadata": {},
   "source": [
    "We can also turn off the damping, which makes the robot move more freely:"
   ]
  },
  {
   "cell_type": "code",
   "execution_count": 5,
   "id": "953b9f3f",
   "metadata": {},
   "outputs": [
    {
     "data": {
      "text/plain": [
       "107"
      ]
     },
     "execution_count": 5,
     "metadata": {},
     "output_type": "execute_result"
    }
   ],
   "source": [
    "bot.hold(floating=True, damping=False)\n",
    "C.view(True, 'Try moving the robot by hand!\\n-- press any key to continue --')"
   ]
  },
  {
   "cell_type": "markdown",
   "id": "f79a4d54",
   "metadata": {},
   "source": [
    "Now let's hold stiffly around a constant reference:"
   ]
  },
  {
   "cell_type": "code",
   "execution_count": 6,
   "id": "5d51abbd",
   "metadata": {},
   "outputs": [
    {
     "data": {
      "text/plain": [
       "111"
      ]
     },
     "execution_count": 6,
     "metadata": {},
     "output_type": "execute_result"
    }
   ],
   "source": [
    "bot.hold(floating=False, damping=True)\n",
    "C.view(True, 'Try moving the robot by hand!\\n-- press any key to continue --')"
   ]
  },
  {
   "cell_type": "markdown",
   "id": "3e838508",
   "metadata": {},
   "source": [
    "The `hold` methods above might be useful for kinestetic teaching or so (you can always keep C sync'ed and compute any features while moving the robot).\n",
    "\n",
    "But for autonomous compliant manipulation we want to follow a reference and impose compliance in following this reference *along some task space dimensions only*. I.e., a task space compliance."
   ]
  },
  {
   "cell_type": "code",
   "execution_count": 7,
   "id": "86cad3be",
   "metadata": {},
   "outputs": [
    {
     "name": "stdout",
     "output_type": "stream",
     "text": [
      " direct: [nan]  pseudoInv: [nan]\n",
      " direct: [nan]  pseudoInv: [nan]\n",
      " direct: [nan]  pseudoInv: [nan]\n",
      " direct: [nan]  pseudoInv: [nan]\n",
      " direct: [nan]  pseudoInv: [nan]\n",
      " direct: [nan]  pseudoInv: [nan]\n",
      " direct: [nan]  pseudoInv: [nan]\n",
      " direct: [nan]  pseudoInv: [nan]\n",
      " direct: [nan]  pseudoInv: [nan]\n",
      " direct: [nan]  pseudoInv: [nan]\n",
      " direct: [nan]  pseudoInv: [nan]\n",
      " direct: [nan]  pseudoInv: [nan]\n",
      " direct: [nan]  pseudoInv: [nan]\n",
      " direct: [nan]  pseudoInv: [nan]\n",
      " direct: [nan]  pseudoInv: [nan]\n",
      " direct: [nan]  pseudoInv: [nan]\n",
      " direct: [nan]  pseudoInv: [nan]\n",
      " direct: [nan]  pseudoInv: [nan]\n",
      " direct: [nan]  pseudoInv: [nan]\n",
      " direct: [nan]  pseudoInv: [nan]\n",
      " direct: [nan]  pseudoInv: [nan]\n",
      " direct: [nan]  pseudoInv: [nan]\n",
      " direct: [nan]  pseudoInv: [nan]\n",
      " direct: [nan]  pseudoInv: [nan]\n",
      " direct: [nan]  pseudoInv: [nan]\n",
      " direct: [nan]  pseudoInv: [nan]\n",
      " direct: [nan]  pseudoInv: [nan]\n",
      " direct: [nan]  pseudoInv: [nan]\n",
      " direct: [nan]  pseudoInv: [nan]\n",
      " direct: [nan]  pseudoInv: [nan]\n",
      " direct: [nan]  pseudoInv: [nan]\n",
      " direct: [nan]  pseudoInv: [nan]\n",
      " direct: [nan]  pseudoInv: [nan]\n",
      " direct: [nan]  pseudoInv: [nan]\n",
      " direct: [nan]  pseudoInv: [nan]\n",
      " direct: [nan]  pseudoInv: [nan]\n",
      " direct: [nan]  pseudoInv: [nan]\n",
      " direct: [nan]  pseudoInv: [nan]\n",
      " direct: [nan]  pseudoInv: [nan]\n",
      " direct: [nan]  pseudoInv: [nan]\n",
      " direct: [nan]  pseudoInv: [nan]\n",
      " direct: [nan]  pseudoInv: [nan]\n",
      " direct: [nan]  pseudoInv: [nan]\n",
      " direct: [nan]  pseudoInv: [nan]\n",
      " direct: [nan]  pseudoInv: [nan]\n",
      " direct: [nan]  pseudoInv: [nan]\n",
      " direct: [nan]  pseudoInv: [nan]\n",
      " direct: [nan]  pseudoInv: [nan]\n",
      " direct: [nan]  pseudoInv: [nan]\n",
      " direct: [nan]  pseudoInv: [nan]\n",
      " direct: [nan]  pseudoInv: [nan]\n",
      "-- bot.cpp:setCompliance:328(0) clearing compliance\n"
     ]
    }
   ],
   "source": [
    "bot.moveTo(bot.get_qHome(), 1.)\n",
    "bot.wait(C)\n",
    "\n",
    "while True:\n",
    "    bot.sync(C, .1)\n",
    "    if bot.getKeyPressed()==ord('q'):\n",
    "       break\n",
    "    y, J = C.eval(ry.FS.position, [\"l_gripper\"], [[1,0,0]])\n",
    "    bot.setCompliance(J, 1.)\n",
    "    print(' direct:', J @ bot.get_tauExternal(),\n",
    "          ' pseudoInv:', np.linalg.pinv(J.T) @ bot.get_tauExternal())\n",
    "\n",
    "bot.setCompliance([], 0.)"
   ]
  },
  {
   "cell_type": "code",
   "execution_count": null,
   "id": "549b1e19",
   "metadata": {},
   "outputs": [],
   "source": [
    "bot.home(C)"
   ]
  },
  {
   "cell_type": "code",
   "execution_count": null,
   "id": "248e8726",
   "metadata": {},
   "outputs": [],
   "source": [
    "del bot"
   ]
  },
  {
   "cell_type": "code",
   "execution_count": null,
   "id": "41dbc4e8",
   "metadata": {},
   "outputs": [],
   "source": []
  }
 ],
 "metadata": {
  "kernelspec": {
   "display_name": "Python 3 (ipykernel)",
   "language": "python",
   "name": "python3"
  },
  "language_info": {
   "codemirror_mode": {
    "name": "ipython",
    "version": 3
   },
   "file_extension": ".py",
   "mimetype": "text/x-python",
   "name": "python",
   "nbconvert_exporter": "python",
   "pygments_lexer": "ipython3",
   "version": "3.8.10"
  }
 },
 "nbformat": 4,
 "nbformat_minor": 5
}
