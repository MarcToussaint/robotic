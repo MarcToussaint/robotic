{
 "cells": [
  {
   "cell_type": "code",
   "execution_count": null,
   "metadata": {},
   "outputs": [],
   "source": [
    "import sys\n",
    "sys.path.append('../build')\n",
    "import numpy as np\n",
    "import libry as ry"
   ]
  },
  {
   "cell_type": "code",
   "execution_count": null,
   "metadata": {},
   "outputs": [],
   "source": [
    "C = ry.Config()\n",
    "C.addFile('../cpp/bouncingBall/boxProblem.g')"
   ]
  },
  {
   "cell_type": "code",
   "execution_count": null,
   "metadata": {},
   "outputs": [],
   "source": [
    "S = ry.Skeleton()"
   ]
  },
  {
   "cell_type": "code",
   "execution_count": null,
   "metadata": {},
   "outputs": [],
   "source": [
    "obj = 'ballR'\n",
    "S.addEntry([0., .5], ry.SY.magic, [obj])\n",
    "S.addEntry([.7, 4.], ry.SY.dynamicTrans, [obj])\n",
    "S.addEntry([1., 1.], ry.SY.bounce, [\"boxBo\", obj])\n",
    "S.addEntry([2., 2.], ry.SY.bounce, [\"boxBo\", obj])\n",
    "S.addEntry([3., 3.], ry.SY.bounce, [\"boxBo\", obj])\n",
    "S.addEntry([4., 4.], ry.SY.touch, [\"target\", obj])"
   ]
  },
  {
   "cell_type": "code",
   "execution_count": null,
   "metadata": {},
   "outputs": [],
   "source": [
    "komo = S.getKomo_path(C, 20, 1., -1., 1e-2)"
   ]
  },
  {
   "cell_type": "code",
   "execution_count": null,
   "metadata": {},
   "outputs": [],
   "source": [
    "komo.optimize(True)\n",
    "komoView = komo.view()"
   ]
  },
  {
   "cell_type": "code",
   "execution_count": null,
   "metadata": {},
   "outputs": [],
   "source": [
    "# read out solution: the full frame path, the tau path (time optimization), list of interaction forces\n",
    "obj_path = komo.getPathFrames([obj])\n",
    "tau_path = komo.getPathTau()\n",
    "forces = komo.getForceInteractions()\n",
    "forces"
   ]
  },
  {
   "cell_type": "code",
   "execution_count": null,
   "metadata": {},
   "outputs": [],
   "source": [
    "D=0\n",
    "komoView=0\n",
    "komo=0\n",
    "C=0"
   ]
  },
  {
   "cell_type": "code",
   "execution_count": null,
   "metadata": {},
   "outputs": [],
   "source": [
    "C = ry.Config()\n",
    "C.addFile(\"../rai-robotModels/pr2/pr2.g\")\n",
    "C.addFile(\"../rai-robotModels/objects/tables.g\")\n",
    "\n",
    "C.addFrame(\"obj0\", \"table1\", \"type:ssBox size:[.1 .1 .2 .02] color:[1. 0. 0.], contact, logical={ object }, joint:rigid, Q:<t(0 0 .15)>\" )\n",
    "C.addFrame(\"obj1\", \"table1\", \"type:ssBox size:[.1 .1 .2 .02] color:[1. 0. 0.], contact, logical={ object }, joint:rigid, Q:<t(0 .2 .15)>\" )\n",
    "C.addFrame(\"obj2\", \"table1\", \"type:ssBox size:[.1 .1 .2 .02] color:[1. 0. 0.], contact, logical={ object }, joint:rigid, Q:<t(0 .4 .15)>\" )\n",
    "C.addFrame(\"obj3\", \"table1\", \"type:ssBox size:[.1 .1 .2 .02] color:[1. 0. 0.], contact, logical={ object }, joint:rigid, Q:<t(0 .6.15)>\" )\n",
    "C.addFrame(\"tray\", \"table2\", \"type:ssBox size:[.15 .15 .04 .02] color:[0. 1. 0.], logical={ table }, Q:<t(0 0 .07)>\" );\n",
    "C.addFrame(\"\", \"tray\", \"type:ssBox size:[.27 .27 .04 .02] color:[0. 1. 0.]\" )\n",
    "C.view(False, \"initial model\")"
   ]
  },
  {
   "cell_type": "code",
   "execution_count": null,
   "metadata": {},
   "outputs": [],
   "source": [
    "S = ry.Skeleton()\n",
    "S.addEntry([1.], ry.SY.touch, ['pr2R', 'obj0'])\n",
    "S.addEntry([1., 3.], ry.SY.stable, ['pr2R', 'obj0'])\n",
    "S.addEntry([2.,2.], ry.SY.touch, ['pr2L', 'obj3'])\n",
    "S.addEntry([2.,4.], ry.SY.stable, ['pr2L', 'obj3'])\n",
    "S.addEntry([3.], ry.SY.above, ['obj0', 'tray'])\n",
    "S.addEntry([3.,4.], ry.SY.stableOn, ['tray', 'obj0'])"
   ]
  },
  {
   "cell_type": "code",
   "execution_count": null,
   "metadata": {},
   "outputs": [],
   "source": [
    "komo = S.getKomo_waypoints(C, 1e-1, 1e-2)\n",
    "komo.optimize(0)\n",
    "komo.view()"
   ]
  },
  {
   "cell_type": "code",
   "execution_count": null,
   "metadata": {},
   "outputs": [],
   "source": [
    "komo.view_play()\n",
    "waypoints = komo.getPath_qAll()"
   ]
  },
  {
   "cell_type": "code",
   "execution_count": null,
   "metadata": {},
   "outputs": [],
   "source": [
    "komo = S.getKomo_path(C, 10, .2,-1., 1e-2)\n",
    "komo.initWithWaypoints(waypoints)\n",
    "komo.optimize(0)\n",
    "komo.view()"
   ]
  },
  {
   "cell_type": "code",
   "execution_count": null,
   "metadata": {},
   "outputs": [],
   "source": [
    "komo.view_play()"
   ]
  },
  {
   "cell_type": "code",
   "execution_count": null,
   "metadata": {},
   "outputs": [],
   "source": [
    "D=0\n",
    "komoView=0\n",
    "komo=0\n",
    "C=0"
   ]
  },
  {
   "cell_type": "code",
   "execution_count": null,
   "metadata": {},
   "outputs": [],
   "source": [
    "C = ry.Config()\n",
    "C.addFile(\"../rai-robotModels/scenarios/RSSproblem-01.g\")"
   ]
  },
  {
   "cell_type": "code",
   "execution_count": null,
   "metadata": {},
   "outputs": [],
   "source": [
    "S =[\n",
    "  [1, 1], ry.SY.touch, ['baxterR', 'stick'], \n",
    "[1, 4], ry.SY.stable, ['baxterR', 'stick'], \n",
    "[1, 1], ry.SY.liftDownUp, ['baxterR'], \n",
    "[2, 2], ry.SY.touch, ['baxterL', 'stick'], \n",
    "[2, 4], ry.SY.stable, ['baxterL', 'stick'], \n",
    "[3, 3], ry.SY.touch, ['stickTip', 'redBall'], \n",
    "[3, 3], ry.SY.impulse, ['stickTip', 'redBall'],\n",
    "[3, 3], ry.SY.dynamicOn, ['table1', 'redBall'], \n",
    "[4, 4], ry.SY.touch, ['baxterR', 'redBall'], \n",
    "#[4, 5], ry.SY.stable, ['baxterR', 'redBall'], \n",
    "[4, 5], ry.SY.graspSlide, ['baxterR', 'redBall', 'table1']\n",
    "]"
   ]
  },
  {
   "cell_type": "code",
   "execution_count": null,
   "metadata": {},
   "outputs": [],
   "source": [
    "komo = C.komo_path(4., 10, 10., False)\n",
    "komo.addSkeletonBound(S, ry.BT.path, False)\n",
    "komo.optimize(True)\n",
    "komoView = komo.view()"
   ]
  },
  {
   "cell_type": "code",
   "execution_count": null,
   "metadata": {},
   "outputs": [],
   "source": []
  }
 ],
 "metadata": {
  "kernelspec": {
   "display_name": "Python 3",
   "language": "python",
   "name": "python3"
  },
  "language_info": {
   "codemirror_mode": {
    "name": "ipython",
    "version": 3
   },
   "file_extension": ".py",
   "mimetype": "text/x-python",
   "name": "python",
   "nbconvert_exporter": "python",
   "pygments_lexer": "ipython3",
   "version": "3.6.9"
  }
 },
 "nbformat": 4,
 "nbformat_minor": 2
}
