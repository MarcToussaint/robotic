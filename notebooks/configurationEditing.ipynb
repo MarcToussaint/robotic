{
 "cells": [
  {
   "cell_type": "markdown",
   "id": "89f8bc99",
   "metadata": {},
   "source": [
    "# Importing, Editing & Manipulating Configurations\n",
    "* This scripts loads a mini scene defined in 'mini.g'.\n",
    "* The 'watchFile' command allows you to edit the file in some other editor, while it is being redisplayed whenever you save.\n",
    "* 'set/getJointState' shows how to access degrees-of-freedom of the scene\n",
    "* 'eval' shows how to access other features, including its Jacobian"
   ]
  },
  {
   "cell_type": "markdown",
   "id": "0b373788",
   "metadata": {},
   "source": [
    "## Importing robot models\n",
    "Let's first have a look at robot models that are already installed with rai. (They are defined in the `rai-robotModels` github repo, which is partly copied into the `.../site-packages/robotic/rai-robotModels` install path.)"
   ]
  },
  {
   "cell_type": "code",
   "execution_count": 1,
   "id": "c2135256",
   "metadata": {},
   "outputs": [],
   "source": [
    "from robotic import ry"
   ]
  },
  {
   "cell_type": "code",
   "execution_count": 2,
   "id": "294c17f2",
   "metadata": {},
   "outputs": [
    {
     "name": "stdout",
     "output_type": "stream",
     "text": [
      "The path where model files are pre-installed:\n",
      " /home/cornelius/Documents/.rai-venv/lib/python3.10/site-packages/robotic/rai-robotModels/\n"
     ]
    }
   ],
   "source": [
    "print('The path where model files are pre-installed:\\n', ry.raiPath(''))\n",
    "# you could overwrite this with:\n",
    "# ry.setRaiPath('your_path/rai-robotModels/')"
   ]
  },
  {
   "cell_type": "code",
   "execution_count": 3,
   "id": "90cefb18",
   "metadata": {},
   "outputs": [
    {
     "name": "stdout",
     "output_type": "stream",
     "text": [
      "-- WARNING:graph.cpp:read:663(-1) nothing to delete with key 'visual'\n",
      "-- WARNING:graph.cpp:edit:485(-1) no nodes edited! (from 'joint: { ctrl_H: 1 }')\n"
     ]
    }
   ],
   "source": [
    "C = ry.Config()\n",
    "C.addFile(ry.raiPath('panda/panda.g')) .setPosition([1.,.0,.0]) .setQuaternion([1,0,0,1])\n",
    "C.addFile(ry.raiPath('panda/panda.g'), 'r_') .setPosition([1.5,.0,.0]) .setQuaternion([1,0,0,1])\n",
    "C.addFile(ry.raiPath('pr2/pr2.g')) .setPosition([-1.,.0,.0])\n",
    "C.addFile(ry.raiPath('baxter/baxter.g')) .setPosition([0,.0,1.]) .setQuaternion([1,0,0,1])\n",
    "C.addFile(ry.raiPath('robotiq/robotiq.g')) .setParent(C.getFrame('panda_joint7')) .setRelativePosition([0., 0., .15])\n",
    "C.view();"
   ]
  },
  {
   "cell_type": "markdown",
   "id": "37c8573c",
   "metadata": {},
   "source": [
    "The `addFile` returns the *first* frame defined in the file, which typically is the base frame of the whole robot. Therefore, by setting it's position, you can move the whole loaded robot.\n",
    "\n",
    "Sometimes you want to add a model twice, but avoid duplicated frame names. With `addFile` you can specify a `prefix` string (here `r_`) which add that prefix to all frame names of the added robot. This is exemplified with the second panda added here.\n",
    "\n",
    "The Robotiq example also shows that this base frame can be made a child of other frames -- attaching the robotiq to the panda arm. (Here in addition to the existing gripper, which would first have to be removed using `C.delFrame`.)\n",
    "\n",
    "The following is a simple helper to articulare all dofs in the display (press `q` to interrupt):"
   ]
  },
  {
   "cell_type": "code",
   "execution_count": 4,
   "id": "58cdcbf3",
   "metadata": {},
   "outputs": [],
   "source": [
    "C.animate()"
   ]
  },
  {
   "cell_type": "code",
   "execution_count": 5,
   "id": "a8b99d2e",
   "metadata": {},
   "outputs": [],
   "source": [
    "del C"
   ]
  },
  {
   "cell_type": "markdown",
   "id": "7dd18584",
   "metadata": {},
   "source": [
    "## Conversion from URDF\n",
    "The python package should install a script `urdf2rai.py` in `.local/bin`. That converts a urdf-file to a .g-file. For instance, place a `ur10.urdf` and the `ur_description` folder into the same folder and run:\n",
    "```\n",
    "urdf2rai.py ur10.urdf > ur10_org.g\n",
    "```\n",
    "That should generate a `ur10_org.g` file that can be displayed with `kinEdit ur10_org.g`. Note, by default that **excludes** exporting collision shapes (as I typically replace them, e.g. by the convex hull of the visual shapes). The `-coll 1` option of the script should include also the collision shapes.\n",
    "\n",
    "The `rai-robotModels` should have more info on conversion from URDF."
   ]
  },
  {
   "cell_type": "markdown",
   "id": "569fbbb1",
   "metadata": {},
   "source": [
    "## Interactive Editing\n",
    "When developing your own model (robot or scene), you could of course just use the python commands `addFrame` etc. But that might be cumbersome and not interactive enough. The .g-file format is fairly easy to edit. To help doing this more interactively, there is the `watchFile` method:\n",
    "\n",
    "Open the file you want to edit (here `mini.g`) in any editor. At the same time, open it from within python and display it using `watchFile`. The key benefit is that `watchFile` reloads and re-displays the file whenever it is externally modified (it watches the file's inode). That enables interactive editing.\n",
    "\n",
    "**TODO**: The following is still not crash-robust when readers throw syntax error. kinEdit better?"
   ]
  },
  {
   "cell_type": "code",
   "execution_count": 6,
   "id": "0c2bd1ab",
   "metadata": {},
   "outputs": [],
   "source": [
    "from robotic import ry"
   ]
  },
  {
   "cell_type": "code",
   "execution_count": 7,
   "id": "97a3d5ff",
   "metadata": {},
   "outputs": [],
   "source": [
    "C = ry.Config()\n",
    "C.addFile('mini.g')\n",
    "C.view();"
   ]
  },
  {
   "cell_type": "code",
   "execution_count": 8,
   "id": "32f64861",
   "metadata": {},
   "outputs": [
    {
     "name": "stdout",
     "output_type": "stream",
     "text": [
      "-- kin.cpp:watchFile:3510(0) reloading `mini.g' ... \n",
      "Configuration: q.N=1 #frames=3 #dofs=1 #shapes=3 #ucertainties=0 #proxies=0 #forces=0 #evals=152\n",
      "-- kin.cpp:watchFile:3537(0) watching...\n",
      "The file z.log.global was modified.\n"
     ]
    }
   ],
   "source": [
    "C.watchFile('mini.g')  # Use 'ESC' to close the configuration viewer"
   ]
  },
  {
   "cell_type": "code",
   "execution_count": 9,
   "id": "d9a162b7",
   "metadata": {},
   "outputs": [],
   "source": [
    "del C"
   ]
  },
  {
   "cell_type": "markdown",
   "id": "a2eaed4e",
   "metadata": {},
   "source": [
    "## How to attach frames - faking grasps\n",
    "Note, this is not real grasping. Just editing the kinematic tree in your configuration"
   ]
  },
  {
   "cell_type": "code",
   "execution_count": 10,
   "id": "4e64cc63",
   "metadata": {},
   "outputs": [],
   "source": [
    "from robotic import ry\n",
    "import numpy as np\n",
    "import time"
   ]
  },
  {
   "cell_type": "code",
   "execution_count": 11,
   "id": "023feac6",
   "metadata": {},
   "outputs": [],
   "source": [
    "C = ry.Config()\n",
    "C.addFile(ry.raiPath('scenarios/pandasTable.g'))\n",
    "C.view();"
   ]
  },
  {
   "cell_type": "code",
   "execution_count": 12,
   "id": "9dfde73a",
   "metadata": {},
   "outputs": [],
   "source": [
    "C.attach(\"l_gripper\", \"r_gripper\")"
   ]
  },
  {
   "cell_type": "code",
   "execution_count": 13,
   "id": "b7da474c",
   "metadata": {},
   "outputs": [],
   "source": [
    "#move a bit around\n",
    "\n",
    "q = C.getJointState()\n",
    "\n",
    "for t in range(30):\n",
    "    q[0] = np.sin(t/10)\n",
    "    \n",
    "    C.setJointState(q)\n",
    "    C.view()\n",
    "    time.sleep(0.1)"
   ]
  },
  {
   "cell_type": "code",
   "execution_count": 14,
   "id": "2f8d26f3",
   "metadata": {},
   "outputs": [],
   "source": [
    "del C"
   ]
  },
  {
   "cell_type": "markdown",
   "id": "67072a61",
   "metadata": {},
   "source": [
    "## Advanced: YAML and dict representations"
   ]
  },
  {
   "cell_type": "code",
   "execution_count": 15,
   "id": "6fa89f59",
   "metadata": {},
   "outputs": [
    {
     "name": "stdout",
     "output_type": "stream",
     "text": [
      "{'panda_link0': {}, 'panda_link0_0(panda_link0)': {'shape': 'mesh', 'color': [0.9, 0.9, 0.9], 'mesh': '<meshes/visual/link0.ply>', 'visual': True}, 'panda_joint1_origin(panda_link0)': {'Q': [0, 0, 0.333, 1, 0, 0, 0]}, 'panda_joint1(panda_joint1_origin)': {'joint': 'hingeZ', 'limits': [-2.8973, 2.8973, 2.175, -1, 87], 'ctrl_limits': [2.175, -1, 87]}, 'panda_link1(panda_joint1)': {}, 'panda_link1_0(panda_link1)': {'shape': 'mesh', 'color': [0.9, 0.9, 0.9], 'mesh': '<meshes/visual/link1.ply>', 'visual': True}, 'panda_joint2_origin(panda_link1)': {'Q': [0, 0, 0, 0.707107, -0.707107, 0, 0]}, 'panda_joint2(panda_joint2_origin)': {'joint': 'hingeZ', 'limits': [-1.7628, 1.7628, 2.175, -1, 87], 'ctrl_limits': [2.175, -1, 87]}, 'panda_link2(panda_joint2)': {}, 'panda_link2_0(panda_link2)': {'shape': 'mesh', 'color': [0.9, 0.9, 0.9], 'mesh': '<meshes/visual/link2.ply>', 'visual': True}, 'panda_joint3_origin(panda_link2)': {'Q': [0, -0.316, 0, 0.707107, 0.707107, 0, 0]}, 'panda_joint3(panda_joint3_origin)': {'joint': 'hingeZ', 'limits': [-2.8973, 2.8973, 2.175, -1, 87], 'ctrl_limits': [2.175, -1, 87]}, 'panda_link3(panda_joint3)': {}, 'panda_link3_0(panda_link3)': {'shape': 'mesh', 'color': [0.9, 0.9, 0.9], 'mesh': '<meshes/visual/link3.ply>', 'visual': True}, 'panda_joint4_origin(panda_link3)': {'Q': [0.0825, 0, 0, 0.707107, 0.707107, 0, 0]}, 'panda_joint4(panda_joint4_origin)': {'joint': 'hingeZ', 'limits': [-3.0718, -0.0698, 2.175, -1, 87], 'ctrl_limits': [2.175, -1, 87]}, 'panda_link4(panda_joint4)': {}, 'panda_link4_0(panda_link4)': {'shape': 'mesh', 'color': [0.9, 0.9, 0.9], 'mesh': '<meshes/visual/link4.ply>', 'visual': True}, 'panda_joint5_origin(panda_link4)': {'Q': [-0.0825, 0.384, 0, 0.707107, -0.707107, 0, 0]}, 'panda_joint5(panda_joint5_origin)': {'joint': 'hingeZ', 'limits': [-2.8973, 2.8973, 2.61, -1, 12], 'ctrl_limits': [2.61, -1, 12]}, 'panda_link5(panda_joint5)': {}, 'panda_link5_0(panda_link5)': {'shape': 'mesh', 'color': [0.9, 0.9, 0.9], 'mesh': '<meshes/visual/link5.ply>', 'visual': True}, 'panda_joint6_origin(panda_link5)': {'Q': [0, 0, 0, 0.707107, 0.707107, 0, 0]}, 'panda_joint6(panda_joint6_origin)': {'joint': 'hingeZ', 'limits': [-0.0175, 3.7525, 2.61, -1, 12], 'ctrl_limits': [2.61, -1, 12]}, 'panda_link6(panda_joint6)': {}, 'panda_link6_0(panda_link6)': {'shape': 'mesh', 'color': [0.9, 0.9, 0.9], 'mesh': '<meshes/visual/link6.ply>', 'visual': True}, 'panda_joint7_origin(panda_link6)': {'Q': [0.088, 0, 0, 0.707107, 0.707107, 0, 0]}, 'panda_joint7(panda_joint7_origin)': {'joint': 'hingeZ', 'limits': [-2.8973, 2.8973, 2.61, -1, 12], 'ctrl_limits': [2.61, -1, 12]}, 'panda_link7(panda_joint7)': {}, 'panda_link7_0(panda_link7)': {'shape': 'mesh', 'color': [0.9, 0.9, 0.9], 'mesh': '<meshes/visual/link7.ply>', 'visual': True}, 'panda_joint8_origin(panda_link7)': {'Q': [0, 0, 0.107, 1, 0, 0, 0]}, 'panda_joint8(panda_joint8_origin)': {'joint': 'rigid'}, 'panda_link8(panda_joint8)': {}, 'panda_hand_joint_origin(panda_link8)': {'Q': [0, 0, 0, 0.92388, 0, 0, -0.382683]}, 'panda_hand_joint(panda_hand_joint_origin)': {'joint': 'rigid'}, 'panda_hand(panda_hand_joint)': {}, 'panda_hand_0(panda_hand)': {'shape': 'mesh', 'color': [0.9, 0.9, 0.9], 'mesh': '<meshes/visual/hand.ply>', 'visual': True}, 'panda_finger_joint1_origin(panda_hand)': {'Q': [0, 0, 0.0584, 1, 0, 0, 0]}, 'panda_finger_joint2_origin(panda_hand)': {'Q': [0, 0, 0.0584, 1, 0, 0, 0]}, 'panda_finger_joint1(panda_finger_joint1_origin)': {'joint': 'transY', 'limits': [0, 0.04, 0.2, -1, 20], 'ctrl_limits': [0.2, -1, 20]}, 'panda_finger_joint2(panda_finger_joint2_origin)': {'joint': 'transY', 'joint_scale': -1, 'limits': [0, 0.04, 0.2, -1, 20], 'mimic': 'panda_finger_joint1', 'ctrl_limits': [0.2, -1, 20]}, 'panda_leftfinger(panda_finger_joint1)': {}, 'panda_rightfinger(panda_finger_joint2)': {}, 'panda_leftfinger_0(panda_leftfinger)': {'shape': 'mesh', 'color': [0.9, 0.9, 0.9], 'mesh': '<meshes/visual/finger.ply>', 'visual': True}, 'panda_rightfinger_0(panda_rightfinger)': {'Q': [0, 0, 0, -1.03412e-13, 0, 0, 1], 'shape': 'mesh', 'color': [0.9, 0.9, 0.9], 'mesh': '<meshes/visual/finger.ply>', 'visual': True}}\n"
     ]
    }
   ],
   "source": [
    "import yaml\n",
    "\n",
    "with open(ry.raiPath('panda/panda_clean.g'), 'r', encoding='utf-8') as fil:\n",
    "    model = yaml.safe_load(fil)\n",
    "\n",
    "print(model)"
   ]
  },
  {
   "cell_type": "code",
   "execution_count": null,
   "id": "938a2461",
   "metadata": {},
   "outputs": [],
   "source": []
  }
 ],
 "metadata": {
  "kernelspec": {
   "display_name": "Python 3 (ipykernel)",
   "language": "python",
   "name": "python3"
  },
  "language_info": {
   "codemirror_mode": {
    "name": "ipython",
    "version": 3
   },
   "file_extension": ".py",
   "mimetype": "text/x-python",
   "name": "python",
   "nbconvert_exporter": "python",
   "pygments_lexer": "ipython3",
   "version": "3.10.12"
  }
 },
 "nbformat": 4,
 "nbformat_minor": 5
}
