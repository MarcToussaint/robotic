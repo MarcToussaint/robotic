{
 "cells": [
  {
   "cell_type": "markdown",
   "metadata": {},
   "source": [
    "# Configurations\n",
    "\n",
    "A configuration is essentially a set of (coordinate) frames, where each frame can represent a shape, joint, inertia, etc. This tutorial introduces to basics of creating & loading configurations, the joint and frame state, computing features, and handling the view window."
   ]
  },
  {
   "cell_type": "code",
   "execution_count": 1,
   "metadata": {},
   "outputs": [
    {
     "name": "stdout",
     "output_type": "stream",
     "text": [
      "compile time: Sep 30 2023 22:39:07\n"
     ]
    }
   ],
   "source": [
    "from robotic import ry\n",
    "import numpy as np\n",
    "import time\n",
    "print(ry.compiled())"
   ]
  },
  {
   "cell_type": "markdown",
   "metadata": {},
   "source": [
    "## Adding frames to a configuration\n",
    "\n",
    "The starting point is to create a `Configuration`:"
   ]
  },
  {
   "cell_type": "code",
   "execution_count": 2,
   "metadata": {},
   "outputs": [
    {
     "data": {
      "text/plain": [
       "0"
      ]
     },
     "execution_count": 2,
     "metadata": {},
     "output_type": "execute_result"
    }
   ],
   "source": [
    "C = ry.Config()\n",
    "C.view()"
   ]
  },
  {
   "cell_type": "markdown",
   "metadata": {},
   "source": [
    "This shows an empty configuration. Tip: Make the view window appear \"Always On Top\" (right click on the window bar)\n",
    "\n",
    "A configuration is essentially a tree (or forrest) of frames. You usually add models from files, but let's do it manually here."
   ]
  },
  {
   "cell_type": "code",
   "execution_count": 3,
   "metadata": {},
   "outputs": [
    {
     "name": "stdout",
     "output_type": "stream",
     "text": [
      "frame name: first pos: [0.  0.  0.5] quat: [0.95782629 0.28734789 0.         0.        ]\n"
     ]
    },
    {
     "data": {
      "text/plain": [
       "0"
      ]
     },
     "execution_count": 3,
     "metadata": {},
     "output_type": "execute_result"
    }
   ],
   "source": [
    "C.clear()\n",
    "f = C.addFrame(name='first')\n",
    "f.setShape(type=ry.ST.marker, size=[.4])\n",
    "f.setPosition([0.,0.,.5])\n",
    "f.setQuaternion([1., .3, .0, .0]) #is normalized internally\n",
    "print('frame name:', f.name, 'pos:', f.getPosition(), 'quat:', f.getQuaternion())\n",
    "C.view()"
   ]
  },
  {
   "cell_type": "markdown",
   "metadata": {},
   "source": [
    "Let's add a second frame, but with first as parent and with a hinge joint!"
   ]
  },
  {
   "cell_type": "code",
   "execution_count": 4,
   "metadata": {},
   "outputs": [
    {
     "name": "stdout",
     "output_type": "stream",
     "text": [
      "frame name: second pos: [0.  0.  0.5] quat: [-0.95782629 -0.28734789 -0.         -0.        ]\n"
     ]
    },
    {
     "data": {
      "text/plain": [
       "0"
      ]
     },
     "execution_count": 4,
     "metadata": {},
     "output_type": "execute_result"
    }
   ],
   "source": [
    "f = C.addFrame(name='second', parent='first')\n",
    "f.setJoint(ry.JT.hingeX)\n",
    "f.setShape(type=ry.ST.marker, size=[.4])\n",
    "f.setColor([1,0,0])\n",
    "print('frame name:', f.name, 'pos:', f.getPosition(), 'quat:', f.getQuaternion())\n",
    "C.view()"
   ]
  },
  {
   "cell_type": "markdown",
   "metadata": {},
   "source": [
    "Since we now have a configuration with a joint, we can articulate it:"
   ]
  },
  {
   "cell_type": "code",
   "execution_count": 5,
   "metadata": {},
   "outputs": [
    {
     "name": "stdout",
     "output_type": "stream",
     "text": [
      "joint state: [0.1]\n"
     ]
    },
    {
     "data": {
      "text/plain": [
       "0"
      ]
     },
     "execution_count": 5,
     "metadata": {},
     "output_type": "execute_result"
    }
   ],
   "source": [
    "q = C.getJointState()\n",
    "q[0] = q[0] + .1\n",
    "C.setJointState(q)\n",
    "print('joint state:', q)\n",
    "C.view()"
   ]
  },
  {
   "cell_type": "markdown",
   "metadata": {},
   "source": [
    "Other examples to add:"
   ]
  },
  {
   "cell_type": "code",
   "execution_count": 6,
   "metadata": {},
   "outputs": [],
   "source": [
    "C.addFrame('ball', 'second') .setShape(ry.ST.sphere, [.1]) .setColor([1.,.5,.0]) .setRelativePosition([-.3,.0,.2])\n",
    "C.addFrame('box', 'second') .setShape(ry.ST.ssBox, [.3,.2,.1,.02]) .setColor([.5,1.,.0]) .setRelativePosition([.0,.0,.2])\n",
    "C.addFrame('capsule', 'second') .setShape(ry.ST.capsule, [.3, .05]) .setColor([.0,1.,.5]) .setRelativePosition([.3,.0,.2])\n",
    "for t in range(100):\n",
    "    C.setJointState([np.cos(.1*t)])\n",
    "    C.view()\n",
    "    time.sleep(.1)"
   ]
  },
  {
   "cell_type": "markdown",
   "metadata": {},
   "source": [
    "## Loading existing configurations"
   ]
  },
  {
   "cell_type": "code",
   "execution_count": 7,
   "metadata": {},
   "outputs": [
    {
     "data": {
      "text/plain": [
       "0"
      ]
     },
     "execution_count": 7,
     "metadata": {},
     "output_type": "execute_result"
    }
   ],
   "source": [
    "C.clear()\n",
    "C.addFile(ry.raiPath('panda/panda.g'))\n",
    "C.view()"
   ]
  },
  {
   "cell_type": "markdown",
   "metadata": {},
   "source": [
    "Let's add a second panda, but prefix all frame names, and move it to the side"
   ]
  },
  {
   "cell_type": "code",
   "execution_count": 8,
   "metadata": {},
   "outputs": [
    {
     "data": {
      "text/plain": [
       "0"
      ]
     },
     "execution_count": 8,
     "metadata": {},
     "output_type": "execute_result"
    }
   ],
   "source": [
    "C.addFile(ry.raiPath('panda/panda.g'), 'r_')\n",
    "base_r = C.getFrame('r_panda_base')\n",
    "base_r.setPosition([.0, .5, .0])\n",
    "C.view()"
   ]
  },
  {
   "cell_type": "markdown",
   "metadata": {},
   "source": [
    "We can get the joint state of the full configuration:"
   ]
  },
  {
   "cell_type": "code",
   "execution_count": 9,
   "metadata": {},
   "outputs": [
    {
     "name": "stdout",
     "output_type": "stream",
     "text": [
      "[ 0.   -1.    0.   -2.    0.    2.    0.    0.05  0.   -1.    0.   -2.\n",
      "  0.    2.    0.    0.05]\n",
      "joints: ['panda_joint1', 'panda_joint2', 'panda_joint3', 'panda_joint4', 'panda_joint5', 'panda_joint6', 'panda_joint7', 'panda_finger_joint1panda_finger_joint2', 'r_panda_joint1', 'r_panda_joint2', 'r_panda_joint3', 'r_panda_joint4', 'r_panda_joint5', 'r_panda_joint6', 'r_panda_joint7', 'r_panda_finger_joint1r_panda_finger_joint2']\n",
      "frames: ['panda_base', 'panda_link0', 'panda_link0_0', 'panda_joint1_origin', 'panda_joint1', 'panda_link1', 'panda_link1_0', 'panda_joint2_origin', 'panda_joint2', 'panda_link2', 'panda_link2_0', 'panda_joint3_origin', 'panda_joint3', 'panda_link3', 'panda_link3_0', 'panda_joint4_origin', 'panda_joint4', 'panda_link4', 'panda_link4_0', 'panda_joint5_origin', 'panda_joint5', 'panda_link5', 'panda_link5_0', 'panda_joint6_origin', 'panda_joint6', 'panda_link6', 'panda_link6_0', 'panda_joint7_origin', 'panda_joint7', 'panda_link7', 'panda_link7_0', 'panda_joint8_origin', 'panda_joint8', 'panda_link8', 'panda_hand_joint_origin', 'panda_hand_joint', 'panda_hand', 'panda_hand_0', 'panda_finger_joint1_origin', 'panda_finger_joint2_origin', 'panda_finger_joint1', 'panda_finger_joint2', 'panda_leftfinger', 'panda_rightfinger', 'panda_leftfinger_0', 'panda_rightfinger_0', 'panda_coll0', 'panda_coll0b', 'panda_coll1', 'panda_coll3', 'panda_coll5', 'panda_coll2', 'panda_coll4', 'panda_coll6', 'panda_coll7', 'gripper', 'palm', 'finger1', 'finger2', 'r_panda_base', 'r_panda_link0', 'r_panda_link0_0', 'r_panda_joint1_origin', 'r_panda_joint1', 'r_panda_link1', 'r_panda_link1_0', 'r_panda_joint2_origin', 'r_panda_joint2', 'r_panda_link2', 'r_panda_link2_0', 'r_panda_joint3_origin', 'r_panda_joint3', 'r_panda_link3', 'r_panda_link3_0', 'r_panda_joint4_origin', 'r_panda_joint4', 'r_panda_link4', 'r_panda_link4_0', 'r_panda_joint5_origin', 'r_panda_joint5', 'r_panda_link5', 'r_panda_link5_0', 'r_panda_joint6_origin', 'r_panda_joint6', 'r_panda_link6', 'r_panda_link6_0', 'r_panda_joint7_origin', 'r_panda_joint7', 'r_panda_link7', 'r_panda_link7_0', 'r_panda_joint8_origin', 'r_panda_joint8', 'r_panda_link8', 'r_panda_hand_joint_origin', 'r_panda_hand_joint', 'r_panda_hand', 'r_panda_hand_0', 'r_panda_finger_joint1_origin', 'r_panda_finger_joint2_origin', 'r_panda_finger_joint1', 'r_panda_finger_joint2', 'r_panda_leftfinger', 'r_panda_rightfinger', 'r_panda_leftfinger_0', 'r_panda_rightfinger_0', 'r_panda_coll0', 'r_panda_coll0b', 'r_panda_coll1', 'r_panda_coll3', 'r_panda_coll5', 'r_panda_coll2', 'r_panda_coll4', 'r_panda_coll6', 'r_panda_coll7', 'r_gripper', 'r_palm', 'r_finger1', 'r_finger2']\n"
     ]
    }
   ],
   "source": [
    "print(C.getJointState())\n",
    "print('joints:', C.getJointNames())\n",
    "print('frames:', C.getFrameNames())"
   ]
  },
  {
   "cell_type": "markdown",
   "metadata": {},
   "source": [
    "Let's animate:"
   ]
  },
  {
   "cell_type": "code",
   "execution_count": 10,
   "metadata": {},
   "outputs": [],
   "source": [
    "q0 = C.getJointState()\n",
    "for t in range(20):\n",
    "    q = q0 + .1*np.random.randn(q0.shape[0])\n",
    "    C.setJointState(q)\n",
    "    C.view()\n",
    "    time.sleep(.2)"
   ]
  },
  {
   "cell_type": "markdown",
   "metadata": {},
   "source": [
    "## Features: computing geometric properties\n",
    "For every frame we can query its pose:"
   ]
  },
  {
   "cell_type": "code",
   "execution_count": 11,
   "metadata": {},
   "outputs": [
    {
     "name": "stdout",
     "output_type": "stream",
     "text": [
      "gripper pos: [0.32141215 0.44345913 0.72576189]\n",
      "gripper quat: [-0.8669439  -0.10911532  0.39042322  0.28995142]\n",
      "gripper rot: [[ 0.52699576  0.41754092 -0.74022635]\n",
      " [-0.58794555  0.80804404  0.03721381]\n",
      " [ 0.61367378  0.41560126  0.6713271 ]]\n"
     ]
    }
   ],
   "source": [
    "f = C.getFrame('r_gripper')\n",
    "print('gripper pos:', f.getPosition())\n",
    "print('gripper quat:', f.getQuaternion())\n",
    "print('gripper rot:', f.getRotationMatrix())"
   ]
  },
  {
   "cell_type": "markdown",
   "metadata": {},
   "source": [
    "The above provides basic forward kinematics: After `setJointState` you can query the pose of any configuration frame. However, there is a more general way to query *features*, i.e. properties of the configuration in a differentiable manner. You might not use this often; but it is important to understand as these differentiable features are the foundation of how optimization problems are formulated, which you'll need a lot.\n",
    "\n",
    "Here are some example features to evaluate:"
   ]
  },
  {
   "cell_type": "code",
   "execution_count": 12,
   "metadata": {},
   "outputs": [
    {
     "name": "stdout",
     "output_type": "stream",
     "text": [
      "position of gripper: [ 0.32842615 -0.00310221  0.76643017] \n",
      "Jacobian: [[ 3.10221333e-03  4.33076454e-01 -1.14787661e-02 -1.67755538e-01\n",
      "  -3.79268649e-03  8.75715712e-02  8.67361738e-19  0.00000000e+00\n",
      "   0.00000000e+00  0.00000000e+00  0.00000000e+00  0.00000000e+00\n",
      "   0.00000000e+00  0.00000000e+00  0.00000000e+00  0.00000000e+00]\n",
      " [ 3.28426146e-01  1.75069738e-02  5.42979997e-01 -1.54572121e-02\n",
      "   1.81774030e-01 -3.01246858e-03  2.77555756e-17  0.00000000e+00\n",
      "   0.00000000e+00  0.00000000e+00  0.00000000e+00  0.00000000e+00\n",
      "   0.00000000e+00  0.00000000e+00  0.00000000e+00  0.00000000e+00]\n",
      " [ 0.00000000e+00 -3.28032821e-01  1.25841880e-02  5.18337387e-01\n",
      "   3.99599798e-03  2.20150278e-01  1.73472348e-18  0.00000000e+00\n",
      "   0.00000000e+00  0.00000000e+00  0.00000000e+00  0.00000000e+00\n",
      "   0.00000000e+00  0.00000000e+00  0.00000000e+00  0.00000000e+00]]\n"
     ]
    }
   ],
   "source": [
    "[y,J] = C.eval(ry.FS.position, ['gripper'])\n",
    "print('position of gripper:', y, '\\nJacobian:', J)"
   ]
  },
  {
   "cell_type": "code",
   "execution_count": 13,
   "metadata": {},
   "outputs": [
    {
     "data": {
      "text/plain": [
       "(array([-0.31946979]),\n",
       " array([[ 2.11266970e-01,  2.46852305e-02,  5.50265616e-01,\n",
       "         -4.20418790e-02,  2.95705159e-02, -1.11343269e-02,\n",
       "         -2.43657527e-17, -0.00000000e+00, -1.96930432e-01,\n",
       "         -4.35913337e-02, -5.21550074e-01,  7.40963736e-02,\n",
       "         -1.50353913e-02,  5.41474581e-03, -5.27869680e-18,\n",
       "         -0.00000000e+00]]))"
      ]
     },
     "execution_count": 13,
     "metadata": {},
     "output_type": "execute_result"
    }
   ],
   "source": [
    "# negative(!) distance between two convex shapes (or origin of marker)\n",
    "C.eval(ry.FS.negDistance, ['panda_coll7', 'r_panda_coll7'])"
   ]
  },
  {
   "cell_type": "code",
   "execution_count": 14,
   "metadata": {},
   "outputs": [
    {
     "data": {
      "text/plain": [
       "(array([ 0.51342582, -0.68935383,  0.51106284]),\n",
       " array([[ 0.68935383,  0.51064577,  0.42483481, -0.52659502,  0.332467  ,\n",
       "         -0.5259756 , -0.45868217,  0.        ,  0.        ,  0.        ,\n",
       "          0.        ,  0.        ,  0.        ,  0.        ,  0.        ,\n",
       "          0.        ],\n",
       "        [ 0.51342582,  0.02064269,  0.72089851, -0.02266834, -0.20468464,\n",
       "         -0.02193998, -0.72379283,  0.        ,  0.        ,  0.        ,\n",
       "          0.        ,  0.        ,  0.        ,  0.        ,  0.        ,\n",
       "          0.        ],\n",
       "        [ 0.        , -0.48516266,  0.54559434,  0.49845333, -0.61009578,\n",
       "          0.4988135 , -0.51549452,  0.        ,  0.        ,  0.        ,\n",
       "          0.        ,  0.        ,  0.        ,  0.        ,  0.        ,\n",
       "          0.        ]]))"
      ]
     },
     "execution_count": 14,
     "metadata": {},
     "output_type": "execute_result"
    }
   ],
   "source": [
    "# the x-axis of the given frame in world coordinates\n",
    "C.eval(ry.FS.vectorX, ['gripper'])"
   ]
  },
  {
   "cell_type": "code",
   "execution_count": null,
   "metadata": {},
   "outputs": [],
   "source": []
  },
  {
   "cell_type": "markdown",
   "metadata": {},
   "source": [
    "## Joint and Frame State\n",
    "\n",
    "A configuration is a tree of n frames. Every frame has a pose (position & quaternion), which is represented as a 7D vector (x,y,z, qw,qx,qy,qz). The frame state is the $n\\times 7$ matrix, where the i-th row is the pose of the i-th frame.\n",
    "\n",
    "A configuration also defines joints, which means that the relative transfromation from a parent to a child frame is parameterized by degrees-of-freedoms (DOFs). If the configuration has in total n DOFs, the joint state is a n-dimensional vector.\n",
    "\n",
    "Setting the joint state implies computing all relative transformations, and then forward chaining all transformations to compute all frame poses. So setting the joint state also sets the frame state.\n",
    "     \n",
    "Setting the frame state allows you to set frame poses that are inconsistent/impossible w.r.t. the joints! Setting the frame state implies computing all relative transformations from the frame poses, and then assigning the joint state to the *projection* onto the actual DOFs"
   ]
  },
  {
   "cell_type": "code",
   "execution_count": 15,
   "metadata": {},
   "outputs": [
    {
     "data": {
      "text/plain": [
       "0"
      ]
     },
     "execution_count": 15,
     "metadata": {},
     "output_type": "execute_result"
    }
   ],
   "source": [
    "C.setJointState(q0)\n",
    "C.view()"
   ]
  },
  {
   "cell_type": "markdown",
   "metadata": {},
   "source": [
    "The *frame state* is a $n\\times 7$ matrix, which contains for all of $n$ frames the 7D pose. A pose is stored as [p_x, p_y, p_z, q_w, q_x, q_y, q_z], with position p and quaternion q."
   ]
  },
  {
   "cell_type": "code",
   "execution_count": 16,
   "metadata": {},
   "outputs": [
    {
     "name": "stdout",
     "output_type": "stream",
     "text": [
      "frame state:  [[ 0.00000000e+00  0.00000000e+00  0.00000000e+00  1.00000000e+00\n",
      "   0.00000000e+00  0.00000000e+00  0.00000000e+00]\n",
      " [ 0.00000000e+00  0.00000000e+00  0.00000000e+00  1.00000000e+00\n",
      "   0.00000000e+00  0.00000000e+00  0.00000000e+00]\n",
      " [ 0.00000000e+00  0.00000000e+00  0.00000000e+00  1.00000000e+00\n",
      "   0.00000000e+00  0.00000000e+00  0.00000000e+00]\n",
      " [ 0.00000000e+00  0.00000000e+00  3.33000000e-01  1.00000000e+00\n",
      "   0.00000000e+00  0.00000000e+00  0.00000000e+00]\n",
      " [ 0.00000000e+00  0.00000000e+00  3.33000000e-01  1.00000000e+00\n",
      "   0.00000000e+00  0.00000000e+00  0.00000000e+00]\n",
      " [ 0.00000000e+00  0.00000000e+00  3.33000000e-01  1.00000000e+00\n",
      "   0.00000000e+00  0.00000000e+00  0.00000000e+00]\n",
      " [ 0.00000000e+00  0.00000000e+00  3.33000000e-01  1.00000000e+00\n",
      "   0.00000000e+00  0.00000000e+00  0.00000000e+00]\n",
      " [ 0.00000000e+00  0.00000000e+00  3.33000000e-01  7.07106781e-01\n",
      "  -7.07106781e-01  0.00000000e+00  0.00000000e+00]\n",
      " [ 0.00000000e+00  0.00000000e+00  3.33000000e-01  6.20544581e-01\n",
      "  -6.20544581e-01 -3.39005049e-01 -3.39005049e-01]\n",
      " [ 0.00000000e+00  0.00000000e+00  3.33000000e-01  6.20544581e-01\n",
      "  -6.20544581e-01 -3.39005049e-01 -3.39005049e-01]\n",
      " [ 0.00000000e+00  0.00000000e+00  3.33000000e-01  6.20544581e-01\n",
      "  -6.20544581e-01 -3.39005049e-01 -3.39005049e-01]\n",
      " [-2.65904831e-01 -1.05249143e-16  5.03735529e-01  8.77582562e-01\n",
      "   0.00000000e+00 -4.79425539e-01  0.00000000e+00]\n",
      " [-2.65904831e-01 -1.05249143e-16  5.03735529e-01  8.77582562e-01\n",
      "   0.00000000e+00 -4.79425539e-01  0.00000000e+00]\n",
      " [-2.65904831e-01 -1.05249143e-16  5.03735529e-01  8.77582562e-01\n",
      "   0.00000000e+00 -4.79425539e-01  0.00000000e+00]\n",
      " [-2.65904831e-01 -1.05249143e-16  5.03735529e-01  8.77582562e-01\n",
      "   0.00000000e+00 -4.79425539e-01  0.00000000e+00]\n",
      " [-2.21329891e-01 -1.05249143e-16  5.73156885e-01  6.20544581e-01\n",
      "   6.20544581e-01 -3.39005049e-01  3.39005049e-01]\n",
      " [-2.21329891e-01 -1.05249143e-16  5.73156885e-01  6.20544581e-01\n",
      "   6.20544581e-01  3.39005049e-01 -3.39005049e-01]\n",
      " [-2.21329891e-01 -1.05249143e-16  5.73156885e-01  6.20544581e-01\n",
      "   6.20544581e-01  3.39005049e-01 -3.39005049e-01]\n",
      " [-2.21329891e-01 -1.05249143e-16  5.73156885e-01  6.20544581e-01\n",
      "   6.20544581e-01  3.39005049e-01 -3.39005049e-01]\n",
      " [ 5.72200270e-02  2.67785794e-16  8.50054327e-01  8.77582562e-01\n",
      "   0.00000000e+00  4.79425539e-01  0.00000000e+00]\n",
      " [ 5.72200270e-02  2.67785794e-16  8.50054327e-01  8.77582562e-01\n",
      "   0.00000000e+00  4.79425539e-01  0.00000000e+00]\n",
      " [ 5.72200270e-02  2.67785794e-16  8.50054327e-01  8.77582562e-01\n",
      "   0.00000000e+00  4.79425539e-01  0.00000000e+00]\n",
      " [ 5.72200270e-02  2.67785794e-16  8.50054327e-01  8.77582562e-01\n",
      "   0.00000000e+00  4.79425539e-01  0.00000000e+00]\n",
      " [ 5.72200270e-02  2.67785794e-16  8.50054327e-01  6.20544581e-01\n",
      "   6.20544581e-01  3.39005049e-01 -3.39005049e-01]\n",
      " [ 5.72200270e-02  2.67785794e-16  8.50054327e-01  6.20544581e-01\n",
      "   6.20544581e-01 -3.39005049e-01  3.39005049e-01]\n",
      " [ 5.72200270e-02  2.67785794e-16  8.50054327e-01  6.20544581e-01\n",
      "   6.20544581e-01 -3.39005049e-01  3.39005049e-01]\n",
      " [ 5.72200270e-02  2.67785794e-16  8.50054327e-01  6.20544581e-01\n",
      "   6.20544581e-01 -3.39005049e-01  3.39005049e-01]\n",
      " [ 1.04766630e-01  2.67785794e-16  9.24103773e-01  0.00000000e+00\n",
      "   8.77582562e-01  0.00000000e+00  4.79425539e-01]\n",
      " [ 1.04766630e-01  2.67785794e-16  9.24103773e-01  0.00000000e+00\n",
      "   8.77582562e-01  0.00000000e+00  4.79425539e-01]\n",
      " [ 1.04766630e-01  2.67785794e-16  9.24103773e-01  0.00000000e+00\n",
      "   8.77582562e-01  0.00000000e+00  4.79425539e-01]\n",
      " [ 1.04766630e-01  2.67785794e-16  9.24103773e-01  0.00000000e+00\n",
      "   8.77582562e-01  0.00000000e+00  4.79425539e-01]\n",
      " [ 1.94804025e-01  2.67785794e-16  8.66291427e-01  0.00000000e+00\n",
      "   8.77582562e-01  0.00000000e+00  4.79425539e-01]\n",
      " [ 1.94804025e-01  2.67785794e-16  8.66291427e-01  0.00000000e+00\n",
      "   8.77582562e-01  0.00000000e+00  4.79425539e-01]\n",
      " [ 1.94804025e-01  2.67785794e-16  8.66291427e-01  0.00000000e+00\n",
      "   8.77582562e-01  0.00000000e+00  4.79425539e-01]\n",
      " [ 1.94804025e-01  2.67785794e-16  8.66291427e-01  1.83467955e-01\n",
      "   8.10780761e-01  3.35835838e-01  4.42931549e-01]\n",
      " [ 1.94804025e-01  2.67785794e-16  8.66291427e-01  1.83467955e-01\n",
      "   8.10780761e-01  3.35835838e-01  4.42931549e-01]\n",
      " [ 1.94804025e-01  2.67785794e-16  8.66291427e-01  1.83467955e-01\n",
      "   8.10780761e-01  3.35835838e-01  4.42931549e-01]\n",
      " [ 1.94804025e-01  2.67785794e-16  8.66291427e-01  1.83467955e-01\n",
      "   8.10780761e-01  3.35835838e-01  4.42931549e-01]\n",
      " [ 2.43945931e-01  2.71027645e-16  8.34737772e-01  1.83467955e-01\n",
      "   8.10780761e-01  3.35835838e-01  4.42931549e-01]\n",
      " [ 2.43945931e-01  2.71027645e-16  8.34737772e-01  1.83467955e-01\n",
      "   8.10780761e-01  3.35835838e-01  4.42931549e-01]\n",
      " [ 2.63048480e-01 -3.53553800e-02  8.64488229e-01  1.83467955e-01\n",
      "   8.10780761e-01  3.35835838e-01  4.42931549e-01]\n",
      " [ 2.24843382e-01  3.53553800e-02  8.04987314e-01  1.83467955e-01\n",
      "   8.10780761e-01  3.35835838e-01  4.42931549e-01]\n",
      " [ 2.63048480e-01 -3.53553800e-02  8.64488229e-01  1.83467955e-01\n",
      "   8.10780761e-01  3.35835838e-01  4.42931549e-01]\n",
      " [ 2.24843382e-01  3.53553800e-02  8.04987314e-01  1.83467955e-01\n",
      "   8.10780761e-01  3.35835838e-01  4.42931549e-01]\n",
      " [ 2.63048480e-01 -3.53553800e-02  8.64488229e-01  1.83467955e-01\n",
      "   8.10780761e-01  3.35835838e-01  4.42931549e-01]\n",
      " [ 2.24843382e-01  3.53553800e-02  8.04987314e-01 -4.42931549e-01\n",
      "   3.35835838e-01 -8.10780761e-01  1.83467955e-01]\n",
      " [-4.00000000e-02  0.00000000e+00  3.00000000e-02  7.07106781e-01\n",
      "   0.00000000e+00  7.07106781e-01  0.00000000e+00]\n",
      " [-2.00000000e-01 -1.20000000e-01  0.00000000e+00  7.07106781e-01\n",
      "   0.00000000e+00  7.07106781e-01  0.00000000e+00]\n",
      " [ 0.00000000e+00  0.00000000e+00  1.83000000e-01  1.00000000e+00\n",
      "   0.00000000e+00  0.00000000e+00  0.00000000e+00]\n",
      " [-1.39684183e-01 -1.05249143e-16  4.22690183e-01  8.77582562e-01\n",
      "   0.00000000e+00 -4.79425539e-01  0.00000000e+00]\n",
      " [-1.11074170e-01  2.00000000e-02  7.41993865e-01  8.77582562e-01\n",
      "   0.00000000e+00  4.79425539e-01  0.00000000e+00]\n",
      " [ 0.00000000e+00  0.00000000e+00  3.33000000e-01  6.20544581e-01\n",
      "  -6.20544581e-01 -3.39005049e-01 -3.39005049e-01]\n",
      " [-2.21329891e-01 -1.05249143e-16  5.73156885e-01  6.20544581e-01\n",
      "   6.20544581e-01  3.39005049e-01 -3.39005049e-01]\n",
      " [ 5.72200270e-02  4.00000000e-02  8.50054327e-01  6.20544581e-01\n",
      "   6.20544581e-01 -3.39005049e-01  3.39005049e-01]\n",
      " [ 1.13181340e-01  2.67785794e-16  9.18700750e-01  0.00000000e+00\n",
      "   8.77582562e-01  0.00000000e+00  4.79425539e-01]\n",
      " [ 2.89890247e-01  2.67785794e-16  8.05237266e-01 -8.10780567e-01\n",
      "  -1.83468211e-01  4.42931442e-01  3.35836307e-01]\n",
      " [ 1.94804025e-01  2.67785794e-16  8.66291427e-01 -4.43577140e-01\n",
      "   7.03040009e-01  5.50671700e-01  7.57281032e-02]\n",
      " [ 3.03197392e-01 -5.51543927e-02  8.62237905e-01  1.83467955e-01\n",
      "   8.10780761e-01  3.35835838e-01  4.42931549e-01]\n",
      " [ 2.43597439e-01  5.51543927e-02  7.69416477e-01  1.83467955e-01\n",
      "   8.10780761e-01  3.35835838e-01  4.42931549e-01]\n",
      " [ 0.00000000e+00  5.00000000e-01  0.00000000e+00  1.00000000e+00\n",
      "   0.00000000e+00  0.00000000e+00  0.00000000e+00]\n",
      " [ 0.00000000e+00  5.00000000e-01  0.00000000e+00  1.00000000e+00\n",
      "   0.00000000e+00  0.00000000e+00  0.00000000e+00]\n",
      " [ 0.00000000e+00  5.00000000e-01  0.00000000e+00  1.00000000e+00\n",
      "   0.00000000e+00  0.00000000e+00  0.00000000e+00]\n",
      " [ 0.00000000e+00  5.00000000e-01  3.33000000e-01  1.00000000e+00\n",
      "   0.00000000e+00  0.00000000e+00  0.00000000e+00]\n",
      " [ 0.00000000e+00  5.00000000e-01  3.33000000e-01  1.00000000e+00\n",
      "   0.00000000e+00  0.00000000e+00  0.00000000e+00]\n",
      " [ 0.00000000e+00  5.00000000e-01  3.33000000e-01  1.00000000e+00\n",
      "   0.00000000e+00  0.00000000e+00  0.00000000e+00]\n",
      " [ 0.00000000e+00  5.00000000e-01  3.33000000e-01  1.00000000e+00\n",
      "   0.00000000e+00  0.00000000e+00  0.00000000e+00]\n",
      " [ 0.00000000e+00  5.00000000e-01  3.33000000e-01  7.07106781e-01\n",
      "  -7.07106781e-01  0.00000000e+00  0.00000000e+00]\n",
      " [ 0.00000000e+00  5.00000000e-01  3.33000000e-01  6.20544581e-01\n",
      "  -6.20544581e-01 -3.39005049e-01 -3.39005049e-01]\n",
      " [ 0.00000000e+00  5.00000000e-01  3.33000000e-01  6.20544581e-01\n",
      "  -6.20544581e-01 -3.39005049e-01 -3.39005049e-01]\n",
      " [ 0.00000000e+00  5.00000000e-01  3.33000000e-01  6.20544581e-01\n",
      "  -6.20544581e-01 -3.39005049e-01 -3.39005049e-01]\n",
      " [-2.65904831e-01  5.00000000e-01  5.03735529e-01  8.77582562e-01\n",
      "   0.00000000e+00 -4.79425539e-01  0.00000000e+00]\n",
      " [-2.65904831e-01  5.00000000e-01  5.03735529e-01  8.77582562e-01\n",
      "   0.00000000e+00 -4.79425539e-01  0.00000000e+00]\n",
      " [-2.65904831e-01  5.00000000e-01  5.03735529e-01  8.77582562e-01\n",
      "   0.00000000e+00 -4.79425539e-01  0.00000000e+00]\n",
      " [-2.65904831e-01  5.00000000e-01  5.03735529e-01  8.77582562e-01\n",
      "   0.00000000e+00 -4.79425539e-01  0.00000000e+00]\n",
      " [-2.21329891e-01  5.00000000e-01  5.73156885e-01  6.20544581e-01\n",
      "   6.20544581e-01 -3.39005049e-01  3.39005049e-01]\n",
      " [-2.21329891e-01  5.00000000e-01  5.73156885e-01  6.20544581e-01\n",
      "   6.20544581e-01  3.39005049e-01 -3.39005049e-01]\n",
      " [-2.21329891e-01  5.00000000e-01  5.73156885e-01  6.20544581e-01\n",
      "   6.20544581e-01  3.39005049e-01 -3.39005049e-01]\n",
      " [-2.21329891e-01  5.00000000e-01  5.73156885e-01  6.20544581e-01\n",
      "   6.20544581e-01  3.39005049e-01 -3.39005049e-01]\n",
      " [ 5.72200270e-02  5.00000000e-01  8.50054327e-01  8.77582562e-01\n",
      "   0.00000000e+00  4.79425539e-01  0.00000000e+00]\n",
      " [ 5.72200270e-02  5.00000000e-01  8.50054327e-01  8.77582562e-01\n",
      "   0.00000000e+00  4.79425539e-01  0.00000000e+00]\n",
      " [ 5.72200270e-02  5.00000000e-01  8.50054327e-01  8.77582562e-01\n",
      "   0.00000000e+00  4.79425539e-01  0.00000000e+00]\n",
      " [ 5.72200270e-02  5.00000000e-01  8.50054327e-01  8.77582562e-01\n",
      "   0.00000000e+00  4.79425539e-01  0.00000000e+00]\n",
      " [ 5.72200270e-02  5.00000000e-01  8.50054327e-01  6.20544581e-01\n",
      "   6.20544581e-01  3.39005049e-01 -3.39005049e-01]\n",
      " [ 5.72200270e-02  5.00000000e-01  8.50054327e-01  6.20544581e-01\n",
      "   6.20544581e-01 -3.39005049e-01  3.39005049e-01]\n",
      " [ 5.72200270e-02  5.00000000e-01  8.50054327e-01  6.20544581e-01\n",
      "   6.20544581e-01 -3.39005049e-01  3.39005049e-01]\n",
      " [ 5.72200270e-02  5.00000000e-01  8.50054327e-01  6.20544581e-01\n",
      "   6.20544581e-01 -3.39005049e-01  3.39005049e-01]\n",
      " [ 1.04766630e-01  5.00000000e-01  9.24103773e-01  0.00000000e+00\n",
      "   8.77582562e-01  0.00000000e+00  4.79425539e-01]\n",
      " [ 1.04766630e-01  5.00000000e-01  9.24103773e-01  0.00000000e+00\n",
      "   8.77582562e-01  0.00000000e+00  4.79425539e-01]\n",
      " [ 1.04766630e-01  5.00000000e-01  9.24103773e-01  0.00000000e+00\n",
      "   8.77582562e-01  0.00000000e+00  4.79425539e-01]\n",
      " [ 1.04766630e-01  5.00000000e-01  9.24103773e-01  0.00000000e+00\n",
      "   8.77582562e-01  0.00000000e+00  4.79425539e-01]\n",
      " [ 1.94804025e-01  5.00000000e-01  8.66291427e-01  0.00000000e+00\n",
      "   8.77582562e-01  0.00000000e+00  4.79425539e-01]\n",
      " [ 1.94804025e-01  5.00000000e-01  8.66291427e-01  0.00000000e+00\n",
      "   8.77582562e-01  0.00000000e+00  4.79425539e-01]\n",
      " [ 1.94804025e-01  5.00000000e-01  8.66291427e-01  0.00000000e+00\n",
      "   8.77582562e-01  0.00000000e+00  4.79425539e-01]\n",
      " [ 1.94804025e-01  5.00000000e-01  8.66291427e-01  1.83467955e-01\n",
      "   8.10780761e-01  3.35835838e-01  4.42931549e-01]\n",
      " [ 1.94804025e-01  5.00000000e-01  8.66291427e-01  1.83467955e-01\n",
      "   8.10780761e-01  3.35835838e-01  4.42931549e-01]\n",
      " [ 1.94804025e-01  5.00000000e-01  8.66291427e-01  1.83467955e-01\n",
      "   8.10780761e-01  3.35835838e-01  4.42931549e-01]\n",
      " [ 1.94804025e-01  5.00000000e-01  8.66291427e-01  1.83467955e-01\n",
      "   8.10780761e-01  3.35835838e-01  4.42931549e-01]\n",
      " [ 2.43945931e-01  5.00000000e-01  8.34737772e-01  1.83467955e-01\n",
      "   8.10780761e-01  3.35835838e-01  4.42931549e-01]\n",
      " [ 2.43945931e-01  5.00000000e-01  8.34737772e-01  1.83467955e-01\n",
      "   8.10780761e-01  3.35835838e-01  4.42931549e-01]\n",
      " [ 2.63048480e-01  4.64644620e-01  8.64488229e-01  1.83467955e-01\n",
      "   8.10780761e-01  3.35835838e-01  4.42931549e-01]\n",
      " [ 2.24843382e-01  5.35355380e-01  8.04987314e-01  1.83467955e-01\n",
      "   8.10780761e-01  3.35835838e-01  4.42931549e-01]\n",
      " [ 2.63048480e-01  4.64644620e-01  8.64488229e-01  1.83467955e-01\n",
      "   8.10780761e-01  3.35835838e-01  4.42931549e-01]\n",
      " [ 2.24843382e-01  5.35355380e-01  8.04987314e-01  1.83467955e-01\n",
      "   8.10780761e-01  3.35835838e-01  4.42931549e-01]\n",
      " [ 2.63048480e-01  4.64644620e-01  8.64488229e-01  1.83467955e-01\n",
      "   8.10780761e-01  3.35835838e-01  4.42931549e-01]\n",
      " [ 2.24843382e-01  5.35355380e-01  8.04987314e-01 -4.42931549e-01\n",
      "   3.35835838e-01 -8.10780761e-01  1.83467955e-01]\n",
      " [-4.00000000e-02  5.00000000e-01  3.00000000e-02  7.07106781e-01\n",
      "   0.00000000e+00  7.07106781e-01  0.00000000e+00]\n",
      " [-2.00000000e-01  3.80000000e-01  0.00000000e+00  7.07106781e-01\n",
      "   0.00000000e+00  7.07106781e-01  0.00000000e+00]\n",
      " [ 0.00000000e+00  5.00000000e-01  1.83000000e-01  1.00000000e+00\n",
      "   0.00000000e+00  0.00000000e+00  0.00000000e+00]\n",
      " [-1.39684183e-01  5.00000000e-01  4.22690183e-01  8.77582562e-01\n",
      "   0.00000000e+00 -4.79425539e-01  0.00000000e+00]\n",
      " [-1.11074170e-01  5.20000000e-01  7.41993865e-01  8.77582562e-01\n",
      "   0.00000000e+00  4.79425539e-01  0.00000000e+00]\n",
      " [ 0.00000000e+00  5.00000000e-01  3.33000000e-01  6.20544581e-01\n",
      "  -6.20544581e-01 -3.39005049e-01 -3.39005049e-01]\n",
      " [-2.21329891e-01  5.00000000e-01  5.73156885e-01  6.20544581e-01\n",
      "   6.20544581e-01  3.39005049e-01 -3.39005049e-01]\n",
      " [ 5.72200270e-02  5.40000000e-01  8.50054327e-01  6.20544581e-01\n",
      "   6.20544581e-01 -3.39005049e-01  3.39005049e-01]\n",
      " [ 1.13181340e-01  5.00000000e-01  9.18700750e-01  0.00000000e+00\n",
      "   8.77582562e-01  0.00000000e+00  4.79425539e-01]\n",
      " [ 2.89890247e-01  5.00000000e-01  8.05237266e-01 -8.10780567e-01\n",
      "  -1.83468211e-01  4.42931442e-01  3.35836307e-01]\n",
      " [ 1.94804025e-01  5.00000000e-01  8.66291427e-01 -4.43577140e-01\n",
      "   7.03040009e-01  5.50671700e-01  7.57281032e-02]\n",
      " [ 3.03197392e-01  4.44845607e-01  8.62237905e-01  1.83467955e-01\n",
      "   8.10780761e-01  3.35835838e-01  4.42931549e-01]\n",
      " [ 2.43597439e-01  5.55154393e-01  7.69416477e-01  1.83467955e-01\n",
      "   8.10780761e-01  3.35835838e-01  4.42931549e-01]]\n"
     ]
    }
   ],
   "source": [
    "X0 = C.getFrameState()\n",
    "print('frame state: ', X0)"
   ]
  },
  {
   "cell_type": "markdown",
   "metadata": {},
   "source": [
    "Let's do a very questionable thing: adding .1 to all numbers in the frame matrix!"
   ]
  },
  {
   "cell_type": "code",
   "execution_count": 17,
   "metadata": {},
   "outputs": [
    {
     "data": {
      "text/plain": [
       "0"
      ]
     },
     "execution_count": 17,
     "metadata": {},
     "output_type": "execute_result"
    }
   ],
   "source": [
    "X = X0 + .1\n",
    "C.setFrameState(X)\n",
    "C.view()"
   ]
  },
  {
   "cell_type": "markdown",
   "metadata": {},
   "source": [
    "That totally broke the original design of the robot! Setting global frame states overwrites the relative transformations between frames.\n",
    "\n",
    "(Also, the rows of X have non-normalized quaternions! These are normalized when setting the frame state.)\n",
    "\n",
    "Let's reset:"
   ]
  },
  {
   "cell_type": "code",
   "execution_count": 18,
   "metadata": {},
   "outputs": [
    {
     "data": {
      "text/plain": [
       "0"
      ]
     },
     "execution_count": 18,
     "metadata": {},
     "output_type": "execute_result"
    }
   ],
   "source": [
    "C.setFrameState(X0)\n",
    "C.view()"
   ]
  },
  {
   "cell_type": "markdown",
   "metadata": {},
   "source": [
    " ## Selecting joints\n",
    "\n",
    "Often one would like to choose which joints are actually active, that is, which joints are referred to in q. This allows one to sub-select joints and work only with projections of the full configuration state. This changes the joint state dimensionality, including ordering of entries in q. The frame state is not affected by such a selection of active joints."
   ]
  },
  {
   "cell_type": "code",
   "execution_count": 19,
   "metadata": {},
   "outputs": [
    {
     "name": "stdout",
     "output_type": "stream",
     "text": [
      "joint state:  [0.]\n",
      "joint names:  ['panda_joint1']\n"
     ]
    }
   ],
   "source": [
    "C.selectJoints(['panda_joint1', 'panda_joint1'])\n",
    "print('joint state: ', C.getJointState())\n",
    "print('joint names: ', C.getJointNames() )"
   ]
  },
  {
   "cell_type": "code",
   "execution_count": 20,
   "metadata": {},
   "outputs": [
    {
     "name": "stdout",
     "output_type": "stream",
     "text": [
      "joint state:  [ 0.      -1.00001  0.      -2.00001  0.       2.00001  0.       0.05\n",
      "  0.      -1.00001  0.      -2.00001  0.       2.00001  0.       0.05   ]\n",
      "joint names:  ['panda_joint1', 'panda_joint2', 'panda_joint3', 'panda_joint4', 'panda_joint5', 'panda_joint6', 'panda_joint7', 'panda_finger_joint1panda_finger_joint2', 'r_panda_joint1', 'r_panda_joint2', 'r_panda_joint3', 'r_panda_joint4', 'r_panda_joint5', 'r_panda_joint6', 'r_panda_joint7', 'r_panda_finger_joint1r_panda_finger_joint2']\n"
     ]
    }
   ],
   "source": [
    "C.selectJoints([], True)\n",
    "print('joint state: ', C.getJointState())\n",
    "print('joint names: ', C.getJointNames() )"
   ]
  },
  {
   "cell_type": "markdown",
   "metadata": {},
   "source": [
    "## View interaction and releasing objects"
   ]
  },
  {
   "cell_type": "markdown",
   "metadata": {},
   "source": [
    "You can close and re-open the view window"
   ]
  },
  {
   "cell_type": "code",
   "execution_count": 21,
   "metadata": {},
   "outputs": [],
   "source": [
    "C.view_close()"
   ]
  },
  {
   "cell_type": "code",
   "execution_count": 22,
   "metadata": {},
   "outputs": [
    {
     "data": {
      "text/plain": [
       "0"
      ]
     },
     "execution_count": 22,
     "metadata": {},
     "output_type": "execute_result"
    }
   ],
   "source": [
    "# things are still there\n",
    "C.view(pause=False, message='this is a message')"
   ]
  },
  {
   "cell_type": "markdown",
   "metadata": {},
   "source": [
    "For user interaction it is often useful to wait for a keypress (making `view` a blocking call):"
   ]
  },
  {
   "cell_type": "markdown",
   "metadata": {},
   "source": [
    "keypressed = C.view(True, 'press some key!')\n",
    "print('pressed key:', keypressed, chr(keypressed))"
   ]
  },
  {
   "cell_type": "markdown",
   "metadata": {},
   "source": [
    "Get a screenshot:"
   ]
  },
  {
   "cell_type": "code",
   "execution_count": 23,
   "metadata": {},
   "outputs": [
    {
     "name": "stdout",
     "output_type": "stream",
     "text": [
      "<class 'numpy.ndarray'> (400, 400, 3)\n"
     ]
    }
   ],
   "source": [
    "img = C.view_getScreenshot()\n",
    "print(type(img), img.shape)"
   ]
  },
  {
   "cell_type": "markdown",
   "metadata": {},
   "source": [
    "And release everything, including closing the view"
   ]
  },
  {
   "cell_type": "code",
   "execution_count": 24,
   "metadata": {},
   "outputs": [],
   "source": [
    "del C"
   ]
  },
  {
   "cell_type": "code",
   "execution_count": null,
   "metadata": {},
   "outputs": [],
   "source": []
  }
 ],
 "metadata": {
  "kernelspec": {
   "display_name": "Python 3 (ipykernel)",
   "language": "python",
   "name": "python3"
  },
  "language_info": {
   "codemirror_mode": {
    "name": "ipython",
    "version": 3
   },
   "file_extension": ".py",
   "mimetype": "text/x-python",
   "name": "python",
   "nbconvert_exporter": "python",
   "pygments_lexer": "ipython3",
   "version": "3.8.10"
  }
 },
 "nbformat": 4,
 "nbformat_minor": 4
}
