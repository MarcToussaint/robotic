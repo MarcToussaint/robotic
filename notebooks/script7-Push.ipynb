{
 "cells": [
  {
   "cell_type": "code",
   "execution_count": null,
   "id": "765fa2ab",
   "metadata": {},
   "outputs": [],
   "source": [
    "from robotic import ry\n",
    "import numpy as np\n",
    "import time"
   ]
  },
  {
   "cell_type": "code",
   "execution_count": null,
   "id": "c896e109",
   "metadata": {},
   "outputs": [],
   "source": [
    "ry.params_add({'physx/motorKp': 10000., 'physx/motorKd': 1000.})\n",
    "ry.params_print()"
   ]
  },
  {
   "cell_type": "code",
   "execution_count": null,
   "id": "4be73380",
   "metadata": {},
   "outputs": [],
   "source": [
    "C = ry.Config()\n",
    "C.addFile(ry.raiPath('../rai-robotModels/scenarios/pandaSingle.g'))\n",
    "C.view(False)"
   ]
  },
  {
   "cell_type": "code",
   "execution_count": null,
   "id": "65f34495",
   "metadata": {},
   "outputs": [],
   "source": [
    "C.addFrame('box') \\\n",
    "    .setPosition([-.25,.1,.675]) \\\n",
    "    .setShape(ry.ST.ssBox, size=[.05,.05,.05,.005]) \\\n",
    "    .setColor([1,.5,0]) \\\n",
    "    .setMass(.1) \\\n",
    "    .setContact(True)\n",
    "C.view()"
   ]
  },
  {
   "cell_type": "code",
   "execution_count": null,
   "id": "74fceeef",
   "metadata": {},
   "outputs": [],
   "source": [
    "# WAYPOINT ENGINEERING:\n",
    "# manually define frames as an endeff waypoints, relative to box:\n",
    "way0 = C.addFrame('way0', 'box')\n",
    "way1 = C.addFrame('way1', 'box')"
   ]
  },
  {
   "cell_type": "code",
   "execution_count": null,
   "id": "aab75e2e",
   "metadata": {},
   "outputs": [],
   "source": [
    "way0.setShape(ry.ST.marker, size=[.1])\n",
    "way0.setRelativePose('t(-.07 0 0) d(90 0 0 1)')\n",
    "\n",
    "way1.setShape(ry.ST.marker, size=[.1])\n",
    "way1.setRelativePose('t(.2 0 0) d(90 0 0 1)')\n",
    "\n",
    "C.view()"
   ]
  },
  {
   "cell_type": "code",
   "execution_count": null,
   "id": "64db9873",
   "metadata": {},
   "outputs": [],
   "source": [
    "# define a 2 waypoint problem in KOMO\n",
    "komo = ry.KOMO()\n",
    "komo.setConfig(C, True)\n",
    "komo.setTiming(2., 1, 5., 0)\n",
    "komo.addControlObjective([], 0, 1e-0)\n",
    "komo.addObjective([], ry.FS.accumulatedCollisions, [], ry.OT.eq);\n",
    "komo.addObjective([], ry.FS.jointLimits, [], ry.OT.ineq);\n",
    "komo.addObjective([1.], ry.FS.poseDiff, ['l_gripper', 'way0'], ry.OT.eq, [1e1]);\n",
    "komo.addObjective([2.], ry.FS.poseDiff, ['l_gripper', 'way1'], ry.OT.eq, [1e1]);"
   ]
  },
  {
   "cell_type": "code",
   "execution_count": null,
   "id": "2b0516c0",
   "metadata": {},
   "outputs": [],
   "source": [
    "ret = ry.NLP_Solver() \\\n",
    "    .setProblem(komo.nlp()) \\\n",
    "    .setOptions( stopTolerance=1e-2, verbose=4 ) \\\n",
    "    .solve()\n",
    "print(ret)"
   ]
  },
  {
   "cell_type": "code",
   "execution_count": null,
   "id": "e172b016",
   "metadata": {},
   "outputs": [],
   "source": [
    "komo.view(False, \"waypoints solution\")"
   ]
  },
  {
   "cell_type": "code",
   "execution_count": null,
   "id": "bd7c9300",
   "metadata": {},
   "outputs": [],
   "source": [
    "komo.view_close()\n",
    "path = komo.getPath()"
   ]
  },
  {
   "cell_type": "code",
   "execution_count": null,
   "id": "8c9e0130",
   "metadata": {},
   "outputs": [],
   "source": [
    "bot = ry.BotOp(C, False)\n",
    "bot.home(C)"
   ]
  },
  {
   "cell_type": "code",
   "execution_count": null,
   "id": "fef0c956",
   "metadata": {},
   "outputs": [],
   "source": [
    "bot.home(C)"
   ]
  },
  {
   "cell_type": "code",
   "execution_count": null,
   "id": "03b8842d",
   "metadata": {},
   "outputs": [],
   "source": [
    "bot.gripperClose(ry._left)\n",
    "while not bot.gripperDone(ry._left):\n",
    "    bot.sync(C, .1)"
   ]
  },
  {
   "cell_type": "code",
   "execution_count": null,
   "id": "ef3e902c",
   "metadata": {},
   "outputs": [],
   "source": [
    "bot.moveTo(path[0])\n",
    "bot.moveTo(path[1])\n",
    "while bot.getTimeToEnd()>0:\n",
    "    bot.sync(C, .1)"
   ]
  },
  {
   "cell_type": "code",
   "execution_count": null,
   "id": "380f6540",
   "metadata": {},
   "outputs": [],
   "source": [
    "bot.home(C)"
   ]
  },
  {
   "cell_type": "code",
   "execution_count": null,
   "id": "510a7f5a",
   "metadata": {},
   "outputs": [],
   "source": [
    "bot.gripperOpen(ry._left)\n",
    "while not bot.gripperDone(ry._left):\n",
    "    bot.sync(C, .1)"
   ]
  },
  {
   "cell_type": "code",
   "execution_count": null,
   "id": "25ea3e89",
   "metadata": {},
   "outputs": [],
   "source": [
    "del bot"
   ]
  },
  {
   "cell_type": "code",
   "execution_count": null,
   "id": "6a93c1de",
   "metadata": {},
   "outputs": [],
   "source": [
    "del C"
   ]
  },
  {
   "cell_type": "code",
   "execution_count": null,
   "id": "53a9ece0",
   "metadata": {},
   "outputs": [],
   "source": []
  }
 ],
 "metadata": {
  "kernelspec": {
   "display_name": "Python 3 (ipykernel)",
   "language": "python",
   "name": "python3"
  },
  "language_info": {
   "codemirror_mode": {
    "name": "ipython",
    "version": 3
   },
   "file_extension": ".py",
   "mimetype": "text/x-python",
   "name": "python",
   "nbconvert_exporter": "python",
   "pygments_lexer": "ipython3",
   "version": "3.8.10"
  }
 },
 "nbformat": 4,
 "nbformat_minor": 5
}
