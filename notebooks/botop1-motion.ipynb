{
 "cells": [
  {
   "cell_type": "markdown",
   "id": "e193f01d",
   "metadata": {},
   "source": [
    "# Interacting with a Sim/Real: Setting spline references\n",
    "* BotOp is a generic abstraction for interacting with a simulated or real robot\n",
    "* The BotOp class only has a few methods, which should be a clear bottleneck between user code and the robot\n",
    "* The move methods set/overwrite a spline reference for the robot. (Also compliance around the reference can be set.)\n",
    "* The gripper methods operate grippers\n",
    "* The getImage.. methods grap images or point clouds from the camera\n",
    "* The simulation can be run in many different modes: pure kinematic (no physics for objects), a physics simulator with physics for objects but still kinematic robot, a physic simulator with PD motors for the robot."
   ]
  },
  {
   "cell_type": "code",
   "execution_count": 1,
   "id": "31a434d3",
   "metadata": {},
   "outputs": [],
   "source": [
    "from robotic import ry\n",
    "import numpy as np\n",
    "import time"
   ]
  },
  {
   "cell_type": "markdown",
   "id": "74bb70b4",
   "metadata": {},
   "source": [
    "ry has global parameters, that can be defined in `rai.cfg` or with the following calls.\n",
    "The simulation behaves very differently depending on `botim/engine` [physx or kinematic] and `multibody`"
   ]
  },
  {
   "cell_type": "code",
   "execution_count": 2,
   "id": "bb4031b4",
   "metadata": {},
   "outputs": [
    {
     "name": "stdout",
     "output_type": "stream",
     "text": [
      "-- WARNING:types.cpp:dict2graph:65(-1) can't convert dict entry 'physx/multibody' of type <class 'bool'> to graph\n",
      "-- ry.cpp:operator():99(0) python,\n",
      "message: \"Hello, this config file is been loaded\",\n",
      "botsim/verbose: 2,\n",
      "physx/motorKp: 10000,\n",
      "physx/motorKd: 1000,\n",
      "botsim/engine: physx\n"
     ]
    }
   ],
   "source": [
    "ry.params_add({'botsim/verbose': 2., 'physx/motorKp': 10000., 'physx/motorKd': 1000.})\n",
    "ry.params_add({'botsim/engine': 'physx'}) #makes a big difference!\n",
    "ry.params_add({'physx/multibody': True}) #makes a big difference!\n",
    "ry.params_print()"
   ]
  },
  {
   "cell_type": "code",
   "execution_count": 3,
   "id": "d1bff41b",
   "metadata": {},
   "outputs": [
    {
     "data": {
      "text/plain": [
       "0"
      ]
     },
     "execution_count": 3,
     "metadata": {},
     "output_type": "execute_result"
    }
   ],
   "source": [
    "C = ry.Config()\n",
    "C.addFile(ry.raiPath('../rai-robotModels/scenarios/pandaSingle.g'))\n",
    "C.view(False, 'this is your workspace data structure C -- NOT THE SIMULTATION')"
   ]
  },
  {
   "cell_type": "markdown",
   "id": "2333c4b1",
   "metadata": {},
   "source": [
    "We open a robot interface in simulation (False). True would directly open communication to one or two pandas (depending no how many are defined in C). The `botsim/verbose` above leads to the explicit verbosity when creating the simulator interface."
   ]
  },
  {
   "cell_type": "code",
   "execution_count": 4,
   "id": "6832eb10",
   "metadata": {},
   "outputs": [
    {
     "name": "stdout",
     "output_type": "stream",
     "text": [
      "-- kin_physx.cpp:PhysXInterface:768(0) starting PhysX engine ...\n",
      "-- kin_physx.cpp:addGround:238(0) ... done starting PhysX engine\n",
      "-- kin_physx.cpp:addGround:239(0) creating Configuration within PhysX ...\n",
      "-- kin_physx.cpp:addLink:254(0) adding link 'world' as static with 1 shapes\n",
      " table\n",
      "-- kin_physx.cpp:addMultiBody:466(0) adding multibody with base 'l_panda_base' with the following links ...\n",
      "-- kin_physx.cpp:addMultiBody:486(0) adding multibody link 'l_panda_base' as kinematic with 1 shapes\n",
      " l_panda_link0_0\n",
      "-- kin_physx.cpp:addMultiBody:486(0) adding multibody link 'l_panda_joint1' as dynamic with 1 shapes\n",
      " l_panda_link1_0\n",
      "-- kin_physx.cpp:addMultiBody:486(0) adding multibody link 'l_panda_joint2' as dynamic with 2 shapes\n",
      " l_panda_link2_0 bellybutton\n",
      "-- kin_physx.cpp:addMultiBody:486(0) adding multibody link 'l_panda_joint3' as dynamic with 1 shapes\n",
      " l_panda_link3_0\n",
      "-- kin_physx.cpp:addMultiBody:486(0) adding multibody link 'l_panda_joint4' as dynamic with 1 shapes\n",
      " l_panda_link4_0\n",
      "-- kin_physx.cpp:addMultiBody:486(0) adding multibody link 'l_panda_joint5' as dynamic with 1 shapes\n",
      " l_panda_link5_0\n",
      "-- kin_physx.cpp:addMultiBody:486(0) adding multibody link 'l_panda_joint6' as dynamic with 1 shapes\n",
      " l_panda_link6_0\n",
      "-- kin_physx.cpp:addMultiBody:486(0) adding multibody link 'l_panda_joint7' as dynamic with 2 shapes\n",
      " l_panda_link7_0 l_panda_hand_0\n",
      "-- kin_physx.cpp:addMultiBody:486(0) adding multibody link 'l_panda_finger_joint1' as dynamic with 1 shapes\n",
      " l_panda_leftfinger_0\n",
      "-- kin_physx.cpp:addMultiBody:486(0) adding multibody link 'l_panda_finger_joint2' as dynamic with 1 shapes\n",
      " l_panda_rightfinger_0\n",
      "-- kin_physx.cpp:addMultiBody:592(0) ... done with multibody with base 'l_panda_base'\n",
      "-- kin_physx.cpp:PhysXInterface:805(0) ... done creating Configuration within PhysX\n"
     ]
    }
   ],
   "source": [
    "bot = ry.BotOp(C, False)\n",
    "#note that in sim, when physx multibody is activated, arms are going down! free floating..."
   ]
  },
  {
   "cell_type": "markdown",
   "id": "c4ad9bb7",
   "metadata": {},
   "source": [
    "We define 2 reference poses, q0=home and q1=(2nd joint bend), so that we can move back and forth between them"
   ]
  },
  {
   "cell_type": "code",
   "execution_count": 5,
   "id": "afe800f7",
   "metadata": {},
   "outputs": [
    {
     "name": "stdout",
     "output_type": "stream",
     "text": [
      "[ 0.  -0.5  0.  -2.   0.   2.  -0.5] [ 0.  -0.3  0.  -2.   0.   2.  -0.5]\n"
     ]
    }
   ],
   "source": [
    "q0 = bot.get_qHome()\n",
    "q1 = q0.copy()\n",
    "q1[1] = q1[1] + .2\n",
    "print(q0, q1)"
   ]
  },
  {
   "cell_type": "markdown",
   "id": "86f72e9b",
   "metadata": {},
   "source": [
    "The `moveTo` is the simplest way to move the robot from current to target. It internally creates a spline to the target with optimal timing and follows it. The call is *non-blocking*. Also, your workspace config C is not kept in sync with the real/sim. If you want to wait till the motion is finished, you need to do manually checking the /time_til_end_of_reference_spline/, and meanwhile staying sync'ed."
   ]
  },
  {
   "cell_type": "code",
   "execution_count": 6,
   "id": "443856f3",
   "metadata": {},
   "outputs": [],
   "source": [
    "bot.moveTo(q1)\n",
    "\n",
    "while bot.getTimeToEnd()>0:\n",
    "    bot.sync(C, .1)"
   ]
  },
  {
   "cell_type": "markdown",
   "id": "fa41eca8",
   "metadata": {},
   "source": [
    "The internal spline reference can be appended: As `moveTo` is non-blocking, you can append several moves like this:"
   ]
  },
  {
   "cell_type": "code",
   "execution_count": 7,
   "id": "182b64dd",
   "metadata": {},
   "outputs": [
    {
     "name": "stdout",
     "output_type": "stream",
     "text": [
      "timeToEnd: -2.6579967044458375\n",
      "timeToEnd: 1.0957189420649804\n",
      "timeToEnd: 2.191437884129961\n"
     ]
    }
   ],
   "source": [
    "print('timeToEnd:', bot.getTimeToEnd())\n",
    "bot.moveTo(q0)\n",
    "print('timeToEnd:', bot.getTimeToEnd())\n",
    "bot.moveTo(q1)\n",
    "print('timeToEnd:', bot.getTimeToEnd())\n",
    "bot.moveTo(q0)\n",
    "\n",
    "while bot.getTimeToEnd()>0:\n",
    "    bot.sync(C, .1)"
   ]
  },
  {
   "cell_type": "markdown",
   "id": "abc71ed9",
   "metadata": {},
   "source": [
    "Setting splines becomes reactive, when we can smoothly overwrite the spline reference with high frequency. Let's create a randomly moving target object and track it."
   ]
  },
  {
   "cell_type": "code",
   "execution_count": 8,
   "id": "c3dbe900",
   "metadata": {},
   "outputs": [
    {
     "data": {
      "text/plain": [
       "0"
      ]
     },
     "execution_count": 8,
     "metadata": {},
     "output_type": "execute_result"
    }
   ],
   "source": [
    "#this reference frame only appears in your workspace C - not the simulation!\n",
    "target = C.addFrame('target', 'table')\n",
    "target.setShape(ry.ST.marker, [.1])\n",
    "target.setRelativePosition([0., .3, .3])\n",
    "pos = target.getPosition()\n",
    "cen = pos.copy()\n",
    "C.view()"
   ]
  },
  {
   "cell_type": "code",
   "execution_count": 9,
   "id": "b2a168d1",
   "metadata": {},
   "outputs": [],
   "source": [
    "def IK(C, pos):\n",
    "    komo = ry.KOMO()\n",
    "    komo.setConfig(C, False)\n",
    "    komo.setTiming(1,1,1,0)\n",
    "    komo.addControlObjective([], 0, 1e-1)\n",
    "    komo.addObjective([], ry.FS.positionDiff, ['l_gripper', 'target'], ry.OT.eq, [1e1])\n",
    "    \n",
    "    ret = ry.NLP_Solver() \\\n",
    "        .setProblem(komo.nlp()) \\\n",
    "        .setOptions( stopTolerance=1e-3, verbose=0 ) \\\n",
    "        .solve()\n",
    "    \n",
    "    return [komo.getPath()[0], ret]"
   ]
  },
  {
   "cell_type": "markdown",
   "id": "76e13a25",
   "metadata": {},
   "source": [
    "The following is just 'setting' the workspace C to the IK solution - no motion send to the real/robot:"
   ]
  },
  {
   "cell_type": "code",
   "execution_count": 10,
   "id": "4998d869",
   "metadata": {},
   "outputs": [
    {
     "name": "stdout",
     "output_type": "stream",
     "text": [
      "{ time: 0.001383, evals: 7, done: 1, feasible: 1, sos: 0.00278793, f: 0, ineq: 0, eq: 2.18334e-05 }\n",
      "{ time: 0.000458, evals: 5, done: 1, feasible: 1, sos: 0.0022709, f: 0, ineq: 0, eq: 2.90272e-05 }\n",
      "{ time: 0.000455, evals: 5, done: 1, feasible: 1, sos: 0.00300357, f: 0, ineq: 0, eq: 1.93855e-05 }\n",
      "{ time: 0.001171, evals: 5, done: 1, feasible: 1, sos: 0.00350951, f: 0, ineq: 0, eq: 4.2767e-06 }\n",
      "{ time: 0.000422, evals: 5, done: 1, feasible: 1, sos: 0.00392971, f: 0, ineq: 0, eq: 7.46374e-06 }\n",
      "{ time: 0.000353, evals: 4, done: 1, feasible: 1, sos: 0.00344604, f: 0, ineq: 0, eq: 0.000114237 }\n",
      "{ time: 0.000423, evals: 4, done: 1, feasible: 1, sos: 0.00348174, f: 0, ineq: 0, eq: 4.58945e-05 }\n",
      "{ time: 0.000484, evals: 5, done: 1, feasible: 1, sos: 0.00433406, f: 0, ineq: 0, eq: 8.54528e-06 }\n",
      "{ time: 0.000357, evals: 4, done: 1, feasible: 1, sos: 0.00351353, f: 0, ineq: 0, eq: 4.21336e-05 }\n",
      "{ time: 0.000806, evals: 5, done: 1, feasible: 1, sos: 0.00420688, f: 0, ineq: 0, eq: 1.33753e-05 }\n",
      "{ time: 0.000367, evals: 4, done: 1, feasible: 1, sos: 0.00436285, f: 0, ineq: 0, eq: 0.000180656 }\n",
      "{ time: 0.000311, evals: 4, done: 1, feasible: 1, sos: 0.00449965, f: 0, ineq: 0, eq: 0.000120457 }\n",
      "{ time: 0.000377, evals: 4, done: 1, feasible: 1, sos: 0.00461049, f: 0, ineq: 0, eq: 3.13792e-05 }\n",
      "{ time: 0.000555, evals: 5, done: 1, feasible: 1, sos: 0.0052198, f: 0, ineq: 0, eq: 4.04351e-06 }\n",
      "{ time: 0.000369, evals: 4, done: 1, feasible: 1, sos: 0.00518846, f: 0, ineq: 0, eq: 3.1729e-05 }\n",
      "{ time: 0.000396, evals: 4, done: 1, feasible: 1, sos: 0.00518389, f: 0, ineq: 0, eq: 0.000127056 }\n",
      "{ time: 0.000367, evals: 4, done: 1, feasible: 1, sos: 0.00437952, f: 0, ineq: 0, eq: 0.000106442 }\n",
      "{ time: 0.000467, evals: 5, done: 1, feasible: 1, sos: 0.00438335, f: 0, ineq: 0, eq: 3.42304e-05 }\n",
      "{ time: 0.00036, evals: 4, done: 1, feasible: 1, sos: 0.00397279, f: 0, ineq: 0, eq: 0.000149544 }\n",
      "{ time: 0.000364, evals: 4, done: 1, feasible: 1, sos: 0.00402003, f: 0, ineq: 0, eq: 2.08232e-05 }\n"
     ]
    }
   ],
   "source": [
    "for t in range(20):\n",
    "    time.sleep(.1)\n",
    "    pos = cen + .98 * (pos-cen) + 0.02 * np.random.randn(3)\n",
    "    target.setPosition(pos)\n",
    "    \n",
    "    q_target, ret = IK(C, pos)\n",
    "    print(ret)\n",
    "    C.setJointState(q_target)\n",
    "    C.view()"
   ]
  },
  {
   "cell_type": "markdown",
   "id": "c0d79cae",
   "metadata": {},
   "source": [
    "We now generate reative motion by smoothly overwriting the spline reference. Increasing time cost makes it more agressive (penalized total duration of estimated cubic spline)."
   ]
  },
  {
   "cell_type": "code",
   "execution_count": 11,
   "id": "c5af1933",
   "metadata": {},
   "outputs": [],
   "source": [
    "for t in range(100):\n",
    "    bot.sync(C, .1) #keep the workspace C sync'ed to real/sim, and idle .1 sec\n",
    "    pos = cen + .98 * (pos-cen) + 0.02 * np.random.randn(3)\n",
    "    target.setPosition(pos)\n",
    "    \n",
    "    q_target, ret = IK(C, pos)\n",
    "    bot.moveTo(q_target, timeCost=5., overwrite=True)"
   ]
  },
  {
   "cell_type": "markdown",
   "id": "35e22aa1",
   "metadata": {},
   "source": [
    "Good practise is to always allow a user aborting motion execution. In this example, key 'q' will break the loop and call a home() (which is the same as moveTo(qHome, 1., True)"
   ]
  },
  {
   "cell_type": "code",
   "execution_count": 16,
   "id": "09468d0c",
   "metadata": {},
   "outputs": [],
   "source": [
    "for t in range(10):\n",
    "    bot.moveTo(q1)\n",
    "    bot.wait(C) #same as 'loop sync til keypressed or endOfTime', but also raises user window\n",
    "    if bot.getKeyPressed()==ord('q'):\n",
    "        break;\n",
    "        \n",
    "    bot.moveTo(q0)\n",
    "    bot.wait(C)\n",
    "    if bot.getKeyPressed()==ord('q'):\n",
    "        break;\n",
    "\n",
    "bot.home(C)"
   ]
  },
  {
   "cell_type": "markdown",
   "id": "3776fd7a",
   "metadata": {},
   "source": [
    "gripper movements also do not block:"
   ]
  },
  {
   "cell_type": "code",
   "execution_count": 14,
   "id": "9b62c7c5",
   "metadata": {},
   "outputs": [
    {
     "name": "stdout",
     "output_type": "stream",
     "text": [
      "-- simulation.cpp:moveGripper:333(1) initiating opening gripper l_panda_joint7 (without releasing obj) width:0.02 speed:0.2\n",
      "-- simulation.cpp:modConfiguration:812(1) terminating opening gripper l_panda_joint7 at width 0.01998\n",
      "-- simulation.cpp:moveGripper:333(1) initiating opening gripper l_panda_joint7 (without releasing obj) width:0.075 speed:0.2\n",
      "-- simulation.cpp:modConfiguration:812(1) terminating opening gripper l_panda_joint7 at width 0.04\n"
     ]
    }
   ],
   "source": [
    "bot.gripperMove(ry._left, width=.02)\n",
    "\n",
    "while not bot.gripperDone(ry._left):\n",
    "    bot.sync(C, .1)\n",
    "\n",
    "bot.gripperMove(ry._left, width=.075)\n",
    "\n",
    "while not bot.gripperDone(ry._left):\n",
    "    bot.sync(C, .1)"
   ]
  },
  {
   "cell_type": "markdown",
   "id": "2dfbfcea",
   "metadata": {},
   "source": [
    "Always close the bot/sim properly:"
   ]
  },
  {
   "cell_type": "code",
   "execution_count": 14,
   "id": "2ea154ed",
   "metadata": {},
   "outputs": [
    {
     "name": "stdout",
     "output_type": "stream",
     "text": [
      "-- bot.cpp:~BotOp:106(0) shutting down BotOp...\n",
      "-- simulation.cpp:~BotThreadedSim:56(0) shutting down SimThread\n",
      "-- simulation.cpp:~Simulation:148(0) shutting down Simulation\n"
     ]
    }
   ],
   "source": [
    "del bot\n",
    "del C"
   ]
  },
  {
   "cell_type": "code",
   "execution_count": null,
   "id": "24342be8",
   "metadata": {},
   "outputs": [],
   "source": []
  }
 ],
 "metadata": {
  "kernelspec": {
   "display_name": "Python 3 (ipykernel)",
   "language": "python",
   "name": "python3"
  },
  "language_info": {
   "codemirror_mode": {
    "name": "ipython",
    "version": 3
   },
   "file_extension": ".py",
   "mimetype": "text/x-python",
   "name": "python",
   "nbconvert_exporter": "python",
   "pygments_lexer": "ipython3",
   "version": "3.8.10"
  }
 },
 "nbformat": 4,
 "nbformat_minor": 5
}
