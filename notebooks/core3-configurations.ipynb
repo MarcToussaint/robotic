{
 "cells": [
  {
   "cell_type": "markdown",
   "id": "89f8bc99",
   "metadata": {},
   "source": [
    "# Importing, Editing & Manipulating Configurations\n",
    "* This scripts loads a mini scene defined in 'mini.g'.\n",
    "* The 'watchFile' command allows you to edit the file in some other editor, while it is being redisplayed whenever you save.\n",
    "* 'set/getJointState' shows how to access degrees-of-freedom of the scene\n",
    "* 'eval' shows how to access other features, including its Jacobian"
   ]
  },
  {
   "cell_type": "markdown",
   "id": "569fbbb1",
   "metadata": {},
   "source": [
    "## Editing\n",
    "* The following loads a trivial configuration description from the file `mini.g`.\n",
    "* The `watchFile` method views & animates the configuration, and reloads whenever the file is edited in an external editor."
   ]
  },
  {
   "cell_type": "code",
   "execution_count": null,
   "id": "0c2bd1ab",
   "metadata": {},
   "outputs": [],
   "source": [
    "from robotic import ry"
   ]
  },
  {
   "cell_type": "code",
   "execution_count": null,
   "id": "97a3d5ff",
   "metadata": {},
   "outputs": [],
   "source": [
    "C = ry.Config()\n",
    "C.addFile('mini.g')\n",
    "C.view()"
   ]
  },
  {
   "cell_type": "code",
   "execution_count": null,
   "id": "32f64861",
   "metadata": {},
   "outputs": [],
   "source": [
    "C.watchFile('mini.g')"
   ]
  },
  {
   "cell_type": "markdown",
   "id": "6b452981",
   "metadata": {},
   "source": [
    "## Predefined robot models\n",
    "\n",
    "TODO: Load and view a couple of those"
   ]
  },
  {
   "cell_type": "code",
   "execution_count": null,
   "id": "294c17f2",
   "metadata": {},
   "outputs": [],
   "source": [
    "print('the path where model files are pre-installed:\\n', ry.raiPath(''))"
   ]
  },
  {
   "cell_type": "code",
   "execution_count": null,
   "id": "ab9c2093",
   "metadata": {},
   "outputs": [],
   "source": [
    "ry.setRaiPath('/home/mtoussai/git/rai-robotModels/')"
   ]
  },
  {
   "cell_type": "markdown",
   "id": "a886870b",
   "metadata": {},
   "source": [
    "## Loading multiple models in a single configuration\n",
    "\n",
    "TODO: addFile simple, but then manipulate the base frame to become child... (e.g. put panda on table)\n",
    "TODO: (enable preFix for addFile!!)"
   ]
  },
  {
   "cell_type": "markdown",
   "id": "a2eaed4e",
   "metadata": {},
   "source": [
    "## How to attach frames - faking grasps\n",
    "Note, this is not real grasping. Just editing the kinematic tree in your configuration"
   ]
  },
  {
   "cell_type": "code",
   "execution_count": null,
   "id": "0c9f3e67",
   "metadata": {},
   "outputs": [],
   "source": [
    "import os\n",
    "os._exit(0)"
   ]
  },
  {
   "cell_type": "code",
   "execution_count": null,
   "id": "4e64cc63",
   "metadata": {},
   "outputs": [],
   "source": [
    "import sys\n",
    "sys.path.append('../build')\n",
    "import libry as ry\n",
    "import numpy as np\n",
    "import time"
   ]
  },
  {
   "cell_type": "code",
   "execution_count": null,
   "id": "023feac6",
   "metadata": {},
   "outputs": [],
   "source": [
    "C = ry.Config()\n",
    "C.addFile(\"../scenarios/pandasTable.g\")\n",
    "D = C.view()"
   ]
  },
  {
   "cell_type": "code",
   "execution_count": null,
   "id": "9dfde73a",
   "metadata": {},
   "outputs": [],
   "source": [
    "C.attach(\"L_gripper\", \"R_gripper\")"
   ]
  },
  {
   "cell_type": "code",
   "execution_count": null,
   "id": "b7da474c",
   "metadata": {},
   "outputs": [],
   "source": [
    "#move a bit around\n",
    "\n",
    "q = C.getJointState()\n",
    "\n",
    "for t in range(30):\n",
    "    q[0] = np.sin(t/10)\n",
    "    \n",
    "    C.setJointState(q)\n",
    "    time.sleep(0.1)"
   ]
  },
  {
   "cell_type": "code",
   "execution_count": null,
   "id": "2f8d26f3",
   "metadata": {},
   "outputs": [],
   "source": []
  },
  {
   "cell_type": "markdown",
   "id": "1554cd8d",
   "metadata": {},
   "source": [
    "## How to enable/disable collisions"
   ]
  },
  {
   "cell_type": "code",
   "execution_count": null,
   "id": "202c833e",
   "metadata": {},
   "outputs": [],
   "source": [
    "import sys\n",
    "sys.path.append('../build')\n",
    "import libry as ry\n",
    "import numpy as np\n",
    "import time"
   ]
  },
  {
   "cell_type": "code",
   "execution_count": null,
   "id": "2468b43e",
   "metadata": {},
   "outputs": [],
   "source": [
    "C = ry.Config()\n",
    "C.addFile(\"../scenarios/pandasTable.g\")\n",
    "D = C.view()\n",
    "# V = ry.ConfigurationViewer()\n",
    "# V.setConfiguration(C)"
   ]
  },
  {
   "cell_type": "code",
   "execution_count": null,
   "id": "5cdc2c7e",
   "metadata": {},
   "outputs": [],
   "source": [
    "#no collisions so far:\n",
    "C.computeCollisions() #this calls broadphase collision detection\n",
    "C.getCollisions()     #this reports collisions (in algorithms, use features instead)"
   ]
  },
  {
   "cell_type": "code",
   "execution_count": null,
   "id": "d7cb242f",
   "metadata": {},
   "outputs": [],
   "source": [
    "#bring into collision:\n",
    "q = C.getJointState()\n",
    "\n",
    "for t in range(10):\n",
    "    [y,J] = C.evalFeature(ry.FS.positionDiff, [\"R_gripperCenter\", \"L_gripperCenter\"])\n",
    "    vel = J.T @ np.linalg.inv(J@J.T + 1e-2*np.eye(y.shape[0])) @ (-y);\n",
    "\n",
    "    q = q + .8*vel\n",
    "    C.setJointState(q)"
   ]
  },
  {
   "cell_type": "code",
   "execution_count": null,
   "id": "b3b81a92",
   "metadata": {},
   "outputs": [],
   "source": [
    "C.computeCollisions() #this calls broadphase collision detection\n",
    "C.getCollisions(belowMargin=1.) "
   ]
  },
  {
   "cell_type": "code",
   "execution_count": null,
   "id": "7af862d0",
   "metadata": {},
   "outputs": [],
   "source": [
    "#those are the real penetrations:\n",
    "C.getCollisions(belowMargin=0.) "
   ]
  },
  {
   "cell_type": "code",
   "execution_count": null,
   "id": "701ea1eb",
   "metadata": {},
   "outputs": [],
   "source": [
    "#deactivate a collision flag!\n",
    "f = C.getFrame(\"R_gripper\")\n",
    "f.setContact(0)"
   ]
  },
  {
   "cell_type": "code",
   "execution_count": null,
   "id": "4bf68caf",
   "metadata": {},
   "outputs": [],
   "source": [
    "C.computeCollisions()\n",
    "C.getCollisions(belowMargin=0.) "
   ]
  },
  {
   "cell_type": "code",
   "execution_count": null,
   "id": "bed244b0",
   "metadata": {},
   "outputs": [],
   "source": [
    "#Note: this is exactly the sum of the above:\n",
    "C.evalFeature(ry.FS.accumulatedCollisions, [])"
   ]
  },
  {
   "cell_type": "markdown",
   "id": "6e1cc4ec",
   "metadata": {},
   "source": [
    "Notes:\n",
    "* The contact flag of frames is an integer: 0 = does not contribute to contact lists, 1 = always contributes, negative = only contributes to collision pairs that are topologically distant in the kinematic tree\n",
    "* WARNING: the broad phase collision engine is created at first call - You cannot enable collisions between objects that were disabled during first call of the collision engine\n",
    "* TODO: enable recreation of a fresh collision engine for a changed configuration"
   ]
  },
  {
   "cell_type": "markdown",
   "id": "7ac10aed",
   "metadata": {},
   "source": [
    "## How to enable/disable collisions"
   ]
  },
  {
   "cell_type": "code",
   "execution_count": null,
   "id": "f3390c4b",
   "metadata": {},
   "outputs": [],
   "source": [
    "import sys\n",
    "sys.path.append('../build')\n",
    "import libry as ry\n",
    "import numpy as np\n",
    "import time"
   ]
  },
  {
   "cell_type": "code",
   "execution_count": null,
   "id": "0e189319",
   "metadata": {},
   "outputs": [],
   "source": [
    "C = ry.Config()\n",
    "C.addFile(\"../scenarios/pandasTable.g\")\n",
    "D = C.view()\n",
    "# V = ry.ConfigurationViewer()\n",
    "# V.setConfiguration(C)"
   ]
  },
  {
   "cell_type": "code",
   "execution_count": null,
   "id": "5818323e",
   "metadata": {},
   "outputs": [],
   "source": [
    "#no collisions so far:\n",
    "C.computeCollisions() #this calls broadphase collision detection\n",
    "C.getCollisions()     #this reports collisions (in algorithms, use features instead)"
   ]
  },
  {
   "cell_type": "code",
   "execution_count": null,
   "id": "8fb03415",
   "metadata": {},
   "outputs": [],
   "source": [
    "#bring into collision:\n",
    "q = C.getJointState()\n",
    "\n",
    "for t in range(10):\n",
    "    [y,J] = C.evalFeature(ry.FS.positionDiff, [\"R_gripperCenter\", \"L_gripperCenter\"])\n",
    "    vel = J.T @ np.linalg.inv(J@J.T + 1e-2*np.eye(y.shape[0])) @ (-y);\n",
    "\n",
    "    q = q + .8*vel\n",
    "    C.setJointState(q)"
   ]
  },
  {
   "cell_type": "code",
   "execution_count": null,
   "id": "48ef2331",
   "metadata": {},
   "outputs": [],
   "source": [
    "C.computeCollisions() #this calls broadphase collision detection\n",
    "C.getCollisions(belowMargin=1.) "
   ]
  },
  {
   "cell_type": "code",
   "execution_count": null,
   "id": "94578db7",
   "metadata": {},
   "outputs": [],
   "source": [
    "#those are the real penetrations:\n",
    "C.getCollisions(belowMargin=0.) "
   ]
  },
  {
   "cell_type": "code",
   "execution_count": null,
   "id": "39166d34",
   "metadata": {},
   "outputs": [],
   "source": [
    "#deactivate a collision flag!\n",
    "f = C.getFrame(\"R_gripper\")\n",
    "f.setContact(0)"
   ]
  },
  {
   "cell_type": "code",
   "execution_count": null,
   "id": "27de0a5f",
   "metadata": {},
   "outputs": [],
   "source": [
    "C.computeCollisions()\n",
    "C.getCollisions(belowMargin=0.) "
   ]
  },
  {
   "cell_type": "code",
   "execution_count": null,
   "id": "681fc4c2",
   "metadata": {},
   "outputs": [],
   "source": [
    "#Note: this is exactly the sum of the above:\n",
    "C.evalFeature(ry.FS.accumulatedCollisions, [])"
   ]
  },
  {
   "cell_type": "markdown",
   "id": "83e72f44",
   "metadata": {},
   "source": [
    "Notes:\n",
    "* The contact flag of frames is an integer: 0 = does not contribute to contact lists, 1 = always contributes, negative = only contributes to collision pairs that are topologically distant in the kinematic tree\n",
    "* WARNING: the broad phase collision engine is created at first call - You cannot enable collisions between objects that were disabled during first call of the collision engine\n",
    "* TODO: enable recreation of a fresh collision engine for a changed configuration"
   ]
  },
  {
   "cell_type": "markdown",
   "id": "ee904439",
   "metadata": {},
   "source": [
    "## More on collisions: Disable/enable, query, report"
   ]
  },
  {
   "cell_type": "code",
   "execution_count": null,
   "id": "e06f7d8d",
   "metadata": {},
   "outputs": [],
   "source": [
    "import sys\n",
    "sys.path.append('../build')\n",
    "import libry as ry\n",
    "import numpy as np\n",
    "import time"
   ]
  },
  {
   "cell_type": "code",
   "execution_count": null,
   "id": "3e8ccb59",
   "metadata": {},
   "outputs": [],
   "source": [
    "C = ry.Config()\n",
    "C.addFile(\"../scenarios/pandasTable.g\")\n",
    "D = C.view()\n",
    "# V = ry.ConfigurationViewer()\n",
    "# V.setConfiguration(C)"
   ]
  },
  {
   "cell_type": "code",
   "execution_count": null,
   "id": "50cada15",
   "metadata": {},
   "outputs": [],
   "source": [
    "#no collisions so far:\n",
    "C.computeCollisions() #this calls broadphase collision detection\n",
    "C.getCollisions()     #this reports collisions (in algorithms, use features instead)"
   ]
  },
  {
   "cell_type": "code",
   "execution_count": null,
   "id": "22a339f4",
   "metadata": {},
   "outputs": [],
   "source": [
    "#bring into collision:\n",
    "q = C.getJointState()\n",
    "\n",
    "for t in range(10):\n",
    "    [y,J] = C.evalFeature(ry.FS.positionDiff, [\"R_gripperCenter\", \"L_gripperCenter\"])\n",
    "    vel = J.T @ np.linalg.inv(J@J.T + 1e-2*np.eye(y.shape[0])) @ (-y);\n",
    "\n",
    "    q = q + .8*vel\n",
    "    C.setJointState(q)"
   ]
  },
  {
   "cell_type": "code",
   "execution_count": null,
   "id": "e0d9ddf0",
   "metadata": {},
   "outputs": [],
   "source": [
    "C.computeCollisions() #this calls broadphase collision detection\n",
    "C.getCollisions(belowMargin=1.) "
   ]
  },
  {
   "cell_type": "code",
   "execution_count": null,
   "id": "476f1ae4",
   "metadata": {},
   "outputs": [],
   "source": [
    "#those are the real penetrations:\n",
    "C.getCollisions(belowMargin=0.) "
   ]
  },
  {
   "cell_type": "code",
   "execution_count": null,
   "id": "51725cb1",
   "metadata": {},
   "outputs": [],
   "source": [
    "#deactivate a collision flag!\n",
    "f = C.getFrame(\"R_gripper\")\n",
    "f.setContact(0)"
   ]
  },
  {
   "cell_type": "code",
   "execution_count": null,
   "id": "5a60a06e",
   "metadata": {},
   "outputs": [],
   "source": [
    "C.computeCollisions()\n",
    "C.getCollisions(belowMargin=0.) "
   ]
  },
  {
   "cell_type": "code",
   "execution_count": null,
   "id": "fbe6866c",
   "metadata": {},
   "outputs": [],
   "source": [
    "#Note: this is exactly the sum of the above:\n",
    "C.evalFeature(ry.FS.accumulatedCollisions, [])"
   ]
  },
  {
   "cell_type": "markdown",
   "id": "7a6c607d",
   "metadata": {},
   "source": [
    "Notes:\n",
    "* The contact flag of frames is an integer: 0 = does not contribute to contact lists, 1 = always contributes, negative = only contributes to collision pairs that are topologically distant in the kinematic tree\n",
    "* WARNING: the broad phase collision engine is created at first call - You cannot enable collisions between objects that were disabled during first call of the collision engine\n",
    "* TODO: enable recreation of a fresh collision engine for a changed configuration"
   ]
  },
  {
   "cell_type": "markdown",
   "id": "ae3d4e90",
   "metadata": {},
   "source": [
    "## Rendering configurations\n",
    "\n",
    "Camera images and depth are usually accessed via a simulation interface (BotOp). But we can compute images and depth also directly for a given configuration, without really creating a (physical) simulation. Here the basic approach: We can also add a frame, attached to the head, which has no shape associated to it, but create a view is associated with that frame\n",
    "TODO: Add nvisii support/export!"
   ]
  },
  {
   "cell_type": "code",
   "execution_count": null,
   "id": "1762bed5",
   "metadata": {},
   "outputs": [],
   "source": [
    "C.addFrame(name='camera', parent='head_tilt_link', args='Q:<d(-90 1 0 0) d(180 0 0 1)> focalLength:.3')\n",
    "V = C.cameraView()"
   ]
  },
  {
   "cell_type": "code",
   "execution_count": null,
   "id": "9c55a2ee",
   "metadata": {},
   "outputs": [],
   "source": [
    "Vimg = V.imageViewer()\n",
    "Vseg = V.segmentationViewer()\n",
    "Vpcl = V.pointCloudViewer()"
   ]
  },
  {
   "cell_type": "code",
   "execution_count": null,
   "id": "11b8948b",
   "metadata": {},
   "outputs": [],
   "source": [
    "V.addSensor('kinect', 'endeffKinect', 640, 480, 580./480., -1., [.1, 50.] )\n",
    "#V.addSensor(name='camera', frameAttached='camera', width=600, height=400)\n",
    "V.selectSensor('kinect')\n",
    "[image,depth] = V.computeImageAndDepth()\n",
    "seg = V.computeSegmentation()\n",
    "pcl = V.computePointCloud(depth)\n",
    "print('image shape:', image.shape)\n",
    "print('depth shape:', depth.shape)\n",
    "print('segmentation shape:', seg.shape)\n",
    "print('pcl shape:', pcl.shape)"
   ]
  },
  {
   "cell_type": "markdown",
   "id": "f3e7d2cb",
   "metadata": {},
   "source": [
    "When we move the robot, that view moves with it:"
   ]
  },
  {
   "cell_type": "code",
   "execution_count": null,
   "id": "6468ec12",
   "metadata": {},
   "outputs": [],
   "source": [
    "C.setJointState([0.5], ['head_pan_joint'])\n",
    "C.setJointState([1.], ['head_tilt_joint'])\n",
    "V.updateConfig(C)\n",
    "[image,depth] = V.computeImageAndDepth()\n",
    "pcl = V.computePointCloud(depth)"
   ]
  },
  {
   "cell_type": "markdown",
   "id": "859ffb81",
   "metadata": {},
   "source": [
    "To close a view (or destroy a handle to a computational module), we reassign it to zero. We can also remove a frame from the configuration."
   ]
  },
  {
   "cell_type": "code",
   "execution_count": null,
   "id": "cd0c1262",
   "metadata": {},
   "outputs": [],
   "source": [
    "Vimg = 0\n",
    "Vseg = 0\n",
    "Vpcl = 0\n",
    "V = 0\n",
    "C.delFrame('camera')"
   ]
  },
  {
   "cell_type": "code",
   "execution_count": null,
   "id": "2227bcf5",
   "metadata": {},
   "outputs": [],
   "source": [
    "C.view_close()"
   ]
  },
  {
   "cell_type": "code",
   "execution_count": null,
   "id": "920159c0",
   "metadata": {},
   "outputs": [],
   "source": []
  },
  {
   "cell_type": "markdown",
   "id": "67072a61",
   "metadata": {},
   "source": [
    "## Advanced: YAML and dict representations"
   ]
  },
  {
   "cell_type": "code",
   "execution_count": null,
   "id": "6fa89f59",
   "metadata": {},
   "outputs": [],
   "source": [
    "import yaml\n",
    "\n",
    "with open(ry.raiPath('panda/panda_clean.g'), 'r', encoding='utf-8') as fil:\n",
    "    model = yaml.safe_load(fil)\n",
    "\n",
    "print(model)"
   ]
  },
  {
   "cell_type": "code",
   "execution_count": null,
   "id": "1add3739",
   "metadata": {},
   "outputs": [],
   "source": [
    "del C"
   ]
  },
  {
   "cell_type": "code",
   "execution_count": null,
   "id": "938a2461",
   "metadata": {},
   "outputs": [],
   "source": []
  }
 ],
 "metadata": {
  "kernelspec": {
   "display_name": "Python 3 (ipykernel)",
   "language": "python",
   "name": "python3"
  },
  "language_info": {
   "codemirror_mode": {
    "name": "ipython",
    "version": 3
   },
   "file_extension": ".py",
   "mimetype": "text/x-python",
   "name": "python",
   "nbconvert_exporter": "python",
   "pygments_lexer": "ipython3",
   "version": "3.8.10"
  }
 },
 "nbformat": 4,
 "nbformat_minor": 5
}
