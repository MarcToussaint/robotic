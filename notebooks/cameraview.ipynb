{
 "cells": [
  {
   "cell_type": "markdown",
   "id": "a7fa063a",
   "metadata": {},
   "source": [
    "# CameraView and Rendering [todo]"
   ]
  },
  {
   "cell_type": "markdown",
   "id": "ae3d4e90",
   "metadata": {},
   "source": [
    "## Rendering configurations\n",
    "\n",
    "Camera images and depth are usually accessed via a simulation interface (BotOp). But we can compute images and depth also directly for a given configuration, without really creating a (physical) simulation. Here the basic approach: We can also add a frame, attached to the head, which has no shape associated to it, but create a view is associated with that frame\n",
    "TODO: Add nvisii support/export!"
   ]
  },
  {
   "cell_type": "code",
   "execution_count": null,
   "id": "1762bed5",
   "metadata": {},
   "outputs": [],
   "source": [
    "C.addFrame(name='camera', parent='head_tilt_link', args='Q:<d(-90 1 0 0) d(180 0 0 1)> focalLength:.3')\n",
    "V = C.cameraView()"
   ]
  },
  {
   "cell_type": "code",
   "execution_count": null,
   "id": "9c55a2ee",
   "metadata": {},
   "outputs": [],
   "source": [
    "Vimg = V.imageViewer()\n",
    "Vseg = V.segmentationViewer()\n",
    "Vpcl = V.pointCloudViewer()"
   ]
  },
  {
   "cell_type": "code",
   "execution_count": null,
   "id": "11b8948b",
   "metadata": {},
   "outputs": [],
   "source": [
    "V.addSensor('kinect', 'endeffKinect', 640, 480, 580./480., -1., [.1, 50.] )\n",
    "#V.addSensor(name='camera', frameAttached='camera', width=600, height=400)\n",
    "V.selectSensor('kinect')\n",
    "[image,depth] = V.computeImageAndDepth()\n",
    "seg = V.computeSegmentation()\n",
    "pcl = V.computePointCloud(depth)\n",
    "print('image shape:', image.shape)\n",
    "print('depth shape:', depth.shape)\n",
    "print('segmentation shape:', seg.shape)\n",
    "print('pcl shape:', pcl.shape)"
   ]
  },
  {
   "cell_type": "markdown",
   "id": "f3e7d2cb",
   "metadata": {},
   "source": [
    "When we move the robot, that view moves with it:"
   ]
  },
  {
   "cell_type": "code",
   "execution_count": null,
   "id": "6468ec12",
   "metadata": {},
   "outputs": [],
   "source": [
    "C.setJointState([0.5], ['head_pan_joint'])\n",
    "C.setJointState([1.], ['head_tilt_joint'])\n",
    "V.updateConfig(C)\n",
    "[image,depth] = V.computeImageAndDepth()\n",
    "pcl = V.computePointCloud(depth)"
   ]
  },
  {
   "cell_type": "markdown",
   "id": "859ffb81",
   "metadata": {},
   "source": [
    "To close a view (or destroy a handle to a computational module), we reassign it to zero. We can also remove a frame from the configuration."
   ]
  },
  {
   "cell_type": "code",
   "execution_count": null,
   "id": "cd0c1262",
   "metadata": {},
   "outputs": [],
   "source": [
    "Vimg = 0\n",
    "Vseg = 0\n",
    "Vpcl = 0\n",
    "V = 0\n",
    "C.delFrame('camera')"
   ]
  },
  {
   "cell_type": "code",
   "execution_count": null,
   "id": "2227bcf5",
   "metadata": {},
   "outputs": [],
   "source": [
    "C.view_close()"
   ]
  },
  {
   "cell_type": "code",
   "execution_count": null,
   "id": "920159c0",
   "metadata": {},
   "outputs": [],
   "source": []
  },
  {
   "cell_type": "code",
   "execution_count": null,
   "id": "26a50413",
   "metadata": {},
   "outputs": [],
   "source": []
  }
 ],
 "metadata": {
  "kernelspec": {
   "display_name": "Python 3 (ipykernel)",
   "language": "python",
   "name": "python3"
  },
  "language_info": {
   "codemirror_mode": {
    "name": "ipython",
    "version": 3
   },
   "file_extension": ".py",
   "mimetype": "text/x-python",
   "name": "python",
   "nbconvert_exporter": "python",
   "pygments_lexer": "ipython3",
   "version": "3.8.10"
  }
 },
 "nbformat": 4,
 "nbformat_minor": 5
}
