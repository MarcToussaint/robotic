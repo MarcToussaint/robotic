{
 "cells": [
  {
   "cell_type": "code",
   "execution_count": null,
   "metadata": {},
   "outputs": [],
   "source": [
    "import sys\n",
    "sys.path.append('../build')\n",
    "import numpy as np\n",
    "import libry as ry\n",
    "from time import sleep"
   ]
  },
  {
   "cell_type": "code",
   "execution_count": null,
   "metadata": {},
   "outputs": [],
   "source": [
    "C = ry.Config()\n",
    "D = C.view()"
   ]
  },
  {
   "cell_type": "code",
   "execution_count": null,
   "metadata": {},
   "outputs": [],
   "source": [
    "C.addFrame('world')\n",
    "block = C.addObject(name='block', shape=ry.ST.ssBox, size=[.2,.3,.5,.02], pos=[.0,.0,.5], color=[1,0,0])\n",
    "block.setMass(1.);\n",
    "C.addObject('finger', shape=ry.ST.ssBox, size=[.3, .1, .1, .02], color=[1.,1.,1.,.3], parent='world', pos=[1., 0., .45])"
   ]
  },
  {
   "cell_type": "code",
   "execution_count": null,
   "metadata": {},
   "outputs": [],
   "source": [
    "# this fails, if the lib was not compiled with bullet (comment #BULLET=0 in config.mk)\n",
    "#P=C.physx()\n",
    "P=C.bullet()"
   ]
  },
  {
   "cell_type": "code",
   "execution_count": null,
   "metadata": {},
   "outputs": [],
   "source": [
    "x = C.getFrameState('finger')\n",
    "for i in range(1,100):\n",
    "    x[0] -= .01\n",
    "    C.setFrameState(x, ['finger'])\n",
    "    P.step(C)\n",
    "    sleep(0.01)"
   ]
  },
  {
   "cell_type": "code",
   "execution_count": null,
   "metadata": {},
   "outputs": [],
   "source": [
    "V = P.getState(C)\n",
    "X = C.getFrameState()"
   ]
  },
  {
   "cell_type": "code",
   "execution_count": null,
   "metadata": {},
   "outputs": [],
   "source": [
    "#run this cell multiple times! It resets bullet always to the same state\n",
    "C.setFrameState(X)\n",
    "x = C.getFrameState('finger')\n",
    "P.setState(C,V)\n",
    "for i in range(1,100):\n",
    "    x[0] -= .01\n",
    "    C.setFrameState(x, ['finger'])\n",
    "    P.step(C)\n",
    "    sleep(0.01)"
   ]
  },
  {
   "cell_type": "code",
   "execution_count": null,
   "metadata": {},
   "outputs": [],
   "source": [
    "P=0\n",
    "D=0\n",
    "C=0"
   ]
  },
  {
   "cell_type": "code",
   "execution_count": null,
   "metadata": {},
   "outputs": [],
   "source": []
  }
 ],
 "metadata": {
  "kernelspec": {
   "display_name": "Python 3",
   "language": "python",
   "name": "python3"
  },
  "language_info": {
   "codemirror_mode": {
    "name": "ipython",
    "version": 3
   },
   "file_extension": ".py",
   "mimetype": "text/x-python",
   "name": "python",
   "nbconvert_exporter": "python",
   "pygments_lexer": "ipython3",
   "version": "3.7.5"
  }
 },
 "nbformat": 4,
 "nbformat_minor": 2
}
