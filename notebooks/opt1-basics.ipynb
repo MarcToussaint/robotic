{
 "cells": [
  {
   "cell_type": "markdown",
   "metadata": {},
   "source": [
    "# Optimization (NLP formulation and solving)\n",
    "\n",
    "This is completely independent from all robotics code. Provides a generic interface to NLP formulation and calling various solvers."
   ]
  },
  {
   "cell_type": "code",
   "execution_count": null,
   "metadata": {},
   "outputs": [],
   "source": [
    "import sys\n",
    "sys.path += ['../../lib', '../../build', '../../../build']\n",
    "import numpy as np\n",
    "from robotic import ry"
   ]
  },
  {
   "cell_type": "markdown",
   "metadata": {},
   "source": [
    "Define a function to compute differentiable features"
   ]
  },
  {
   "cell_type": "code",
   "execution_count": null,
   "metadata": {},
   "outputs": [],
   "source": [
    "#the function needs to have the signature (array) -> (array, array) with dimensionalities (n) -> (d, d-times-n)\n",
    "def sqrPot(x):\n",
    "    y = np.array(x)\n",
    "    y[0] = y[0] - 1.\n",
    "    J = np.eye(y.size)\n",
    "    return y,J"
   ]
  },
  {
   "cell_type": "markdown",
   "metadata": {},
   "source": [
    "Define a NLP (non-linear mathematical program)"
   ]
  },
  {
   "cell_type": "code",
   "execution_count": null,
   "metadata": {},
   "outputs": [],
   "source": [
    "nlp = ry.NLP_Factory()\n",
    "nlp.setDimension(3)\n",
    "nlp.setBounds([-2,-2,-2],[2,2,2])\n",
    "nlp.setFeatureTypes([ry.OT.sos, ry.OT.sos, ry.OT.sos])\n",
    "nlp.setEvalCallback(sqrPot)"
   ]
  },
  {
   "cell_type": "markdown",
   "metadata": {},
   "source": [
    "Define a solver"
   ]
  },
  {
   "cell_type": "code",
   "execution_count": null,
   "metadata": {},
   "outputs": [],
   "source": [
    "solver = ry.NLP_Solver()\n",
    "solver.setProblem(nlp)\n",
    "solver.setSolver(ry.NLP_SolverID.newton)"
   ]
  },
  {
   "cell_type": "code",
   "execution_count": null,
   "metadata": {},
   "outputs": [],
   "source": [
    "solver.solve(True)"
   ]
  },
  {
   "cell_type": "code",
   "execution_count": null,
   "metadata": {},
   "outputs": [],
   "source": [
    "solver.getLog_x()"
   ]
  },
  {
   "cell_type": "code",
   "execution_count": null,
   "metadata": {},
   "outputs": [],
   "source": [
    "solver.getLog_costs()"
   ]
  },
  {
   "cell_type": "code",
   "execution_count": null,
   "metadata": {},
   "outputs": [],
   "source": []
  }
 ],
 "metadata": {
  "kernelspec": {
   "display_name": "Python 3 (ipykernel)",
   "language": "python",
   "name": "python3"
  },
  "language_info": {
   "codemirror_mode": {
    "name": "ipython",
    "version": 3
   },
   "file_extension": ".py",
   "mimetype": "text/x-python",
   "name": "python",
   "nbconvert_exporter": "python",
   "pygments_lexer": "ipython3",
   "version": "3.8.10"
  }
 },
 "nbformat": 4,
 "nbformat_minor": 4
}
