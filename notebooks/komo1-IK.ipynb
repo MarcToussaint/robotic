{
 "cells": [
  {
   "cell_type": "markdown",
   "id": "dffc232a",
   "metadata": {},
   "source": [
    "# Inverse Kinematics as Optimization\n",
    "* Illustrates how IK problems are formulated as non-linear mathematical program (NLP)\n",
    "* The 'KOMO' class is used to define the NLP, the 'addObjective' is the central method to add costs or constraints to the NLP.\n",
    "* Costs and constraints can be formulated over any feature (same features that can be evaluated with 'C.eval')"
   ]
  },
  {
   "cell_type": "code",
   "execution_count": null,
   "id": "8e07bf36",
   "metadata": {},
   "outputs": [],
   "source": [
    "from robotic import ry"
   ]
  },
  {
   "cell_type": "code",
   "execution_count": null,
   "id": "059a8ee7",
   "metadata": {},
   "outputs": [],
   "source": [
    "C = ry.Config()\n",
    "C.addFile(ry.raiPath('../rai-robotModels/scenarios/pandaSingle.g'))\n",
    "C.view()"
   ]
  },
  {
   "cell_type": "code",
   "execution_count": null,
   "id": "582b68ba",
   "metadata": {},
   "outputs": [],
   "source": [
    "C.addFrame('box','table') \\\n",
    "    .setRelativePosition([-.25,.1,.1]) \\\n",
    "    .setShape(ry.ST.ssBox, size=[.1,.1,.1,.02]) \\\n",
    "    .setColor([1,.5,0])\n",
    "C.view()"
   ]
  },
  {
   "cell_type": "markdown",
   "id": "ac059dc2",
   "metadata": {},
   "source": [
    "TODO: explain the setConfid. setTiming only roughly - more details next tutorial.\n",
    "insert pointer to script!\n",
    "explain more"
   ]
  },
  {
   "cell_type": "code",
   "execution_count": null,
   "id": "bccb7b55",
   "metadata": {},
   "outputs": [],
   "source": [
    "komo = ry.KOMO()\n",
    "komo.setConfig(C, True)\n",
    "komo.setTiming(1., 1, 5., 0)\n",
    "komo.addControlObjective([], 0, 1e-0)\n",
    "komo.addObjective([], ry.FS.accumulatedCollisions, [], ry.OT.eq);\n",
    "komo.addObjective([], ry.FS.jointLimits, [], ry.OT.ineq);\n",
    "komo.addObjective([], ry.FS.positionDiff, ['l_gripper', 'box'], ry.OT.eq, [1e1]);"
   ]
  },
  {
   "cell_type": "code",
   "execution_count": null,
   "id": "178e3d42",
   "metadata": {},
   "outputs": [],
   "source": [
    "ret = ry.NLP_Solver() \\\n",
    "    .setProblem(komo.nlp()) \\\n",
    "    .setOptions( stopTolerance=1e-2, verbose=4 ) \\\n",
    "    .solve()\n",
    "print(ret)"
   ]
  },
  {
   "cell_type": "code",
   "execution_count": null,
   "id": "b727e37c",
   "metadata": {},
   "outputs": [],
   "source": [
    "komo.view(False, \"IK solution\")"
   ]
  },
  {
   "cell_type": "code",
   "execution_count": null,
   "id": "5adc15f8",
   "metadata": {},
   "outputs": [],
   "source": [
    "q = komo.getPath()\n",
    "print(type(q), len(q))"
   ]
  },
  {
   "cell_type": "code",
   "execution_count": null,
   "id": "b20fc581",
   "metadata": {},
   "outputs": [],
   "source": [
    "C.setJointState(q[0])\n",
    "C.view()"
   ]
  },
  {
   "cell_type": "code",
   "execution_count": null,
   "id": "4646820d",
   "metadata": {},
   "outputs": [],
   "source": [
    "del komo\n",
    "del C"
   ]
  },
  {
   "cell_type": "markdown",
   "id": "57ccf739",
   "metadata": {},
   "source": [
    "## box grasping design"
   ]
  },
  {
   "cell_type": "code",
   "execution_count": null,
   "id": "b659c314",
   "metadata": {},
   "outputs": [],
   "source": [
    "from robotic import ry"
   ]
  },
  {
   "cell_type": "code",
   "execution_count": null,
   "id": "9d46fbf9",
   "metadata": {},
   "outputs": [],
   "source": [
    "C = ry.Config()\n",
    "C.addFile(ry.raiPath('../rai-robotModels/scenarios/pandaSingle.g'))\n",
    "C.view()"
   ]
  },
  {
   "cell_type": "code",
   "execution_count": null,
   "id": "9a33128b",
   "metadata": {},
   "outputs": [],
   "source": [
    "stick = C.addFrame('box','table') \\\n",
    "    .setShape(ry.ST.capsule, size=[1.,.03]) \\\n",
    "    .setColor([1,.5,0])\n",
    "C.view()"
   ]
  },
  {
   "cell_type": "code",
   "execution_count": null,
   "id": "ad7d7ef1",
   "metadata": {},
   "outputs": [],
   "source": [
    "#change pose here and re-optimize\n",
    "stick.setRelativePose('t(-.4 .2 1.3) d(-40 0 1 0)')\n",
    "C.view()"
   ]
  },
  {
   "cell_type": "code",
   "execution_count": null,
   "id": "bdbbbe7b",
   "metadata": {},
   "outputs": [],
   "source": [
    "komo = ry.KOMO()\n",
    "komo.setConfig(C, True)\n",
    "komo.setTiming(1., 1, 5., 0)\n",
    "komo.addControlObjective([], 0, 1e-0)\n",
    "komo.addObjective([], ry.FS.accumulatedCollisions, [], ry.OT.eq);\n",
    "komo.addObjective([], ry.FS.jointLimits, [], ry.OT.ineq);\n",
    "komo.addObjective([], ry.FS.positionRel, ['l_gripper', 'box'], ry.OT.eq, [[1e1, 0, 0],[0, 1e1, 0]]);\n",
    "komo.addObjective([], ry.FS.positionRel, ['l_gripper', 'box'], ry.OT.ineq, [[0, 0, -1e1]], [0,0,-.5]);\n",
    "komo.addObjective([], ry.FS.positionRel, ['l_gripper', 'box'], ry.OT.ineq, [[0, 0, 1e1]], [0,0,.5]);\n",
    "komo.addObjective([], ry.FS.scalarProductXZ, ['l_gripper', 'box'], ry.OT.eq, [1e1], [0]);\n",
    "komo.addObjective([], ry.FS.distance, ['l_palm', 'box'], ry.OT.ineq, [1e1]);"
   ]
  },
  {
   "cell_type": "code",
   "execution_count": null,
   "id": "dab4fbee",
   "metadata": {},
   "outputs": [],
   "source": [
    "ret = ry.NLP_Solver() \\\n",
    "    .setProblem(komo.nlp()) \\\n",
    "    .setOptions( stopTolerance=1e-2, verbose=4 ) \\\n",
    "    .solve()\n",
    "print(ret)"
   ]
  },
  {
   "cell_type": "code",
   "execution_count": null,
   "id": "f1970bb1",
   "metadata": {},
   "outputs": [],
   "source": [
    "#komo.view(False, \"IK solution\")\n",
    "q = komo.getPath()\n",
    "C.setJointState(q[0])\n",
    "C.view(False, \"IK solution\")"
   ]
  },
  {
   "cell_type": "code",
   "execution_count": null,
   "id": "cda905f5",
   "metadata": {},
   "outputs": [],
   "source": [
    "del komo\n",
    "del C"
   ]
  },
  {
   "cell_type": "code",
   "execution_count": null,
   "id": "6b22268a",
   "metadata": {},
   "outputs": [],
   "source": []
  }
 ],
 "metadata": {
  "kernelspec": {
   "display_name": "Python 3 (ipykernel)",
   "language": "python",
   "name": "python3"
  },
  "language_info": {
   "codemirror_mode": {
    "name": "ipython",
    "version": 3
   },
   "file_extension": ".py",
   "mimetype": "text/x-python",
   "name": "python",
   "nbconvert_exporter": "python",
   "pygments_lexer": "ipython3",
   "version": "3.8.10"
  }
 },
 "nbformat": 4,
 "nbformat_minor": 5
}
