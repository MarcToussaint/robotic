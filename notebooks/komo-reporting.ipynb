{
 "cells": [
  {
   "cell_type": "markdown",
   "id": "e519d99b",
   "metadata": {},
   "source": [
    "# KOMO: Reporting & Explaining Convergence\n",
    "\n",
    "When designing motion problems using KOMO, it is really important to check feasibility and -- if the point of convergence is infeasible or different to what you expected -- know how to introspect the result. The key here is get information about which constraints were actually active, what their constraint violation is, and \"how much each constraint is pulling\" at the point of convergence. I recently figured a way to quantify the latter (inspecting the gradients the constraints contribute to the underlying Lagrangian), which really \"explains\" the point of convergence as good as it gets.\n",
    "\n",
    "You should have done the [first KOMO tutorial](1c-komo.ipynb) first."
   ]
  },
  {
   "cell_type": "markdown",
   "id": "14de1955",
   "metadata": {},
   "source": [
    "## Problem specs reporting\n",
    "\n",
    "Let's first define a simple feasible KOMO problem (same as in the 1st tutorial), solve it, and get info on convergence:"
   ]
  },
  {
   "cell_type": "code",
   "execution_count": 1,
   "id": "8e07bf36",
   "metadata": {},
   "outputs": [],
   "source": [
    "from robotic import ry\n",
    "import numpy as np\n",
    "import time"
   ]
  },
  {
   "cell_type": "code",
   "execution_count": 2,
   "id": "059a8ee7",
   "metadata": {},
   "outputs": [
    {
     "data": {
      "text/plain": [
       "0"
      ]
     },
     "execution_count": 2,
     "metadata": {},
     "output_type": "execute_result"
    }
   ],
   "source": [
    "C = ry.Config()\n",
    "C.addFile(ry.raiPath('scenarios/pandaSingle.g'))\n",
    "C.addFrame('box') \\\n",
    "    .setPosition([-.25,.1,1.]) \\\n",
    "    .setShape(ry.ST.ssBox, size=[.06,.06,.06,.005]) \\\n",
    "    .setColor([1,.5,0]) \\\n",
    "    .setContact(True)\n",
    "C.view()"
   ]
  },
  {
   "cell_type": "code",
   "execution_count": 3,
   "id": "bccb7b55",
   "metadata": {},
   "outputs": [],
   "source": [
    "komo = ry.KOMO(C, 1, 1, 0, False) # minimalisitc IK problem: just 1 slice\n",
    "komo.addControlObjective([], 0, 1e-1) # basic homing (0th order) objective on joint angles q\n",
    "komo.addObjective([], ry.FS.positionDiff, ['l_gripper', 'box'], ry.OT.eq, [1e1]);"
   ]
  },
  {
   "cell_type": "markdown",
   "id": "69427e67",
   "metadata": {},
   "source": [
    "Even before we run optimization, we can a report containing the komo specs and list of all objectives."
   ]
  },
  {
   "cell_type": "code",
   "execution_count": 4,
   "id": "97fb23dd",
   "metadata": {},
   "outputs": [
    {
     "data": {
      "text/plain": [
       "{'KOMO_specs': {'x_dim': 7,\n",
       "  'dual_dim': 0,\n",
       "  'T': 1,\n",
       "  'k': 0,\n",
       "  'phases': 1.0,\n",
       "  'slicesPerPhase': 1,\n",
       "  'enableCollisions': False,\n",
       "  'tau': 1.0,\n",
       "  '#slices': 1,\n",
       "  '#totalDOF': 7,\n",
       "  '#frames': 65,\n",
       "  '#pathQueries:': 0},\n",
       " 'objectives': {'_F_qItself/0-#14': {'order': 0.0,\n",
       "   'type': 'sos',\n",
       "   'scale': [0.1, 0.1, 0.1, 0.1, 0.1, 0.1, 0.1],\n",
       "   'times': [],\n",
       "   'slices': [0.0, 0.0]},\n",
       "  '__F_PositionDiff/0-l_gripper-box': {'order': 0.0,\n",
       "   'type': 'eq',\n",
       "   'scale': [10.0],\n",
       "   'times': [],\n",
       "   'slices': [0.0, 0.0]}}}"
      ]
     },
     "execution_count": 4,
     "metadata": {},
     "output_type": "execute_result"
    }
   ],
   "source": [
    "komo.report(False)"
   ]
  },
  {
   "cell_type": "markdown",
   "id": "0bdb195d",
   "metadata": {},
   "source": [
    "## Constraints error reporting\n",
    "\n",
    "After optimization, the report will contain errors (i.e. constraint violations, or sqr costs) for all objects. In the current case, all constraint violations are very small:"
   ]
  },
  {
   "cell_type": "code",
   "execution_count": 5,
   "id": "178e3d42",
   "metadata": {},
   "outputs": [
    {
     "name": "stdout",
     "output_type": "stream",
     "text": [
      "{ time: 0.000383, evals: 6, done: 1, feasible: 1, sos: 0.00414146, f: 0, ineq: 0, eq: 0.00188382 }\n"
     ]
    }
   ],
   "source": [
    "ret = ry.NLP_Solver(komo.nlp(), verbose=0 ) .solve()\n",
    "q = komo.getPath()\n",
    "C.setJointState(q[0])\n",
    "C.view()\n",
    "print(ret)"
   ]
  },
  {
   "cell_type": "code",
   "execution_count": 6,
   "id": "d5842764",
   "metadata": {},
   "outputs": [
    {
     "data": {
      "text/plain": [
       "{'_F_qItself/0-#14': {'order': 0.0,\n",
       "  'type': 'sos',\n",
       "  'scale': [0.1, 0.1, 0.1, 0.1, 0.1, 0.1, 0.1],\n",
       "  'err': 0.004141463188074276,\n",
       "  'times': [],\n",
       "  'slices': [0.0, 0.0]},\n",
       " '__F_PositionDiff/0-l_gripper-box': {'order': 0.0,\n",
       "  'type': 'eq',\n",
       "  'scale': [10.0],\n",
       "  'err': 0.0018838214351309113,\n",
       "  'times': [],\n",
       "  'slices': [0.0, 0.0]}}"
      ]
     },
     "execution_count": 6,
     "metadata": {},
     "output_type": "execute_result"
    }
   ],
   "source": [
    "komo.report(False)['objectives']"
   ]
  },
  {
   "cell_type": "markdown",
   "id": "96fe745f",
   "metadata": {},
   "source": [
    "Let's make the problem infeasible by moving the target out of reach and repeating optimization:"
   ]
  },
  {
   "cell_type": "code",
   "execution_count": 7,
   "id": "b727e37c",
   "metadata": {},
   "outputs": [
    {
     "data": {
      "text/plain": [
       "0"
      ]
     },
     "execution_count": 7,
     "metadata": {},
     "output_type": "execute_result"
    }
   ],
   "source": [
    "C.getFrame('box') .setPosition([.8, .8, 1.])\n",
    "C.view()"
   ]
  },
  {
   "cell_type": "code",
   "execution_count": 8,
   "id": "5adc15f8",
   "metadata": {},
   "outputs": [
    {
     "name": "stdout",
     "output_type": "stream",
     "text": [
      "{ time: 0.00459, evals: 120, done: 1, feasible: 0, sos: 0.0702195, f: 0, ineq: 0, eq: 4.60313 }\n"
     ]
    }
   ],
   "source": [
    "komo.updateRootObjects(C)\n",
    "solver = ry.NLP_Solver(komo.nlp(), verbose=0 )\n",
    "ret = solver.solve()\n",
    "q = komo.getPath()\n",
    "C.setJointState(q[0])\n",
    "C.view()\n",
    "print(ret)"
   ]
  },
  {
   "cell_type": "code",
   "execution_count": 9,
   "id": "b20fc581",
   "metadata": {},
   "outputs": [
    {
     "data": {
      "text/plain": [
       "{'_F_qItself/0-#14': {'order': 0.0,\n",
       "  'type': 'sos',\n",
       "  'scale': [0.1, 0.1, 0.1, 0.1, 0.1, 0.1, 0.1],\n",
       "  'err': 0.07021953478317369,\n",
       "  'times': [],\n",
       "  'slices': [0.0, 0.0]},\n",
       " '__F_PositionDiff/0-l_gripper-box': {'order': 0.0,\n",
       "  'type': 'eq',\n",
       "  'scale': [10.0],\n",
       "  'err': 4.603126581420996,\n",
       "  'times': [],\n",
       "  'slices': [0.0, 0.0]}}"
      ]
     },
     "execution_count": 9,
     "metadata": {},
     "output_type": "execute_result"
    }
   ],
   "source": [
    "komo.report(False)['objectives']"
   ]
  },
  {
   "cell_type": "markdown",
   "id": "46bf2e2b",
   "metadata": {},
   "source": [
    "We clearly see that the `positionDiff` eq-objective is violated (`err` includes the `scale` as factor, so err=4.6 means 0.46 meters error)."
   ]
  },
  {
   "cell_type": "markdown",
   "id": "a371b003",
   "metadata": {},
   "source": [
    "## Lagrange gradients reporting\n",
    "\n",
    "Seeing only objective errors sometimes does not really explain what is the issues. So instead we can let the solver report what the lagrange gradients w.r.t. each feature are:"
   ]
  },
  {
   "cell_type": "code",
   "execution_count": 10,
   "id": "ee59d5f3",
   "metadata": {},
   "outputs": [
    {
     "data": {
      "text/plain": [
       "{'__F_PositionDiff/0-l_gripper-box': {'err': 4.603126581420996,\n",
       "  'grad': 1996.3797729703783,\n",
       "  'type': 'eq'},\n",
       " '_F_qItself/0-#14': {'err': 0.07021953478317369,\n",
       "  'grad': 0.10441937164903314,\n",
       "  'type': 'sos'}}"
      ]
     },
     "execution_count": 10,
     "metadata": {},
     "output_type": "execute_result"
    }
   ],
   "source": [
    "solver.reportLagrangeGradients(komo.getFeatureNames())"
   ]
  },
  {
   "cell_type": "markdown",
   "id": "51c2bca7",
   "metadata": {},
   "source": [
    "Note that this list is always sorted, starting with largest gradients first. For complex problems, this report can be rather insightful. Sometimes one explicitly sees which objectives *fight* against each other in the Lagrangian by both having similar large gradient sizes (typically with opposing directions, which the report does not show; also a matrix with \"angles between gradients\" can be computed)."
   ]
  },
  {
   "cell_type": "markdown",
   "id": "5d67e74c",
   "metadata": {},
   "source": [
    "## Plotting constraint errors over time for paths\n",
    "\n",
    "The above only considers a simple IK problem. Let's look at a path problem (we take the same 4-waypoint problem from the 1st tutorial):"
   ]
  },
  {
   "cell_type": "code",
   "execution_count": 37,
   "id": "a6da9bda",
   "metadata": {},
   "outputs": [
    {
     "data": {
      "text/plain": [
       "0"
      ]
     },
     "execution_count": 37,
     "metadata": {},
     "output_type": "execute_result"
    }
   ],
   "source": [
    "C = ry.Config()\n",
    "C.addFile(ry.raiPath('scenarios/pandaSingle.g'))\n",
    "C.addFrame('way1'). setShape(ry.ST.marker, [.1]) .setPosition([.4, .2, 1.])\n",
    "C.addFrame('way2'). setShape(ry.ST.marker, [.1]) .setPosition([.4, .2, 1.4])\n",
    "C.addFrame('way3'). setShape(ry.ST.marker, [.1]) .setPosition([-.4, .2, 1.])\n",
    "C.addFrame('way4'). setShape(ry.ST.marker, [.1]) .setPosition([-.4, .2, 1.4])\n",
    "q0 = C.getJointState()\n",
    "C.view()"
   ]
  },
  {
   "cell_type": "code",
   "execution_count": 41,
   "id": "40341e34",
   "metadata": {},
   "outputs": [
    {
     "name": "stdout",
     "output_type": "stream",
     "text": [
      "{ time: 0.030868, evals: 25, done: 1, feasible: 1, sos: 16.5172, f: 0, ineq: 0, eq: 0.000774803 }\n"
     ]
    }
   ],
   "source": [
    "C.setJointState(q0)\n",
    "komo = ry.KOMO(C, 4, 10, 2, False)\n",
    "komo.addControlObjective([], 0, 1e-1)\n",
    "komo.addControlObjective([], 2, 1e0)\n",
    "komo.addObjective([1], ry.FS.positionDiff, ['l_gripper', 'way1'], ry.OT.eq, [1e1])\n",
    "komo.addObjective([2], ry.FS.positionDiff, ['l_gripper', 'way2'], ry.OT.eq, [1e1])\n",
    "komo.addObjective([3], ry.FS.positionDiff, ['l_gripper', 'way3'], ry.OT.eq, [1e1])\n",
    "komo.addObjective([4], ry.FS.positionDiff, ['l_gripper', 'way4'], ry.OT.eq, [1e1])\n",
    "komo.addObjective([4], ry.FS.jointState, [], ry.OT.eq, [1e1], [], order=1)\n",
    "\n",
    "solver = ry.NLP_Solver(komo.nlp(), verbose=0 )\n",
    "ret = solver.solve()\n",
    "print(ret)\n",
    "q = komo.getPath()\n",
    "\n",
    "for t in range(q.shape[0]):\n",
    "    C.setJointState(q[t])\n",
    "    C.view(False, f'waypoint {t}')\n",
    "    time.sleep(.1)"
   ]
  },
  {
   "cell_type": "markdown",
   "id": "2edd1e16",
   "metadata": {},
   "source": [
    "Using `plotOverTime` in the report method now plots the constraint violations (or sqr costs) over *phase*, using gnuplot. (You need to have `gnuplot` installed.)\n",
    "\n",
    "Here, the only interesting (non-zero) signal is from the 2nd-order control costs, which are the acceleration costs. This is a typical acceperation cost profile for optimal paths between waypoints."
   ]
  },
  {
   "cell_type": "code",
   "execution_count": 42,
   "id": "3f9776fe",
   "metadata": {},
   "outputs": [],
   "source": [
    "R = komo.report(plotOverTime=True)"
   ]
  },
  {
   "cell_type": "markdown",
   "id": "4b96a7c9",
   "metadata": {},
   "source": [
    "Finally, the largrange gradients show that the control costs and the final velocity constraints contribute a lot, but each waypoint also contributes a significant gradient that explains the point of convergence. (If you'd increase control cost scaling, the waypoint Lagrange parameters and their reported gradients would equally increase.)"
   ]
  },
  {
   "cell_type": "code",
   "execution_count": 43,
   "id": "c6b64321",
   "metadata": {},
   "outputs": [
    {
     "data": {
      "text/plain": [
       "{'_F_qItself/2-#14': {'err': 16.271121116334356,\n",
       "  'grad': 6007.955825681214,\n",
       "  'type': 'sos'},\n",
       " '_F_qItself/1-#14': {'err': 3.3030160848102064e-05,\n",
       "  'grad': 215.45148937551147,\n",
       "  'type': 'eq'},\n",
       " '__F_PositionDiff/0-l_gripper-way3': {'err': 0.00010143823277963815,\n",
       "  'grad': 38.290278666650735,\n",
       "  'type': 'eq'},\n",
       " '__F_PositionDiff/0-l_gripper-way1': {'err': 0.00022678390968228213,\n",
       "  'grad': 36.94214120773105,\n",
       "  'type': 'eq'},\n",
       " '__F_PositionDiff/0-l_gripper-way2': {'err': 0.00016656504619849688,\n",
       "  'grad': 31.04187318969391,\n",
       "  'type': 'eq'},\n",
       " '__F_PositionDiff/0-l_gripper-way4': {'err': 0.0002469860763765208,\n",
       "  'grad': 22.003650346207117,\n",
       "  'type': 'eq'},\n",
       " '_F_qItself/0-#14': {'err': 0.2460856623621121,\n",
       "  'grad': 1.2108203887336064,\n",
       "  'type': 'sos'}}"
      ]
     },
     "execution_count": 43,
     "metadata": {},
     "output_type": "execute_result"
    }
   ],
   "source": [
    "solver.reportLagrangeGradients(komo.getFeatureNames())"
   ]
  },
  {
   "cell_type": "markdown",
   "id": "7ee8271b",
   "metadata": {},
   "source": [
    "Test the following: Change the timing of the 3rd waypoint to \"[2]\" as well, requiring the robot to be at way2 and way3 at the same time -- which clearly is infeasible. Check the solver return and lagrange gradients."
   ]
  },
  {
   "cell_type": "code",
   "execution_count": null,
   "id": "7d08b232",
   "metadata": {},
   "outputs": [],
   "source": []
  }
 ],
 "metadata": {
  "kernelspec": {
   "display_name": "Python 3 (ipykernel)",
   "language": "python",
   "name": "python3"
  },
  "language_info": {
   "codemirror_mode": {
    "name": "ipython",
    "version": 3
   },
   "file_extension": ".py",
   "mimetype": "text/x-python",
   "name": "python",
   "nbconvert_exporter": "python",
   "pygments_lexer": "ipython3",
   "version": "3.8.10"
  }
 },
 "nbformat": 4,
 "nbformat_minor": 5
}
