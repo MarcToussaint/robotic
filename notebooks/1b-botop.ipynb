{
 "cells": [
  {
   "cell_type": "markdown",
   "id": "e193f01d",
   "metadata": {},
   "source": [
    "# Robot Operation (BotOp) interface\n",
    "\n",
    "This notebook describes basics to interact with a real or simulated robot. The BotOp (=robot operation) interface is very narrow. The move methods set/overwrite a spline reference for the robot. (Also compliance around the reference can be set.) The gripper methods operate grippers. The getImage methods grab images or point clouds from the camera.\n",
    "\n",
    "This interface different to a more *generic physical simulation* interface. If you're interested in the latter (e.g. to implement a gym environment) look at the `Simulation` tutorial. The simulation used here is a real-time threaded process that mimics the specific BotOp interface -- to make it swappable with a real robot.\n",
    "\n",
    "The simulation can be run in many different modes: \n",
    "- pure kinematic (no physics for objects)\n",
    "- a physics simulator with physics for objects but still kinematic robot\n",
    "- a physic simulator with PD motors for the robot"
   ]
  },
  {
   "cell_type": "code",
   "execution_count": 1,
   "id": "31a434d3",
   "metadata": {},
   "outputs": [],
   "source": [
    "from robotic import ry\n",
    "import numpy as np\n",
    "import time"
   ]
  },
  {
   "cell_type": "markdown",
   "id": "74bb70b4",
   "metadata": {},
   "source": [
    "`ry` has global parameters, that can be defined in `rai.cfg` or with the following calls.\n",
    "The simulation behaves very differently depending on `botim/engine` [physx or kinematic] and `multibody`"
   ]
  },
  {
   "cell_type": "code",
   "execution_count": 2,
   "id": "bb4031b4",
   "metadata": {},
   "outputs": [
    {
     "name": "stdout",
     "output_type": "stream",
     "text": [
      "-- ry.cpp:operator():86(0) python,\n",
      "message: \"Hello, the local 'rai.cfg' was loaded\",\n",
      "botsim/verbose: 2,\n",
      "physx/motorKp: 10000,\n",
      "physx/motorKd: 1000,\n",
      "botsim/engine: physx,\n",
      "physx/multibody\n"
     ]
    }
   ],
   "source": [
    "ry.params_add({\n",
    "    'botsim/verbose': 2., \n",
    "    'physx/motorKp': 10000., \n",
    "    'physx/motorKd': 1000.,\n",
    "    'botsim/engine': 'physx', #makes a big difference!\n",
    "    'physx/multibody': True  #makes a big difference!\n",
    "})\n",
    "ry.params_print()"
   ]
  },
  {
   "cell_type": "code",
   "execution_count": 3,
   "id": "d1bff41b",
   "metadata": {},
   "outputs": [
    {
     "data": {
      "text/plain": [
       "0"
      ]
     },
     "execution_count": 3,
     "metadata": {},
     "output_type": "execute_result"
    }
   ],
   "source": [
    "C = ry.Config()\n",
    "C.addFile(ry.raiPath('../rai-robotModels/scenarios/pandaSingle.g'))\n",
    "C.view(False, 'this is your workspace data structure C -- NOT THE SIMULTATION')"
   ]
  },
  {
   "cell_type": "markdown",
   "id": "2333c4b1",
   "metadata": {},
   "source": [
    "We open a robot interface in simulation (`False`). `True` would directly open communication to one or two pandas (depending no how many are defined in C). The `botsim/verbose` above leads to the explicit verbosity when creating the simulator interface."
   ]
  },
  {
   "cell_type": "code",
   "execution_count": 4,
   "id": "6832eb10",
   "metadata": {},
   "outputs": [
    {
     "name": "stdout",
     "output_type": "stream",
     "text": [
      "-- kin_physx.cpp:PhysXInterface:779(0) starting PhysX engine ... (multiBody=1)\n",
      "-- kin_physx.cpp:addGround:238(0) ... done starting PhysX engine\n",
      "-- kin_physx.cpp:addGround:239(0) creating Configuration within PhysX ...\n",
      "-- kin_physx.cpp:addLink:259(0) adding link 'world' as static with 1 shapes ( table)\n",
      "-- kin_physx.cpp:addMultiBody:469(0) adding multibody with base 'l_panda_base' with the following links ...\n",
      "-- kin_physx.cpp:addMultiBody:509(0) adding multibody link 'l_panda_base' as kinematic with 1 shapes ( l_panda_link0_0) and joint rigid and mass 2.98322\n",
      "-- kin_physx.cpp:addMultiBody:509(0) adding multibody link 'l_panda_joint1' as dynamic with 1 shapes ( l_panda_link1_0) and joint hingeZ and mass 2.9646\n",
      "-- kin_physx.cpp:addMultiBody:509(0) adding multibody link 'l_panda_joint2' as dynamic with 2 shapes ( l_panda_link2_0 bellybutton) and joint hingeZ and mass 2.99271\n",
      "-- kin_physx.cpp:addMultiBody:509(0) adding multibody link 'l_panda_joint3' as dynamic with 1 shapes ( l_panda_link3_0) and joint hingeZ and mass 2.30983\n",
      "-- kin_physx.cpp:addMultiBody:509(0) adding multibody link 'l_panda_joint4' as dynamic with 1 shapes ( l_panda_link4_0) and joint hingeZ and mass 2.35624\n",
      "-- kin_physx.cpp:addMultiBody:509(0) adding multibody link 'l_panda_joint5' as dynamic with 1 shapes ( l_panda_link5_0) and joint hingeZ and mass 3.38234\n",
      "-- kin_physx.cpp:addMultiBody:509(0) adding multibody link 'l_panda_joint6' as dynamic with 1 shapes ( l_panda_link6_0) and joint hingeZ and mass 1.42754\n",
      "-- kin_physx.cpp:addMultiBody:509(0) adding multibody link 'l_panda_joint7' as dynamic with 2 shapes ( l_panda_link7_0 l_panda_hand_0) and joint hingeZ and mass 1.14786\n",
      "-- kin_physx.cpp:addMultiBody:509(0) adding multibody link 'l_panda_finger_joint1' as dynamic with 1 shapes ( l_panda_leftfinger_0) and joint transY and mass 0.0216217\n",
      "-- kin_physx.cpp:addMultiBody:509(0) adding multibody link 'l_panda_finger_joint2' as dynamic with 1 shapes ( l_panda_rightfinger_0) and joint transY and mass 0.0216217\n",
      "-- kin_physx.cpp:addMultiBody:603(0) ... done with multibody with base 'l_panda_base'\n",
      "-- kin_physx.cpp:PhysXInterface:816(0) ... done creating Configuration within PhysX\n"
     ]
    }
   ],
   "source": [
    "bot = ry.BotOp(C, False)\n",
    "#note that in sim, when physx multibody is activated, arms are going down! free floating..."
   ]
  },
  {
   "cell_type": "markdown",
   "id": "c4ad9bb7",
   "metadata": {},
   "source": [
    "We define 2 reference poses, q0=home and q1=(2nd joint bend), so that we can move back and forth between them"
   ]
  },
  {
   "cell_type": "code",
   "execution_count": 5,
   "id": "afe800f7",
   "metadata": {},
   "outputs": [
    {
     "name": "stdout",
     "output_type": "stream",
     "text": [
      "[ 0.  -0.5  0.  -2.   0.   2.  -0.5] [ 0.  -0.3  0.  -2.   0.   2.  -0.5]\n"
     ]
    }
   ],
   "source": [
    "qHome = bot.get_qHome()\n",
    "q0 = qHome.copy()\n",
    "q1 = q0.copy()\n",
    "q1[1] = q1[1] + .2\n",
    "print(q0, q1)"
   ]
  },
  {
   "cell_type": "markdown",
   "id": "86f72e9b",
   "metadata": {},
   "source": [
    "The `moveTo` is the simplest way to move the robot from current to target. It internally creates a spline to the target with optimal timing and follows it. The call is *non-blocking*. Also, your workspace config C is not kept in sync with the real/sim. If you want to wait till the motion is finished, you need to do manually checking the /time_til_end_of_reference_spline/, and meanwhile staying sync'ed."
   ]
  },
  {
   "cell_type": "code",
   "execution_count": 6,
   "id": "443856f3",
   "metadata": {},
   "outputs": [],
   "source": [
    "bot.moveTo(q1)\n",
    "\n",
    "while bot.getTimeToEnd() > 0:\n",
    "    bot.sync(C, .1)"
   ]
  },
  {
   "cell_type": "markdown",
   "id": "fa41eca8",
   "metadata": {},
   "source": [
    "The internal spline reference can be appended: As `moveTo` is non-blocking, you can append several moves like this:"
   ]
  },
  {
   "cell_type": "code",
   "execution_count": 7,
   "id": "182b64dd",
   "metadata": {},
   "outputs": [
    {
     "name": "stdout",
     "output_type": "stream",
     "text": [
      "timeToEnd: -0.03828105793500236\n",
      "timeToEnd: 1.0947189420649808\n",
      "timeToEnd: 2.1904378841299614\n"
     ]
    }
   ],
   "source": [
    "print('timeToEnd:', bot.getTimeToEnd())\n",
    "bot.moveTo(q0)\n",
    "print('timeToEnd:', bot.getTimeToEnd())\n",
    "bot.moveTo(q1)\n",
    "print('timeToEnd:', bot.getTimeToEnd())\n",
    "bot.moveTo(q0)\n",
    "\n",
    "while bot.getTimeToEnd() > 0:\n",
    "    bot.sync(C, .1)"
   ]
  },
  {
   "cell_type": "markdown",
   "id": "abc71ed9",
   "metadata": {},
   "source": [
    "Setting splines becomes reactive, when we can smoothly overwrite the spline reference with high frequency. Let's create a randomly moving target object and track it."
   ]
  },
  {
   "cell_type": "code",
   "execution_count": 8,
   "id": "c3dbe900",
   "metadata": {},
   "outputs": [],
   "source": [
    "#this reference frame only appears in your workspace C - not the simulation!\n",
    "target = C.addFrame('target', 'table')\n",
    "target.setShape(ry.ST.marker, [.1])\n",
    "target.setRelativePosition([0., .3, .3])\n",
    "pos = target.getPosition()\n",
    "cen = pos.copy()\n",
    "C.view();"
   ]
  },
  {
   "cell_type": "code",
   "execution_count": 9,
   "id": "b2a168d1",
   "metadata": {},
   "outputs": [],
   "source": [
    "# you'll learn about KOMO later - this defines a basic Inverse Kinematics method\n",
    "def IK(C):\n",
    "    q0 = C.getJointState()\n",
    "    komo = ry.KOMO(C, 1, 1, 0, False) #one phase one time slice problem, with 'delta_t=1', order=0\n",
    "    komo.addObjective([], ry.FS.jointState, [], ry.OT.sos, [1e-1], q0) #cost: close to 'current state'\n",
    "    komo.addObjective([], ry.FS.jointState, [], ry.OT.sos, [1e-1], qHome) #cost: close to qHome\n",
    "    komo.addObjective([], ry.FS.positionDiff, ['l_gripper', 'target'], ry.OT.eq, [1e1]) #constraint: gripper position\n",
    "    \n",
    "    ret = ry.NLP_Solver(komo.nlp(), verbose=0).solve()\n",
    "    \n",
    "    return [komo.getPath()[0], ret]"
   ]
  },
  {
   "cell_type": "markdown",
   "id": "76e13a25",
   "metadata": {},
   "source": [
    "The following is just 'setting' the workspace C to the IK solution - no motion send to the real/robot:"
   ]
  },
  {
   "cell_type": "code",
   "execution_count": 10,
   "id": "4998d869",
   "metadata": {},
   "outputs": [
    {
     "name": "stdout",
     "output_type": "stream",
     "text": [
      "{ time: 0.000414, evals: 6, done: 1, feasible: 1, sos: 0.00477422, f: 0, ineq: 0, eq: 0.000472832 }\n",
      "{ time: 0.000142, evals: 3, done: 1, feasible: 1, sos: 0.00215524, f: 0, ineq: 0, eq: 0.0021967 }\n",
      "{ time: 0.000242, evals: 3, done: 1, feasible: 1, sos: 0.00239651, f: 0, ineq: 0, eq: 0.0033693 }\n",
      "{ time: 0.000231, evals: 3, done: 1, feasible: 1, sos: 0.00233887, f: 0, ineq: 0, eq: 0.00398057 }\n",
      "{ time: 0.000127, evals: 2, done: 1, feasible: 1, sos: 0.00221064, f: 0, ineq: 0, eq: 0.003109 }\n",
      "{ time: 0.000147, evals: 3, done: 1, feasible: 1, sos: 0.00218941, f: 0, ineq: 0, eq: 0.00282021 }\n",
      "{ time: 0.00016, evals: 4, done: 1, feasible: 1, sos: 0.00260414, f: 0, ineq: 0, eq: 0.000325745 }\n",
      "{ time: 0.000169, evals: 4, done: 1, feasible: 1, sos: 0.0023601, f: 0, ineq: 0, eq: 0.000171624 }\n",
      "{ time: 0.001122, evals: 3, done: 1, feasible: 1, sos: 0.00223604, f: 0, ineq: 0, eq: 0.00316853 }\n",
      "{ time: 0.000188, evals: 3, done: 1, feasible: 1, sos: 0.00236707, f: 0, ineq: 0, eq: 0.00223466 }\n",
      "{ time: 0.000308, evals: 3, done: 1, feasible: 1, sos: 0.00213738, f: 0, ineq: 0, eq: 0.00293638 }\n",
      "{ time: 0.000145, evals: 3, done: 1, feasible: 1, sos: 0.00228566, f: 0, ineq: 0, eq: 0.00283492 }\n",
      "{ time: 0.000734, evals: 4, done: 1, feasible: 1, sos: 0.00344002, f: 0, ineq: 0, eq: 0.000456455 }\n",
      "{ time: 0.000165, evals: 4, done: 1, feasible: 1, sos: 0.00308581, f: 0, ineq: 0, eq: 0.000229485 }\n",
      "{ time: 0.001048, evals: 4, done: 1, feasible: 1, sos: 0.00422128, f: 0, ineq: 0, eq: 0.000386847 }\n",
      "{ time: 0.00016, evals: 4, done: 1, feasible: 1, sos: 0.00472262, f: 0, ineq: 0, eq: 0.000130172 }\n",
      "{ time: 0.000143, evals: 3, done: 1, feasible: 1, sos: 0.00434619, f: 0, ineq: 0, eq: 0.00213401 }\n",
      "{ time: 0.000134, evals: 3, done: 1, feasible: 1, sos: 0.00472945, f: 0, ineq: 0, eq: 0.00140256 }\n",
      "{ time: 0.000833, evals: 4, done: 1, feasible: 1, sos: 0.00496783, f: 0, ineq: 0, eq: 0.000379681 }\n",
      "{ time: 0.000188, evals: 3, done: 1, feasible: 1, sos: 0.00457854, f: 0, ineq: 0, eq: 0.00269037 }\n"
     ]
    }
   ],
   "source": [
    "for t in range(20):\n",
    "    time.sleep(.1)\n",
    "    pos = cen + .98 * (pos-cen) + 0.02 * np.random.randn(3)\n",
    "    target.setPosition(pos)\n",
    "    \n",
    "    q_target, ret = IK(C)  # Always follows the target\n",
    "    print(ret)\n",
    "    C.setJointState(q_target)\n",
    "    C.view()"
   ]
  },
  {
   "cell_type": "markdown",
   "id": "c0d79cae",
   "metadata": {},
   "source": [
    "We now generate reative motion by smoothly overwriting the spline reference. Increasing time cost makes it more agressive (penalized total duration of estimated cubic spline)."
   ]
  },
  {
   "cell_type": "code",
   "execution_count": 11,
   "id": "c5af1933",
   "metadata": {},
   "outputs": [],
   "source": [
    "for t in range(100):\n",
    "    bot.sync(C, .1)   # keep the workspace C sync'ed to real/sim, and idle .1 sec\n",
    "    pos = cen + .98 * (pos-cen) + 0.02 * np.random.randn(3)\n",
    "    target.setPosition(pos)\n",
    "    \n",
    "    q_target, ret = IK(C)\n",
    "    bot.moveTo(q_target, timeCost=5., overwrite=True)"
   ]
  },
  {
   "cell_type": "markdown",
   "id": "35e22aa1",
   "metadata": {},
   "source": [
    "Good practise is to always allow a user aborting motion execution. In this example, key 'q' will break the loop and call a home() (which is the same as moveTo(qHome, 1., True)"
   ]
  },
  {
   "cell_type": "code",
   "execution_count": 12,
   "id": "09468d0c",
   "metadata": {},
   "outputs": [],
   "source": [
    "for t in range(5):\n",
    "    bot.moveTo(q1)\n",
    "    bot.wait(C) #same as 'loop sync til keypressed or endOfTime', but also raises user window\n",
    "    if bot.getKeyPressed() == ord('q'):\n",
    "        break\n",
    "        \n",
    "    bot.moveTo(q0)\n",
    "    bot.wait(C)\n",
    "    if bot.getKeyPressed() == ord('q'):\n",
    "        break\n",
    "\n",
    "bot.home(C)"
   ]
  },
  {
   "cell_type": "markdown",
   "id": "3776fd7a",
   "metadata": {},
   "source": [
    "Gripper movements also do not block:"
   ]
  },
  {
   "cell_type": "code",
   "execution_count": 13,
   "id": "9b62c7c5",
   "metadata": {},
   "outputs": [
    {
     "name": "stdout",
     "output_type": "stream",
     "text": [
      "-- simulation.cpp:moveGripper:333(1) initiating opening gripper l_panda_joint7 (without releasing obj) width:0.02 speed:0.2\n",
      "-- simulation.cpp:modConfiguration:816(1) terminating opening gripper l_panda_joint7 at width 0.01998\n",
      "-- simulation.cpp:moveGripper:333(1) initiating opening gripper l_panda_joint7 (without releasing obj) width:0.075 speed:0.2\n",
      "-- simulation.cpp:modConfiguration:816(1) terminating opening gripper l_panda_joint7 at width 0.04\n"
     ]
    }
   ],
   "source": [
    "bot.gripperMove(ry._left, width=.02)\n",
    "\n",
    "while not bot.gripperDone(ry._left):\n",
    "    bot.sync(C, .1)\n",
    "\n",
    "bot.gripperMove(ry._left, width=.075)\n",
    "\n",
    "while not bot.gripperDone(ry._left):\n",
    "    bot.sync(C, .1)"
   ]
  },
  {
   "cell_type": "markdown",
   "id": "2dfbfcea",
   "metadata": {},
   "source": [
    "Always close the bot/sim properly:"
   ]
  },
  {
   "cell_type": "code",
   "execution_count": 14,
   "id": "2ea154ed",
   "metadata": {},
   "outputs": [
    {
     "name": "stdout",
     "output_type": "stream",
     "text": [
      "-- bot.cpp:~BotOp:112(0) shutting down BotOp...\n",
      "-- simulation.cpp:~BotThreadedSim:56(0) shutting down SimThread\n",
      "-- simulation.cpp:~Simulation:148(0) shutting down Simulation\n"
     ]
    }
   ],
   "source": [
    "del bot\n",
    "del C"
   ]
  },
  {
   "cell_type": "markdown",
   "id": "ac37869b",
   "metadata": {},
   "source": [
    "As a side note, we can always check which global config parameters have been queried by the code so far. That gives an idea of which global parameters exist:"
   ]
  },
  {
   "cell_type": "code",
   "execution_count": 15,
   "id": "24342be8",
   "metadata": {},
   "outputs": [
    {
     "name": "stdout",
     "output_type": "stream",
     "text": [
      "-- ry.cpp:operator():86(0) python,\n",
      "message: \"Hello, the local 'rai.cfg' was loaded\",\n",
      "botsim/verbose: 2,\n",
      "physx/motorKp: 10000,\n",
      "physx/motorKd: 1000,\n",
      "botsim/engine: physx,\n",
      "physx/multibody,\n",
      "bot/useGripper,\n",
      "bot/useRobotiq!,\n",
      "bot/useArm: left,\n",
      "botsim/hyperSpeed: 1,\n",
      "physx/verbose: 1,\n",
      "physx/yGravity!,\n",
      "physx/softBody!,\n",
      "physx/multiBody,\n",
      "physx/multiBodyDisableGravity,\n",
      "physx/jointedBodies!,\n",
      "physx/angularDamping: 0.1,\n",
      "physx/defaultFriction: 1,\n",
      "physx/defaultRestitution: 0.1,\n",
      "bot/useOptitrack!,\n",
      "bot/useAudio!,\n",
      "bot/raiseWindow!,\n",
      "KOMO/verbose: 1,\n",
      "KOMO/animateOptimization: 0,\n",
      "KOMO/mimicStable,\n",
      "KOMO/useFCL,\n",
      "KOMO/unscaleEqIneqReport!,\n",
      "KOMO/sampleRate_stable: 0,\n",
      "opt/verbose: 1,\n",
      "opt/stopTolerance: 0.01,\n",
      "opt/stopFTolerance: -1,\n",
      "opt/stopGTolerance: -1,\n",
      "opt/stopEvals: 1000,\n",
      "opt/stopIters: 1000,\n",
      "opt/stopOuters: 1000,\n",
      "opt/stopLineSteps: 10,\n",
      "opt/stopTinySteps: 10,\n",
      "opt/initStep: 1,\n",
      "opt/minStep: -1,\n",
      "opt/maxStep: 0.2,\n",
      "opt/damping: 1,\n",
      "opt/stepInc: 1.5,\n",
      "opt/stepDec: 0.5,\n",
      "opt/wolfe: 0.01,\n",
      "opt/boundedNewton,\n",
      "opt/muInit: 1,\n",
      "opt/muInc: 5,\n",
      "opt/muMax: 10000,\n",
      "opt/muLBInit: 0.1,\n",
      "opt/muLBDec: 0.2,\n",
      "opt/maxLambda: -1,\n",
      "opt/constrainedMethod: ,\n",
      "seed: 0\n"
     ]
    }
   ],
   "source": [
    "ry.params_print()"
   ]
  },
  {
   "cell_type": "code",
   "execution_count": null,
   "id": "492655b8",
   "metadata": {},
   "outputs": [],
   "source": []
  }
 ],
 "metadata": {
  "kernelspec": {
   "display_name": "Python 3 (ipykernel)",
   "language": "python",
   "name": "python3"
  },
  "language_info": {
   "codemirror_mode": {
    "name": "ipython",
    "version": 3
   },
   "file_extension": ".py",
   "mimetype": "text/x-python",
   "name": "python",
   "nbconvert_exporter": "python",
   "pygments_lexer": "ipython3",
   "version": "3.10.12"
  }
 },
 "nbformat": 4,
 "nbformat_minor": 5
}
