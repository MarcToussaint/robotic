{
 "cells": [
  {
   "cell_type": "markdown",
   "id": "59a99259",
   "metadata": {},
   "source": [
    "# Starting with a real robot\n",
    "This starts exactly as botop1-motion, only switching from BotOp(C, useRealRobot=True) instead of False."
   ]
  },
  {
   "cell_type": "code",
   "execution_count": null,
   "id": "eca938ab",
   "metadata": {},
   "outputs": [],
   "source": [
    "from robotic import ry\n",
    "import numpy as np\n",
    "import time"
   ]
  },
  {
   "cell_type": "code",
   "execution_count": null,
   "id": "950397d7",
   "metadata": {},
   "outputs": [],
   "source": [
    "#in case you switch to simulation\n",
    "ry.params_add({'botsim/verbose': 1., 'physx/motorKp': 10000., 'physx/motorKd': 1000.})\n",
    "ry.params_file('rai.cfg')\n",
    "ry.params_print()"
   ]
  },
  {
   "cell_type": "code",
   "execution_count": null,
   "id": "33f75e77",
   "metadata": {},
   "outputs": [],
   "source": [
    "C = ry.Config()\n",
    "C.addFile(ry.raiPath('../rai-robotModels/scenarios/pandaSingle.g'))\n",
    "pcl = C.addFrame('pcl', 'cameraWrist')\n",
    "C.view(False, 'this is your workspace data structure C -- NOT THE SIMULTATION')"
   ]
  },
  {
   "cell_type": "code",
   "execution_count": null,
   "id": "f1119ecc",
   "metadata": {},
   "outputs": [],
   "source": [
    "# True = real robot!!\n",
    "bot = ry.BotOp(C, True)"
   ]
  },
  {
   "cell_type": "code",
   "execution_count": null,
   "id": "efb356c9",
   "metadata": {},
   "outputs": [],
   "source": [
    "bot.hold(False, False)"
   ]
  },
  {
   "cell_type": "code",
   "execution_count": null,
   "id": "1b2144a8",
   "metadata": {},
   "outputs": [],
   "source": [
    "while bot.getKeyPressed()!=ord('q'):\n",
    "    image, depth, points = bot.getImageDepthPcl(\"cameraWrist\")\n",
    "    pcl.setPointCloud(points, image)\n",
    "    bot.sync(C, .1)"
   ]
  },
  {
   "cell_type": "code",
   "execution_count": null,
   "id": "6ba9b572",
   "metadata": {},
   "outputs": [],
   "source": [
    "del bot"
   ]
  },
  {
   "cell_type": "code",
   "execution_count": null,
   "id": "79a8549c",
   "metadata": {},
   "outputs": [],
   "source": [
    "bot.gripperOpen(ry._left)"
   ]
  },
  {
   "cell_type": "code",
   "execution_count": null,
   "id": "10443e09",
   "metadata": {},
   "outputs": [],
   "source": [
    "del bot"
   ]
  },
  {
   "cell_type": "markdown",
   "id": "c1278498",
   "metadata": {},
   "source": [
    "## Advanced: Compliance & Force/Torque feedback"
   ]
  },
  {
   "cell_type": "code",
   "execution_count": null,
   "id": "6e82d8f8",
   "metadata": {},
   "outputs": [],
   "source": [
    "from robotic import ry\n",
    "import numpy as np\n",
    "import time"
   ]
  },
  {
   "cell_type": "code",
   "execution_count": null,
   "id": "3b21b47d",
   "metadata": {},
   "outputs": [],
   "source": [
    "#in case you switch to simulation\n",
    "ry.params_file('rai.cfg')\n",
    "ry.params_print()"
   ]
  },
  {
   "cell_type": "code",
   "execution_count": null,
   "id": "aa1a93be",
   "metadata": {},
   "outputs": [],
   "source": [
    "C = ry.Config()\n",
    "C.addFile(ry.raiPath('../rai-robotModels/scenarios/pandaSingle.g'))\n",
    "C.view(False, 'this is your workspace data structure C -- NOT THE SIMULTATION')"
   ]
  },
  {
   "cell_type": "code",
   "execution_count": null,
   "id": "5844a69c",
   "metadata": {},
   "outputs": [],
   "source": [
    "# True = real robot!!\n",
    "bot = ry.BotOp(C, True)"
   ]
  },
  {
   "cell_type": "code",
   "execution_count": null,
   "id": "1c1a9970",
   "metadata": {},
   "outputs": [],
   "source": [
    "bot.hold(False, True)"
   ]
  },
  {
   "cell_type": "code",
   "execution_count": null,
   "id": "86cad3be",
   "metadata": {},
   "outputs": [],
   "source": [
    "while True:\n",
    "    bot.sync(C, .1)\n",
    "    if bot.getKeyPressed()==ord('q'):\n",
    "       break\n",
    "    y, J = C.eval(ry.FS.position, [\"l_gripper\"], [[1,0,0]])\n",
    "    bot.setCompliance(J, 1.)\n",
    "    print(' direct:', J @ bot.get_tauExternal(),\n",
    "          ' pseudoInv:', np.linalg.pinv(J.T) @ bot.get_tauExternal())\n",
    "\n",
    "bot.setCompliance([], 0.)"
   ]
  },
  {
   "cell_type": "code",
   "execution_count": null,
   "id": "549b1e19",
   "metadata": {},
   "outputs": [],
   "source": [
    "bot.home(C)"
   ]
  },
  {
   "cell_type": "code",
   "execution_count": null,
   "id": "248e8726",
   "metadata": {},
   "outputs": [],
   "source": [
    "del bot"
   ]
  },
  {
   "cell_type": "code",
   "execution_count": null,
   "id": "41dbc4e8",
   "metadata": {},
   "outputs": [],
   "source": []
  }
 ],
 "metadata": {
  "kernelspec": {
   "display_name": "Python 3 (ipykernel)",
   "language": "python",
   "name": "python3"
  },
  "language_info": {
   "codemirror_mode": {
    "name": "ipython",
    "version": 3
   },
   "file_extension": ".py",
   "mimetype": "text/x-python",
   "name": "python",
   "nbconvert_exporter": "python",
   "pygments_lexer": "ipython3",
   "version": "3.8.10"
  }
 },
 "nbformat": 4,
 "nbformat_minor": 5
}
