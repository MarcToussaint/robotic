{
 "cells": [
  {
   "cell_type": "markdown",
   "id": "89f8bc99",
   "metadata": {},
   "source": [
    "# Loading Scene and Robot models, editing\n",
    "* This scripts loads a mini scene defined in 'mini.g'.\n",
    "* The 'watchFile' command allows you to edit the file in some other editor, while it is being redisplayed whenever you save.\n",
    "* 'set/getJointState' shows how to access degrees-of-freedom of the scene\n",
    "* 'eval' shows how to access other features, including its Jacobian"
   ]
  },
  {
   "cell_type": "code",
   "execution_count": 1,
   "id": "0c2bd1ab",
   "metadata": {},
   "outputs": [],
   "source": [
    "from robotic import ry"
   ]
  },
  {
   "cell_type": "code",
   "execution_count": 7,
   "id": "294c17f2",
   "metadata": {},
   "outputs": [
    {
     "name": "stdout",
     "output_type": "stream",
     "text": [
      "the path where model files are pre-installed:\n",
      " /home/mtoussai/.local/lib/python3.8/site-packages/robotic/rai-robotModels/\n"
     ]
    }
   ],
   "source": [
    "print('the path where model files are pre-installed:\\n', ry.raiPath(''))"
   ]
  },
  {
   "cell_type": "code",
   "execution_count": 11,
   "id": "ab9c2093",
   "metadata": {},
   "outputs": [],
   "source": [
    "ry.setRaiPath('/home/mtoussai/git/rai-robotModels/')"
   ]
  },
  {
   "cell_type": "code",
   "execution_count": 13,
   "id": "6fa89f59",
   "metadata": {},
   "outputs": [
    {
     "name": "stdout",
     "output_type": "stream",
     "text": [
      "{'panda_link0': {}, 'panda_link0_0(panda_link0)': {'shape': 'mesh', 'color': [0.9, 0.9, 0.9], 'mesh': '<meshes/link0.ply>', 'visual': True}, 'panda_joint1_base(panda_link0)': {'rel': [0, 0, 0.333, 1, 0, 0, 0]}, 'panda_joint1(panda_joint1_base)': {'joint': 'hingeZ', 'limits': [-2.8973, 2.8973, 2.175, -1, 87], 'ctrl_limits': [2.175, -1, 87]}, 'panda_link1(panda_joint1)': {}, 'panda_link1_0(panda_link1)': {'shape': 'mesh', 'color': [0.9, 0.9, 0.9], 'mesh': '<meshes/link1.ply>', 'visual': True}, 'panda_joint2_base(panda_link1)': {'rel': [0, 0, 0, 0.707107, -0.707107, 0, 0]}, 'panda_joint2(panda_joint2_base)': {'joint': 'hingeZ', 'limits': [-1.7628, 1.7628, 2.175, -1, 87], 'ctrl_limits': [2.175, -1, 87]}, 'panda_link2(panda_joint2)': {}, 'panda_link2_0(panda_link2)': {'shape': 'mesh', 'color': [0.9, 0.9, 0.9], 'mesh': '<meshes/link2.ply>', 'visual': True}, 'panda_joint3_base(panda_link2)': {'rel': [0, -0.316, 0, 0.707107, 0.707107, 0, 0]}, 'panda_joint3(panda_joint3_base)': {'joint': 'hingeZ', 'limits': [-2.8973, 2.8973, 2.175, -1, 87], 'ctrl_limits': [2.175, -1, 87]}, 'panda_link3(panda_joint3)': {}, 'panda_link3_0(panda_link3)': {'shape': 'mesh', 'color': [0.9, 0.9, 0.9], 'mesh': '<meshes/link3.ply>', 'visual': True}, 'panda_joint4_base(panda_link3)': {'rel': [0.0825, 0, 0, 0.707107, 0.707107, 0, 0]}, 'panda_joint4(panda_joint4_base)': {'joint': 'hingeZ', 'limits': [-3.0718, -0.0698, 2.175, -1, 87], 'ctrl_limits': [2.175, -1, 87]}, 'panda_link4(panda_joint4)': {}, 'panda_link4_0(panda_link4)': {'shape': 'mesh', 'color': [0.9, 0.9, 0.9], 'mesh': '<meshes/link4.ply>', 'visual': True}, 'panda_joint5_base(panda_link4)': {'rel': [-0.0825, 0.384, 0, 0.707107, -0.707107, 0, 0]}, 'panda_joint5(panda_joint5_base)': {'joint': 'hingeZ', 'limits': [-2.8973, 2.8973, 2.61, -1, 12], 'ctrl_limits': [2.61, -1, 12]}, 'panda_link5(panda_joint5)': {}, 'panda_link5_0(panda_link5)': {'shape': 'mesh', 'color': [0.9, 0.9, 0.9], 'mesh': '<meshes/link5.ply>', 'visual': True}, 'panda_joint6_base(panda_link5)': {'rel': [0, 0, 0, 0.707107, 0.707107, 0, 0]}, 'panda_joint6(panda_joint6_base)': {'joint': 'hingeZ', 'limits': [-0.0175, 3.7525, 2.61, -1, 12], 'ctrl_limits': [2.61, -1, 12]}, 'panda_link6(panda_joint6)': {}, 'panda_link6_0(panda_link6)': {'shape': 'mesh', 'color': [0.9, 0.9, 0.9], 'mesh': '<meshes/link6.ply>', 'visual': True}, 'panda_joint7_base(panda_link6)': {'rel': [0.088, 0, 0, 0.707107, 0.707107, 0, 0]}, 'panda_joint7(panda_joint7_base)': {'joint': 'hingeZ', 'limits': [-2.8973, 2.8973, 2.61, -1, 12], 'ctrl_limits': [2.61, -1, 12]}, 'panda_link7(panda_joint7)': {}, 'panda_link7_0(panda_link7)': {'shape': 'mesh', 'color': [0.9, 0.9, 0.9], 'mesh': '<meshes/link7.ply>', 'visual': True}, 'panda_joint8_base(panda_link7)': {'rel': [0, 0, 0.107, 1, 0, 0, 0]}, 'panda_joint8(panda_joint8_base)': {'joint': 'rigid'}, 'panda_link8(panda_joint8)': {}, 'panda_hand_joint_base(panda_link8)': {'rel': [0, 0, 0, 0.92388, 0, 0, -0.382683]}, 'panda_hand_joint(panda_hand_joint_base)': {'joint': 'rigid'}, 'panda_hand(panda_hand_joint)': {}, 'panda_hand_0(panda_hand)': {'shape': 'mesh', 'color': [0.9, 0.9, 0.9], 'mesh': '<meshes/hand.ply>', 'visual': True}, 'panda_finger_joint1_base(panda_hand)': {'rel': [0, 0, 0.0584, 1, 0, 0, 0]}, 'panda_finger_joint2_base(panda_hand)': {'rel': [0, 0, 0.0584, 1, 0, 0, 0]}, 'panda_finger_joint1(panda_finger_joint1_base)': {'joint': 'transY', 'limits': [0, 0.04, 0.2, -1, 20], 'ctrl_limits': [0.2, -1, 20]}, 'panda_finger_joint2(panda_finger_joint2_base)': {'joint': 'transY', 'joint_scale': -1, 'limits': [0, 0.04, 0.2, -1, 20], 'mimic': 'panda_finger_joint1', 'ctrl_limits': [0.2, -1, 20]}, 'panda_leftfinger(panda_finger_joint1)': {}, 'panda_rightfinger(panda_finger_joint2)': {}, 'panda_leftfinger_0(panda_leftfinger)': {'shape': 'mesh', 'color': [0.9, 0.9, 0.9], 'mesh': '<meshes/finger.ply>', 'visual': True}, 'panda_rightfinger_0(panda_rightfinger)': {'rel': [0, 0, 0, -1.03412e-13, 0, 0, 1], 'shape': 'mesh', 'color': [0.9, 0.9, 0.9], 'mesh': '<meshes/finger.ply>', 'visual': True}}\n"
     ]
    }
   ],
   "source": [
    "import yaml\n",
    "\n",
    "with open(ry.raiPath('panda/panda_clean.g'), 'r', encoding='utf-8') as fil:\n",
    "    model = yaml.safe_load(fil)\n",
    "\n",
    "print(model)"
   ]
  },
  {
   "cell_type": "code",
   "execution_count": 2,
   "id": "97a3d5ff",
   "metadata": {},
   "outputs": [
    {
     "data": {
      "text/plain": [
       "0"
      ]
     },
     "execution_count": 2,
     "metadata": {},
     "output_type": "execute_result"
    }
   ],
   "source": [
    "C = ry.Config()\n",
    "C.addFile('mini.g')\n",
    "C.view()"
   ]
  },
  {
   "cell_type": "code",
   "execution_count": null,
   "id": "32f64861",
   "metadata": {},
   "outputs": [],
   "source": [
    "C.watchFile('mini.g')"
   ]
  },
  {
   "cell_type": "code",
   "execution_count": null,
   "id": "2bf82169",
   "metadata": {},
   "outputs": [],
   "source": [
    "q = C.getJointState()\n",
    "print(q)"
   ]
  },
  {
   "cell_type": "code",
   "execution_count": null,
   "id": "f1cea18c",
   "metadata": {},
   "outputs": [],
   "source": [
    "q[0] = q[0] + .5\n",
    "C.setJointState(q)\n",
    "C.view()"
   ]
  },
  {
   "cell_type": "code",
   "execution_count": null,
   "id": "0797ec70",
   "metadata": {},
   "outputs": [],
   "source": [
    "frameC = C.frame('C')\n",
    "print('pos:', frameC.getPosition(), 'quat:', frameC.getQuaternion())"
   ]
  },
  {
   "cell_type": "code",
   "execution_count": null,
   "id": "23d9593a",
   "metadata": {},
   "outputs": [],
   "source": [
    "q[0] = q[0] + .5\n",
    "C.setJointState(q)\n",
    "print('pos:', frameC.getPosition(), 'quat:', frameC.getQuaternion())"
   ]
  },
  {
   "cell_type": "code",
   "execution_count": null,
   "id": "fcd296e1",
   "metadata": {},
   "outputs": [],
   "source": [
    "[y,J] = C.eval(ry.FS.position, ['C'])\n",
    "print('position of C:', y, '\\nJacobian:', J)\n",
    "type(J)"
   ]
  },
  {
   "cell_type": "code",
   "execution_count": null,
   "id": "8b10a72c",
   "metadata": {},
   "outputs": [],
   "source": [
    "#only the z-position relative to target 0.5:\n",
    "C.eval(ry.FS.position, ['C'], [[0,0,1]], [0,0,0.5]) #the scaling is a 1x3 matrix"
   ]
  },
  {
   "cell_type": "code",
   "execution_count": null,
   "id": "ce8f0267",
   "metadata": {},
   "outputs": [],
   "source": [
    "help(ry.FS)"
   ]
  },
  {
   "cell_type": "code",
   "execution_count": null,
   "id": "1add3739",
   "metadata": {},
   "outputs": [],
   "source": [
    "del C"
   ]
  },
  {
   "cell_type": "code",
   "execution_count": null,
   "id": "938a2461",
   "metadata": {},
   "outputs": [],
   "source": []
  }
 ],
 "metadata": {
  "kernelspec": {
   "display_name": "Python 3 (ipykernel)",
   "language": "python",
   "name": "python3"
  },
  "language_info": {
   "codemirror_mode": {
    "name": "ipython",
    "version": 3
   },
   "file_extension": ".py",
   "mimetype": "text/x-python",
   "name": "python",
   "nbconvert_exporter": "python",
   "pygments_lexer": "ipython3",
   "version": "3.8.10"
  }
 },
 "nbformat": 4,
 "nbformat_minor": 5
}
