{
 "cells": [
  {
   "cell_type": "code",
   "execution_count": null,
   "id": "0c2bd1ab",
   "metadata": {},
   "outputs": [],
   "source": [
    "from robotic import ry"
   ]
  },
  {
   "cell_type": "code",
   "execution_count": null,
   "id": "15b67c05",
   "metadata": {},
   "outputs": [],
   "source": [
    "#import sys, os\n",
    "#sys.path.append(os.path.expanduser('~/git/rai-python/build'))\n",
    "#import libry as ry"
   ]
  },
  {
   "cell_type": "code",
   "execution_count": null,
   "id": "97a3d5ff",
   "metadata": {},
   "outputs": [],
   "source": [
    "C = ry.Config()\n",
    "C.addFile('mini.g')\n",
    "C.view()"
   ]
  },
  {
   "cell_type": "code",
   "execution_count": null,
   "id": "32f64861",
   "metadata": {},
   "outputs": [],
   "source": [
    "C.watchFile('mini.g')"
   ]
  },
  {
   "cell_type": "code",
   "execution_count": null,
   "id": "2bf82169",
   "metadata": {},
   "outputs": [],
   "source": [
    "q = C.getJointState()\n",
    "print(q)"
   ]
  },
  {
   "cell_type": "code",
   "execution_count": null,
   "id": "f1cea18c",
   "metadata": {},
   "outputs": [],
   "source": [
    "q[0] = q[0] + .5\n",
    "C.setJointState(q)\n",
    "C.view()"
   ]
  },
  {
   "cell_type": "code",
   "execution_count": null,
   "id": "0797ec70",
   "metadata": {},
   "outputs": [],
   "source": [
    "frameC = C.frame('C')\n",
    "print('pos:', frameC.getPosition(), 'quat:', frameC.getQuaternion())"
   ]
  },
  {
   "cell_type": "code",
   "execution_count": null,
   "id": "23d9593a",
   "metadata": {},
   "outputs": [],
   "source": [
    "q[0] = q[0] + .5\n",
    "C.setJointState(q)\n",
    "print('pos:', frameC.getPosition(), 'quat:', frameC.getQuaternion())"
   ]
  },
  {
   "cell_type": "code",
   "execution_count": null,
   "id": "fcd296e1",
   "metadata": {},
   "outputs": [],
   "source": [
    "[y,J] = C.eval(ry.FS.position, ['C'])\n",
    "print('position of C:', y, '\\nJacobian:', J)\n",
    "type(J)"
   ]
  },
  {
   "cell_type": "code",
   "execution_count": null,
   "id": "8b10a72c",
   "metadata": {},
   "outputs": [],
   "source": [
    "#only the z-position relative to target 0.5:\n",
    "C.eval(ry.FS.position, ['C'], [[0,0,1]], [0,0,0.5]) #the scaling is a 1x3 matrix"
   ]
  },
  {
   "cell_type": "code",
   "execution_count": null,
   "id": "ce8f0267",
   "metadata": {},
   "outputs": [],
   "source": [
    "help(ry.FS)"
   ]
  },
  {
   "cell_type": "code",
   "execution_count": null,
   "id": "1add3739",
   "metadata": {},
   "outputs": [],
   "source": [
    "del C"
   ]
  },
  {
   "cell_type": "code",
   "execution_count": null,
   "id": "938a2461",
   "metadata": {},
   "outputs": [],
   "source": []
  }
 ],
 "metadata": {
  "kernelspec": {
   "display_name": "Python 3",
   "language": "python",
   "name": "python3"
  },
  "language_info": {
   "codemirror_mode": {
    "name": "ipython",
    "version": 3
   },
   "file_extension": ".py",
   "mimetype": "text/x-python",
   "name": "python",
   "nbconvert_exporter": "python",
   "pygments_lexer": "ipython3",
   "version": "3.6.9"
  }
 },
 "nbformat": 4,
 "nbformat_minor": 5
}
