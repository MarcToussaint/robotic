{
 "cells": [
  {
   "cell_type": "code",
   "execution_count": null,
   "id": "97088a7b",
   "metadata": {},
   "outputs": [],
   "source": [
    "from robotic import ry\n",
    "import numpy as np\n",
    "import time"
   ]
  },
  {
   "cell_type": "code",
   "execution_count": null,
   "id": "ea930fba",
   "metadata": {},
   "outputs": [],
   "source": [
    "ry.params_add({'physx/motorKp': 10000., 'physx/motorKd': 1000., 'physx/angularDamping': 10., 'physx/defaultFriction': 100.})\n",
    "ry.params_print()"
   ]
  },
  {
   "cell_type": "code",
   "execution_count": null,
   "id": "44db23a8",
   "metadata": {},
   "outputs": [],
   "source": [
    "C = ry.Config()\n",
    "C.addFile(ry.raiPath('../rai-robotModels/scenarios/pandaSingle.g'))\n",
    "C.view(False)"
   ]
  },
  {
   "cell_type": "code",
   "execution_count": null,
   "id": "efd02145",
   "metadata": {},
   "outputs": [],
   "source": [
    "#   .setShape(ry.ST.sphere, size=[.025]) \\\n",
    "C.addFrame('box') \\\n",
    "    .setPosition([-.25,.1,.675]) \\\n",
    "    .setShape(ry.ST.ssBox, size=[.05,.05,.05,.005]) \\\n",
    "    .setColor([1,.5,0]) \\\n",
    "    .setMass(.1) \\\n",
    "    .setContact(True)\n",
    "C.view()"
   ]
  },
  {
   "cell_type": "code",
   "execution_count": null,
   "id": "9588750e",
   "metadata": {},
   "outputs": [],
   "source": [
    "# WAYPOINT ENGINEERING:\n",
    "# manually define frames as an endeff waypoints, relative to box:\n",
    "way0 = C.addFrame('way0', 'box')\n",
    "way1 = C.addFrame('way1', 'box')"
   ]
  },
  {
   "cell_type": "code",
   "execution_count": null,
   "id": "8f6639cc",
   "metadata": {},
   "outputs": [],
   "source": [
    "way0.setShape(ry.ST.marker, size=[.1])\n",
    "way0.setRelativePose('t(0 0 .1) d(90 0 0 1)')\n",
    "\n",
    "way1.setShape(ry.ST.marker, size=[.1])\n",
    "way1.setRelativePose('d(90 0 0 1)')\n",
    "\n",
    "C.view()"
   ]
  },
  {
   "cell_type": "code",
   "execution_count": null,
   "id": "8b4b9f76",
   "metadata": {},
   "outputs": [],
   "source": [
    "# define a 2 waypoint problem in KOMO\n",
    "komo = ry.KOMO()\n",
    "komo.setConfig(C, True)\n",
    "komo.setTiming(2., 1, 5., 0)\n",
    "komo.addControlObjective([], 0, 1e-0)\n",
    "komo.addObjective([], ry.FS.accumulatedCollisions, [], ry.OT.eq);\n",
    "komo.addObjective([], ry.FS.jointLimits, [], ry.OT.ineq);\n",
    "komo.addObjective([1.], ry.FS.poseDiff, ['l_gripper', 'way0'], ry.OT.eq, [1e1]);\n",
    "komo.addObjective([2.], ry.FS.poseDiff, ['l_gripper', 'way1'], ry.OT.eq, [1e1]);"
   ]
  },
  {
   "cell_type": "code",
   "execution_count": null,
   "id": "c918d324",
   "metadata": {},
   "outputs": [],
   "source": [
    "ret = ry.NLP_Solver() \\\n",
    "    .setProblem(komo.nlp()) \\\n",
    "    .setOptions( stopTolerance=1e-2, verbose=4 ) \\\n",
    "    .solve()\n",
    "print(ret)"
   ]
  },
  {
   "cell_type": "code",
   "execution_count": null,
   "id": "cbd1ce1f",
   "metadata": {},
   "outputs": [],
   "source": [
    "komo.view(False, \"waypoints solution\")"
   ]
  },
  {
   "cell_type": "code",
   "execution_count": null,
   "id": "cac1ad27",
   "metadata": {},
   "outputs": [],
   "source": [
    "komo.view_close()\n",
    "path = komo.getPath()"
   ]
  },
  {
   "cell_type": "code",
   "execution_count": null,
   "id": "e00a421c",
   "metadata": {},
   "outputs": [],
   "source": [
    "bot = ry.BotOp(C, False)\n",
    "bot.home(C)"
   ]
  },
  {
   "cell_type": "code",
   "execution_count": null,
   "id": "86f9f8c2",
   "metadata": {},
   "outputs": [],
   "source": [
    "bot.home(C)"
   ]
  },
  {
   "cell_type": "code",
   "execution_count": null,
   "id": "00a01c01",
   "metadata": {},
   "outputs": [],
   "source": [
    "bot.gripperOpen(ry._left)\n",
    "while not bot.gripperDone(ry._left):\n",
    "    bot.sync(C, .1)"
   ]
  },
  {
   "cell_type": "code",
   "execution_count": null,
   "id": "6a4303a4",
   "metadata": {},
   "outputs": [],
   "source": [
    "bot.move(path, [2., 3.])\n",
    "while bot.getTimeToEnd()>0:\n",
    "    bot.sync(C, .1)"
   ]
  },
  {
   "cell_type": "code",
   "execution_count": null,
   "id": "f7e3a9d9",
   "metadata": {},
   "outputs": [],
   "source": [
    "bot.gripperCloseGrasp(ry._left, 'box')\n",
    "while not bot.gripperDone(ry._left):\n",
    "    bot.sync(C, .1)"
   ]
  },
  {
   "cell_type": "code",
   "execution_count": null,
   "id": "ddad80d8",
   "metadata": {},
   "outputs": [],
   "source": [
    "bot.home(C)"
   ]
  },
  {
   "cell_type": "code",
   "execution_count": null,
   "id": "e219ea7d",
   "metadata": {},
   "outputs": [],
   "source": [
    "bot.gripperOpen(ry._left)\n",
    "while not bot.gripperDone(ry._left):\n",
    "    bot.sync(C, .1)"
   ]
  },
  {
   "cell_type": "code",
   "execution_count": null,
   "id": "c665847d",
   "metadata": {},
   "outputs": [],
   "source": [
    "del bot"
   ]
  },
  {
   "cell_type": "code",
   "execution_count": null,
   "id": "ecc1c120",
   "metadata": {},
   "outputs": [],
   "source": [
    "del C"
   ]
  },
  {
   "cell_type": "code",
   "execution_count": null,
   "id": "5b96e8e6",
   "metadata": {},
   "outputs": [],
   "source": []
  }
 ],
 "metadata": {
  "kernelspec": {
   "display_name": "Python 3 (ipykernel)",
   "language": "python",
   "name": "python3"
  },
  "language_info": {
   "codemirror_mode": {
    "name": "ipython",
    "version": 3
   },
   "file_extension": ".py",
   "mimetype": "text/x-python",
   "name": "python",
   "nbconvert_exporter": "python",
   "pygments_lexer": "ipython3",
   "version": "3.8.10"
  }
 },
 "nbformat": 4,
 "nbformat_minor": 5
}
