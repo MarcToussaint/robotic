{
 "cells": [
  {
   "cell_type": "markdown",
   "id": "9097e1f3",
   "metadata": {},
   "source": [
    "# Extension - Gym Environment Interface: minimal example"
   ]
  },
  {
   "cell_type": "code",
   "execution_count": null,
   "id": "9101b6db-e9c2-4f29-bc50-de5d3231f671",
   "metadata": {},
   "outputs": [],
   "source": [
    "import robotic as ry\n",
    "import gymnasium as gym\n",
    "import numpy as np\n",
    "print('ry version:', ry.__version__, ry.compiled())"
   ]
  },
  {
   "cell_type": "code",
   "execution_count": null,
   "id": "f641c445-4901-4d95-9ecd-c931d6b80bd0",
   "metadata": {},
   "outputs": [],
   "source": [
    "# A basic configuration, where the orange box is to be pushed to the target with the stick\n",
    "\n",
    "C = ry.Config()\n",
    "C.addFile(ry.raiPath('scenarios/pandaSingle.g'))\n",
    "C.view(False)\n",
    "\n",
    "C.addFrame('box') \\\n",
    "    .setShape(ry.ST.ssBox, size=[.1,.1,.1,.005]) .setColor([1,.5,0]) \\\n",
    "    .setPosition([.1,.35,.9]) \\\n",
    "    .setMass(.1)\n",
    "\n",
    "C.addFrame('stick', 'l_gripper') \\\n",
    "    .setShape(ry.ST.capsule, size=[.3,.02]) .setColor([.5,1,0]) \\\n",
    "    .setRelativePosition([0,0,-.13])\n",
    "\n",
    "C.addFrame('target') \\\n",
    "    .setShape(ry.ST.marker, size=[.1]) .setColor([0,1,0]) \\\n",
    "    .setPosition([.5,.0,.7]) \\\n",
    "\n",
    "C.setJointState([.0], ['l_panda_joint2']) #only cosmetics\n",
    "C.setJointState([.02], ['l_panda_finger_joint1']) #only cosmetics\n",
    "\n",
    "q0 = C.getJointState()\n",
    "X0 = C.getFrameState()\n",
    "\n",
    "C.view()"
   ]
  },
  {
   "cell_type": "code",
   "execution_count": null,
   "id": "00e95379-5ff6-4b05-abaf-f356550653b6",
   "metadata": {},
   "outputs": [],
   "source": [
    "# Generic gym environment, instantiating pyhsx multibody sim, with velocity control\n",
    "# the arguments C, time_limit, and reward_fct define the problem\n",
    "\n",
    "class RaiGym(gym.Env):\n",
    "    metadata = {\"render_modes\": [\"human\", \"rgb_array\"], \"render_fps\": 4}\n",
    "    tau = .05\n",
    "    time = 0.\n",
    "\n",
    "    def __init__(self, C, time_limit, reward_fct, render_mode=None):\n",
    "        self.C = C\n",
    "        self.time_limit = time_limit\n",
    "        self.reward_fct = reward_fct\n",
    "        self.render_mode = render_mode\n",
    "        #self.limits = self.C.getJointLimits()\n",
    "        self.limits = [-10., 10.]\n",
    "        self.q0 = self.C.getJointState()\n",
    "        self.X0 = self.C.getFrameState()\n",
    "\n",
    "        self.observation_space = gym.spaces.box.Box(self.limits[0], self.limits[1], shape=(self.q0.size,), dtype=np.float32)\n",
    "        self.action_space = gym.spaces.box.Box(low=-1., high=1., shape=(self.q0.size,), dtype=np.float32)\n",
    "\n",
    "        assert render_mode is None or render_mode in self.metadata[\"render_modes\"]\n",
    "        self.render_mode = render_mode\n",
    "\n",
    "        self.sim = ry.Simulation(self.C, ry.SimulationEngine.physx, 0)\n",
    "\n",
    "    def __del__(self):\n",
    "        del self.sim\n",
    "        del self.C\n",
    "        \n",
    "    def step(self, action):\n",
    "        self.sim.step(action, self.tau, ry.ControlMode.velocity)\n",
    "        self.time += self.tau\n",
    "        \n",
    "        observation = self.C.getJointState()\n",
    "        reward = self.reward_fct(C)\n",
    "        terminated = (self.time >= self.time_limit)\n",
    "        info = {\"no\": \"additional info\"}\n",
    "\n",
    "        return observation, reward, terminated, False, info\n",
    "        \n",
    "    def reset(self, seed=None, options=None):\n",
    "        super().reset(seed=seed)\n",
    "\n",
    "        self.time = 0.\n",
    "        self.sim.setState(X0, q0)\n",
    "        self.sim.resetSplineRef()\n",
    "\n",
    "        observation = self.C.getJointState()\n",
    "        info = {\"no\": \"additional info\"}\n",
    "\n",
    "        if self.render_mode == \"human\":\n",
    "            self.C.view(False)\n",
    "\n",
    "        return observation, info\n",
    "        \n",
    "    def render(self):\n",
    "        self.C.view(False, f'RaiGym time {self.time} / {self.time_limit}')\n",
    "        if self.render_mode == \"rgb_array\":\n",
    "            return self.C.view_getRgb()\n"
   ]
  },
  {
   "cell_type": "code",
   "execution_count": null,
   "id": "5c78b800",
   "metadata": {},
   "outputs": [],
   "source": [
    "# reward function\n",
    "\n",
    "def reward_function(C):\n",
    "    touch, _ = C.eval(ry.FS.negDistance, [\"stick\", \"box\"])\n",
    "    dist, _ = C.eval(ry.FS.positionDiff, [\"box\", \"target\"])\n",
    "    r = touch[0] - np.linalg.norm(dist)\n",
    "    return r"
   ]
  },
  {
   "cell_type": "code",
   "execution_count": null,
   "id": "c58f2904-b563-440a-8be8-20226544afe3",
   "metadata": {},
   "outputs": [],
   "source": [
    "g = RaiGym(C, 10., reward_function)"
   ]
  },
  {
   "cell_type": "code",
   "execution_count": null,
   "id": "e99cf13a-44d5-4c5b-8e75-f0b5e3868f9f",
   "metadata": {},
   "outputs": [],
   "source": [
    "# basic test\n",
    "\n",
    "g.reset()\n",
    "v = np.zeros(g.q0.size)\n",
    "v[0] = -1.\n",
    "print(v)\n",
    "t = 0\n",
    "while True:\n",
    "    t += 1\n",
    "    ret = g.step(v)\n",
    "    if ret[2]:\n",
    "        break;\n",
    "    print(\"reward: \", ret[1])\n",
    "    if not (t%10):\n",
    "        g.render()"
   ]
  },
  {
   "cell_type": "code",
   "execution_count": null,
   "id": "fee831fc-436f-461f-9644-4ad6a6516094",
   "metadata": {},
   "outputs": [],
   "source": [
    "# train a stable baslines\n",
    "\n",
    "from stable_baselines3 import A2C, SAC"
   ]
  },
  {
   "cell_type": "code",
   "execution_count": null,
   "id": "17cc305e-5c9f-4798-b4e8-be5f890c54a3",
   "metadata": {},
   "outputs": [],
   "source": [
    "model = SAC(\"MlpPolicy\", g, verbose=1)\n",
    "#model = A2C(\"MlpPolicy\", g, verbose=1)"
   ]
  },
  {
   "cell_type": "code",
   "execution_count": null,
   "id": "dd665ada-a480-4e9a-a3c2-aab5dba20761",
   "metadata": {},
   "outputs": [],
   "source": [
    "model.learn(total_timesteps=1_000)"
   ]
  },
  {
   "cell_type": "code",
   "execution_count": null,
   "id": "0a06410a-0941-48f2-851c-3d6143e3060d",
   "metadata": {},
   "outputs": [],
   "source": [
    "# play the policy\n",
    "\n",
    "obs, info = g.reset()\n",
    "for t in range(100):\n",
    "    action, _state = model.predict(obs, deterministic=True)\n",
    "    ret = g.step(action)\n",
    "    if not (t%10):\n",
    "        g.render()"
   ]
  },
  {
   "cell_type": "code",
   "execution_count": null,
   "id": "5fcd5153-e8a3-4612-b314-914cf19cb455",
   "metadata": {},
   "outputs": [],
   "source": [
    "del model\n",
    "del g\n",
    "del C"
   ]
  },
  {
   "cell_type": "code",
   "execution_count": null,
   "id": "c5c020be",
   "metadata": {},
   "outputs": [],
   "source": []
  }
 ],
 "metadata": {
  "kernelspec": {
   "display_name": "Python 3 (ipykernel)",
   "language": "python",
   "name": "python3"
  },
  "language_info": {
   "codemirror_mode": {
    "name": "ipython",
    "version": 3
   },
   "file_extension": ".py",
   "mimetype": "text/x-python",
   "name": "python",
   "nbconvert_exporter": "python",
   "pygments_lexer": "ipython3",
   "version": "3.10.12"
  }
 },
 "nbformat": 4,
 "nbformat_minor": 5
}
