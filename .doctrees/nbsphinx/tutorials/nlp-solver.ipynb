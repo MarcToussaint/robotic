{
 "cells": [
  {
   "cell_type": "markdown",
   "metadata": {},
   "source": [
    "# Optimization (NLP formulation and solving)\n",
    "\n",
    "This is completely independent from all robotics code. Provides a generic interface to NLP formulation and calling various solvers."
   ]
  },
  {
   "cell_type": "code",
   "execution_count": 1,
   "metadata": {},
   "outputs": [],
   "source": [
    "from robotic import ry\n",
    "import numpy as np"
   ]
  },
  {
   "cell_type": "markdown",
   "metadata": {},
   "source": [
    "Define a function to compute differentiable features"
   ]
  },
  {
   "cell_type": "code",
   "execution_count": 2,
   "metadata": {},
   "outputs": [],
   "source": [
    "#the function needs to have the signature (array) -> (array, array) with dimensionalities (n) -> (d, d-times-n)\n",
    "def sqrPot(x):\n",
    "    y = np.array(x)\n",
    "    y[0] = y[0] - 1.\n",
    "    J = np.eye(y.size)\n",
    "    return y,J"
   ]
  },
  {
   "cell_type": "markdown",
   "metadata": {},
   "source": [
    "Define a NLP (non-linear mathematical program)"
   ]
  },
  {
   "cell_type": "code",
   "execution_count": 3,
   "metadata": {},
   "outputs": [],
   "source": [
    "nlp = ry.NLP_Factory()\n",
    "nlp.setDimension(3)\n",
    "nlp.setBounds([-2,-2,-2],[2,2,2])\n",
    "nlp.setFeatureTypes([ry.OT.sos, ry.OT.sos, ry.OT.sos])\n",
    "nlp.setEvalCallback(sqrPot)"
   ]
  },
  {
   "cell_type": "markdown",
   "metadata": {},
   "source": [
    "Define a solver"
   ]
  },
  {
   "cell_type": "code",
   "execution_count": 4,
   "metadata": {},
   "outputs": [
    {
     "data": {
      "text/plain": [
       "<robotic.ry.NLP_Solver at 0x7fd5e888f9b0>"
      ]
     },
     "execution_count": 4,
     "metadata": {},
     "output_type": "execute_result"
    }
   ],
   "source": [
    "solver = ry.NLP_Solver()\n",
    "solver.setProblem(nlp)\n",
    "solver.setSolver(ry.NLP_SolverID.newton)"
   ]
  },
  {
   "cell_type": "code",
   "execution_count": 5,
   "metadata": {},
   "outputs": [
    {
     "data": {
      "text/plain": [
       "<robotic.ry.SolverReturn at 0x7fd5e428b6f0>"
      ]
     },
     "execution_count": 5,
     "metadata": {},
     "output_type": "execute_result"
    }
   ],
   "source": [
    "solver.solve(True)"
   ]
  },
  {
   "cell_type": "code",
   "execution_count": 6,
   "metadata": {},
   "outputs": [
    {
     "data": {
      "text/plain": [
       "array([[ 0.82853794, -1.65277958, -0.98424911],\n",
       "       [ 0.84928627, -1.45277958, -0.86514683],\n",
       "       [ 0.8700346 , -1.25277958, -0.74604455],\n",
       "       [ 0.89078292, -1.05277958, -0.62694226],\n",
       "       [ 0.91153125, -0.85277958, -0.50783998],\n",
       "       [ 0.93227958, -0.65277958, -0.38873769],\n",
       "       [ 0.95302791, -0.45277958, -0.26963541],\n",
       "       [ 0.97377623, -0.25277958, -0.15053313],\n",
       "       [ 0.99125874, -0.08425986, -0.05017771],\n",
       "       [ 0.99708625, -0.02808662, -0.0167259 ],\n",
       "       [ 0.99902875, -0.00936221, -0.0055753 ],\n",
       "       [ 0.99967625, -0.00312074, -0.00185843]])"
      ]
     },
     "execution_count": 6,
     "metadata": {},
     "output_type": "execute_result"
    }
   ],
   "source": [
    "solver.getTrace_x()"
   ]
  },
  {
   "cell_type": "code",
   "execution_count": 7,
   "metadata": {},
   "outputs": [
    {
     "data": {
      "text/plain": [
       "array([[3.72982590e+00, 0.00000000e+00, 0.00000000e+00],\n",
       "       [2.88176217e+00, 0.00000000e+00, 0.00000000e+00],\n",
       "       [2.14293015e+00, 0.00000000e+00, 0.00000000e+00],\n",
       "       [1.51332981e+00, 0.00000000e+00, 0.00000000e+00],\n",
       "       [9.92961174e-01, 0.00000000e+00, 0.00000000e+00],\n",
       "       [5.81824230e-01, 0.00000000e+00, 0.00000000e+00],\n",
       "       [2.79918980e-01, 0.00000000e+00, 0.00000000e+00],\n",
       "       [8.72454237e-02, 0.00000000e+00, 0.00000000e+00],\n",
       "       [9.69393597e-03, 0.00000000e+00, 0.00000000e+00],\n",
       "       [1.07710400e-03, 0.00000000e+00, 0.00000000e+00],\n",
       "       [1.19678222e-04, 0.00000000e+00, 0.00000000e+00],\n",
       "       [1.32975802e-05, 0.00000000e+00, 0.00000000e+00]])"
      ]
     },
     "execution_count": 7,
     "metadata": {},
     "output_type": "execute_result"
    }
   ],
   "source": [
    "solver.getTrace_costs()"
   ]
  },
  {
   "cell_type": "code",
   "execution_count": null,
   "metadata": {},
   "outputs": [],
   "source": []
  }
 ],
 "metadata": {
  "kernelspec": {
   "display_name": "Python 3 (ipykernel)",
   "language": "python",
   "name": "python3"
  },
  "language_info": {
   "codemirror_mode": {
    "name": "ipython",
    "version": 3
   },
   "file_extension": ".py",
   "mimetype": "text/x-python",
   "name": "python",
   "nbconvert_exporter": "python",
   "pygments_lexer": "ipython3",
   "version": "3.8.10"
  }
 },
 "nbformat": 4,
 "nbformat_minor": 4
}
