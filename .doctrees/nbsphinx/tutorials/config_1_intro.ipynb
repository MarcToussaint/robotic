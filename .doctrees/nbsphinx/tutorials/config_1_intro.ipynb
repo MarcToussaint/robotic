{
 "cells": [
  {
   "cell_type": "markdown",
   "metadata": {},
   "source": [
    "# Intro: Configurations\n",
    "\n",
    "A configuration is essentially a tree of (coordinate) frames, where each frame can have an associated shape, joint, inertia, etc. This tutorial introduces first steps to creating & loading configurations in rai, setting/getting the joint and frame state, computing features, and handling the view window.\n",
    "\n",
    "Please see the [Script:Configurations](https://marctoussaint.github.io/robotics-course/script/script.html#scene-robot-description) of configurations and degrees-of-freedom."
   ]
  },
  {
   "cell_type": "markdown",
   "metadata": {},
   "source": [
    "## Building a configuration from scratch\n",
    "\n",
    "Let's first build a configuration from scratch by adding frames and setting properties such as pose, shape and parentship of frames."
   ]
  },
  {
   "cell_type": "code",
   "execution_count": 1,
   "metadata": {},
   "outputs": [
    {
     "name": "stdout",
     "output_type": "stream",
     "text": [
      "version: 0.1.8 compile time: Feb 26 2024 21:50:27\n"
     ]
    }
   ],
   "source": [
    "import robotic as ry\n",
    "import numpy as np\n",
    "import time\n",
    "print('version:', ry.__version__, ry.compiled())"
   ]
  },
  {
   "cell_type": "markdown",
   "metadata": {},
   "source": [
    "The following creates an empty configuration, and opens a view window for it.\n",
    "\n",
    "**Tip:** Make the view window appear \"Always On Top\" (right click on the window bar)."
   ]
  },
  {
   "cell_type": "code",
   "execution_count": 2,
   "metadata": {},
   "outputs": [
    {
     "data": {
      "text/plain": [
       "0"
      ]
     },
     "execution_count": 2,
     "metadata": {},
     "output_type": "execute_result"
    }
   ],
   "source": [
    "C = ry.Config()\n",
    "C.view()"
   ]
  },
  {
   "cell_type": "markdown",
   "metadata": {},
   "source": [
    "The `C.view()` command will open a window that shows an empty configuration. \n",
    "\n",
    "A configuration is essentially a tree (or forest) of frames. You usually add models from files, but let's do it manually here. We declare it a **marker** frame, which means it has no real shape, but is displayed using its base vectors in the view."
   ]
  },
  {
   "cell_type": "code",
   "execution_count": 3,
   "metadata": {},
   "outputs": [
    {
     "name": "stdout",
     "output_type": "stream",
     "text": [
      "frame name: first pos: [0.  0.  0.5] quat: [0.95782629 0.28734789 0.         0.        ]\n"
     ]
    },
    {
     "data": {
      "text/plain": [
       "0"
      ]
     },
     "execution_count": 3,
     "metadata": {},
     "output_type": "execute_result"
    }
   ],
   "source": [
    "C.clear()\n",
    "f = C.addFrame(name='first')\n",
    "f.setShape(type=ry.ST.marker, size=[.3])\n",
    "f.setPosition([0.,0.,.5])\n",
    "f.setQuaternion([1., .3, .0, .0]) # more about quaternions below\n",
    "print('frame name:', f.name, 'pos:', f.getPosition(), 'quat:', f.getQuaternion())\n",
    "C.view()"
   ]
  },
  {
   "cell_type": "markdown",
   "metadata": {},
   "source": [
    "Let's add a second frame, but with first as parent and with a hinge joint!"
   ]
  },
  {
   "cell_type": "code",
   "execution_count": 4,
   "metadata": {},
   "outputs": [
    {
     "name": "stdout",
     "output_type": "stream",
     "text": [
      "frame name: second pos: [0.  0.  0.5] quat: [-0.95782629 -0.28734789 -0.         -0.        ]\n"
     ]
    },
    {
     "data": {
      "text/plain": [
       "0"
      ]
     },
     "execution_count": 4,
     "metadata": {},
     "output_type": "execute_result"
    }
   ],
   "source": [
    "f = C.addFrame(name='second', parent='first')\n",
    "f.setJoint(ry.JT.hingeX)\n",
    "f.setShape(type=ry.ST.marker, size=[.4])\n",
    "f.setColor([1,0,0])\n",
    "print('frame name:', f.name, 'pos:', f.getPosition(), 'quat:', f.getQuaternion())\n",
    "C.view()"
   ]
  },
  {
   "cell_type": "markdown",
   "metadata": {},
   "source": [
    "Since we now have a configuration with a joint, we can articulate it:"
   ]
  },
  {
   "cell_type": "code",
   "execution_count": 5,
   "metadata": {},
   "outputs": [
    {
     "name": "stdout",
     "output_type": "stream",
     "text": [
      "joint state: [0.2]\n"
     ]
    },
    {
     "data": {
      "text/plain": [
       "0"
      ]
     },
     "execution_count": 5,
     "metadata": {},
     "output_type": "execute_result"
    }
   ],
   "source": [
    "q = C.getJointState()\n",
    "q[0] = q[0] + .2\n",
    "C.setJointState(q)\n",
    "print('joint state:', q)\n",
    "C.view()"
   ]
  },
  {
   "cell_type": "markdown",
   "metadata": {},
   "source": [
    "For illustration, let's add various other child frames with shapes to the 'second' frame and animate it with a trivial loop:"
   ]
  },
  {
   "cell_type": "code",
   "execution_count": 6,
   "metadata": {},
   "outputs": [],
   "source": [
    "# Add new frames: a box, a ball and a capsule\n",
    "C.addFrame('ball', 'second') .setShape(ry.ST.sphere, [.1]) .setColor([1.,.5,.0]) .setRelativePosition([-.3,.0,.2])\n",
    "C.addFrame('box', 'second') .setShape(ry.ST.ssBox, [.3,.2,.1,.02]) .setColor([.5,1.,.0]) .setRelativePosition([.0,.0,.2])\n",
    "C.addFrame('capsule', 'second') .setShape(ry.ST.capsule, [.3, .05]) .setColor([.0,1.,.5]) .setRelativePosition([.3,.0,.2])\n",
    "\n",
    "# Articulate the new configuration by moving the hinge joint\n",
    "for t in range(50):\n",
    "    C.setJointState([np.cos(.1*t)])\n",
    "    C.view()\n",
    "    time.sleep(.1)"
   ]
  },
  {
   "cell_type": "markdown",
   "metadata": {},
   "source": [
    "The following lists all predefined shape types:"
   ]
  },
  {
   "cell_type": "code",
   "execution_count": 7,
   "metadata": {},
   "outputs": [
    {
     "data": {
      "text/plain": [
       "dict_keys(['none', 'box', 'sphere', 'capsule', 'mesh', 'cylinder', 'marker', 'pointCloud', 'ssCvx', 'ssBox', 'ssCylinder', 'ssBoxElip', 'quad', 'camera', 'sdf'])"
      ]
     },
     "execution_count": 7,
     "metadata": {},
     "output_type": "execute_result"
    }
   ],
   "source": [
    "ry.ST.__members__.keys()"
   ]
  },
  {
   "cell_type": "markdown",
   "metadata": {},
   "source": [
    "For most of these, the `size` fully specifies them (box: 3 widths, sphere: radius, capsule: [length radius], cylinder: [length radius], marker: [axes lengths]). The `ssBox` is a sphere-swept-Box with a 4D size: [3 widths, corner radius], which is used a lot. Also mesh shapes can be set manually from python (`setMesh`) by directly giving vertex and triangle arrays. `ssCvx` means sphere-swept convex mesh, which is specified by a mesh and 1D size (radius), and also a very useful shape type."
   ]
  },
  {
   "cell_type": "markdown",
   "metadata": {},
   "source": [
    "Let's also briefly list the possible joint types:"
   ]
  },
  {
   "cell_type": "code",
   "execution_count": 8,
   "metadata": {},
   "outputs": [
    {
     "data": {
      "text/plain": [
       "dict_keys(['hingeX', 'hingeY', 'hingeZ', 'transX', 'transY', 'transZ', 'transXY', 'trans3', 'transXYPhi', 'transYPhi', 'universal', 'rigid', 'quatBall', 'phiTransXY', 'XBall', 'free', 'generic', 'tau'])"
      ]
     },
     "execution_count": 8,
     "metadata": {},
     "output_type": "execute_result"
    }
   ],
   "source": [
    "ry.JT.__members__.keys()"
   ]
  },
  {
   "cell_type": "markdown",
   "metadata": {},
   "source": [
    "Please see the [Script:Kinematics](https://marctoussaint.github.io/robotics-course/script/script.html#kinematics) on the basics of such joints (=parameterized transformations). The `quatBall` perhaps deserves special explanation: it realizes a ball joint by introducing the 4D quaternion as joint state - this sometimes requires special attention. But the rai code implements correct Jacobians (accounting also for implicit normalization) w.r.t. the quaternion parameterization. The `free` joint is a 7D joint with 3D position and `quatBall`.\n",
    "\n",
    "There is also a `rigid` joint, which simply means no DOF and seems fully redundant: having no joint or a rigid joint is the same. However, there is a semantic difference. A child frame without joint is really considered to be *a part* of the parent: The parent could be a *link* with multiple shapes (e.g. convex parts) or masses associated, but it is semantically one big link. When a frame has a joint (including a `rigid` joint), it is not considered part of its parent. That semantics rarely makes a difference, but it does in certain picking or walking scenarios, where objects, endeffectors or feet *attach* to other objects via a rigid joint."
   ]
  },
  {
   "cell_type": "markdown",
   "metadata": {},
   "source": [
    "## Specifying transformations: Quaternions & turtle strings\n",
    "\n",
    "See the [Script:Transformations](https://marctoussaint.github.io/robotics-course/script/script.html#d-transformations-rotations-quaternions) on background on 3D transformations, rotations, and quaternions. We use the (w,x,y,z) convention for quaternions. Whenever you set a quaternion manually, it is internally normalized. So setting a quaterniong (1,1,0,0) is totally fine and means 90-degrees around x:"
   ]
  },
  {
   "cell_type": "code",
   "execution_count": 9,
   "metadata": {},
   "outputs": [
    {
     "data": {
      "text/plain": [
       "0"
      ]
     },
     "execution_count": 9,
     "metadata": {},
     "output_type": "execute_result"
    }
   ],
   "source": [
    "C.clear()\n",
    "C.addFrame('A') .setShape(ry.ST.marker, [.3]) .setPosition([0.,0.,.5]) .setQuaternion([1., 1., .0, .0])\n",
    "C.view()"
   ]
  },
  {
   "cell_type": "markdown",
   "metadata": {},
   "source": [
    "But to specify transformations using translation and quaternion is not always intuitive as a human.\n",
    "Therefore, we also allow for a *turtle string* notation, namely a string that \n",
    "chains little interpretable 'translate' and 'rotate' commands to define a \n",
    "transformation, as in the old turtle language. Here is an example:"
   ]
  },
  {
   "cell_type": "code",
   "execution_count": 10,
   "metadata": {},
   "outputs": [
    {
     "data": {
      "text/plain": [
       "0"
      ]
     },
     "execution_count": 10,
     "metadata": {},
     "output_type": "execute_result"
    }
   ],
   "source": [
    "C.clear()\n",
    "f = C.addFrame('A') .setShape(ry.ST.marker, [.3])\n",
    "f.setPose('t(0 0 .5) d(30 1 0 0) t(0 0 .5) d(30 1 0 0)') #t=translate, #d=rotate-by-degrees around axis\n",
    "C.view()"
   ]
  },
  {
   "cell_type": "markdown",
   "metadata": {},
   "source": [
    "Here is a specification of the possible commands:\n",
    "<pre>\n",
    "  t(x y z)       # translation by (x,y,z)\n",
    "  q(q0 q1 q2 q3) # rotation by a quaternion\n",
    "  r(r x y z)     # rotation by `r` _radians_ around the axis (x,y,z)\n",
    "  d(d x y z)     # rotation by `d` _degrees_ around the axis (x,y,z)\n",
    "  E(r p y)       # rotation by roll-pitch-yaw Euler angles\n",
    "</pre>"
   ]
  },
  {
   "cell_type": "markdown",
   "metadata": {},
   "source": [
    "## Loading existing configurations\n",
    "\n",
    "You will usually load predefined configurations from file, and then perhaps edit and combine them manually. The rai package has several robot models predefined and installed in the `raiPath`. They typically have the `.g`-file extension (see [Script:gFiles](https://marctoussaint.github.io/robotics-course/script/script.html#graph-yaml-files) on this file format, which is a yaml-conform graph file). Converting from URDF to configuration files is possible (see advanced tutorial)."
   ]
  },
  {
   "cell_type": "code",
   "execution_count": 11,
   "metadata": {},
   "outputs": [
    {
     "data": {
      "text/plain": [
       "0"
      ]
     },
     "execution_count": 11,
     "metadata": {},
     "output_type": "execute_result"
    }
   ],
   "source": [
    "C.clear()\n",
    "C.addFile(ry.raiPath('panda/panda.g'))\n",
    "C.view()"
   ]
  },
  {
   "cell_type": "markdown",
   "metadata": {},
   "source": [
    "Let's add a second panda, but to avoid frame name conflicts we prefix all frame names. That's often important when importing multiple models into a single configuration. We can then also move the second robot simply by redefining the position of its base frame."
   ]
  },
  {
   "cell_type": "code",
   "execution_count": 12,
   "metadata": {},
   "outputs": [
    {
     "data": {
      "text/plain": [
       "0"
      ]
     },
     "execution_count": 12,
     "metadata": {},
     "output_type": "execute_result"
    }
   ],
   "source": [
    "C.addFile(ry.raiPath('panda/panda.g'), 'r_')\n",
    "base_r = C.getFrame('r_panda_base')\n",
    "base_r.setPosition([.0, .5, .0])\n",
    "C.view()"
   ]
  },
  {
   "cell_type": "markdown",
   "metadata": {},
   "source": [
    "These models have several joints. We can get the joint state of the full configuration:"
   ]
  },
  {
   "cell_type": "code",
   "execution_count": 13,
   "metadata": {},
   "outputs": [
    {
     "name": "stdout",
     "output_type": "stream",
     "text": [
      "[ 0.   -1.    0.   -2.    0.    2.    0.    0.05  0.   -1.    0.   -2.\n",
      "  0.    2.    0.    0.05]\n",
      "joints: ['panda_joint1', 'panda_joint2', 'panda_joint3', 'panda_joint4', 'panda_joint5', 'panda_joint6', 'panda_joint7', 'panda_finger_joint1panda_finger_joint2', 'r_panda_joint1', 'r_panda_joint2', 'r_panda_joint3', 'r_panda_joint4', 'r_panda_joint5', 'r_panda_joint6', 'r_panda_joint7', 'r_panda_finger_joint1r_panda_finger_joint2']\n",
      "frames: ['panda_base', 'panda_link0', 'panda_link0_0', 'panda_joint1_origin', 'panda_joint1', 'panda_link1', 'panda_link1_0', 'panda_joint2_origin', 'panda_joint2', 'panda_link2', 'panda_link2_0', 'panda_joint3_origin', 'panda_joint3', 'panda_link3', 'panda_link3_0', 'panda_joint4_origin', 'panda_joint4', 'panda_link4', 'panda_link4_0', 'panda_joint5_origin', 'panda_joint5', 'panda_link5', 'panda_link5_0', 'panda_joint6_origin', 'panda_joint6', 'panda_link6', 'panda_link6_0', 'panda_joint7_origin', 'panda_joint7', 'panda_link7', 'panda_link7_0', 'panda_joint8_origin', 'panda_joint8', 'panda_link8', 'panda_hand_joint_origin', 'panda_hand_joint', 'panda_hand', 'panda_hand_0', 'panda_finger_joint1_origin', 'panda_finger_joint2_origin', 'panda_finger_joint1', 'panda_finger_joint2', 'panda_leftfinger', 'panda_rightfinger', 'panda_leftfinger_0', 'panda_rightfinger_0', 'panda_coll0', 'panda_coll1', 'panda_coll3', 'panda_coll5', 'panda_coll2', 'panda_coll4', 'panda_coll6', 'panda_coll7', 'gripper', 'palm', 'finger1', 'finger2', 'r_panda_base', 'r_panda_link0', 'r_panda_link0_0', 'r_panda_joint1_origin', 'r_panda_joint1', 'r_panda_link1', 'r_panda_link1_0', 'r_panda_joint2_origin', 'r_panda_joint2', 'r_panda_link2', 'r_panda_link2_0', 'r_panda_joint3_origin', 'r_panda_joint3', 'r_panda_link3', 'r_panda_link3_0', 'r_panda_joint4_origin', 'r_panda_joint4', 'r_panda_link4', 'r_panda_link4_0', 'r_panda_joint5_origin', 'r_panda_joint5', 'r_panda_link5', 'r_panda_link5_0', 'r_panda_joint6_origin', 'r_panda_joint6', 'r_panda_link6', 'r_panda_link6_0', 'r_panda_joint7_origin', 'r_panda_joint7', 'r_panda_link7', 'r_panda_link7_0', 'r_panda_joint8_origin', 'r_panda_joint8', 'r_panda_link8', 'r_panda_hand_joint_origin', 'r_panda_hand_joint', 'r_panda_hand', 'r_panda_hand_0', 'r_panda_finger_joint1_origin', 'r_panda_finger_joint2_origin', 'r_panda_finger_joint1', 'r_panda_finger_joint2', 'r_panda_leftfinger', 'r_panda_rightfinger', 'r_panda_leftfinger_0', 'r_panda_rightfinger_0', 'r_panda_coll0', 'r_panda_coll1', 'r_panda_coll3', 'r_panda_coll5', 'r_panda_coll2', 'r_panda_coll4', 'r_panda_coll6', 'r_panda_coll7', 'r_gripper', 'r_palm', 'r_finger1', 'r_finger2']\n"
     ]
    }
   ],
   "source": [
    "print(C.getJointState())\n",
    "print('joints:', C.getJointNames())\n",
    "print('frames:', C.getFrameNames())"
   ]
  },
  {
   "cell_type": "markdown",
   "metadata": {},
   "source": [
    "Let's animate - without respect for limits or collisions! (E.g., the fingers go out of limits.)"
   ]
  },
  {
   "cell_type": "code",
   "execution_count": 14,
   "metadata": {},
   "outputs": [],
   "source": [
    "q0 = C.getJointState()\n",
    "for t in range(20):\n",
    "    q = q0 + .1*np.random.randn(q0.shape[0])\n",
    "    C.setJointState(q)\n",
    "    C.view()\n",
    "    time.sleep(.2)"
   ]
  },
  {
   "cell_type": "markdown",
   "metadata": {},
   "source": [
    "## Features: computing geometric properties\n",
    "For every frame we can query its pose:"
   ]
  },
  {
   "cell_type": "code",
   "execution_count": 15,
   "metadata": {},
   "outputs": [
    {
     "name": "stdout",
     "output_type": "stream",
     "text": [
      "gripper pos: [0.19811857 0.47346823 0.85725552]\n",
      "gripper quat: [-0.7762544  -0.36914823  0.41752535  0.29467146]\n",
      "gripper rot: [[ 0.47768262  0.14922255 -0.86576668]\n",
      " [-0.76573753  0.55379663 -0.32704026]\n",
      " [ 0.43065689  0.81917149  0.37880433]]\n"
     ]
    }
   ],
   "source": [
    "f = C.getFrame('r_gripper')\n",
    "print('gripper pos:', f.getPosition())\n",
    "print('gripper quat:', f.getQuaternion())\n",
    "print('gripper rot:', f.getRotationMatrix())"
   ]
  },
  {
   "cell_type": "markdown",
   "metadata": {},
   "source": [
    "The above provides basic forward kinematics: After `setJointState` you can query the pose of any configuration frame.\n",
    "\n",
    "However, there is a more general way to query *features* (see [Script:Features](https://marctoussaint.github.io/robotics-course/script/script.html#general-concept-of-differentiable-features)), i.e. properties of the configuration in a differentiable manner. You might not use this often; but it is important to understand as these differentiable features are the foundation of how optimization problems are formulated, which you will need a lot.\n",
    "\n",
    "Here are some example features to evaluate:"
   ]
  },
  {
   "cell_type": "code",
   "execution_count": 16,
   "metadata": {},
   "outputs": [
    {
     "name": "stdout",
     "output_type": "stream",
     "text": [
      "position of gripper: [ 0.23905199 -0.0924517   0.83174953] \n",
      "Jacobian: [[ 9.24516978e-02  4.98008436e-01  1.84345556e-02 -2.87571123e-01\n",
      "   1.09308954e-02  1.31027441e-02 -5.63785130e-18  0.00000000e+00\n",
      "   0.00000000e+00  0.00000000e+00  0.00000000e+00  0.00000000e+00\n",
      "   0.00000000e+00  0.00000000e+00  0.00000000e+00  0.00000000e+00]\n",
      " [ 2.39051991e-01  2.71788371e-02  5.52147974e-01 -6.46004103e-02\n",
      "   1.47926804e-01 -1.95791503e-02 -5.55111512e-17  0.00000000e+00\n",
      "   0.00000000e+00  0.00000000e+00  0.00000000e+00  0.00000000e+00\n",
      "   0.00000000e+00  0.00000000e+00  0.00000000e+00  0.00000000e+00]\n",
      " [ 0.00000000e+00 -2.33658725e-01  9.35142748e-02  4.77108729e-01\n",
      "   1.21315073e-02  2.26934407e-01 -7.80625564e-18  0.00000000e+00\n",
      "   0.00000000e+00  0.00000000e+00  0.00000000e+00  0.00000000e+00\n",
      "   0.00000000e+00  0.00000000e+00  0.00000000e+00  0.00000000e+00]]\n"
     ]
    }
   ],
   "source": [
    "[y,J] = C.eval(ry.FS.position, ['gripper'])\n",
    "print('position of gripper:', y, '\\nJacobian:', J)"
   ]
  },
  {
   "cell_type": "code",
   "execution_count": 17,
   "metadata": {},
   "outputs": [
    {
     "data": {
      "text/plain": [
       "(array([-0.33774123]),\n",
       " array([[ 8.54133950e-03, -9.42466215e-03,  5.46365160e-01,\n",
       "          3.82070295e-03, -7.42551634e-02,  1.36129473e-02,\n",
       "          3.79698869e-17, -0.00000000e+00,  2.62542077e-02,\n",
       "          6.52348312e-03, -5.49277505e-01, -5.17451920e-03,\n",
       "          6.33320998e-02,  1.29783161e-02,  7.81541126e-17,\n",
       "         -0.00000000e+00]]))"
      ]
     },
     "execution_count": 17,
     "metadata": {},
     "output_type": "execute_result"
    }
   ],
   "source": [
    "# negative(!) distance between two convex shapes (or origin of marker)\n",
    "C.eval(ry.FS.negDistance, ['panda_coll7', 'r_panda_coll7'])"
   ]
  },
  {
   "cell_type": "code",
   "execution_count": 18,
   "metadata": {},
   "outputs": [
    {
     "data": {
      "text/plain": [
       "(array([ 0.2618139 , -0.76912041,  0.58301568]),\n",
       " array([[ 0.76912041,  0.58214937,  0.32587583, -0.68996265,  0.39921548,\n",
       "         -0.64219038, -0.35752728,  0.        ,  0.        ,  0.        ,\n",
       "          0.        ,  0.        ,  0.        ,  0.        ,  0.        ,\n",
       "          0.        ],\n",
       "        [ 0.2618139 ,  0.03177083,  0.63732108, -0.02541464, -0.30452718,\n",
       "          0.02147944, -0.63840017,  0.        ,  0.        ,  0.        ,\n",
       "          0.        ,  0.        ,  0.        ,  0.        ,  0.        ,\n",
       "          0.        ],\n",
       "        [ 0.        , -0.21951246,  0.69442013,  0.27631315, -0.5810105 ,\n",
       "          0.3167233 , -0.68163001,  0.        ,  0.        ,  0.        ,\n",
       "          0.        ,  0.        ,  0.        ,  0.        ,  0.        ,\n",
       "          0.        ]]))"
      ]
     },
     "execution_count": 18,
     "metadata": {},
     "output_type": "execute_result"
    }
   ],
   "source": [
    "# the x-axis of the given frame in world coordinates\n",
    "C.eval(ry.FS.vectorX, ['gripper'])"
   ]
  },
  {
   "cell_type": "markdown",
   "metadata": {},
   "source": [
    "## Joint and Frame State\n",
    "\n",
    "A configuration is a tree of $n$ frames. Every frame has a pose (position & quaternion), which is represented as a 7D vector $(x,y,z, q_w,q_x,q_y,q_z)^T$. The frame state is the $n\\times 7$ matrix, where the $i$-th row is the pose of the $i$-th frame.\n",
    "\n",
    "A configuration also defines joints, which means that the relative transfromation from a parent to a child frame is parameterized by degrees-of-freedom (DOFs). If the configuration has in total $d$ DOFs, the joint state is a $d$-dimensional vector.\n",
    "\n",
    "Setting the joint state implies computing all relative transformations, and then forward chaining all transformations to compute all frame poses. So setting the joint state also sets the frame state.\n",
    "     \n",
    "Setting the frame state allows you to set frame poses that are inconsistent/impossible w.r.t. the joints! Setting the frame state implies computing all relative transformations from the frame poses, and then assigning the joint state to the *projection* onto the actual DOFs"
   ]
  },
  {
   "cell_type": "code",
   "execution_count": 19,
   "metadata": {},
   "outputs": [
    {
     "data": {
      "text/plain": [
       "0"
      ]
     },
     "execution_count": 19,
     "metadata": {},
     "output_type": "execute_result"
    }
   ],
   "source": [
    "C.setJointState(q0)\n",
    "C.view()"
   ]
  },
  {
   "cell_type": "markdown",
   "metadata": {},
   "source": [
    "The *frame state* is a $n\\times 7$ matrix, which contains for all of $n$ frames the 7D pose. A pose is stored as [p_x, p_y, p_z, q_w, q_x, q_y, q_z], with position p and quaternion q."
   ]
  },
  {
   "cell_type": "code",
   "execution_count": 20,
   "metadata": {},
   "outputs": [
    {
     "name": "stdout",
     "output_type": "stream",
     "text": [
      "frame state:  [[ 0.00000000e+00  0.00000000e+00  0.00000000e+00  1.00000000e+00\n",
      "   0.00000000e+00  0.00000000e+00  0.00000000e+00]\n",
      " [ 0.00000000e+00  0.00000000e+00  0.00000000e+00  1.00000000e+00\n",
      "   0.00000000e+00  0.00000000e+00  0.00000000e+00]\n",
      " [ 0.00000000e+00  0.00000000e+00  0.00000000e+00  1.00000000e+00\n",
      "   0.00000000e+00  0.00000000e+00  0.00000000e+00]\n",
      " [ 0.00000000e+00  0.00000000e+00  3.33000000e-01  1.00000000e+00\n",
      "   0.00000000e+00  0.00000000e+00  0.00000000e+00]\n",
      " [ 0.00000000e+00  0.00000000e+00  3.33000000e-01  1.00000000e+00\n",
      "   0.00000000e+00  0.00000000e+00  0.00000000e+00]\n",
      " [ 0.00000000e+00  0.00000000e+00  3.33000000e-01  1.00000000e+00\n",
      "   0.00000000e+00  0.00000000e+00  0.00000000e+00]\n",
      " [ 0.00000000e+00  0.00000000e+00  3.33000000e-01  1.00000000e+00\n",
      "   0.00000000e+00  0.00000000e+00  0.00000000e+00]\n",
      " [ 0.00000000e+00  0.00000000e+00  3.33000000e-01  7.07106781e-01\n",
      "  -7.07106781e-01  0.00000000e+00  0.00000000e+00]\n",
      " [ 0.00000000e+00  0.00000000e+00  3.33000000e-01  6.20544581e-01\n",
      "  -6.20544581e-01 -3.39005049e-01 -3.39005049e-01]\n",
      " [ 0.00000000e+00  0.00000000e+00  3.33000000e-01  6.20544581e-01\n",
      "  -6.20544581e-01 -3.39005049e-01 -3.39005049e-01]\n",
      " [ 0.00000000e+00  0.00000000e+00  3.33000000e-01  6.20544581e-01\n",
      "  -6.20544581e-01 -3.39005049e-01 -3.39005049e-01]\n",
      " [-2.65904831e-01 -1.05249143e-16  5.03735529e-01  8.77582562e-01\n",
      "   0.00000000e+00 -4.79425539e-01  0.00000000e+00]\n",
      " [-2.65904831e-01 -1.05249143e-16  5.03735529e-01  8.77582562e-01\n",
      "   0.00000000e+00 -4.79425539e-01  0.00000000e+00]\n",
      " [-2.65904831e-01 -1.05249143e-16  5.03735529e-01  8.77582562e-01\n",
      "   0.00000000e+00 -4.79425539e-01  0.00000000e+00]\n",
      " [-2.65904831e-01 -1.05249143e-16  5.03735529e-01  8.77582562e-01\n",
      "   0.00000000e+00 -4.79425539e-01  0.00000000e+00]\n",
      " [-2.21329891e-01 -1.05249143e-16  5.73156885e-01  6.20544581e-01\n",
      "   6.20544581e-01 -3.39005049e-01  3.39005049e-01]\n",
      " [-2.21329891e-01 -1.05249143e-16  5.73156885e-01  6.20544581e-01\n",
      "   6.20544581e-01  3.39005049e-01 -3.39005049e-01]\n",
      " [-2.21329891e-01 -1.05249143e-16  5.73156885e-01  6.20544581e-01\n",
      "   6.20544581e-01  3.39005049e-01 -3.39005049e-01]\n",
      " [-2.21329891e-01 -1.05249143e-16  5.73156885e-01  6.20544581e-01\n",
      "   6.20544581e-01  3.39005049e-01 -3.39005049e-01]\n",
      " [ 5.72200270e-02  2.67785794e-16  8.50054327e-01  8.77582562e-01\n",
      "   0.00000000e+00  4.79425539e-01  0.00000000e+00]\n",
      " [ 5.72200270e-02  2.67785794e-16  8.50054327e-01  8.77582562e-01\n",
      "   0.00000000e+00  4.79425539e-01  0.00000000e+00]\n",
      " [ 5.72200270e-02  2.67785794e-16  8.50054327e-01  8.77582562e-01\n",
      "   0.00000000e+00  4.79425539e-01  0.00000000e+00]\n",
      " [ 5.72200270e-02  2.67785794e-16  8.50054327e-01  8.77582562e-01\n",
      "   0.00000000e+00  4.79425539e-01  0.00000000e+00]\n",
      " [ 5.72200270e-02  2.67785794e-16  8.50054327e-01  6.20544581e-01\n",
      "   6.20544581e-01  3.39005049e-01 -3.39005049e-01]\n",
      " [ 5.72200270e-02  2.67785794e-16  8.50054327e-01  6.20544581e-01\n",
      "   6.20544581e-01 -3.39005049e-01  3.39005049e-01]\n",
      " [ 5.72200270e-02  2.67785794e-16  8.50054327e-01  6.20544581e-01\n",
      "   6.20544581e-01 -3.39005049e-01  3.39005049e-01]\n",
      " [ 5.72200270e-02  2.67785794e-16  8.50054327e-01  6.20544581e-01\n",
      "   6.20544581e-01 -3.39005049e-01  3.39005049e-01]\n",
      " [ 1.04766630e-01  2.67785794e-16  9.24103773e-01  0.00000000e+00\n",
      "   8.77582562e-01  0.00000000e+00  4.79425539e-01]\n",
      " [ 1.04766630e-01  2.67785794e-16  9.24103773e-01  0.00000000e+00\n",
      "   8.77582562e-01  0.00000000e+00  4.79425539e-01]\n",
      " [ 1.04766630e-01  2.67785794e-16  9.24103773e-01  0.00000000e+00\n",
      "   8.77582562e-01  0.00000000e+00  4.79425539e-01]\n",
      " [ 1.04766630e-01  2.67785794e-16  9.24103773e-01  0.00000000e+00\n",
      "   8.77582562e-01  0.00000000e+00  4.79425539e-01]\n",
      " [ 1.94804025e-01  2.67785794e-16  8.66291427e-01  0.00000000e+00\n",
      "   8.77582562e-01  0.00000000e+00  4.79425539e-01]\n",
      " [ 1.94804025e-01  2.67785794e-16  8.66291427e-01  0.00000000e+00\n",
      "   8.77582562e-01  0.00000000e+00  4.79425539e-01]\n",
      " [ 1.94804025e-01  2.67785794e-16  8.66291427e-01  0.00000000e+00\n",
      "   8.77582562e-01  0.00000000e+00  4.79425539e-01]\n",
      " [ 1.94804025e-01  2.67785794e-16  8.66291427e-01  1.83467955e-01\n",
      "   8.10780761e-01  3.35835838e-01  4.42931549e-01]\n",
      " [ 1.94804025e-01  2.67785794e-16  8.66291427e-01  1.83467955e-01\n",
      "   8.10780761e-01  3.35835838e-01  4.42931549e-01]\n",
      " [ 1.94804025e-01  2.67785794e-16  8.66291427e-01  1.83467955e-01\n",
      "   8.10780761e-01  3.35835838e-01  4.42931549e-01]\n",
      " [ 1.94804025e-01  2.67785794e-16  8.66291427e-01  1.83467955e-01\n",
      "   8.10780761e-01  3.35835838e-01  4.42931549e-01]\n",
      " [ 2.43945931e-01  2.71027645e-16  8.34737772e-01  1.83467955e-01\n",
      "   8.10780761e-01  3.35835838e-01  4.42931549e-01]\n",
      " [ 2.43945931e-01  2.71027645e-16  8.34737772e-01  1.83467955e-01\n",
      "   8.10780761e-01  3.35835838e-01  4.42931549e-01]\n",
      " [ 2.63048480e-01 -3.53553800e-02  8.64488229e-01  1.83467955e-01\n",
      "   8.10780761e-01  3.35835838e-01  4.42931549e-01]\n",
      " [ 2.24843382e-01  3.53553800e-02  8.04987314e-01  1.83467955e-01\n",
      "   8.10780761e-01  3.35835838e-01  4.42931549e-01]\n",
      " [ 2.63048480e-01 -3.53553800e-02  8.64488229e-01  1.83467955e-01\n",
      "   8.10780761e-01  3.35835838e-01  4.42931549e-01]\n",
      " [ 2.24843382e-01  3.53553800e-02  8.04987314e-01  1.83467955e-01\n",
      "   8.10780761e-01  3.35835838e-01  4.42931549e-01]\n",
      " [ 2.63048480e-01 -3.53553800e-02  8.64488229e-01  1.83467955e-01\n",
      "   8.10780761e-01  3.35835838e-01  4.42931549e-01]\n",
      " [ 2.24843382e-01  3.53553800e-02  8.04987314e-01  4.42931549e-01\n",
      "  -3.35835838e-01  8.10780761e-01 -1.83467955e-01]\n",
      " [-4.00000000e-02  0.00000000e+00  3.00000000e-02  7.07106781e-01\n",
      "   0.00000000e+00  7.07106781e-01  0.00000000e+00]\n",
      " [ 0.00000000e+00  0.00000000e+00  1.83000000e-01  1.00000000e+00\n",
      "   0.00000000e+00  0.00000000e+00  0.00000000e+00]\n",
      " [-1.39684183e-01 -1.05249143e-16  4.22690183e-01  8.77582562e-01\n",
      "   0.00000000e+00 -4.79425539e-01  0.00000000e+00]\n",
      " [-1.11074170e-01  2.00000000e-02  7.41993865e-01  8.77582562e-01\n",
      "   0.00000000e+00  4.79425539e-01  0.00000000e+00]\n",
      " [ 0.00000000e+00  0.00000000e+00  3.33000000e-01  6.20544581e-01\n",
      "  -6.20544581e-01 -3.39005049e-01 -3.39005049e-01]\n",
      " [-2.21329891e-01 -1.05249143e-16  5.73156885e-01  6.20544581e-01\n",
      "   6.20544581e-01  3.39005049e-01 -3.39005049e-01]\n",
      " [ 5.72200270e-02  4.00000000e-02  8.50054327e-01  6.20544581e-01\n",
      "   6.20544581e-01 -3.39005049e-01  3.39005049e-01]\n",
      " [ 1.13181340e-01  2.67785794e-16  9.18700750e-01  0.00000000e+00\n",
      "   8.77582562e-01  0.00000000e+00  4.79425539e-01]\n",
      " [ 2.81896272e-01  2.67785794e-16  8.10370138e-01  8.10780567e-01\n",
      "   1.83468211e-01 -4.42931442e-01 -3.35836307e-01]\n",
      " [ 1.94804025e-01  2.67785794e-16  8.66291427e-01  4.43577140e-01\n",
      "  -7.03040009e-01 -5.50671700e-01 -7.57281032e-02]\n",
      " [ 3.03197392e-01 -5.51543927e-02  8.62237905e-01  1.83467955e-01\n",
      "   8.10780761e-01  3.35835838e-01  4.42931549e-01]\n",
      " [ 2.43597439e-01  5.51543927e-02  7.69416477e-01  1.83467955e-01\n",
      "   8.10780761e-01  3.35835838e-01  4.42931549e-01]\n",
      " [ 0.00000000e+00  5.00000000e-01  0.00000000e+00  1.00000000e+00\n",
      "   0.00000000e+00  0.00000000e+00  0.00000000e+00]\n",
      " [ 0.00000000e+00  5.00000000e-01  0.00000000e+00  1.00000000e+00\n",
      "   0.00000000e+00  0.00000000e+00  0.00000000e+00]\n",
      " [ 0.00000000e+00  5.00000000e-01  0.00000000e+00  1.00000000e+00\n",
      "   0.00000000e+00  0.00000000e+00  0.00000000e+00]\n",
      " [ 0.00000000e+00  5.00000000e-01  3.33000000e-01  1.00000000e+00\n",
      "   0.00000000e+00  0.00000000e+00  0.00000000e+00]\n",
      " [ 0.00000000e+00  5.00000000e-01  3.33000000e-01  1.00000000e+00\n",
      "   0.00000000e+00  0.00000000e+00  0.00000000e+00]\n",
      " [ 0.00000000e+00  5.00000000e-01  3.33000000e-01  1.00000000e+00\n",
      "   0.00000000e+00  0.00000000e+00  0.00000000e+00]\n",
      " [ 0.00000000e+00  5.00000000e-01  3.33000000e-01  1.00000000e+00\n",
      "   0.00000000e+00  0.00000000e+00  0.00000000e+00]\n",
      " [ 0.00000000e+00  5.00000000e-01  3.33000000e-01  7.07106781e-01\n",
      "  -7.07106781e-01  0.00000000e+00  0.00000000e+00]\n",
      " [ 0.00000000e+00  5.00000000e-01  3.33000000e-01  6.20544581e-01\n",
      "  -6.20544581e-01 -3.39005049e-01 -3.39005049e-01]\n",
      " [ 0.00000000e+00  5.00000000e-01  3.33000000e-01  6.20544581e-01\n",
      "  -6.20544581e-01 -3.39005049e-01 -3.39005049e-01]\n",
      " [ 0.00000000e+00  5.00000000e-01  3.33000000e-01  6.20544581e-01\n",
      "  -6.20544581e-01 -3.39005049e-01 -3.39005049e-01]\n",
      " [-2.65904831e-01  5.00000000e-01  5.03735529e-01  8.77582562e-01\n",
      "   0.00000000e+00 -4.79425539e-01  0.00000000e+00]\n",
      " [-2.65904831e-01  5.00000000e-01  5.03735529e-01  8.77582562e-01\n",
      "   0.00000000e+00 -4.79425539e-01  0.00000000e+00]\n",
      " [-2.65904831e-01  5.00000000e-01  5.03735529e-01  8.77582562e-01\n",
      "   0.00000000e+00 -4.79425539e-01  0.00000000e+00]\n",
      " [-2.65904831e-01  5.00000000e-01  5.03735529e-01  8.77582562e-01\n",
      "   0.00000000e+00 -4.79425539e-01  0.00000000e+00]\n",
      " [-2.21329891e-01  5.00000000e-01  5.73156885e-01  6.20544581e-01\n",
      "   6.20544581e-01 -3.39005049e-01  3.39005049e-01]\n",
      " [-2.21329891e-01  5.00000000e-01  5.73156885e-01  6.20544581e-01\n",
      "   6.20544581e-01  3.39005049e-01 -3.39005049e-01]\n",
      " [-2.21329891e-01  5.00000000e-01  5.73156885e-01  6.20544581e-01\n",
      "   6.20544581e-01  3.39005049e-01 -3.39005049e-01]\n",
      " [-2.21329891e-01  5.00000000e-01  5.73156885e-01  6.20544581e-01\n",
      "   6.20544581e-01  3.39005049e-01 -3.39005049e-01]\n",
      " [ 5.72200270e-02  5.00000000e-01  8.50054327e-01  8.77582562e-01\n",
      "   0.00000000e+00  4.79425539e-01  0.00000000e+00]\n",
      " [ 5.72200270e-02  5.00000000e-01  8.50054327e-01  8.77582562e-01\n",
      "   0.00000000e+00  4.79425539e-01  0.00000000e+00]\n",
      " [ 5.72200270e-02  5.00000000e-01  8.50054327e-01  8.77582562e-01\n",
      "   0.00000000e+00  4.79425539e-01  0.00000000e+00]\n",
      " [ 5.72200270e-02  5.00000000e-01  8.50054327e-01  8.77582562e-01\n",
      "   0.00000000e+00  4.79425539e-01  0.00000000e+00]\n",
      " [ 5.72200270e-02  5.00000000e-01  8.50054327e-01  6.20544581e-01\n",
      "   6.20544581e-01  3.39005049e-01 -3.39005049e-01]\n",
      " [ 5.72200270e-02  5.00000000e-01  8.50054327e-01  6.20544581e-01\n",
      "   6.20544581e-01 -3.39005049e-01  3.39005049e-01]\n",
      " [ 5.72200270e-02  5.00000000e-01  8.50054327e-01  6.20544581e-01\n",
      "   6.20544581e-01 -3.39005049e-01  3.39005049e-01]\n",
      " [ 5.72200270e-02  5.00000000e-01  8.50054327e-01  6.20544581e-01\n",
      "   6.20544581e-01 -3.39005049e-01  3.39005049e-01]\n",
      " [ 1.04766630e-01  5.00000000e-01  9.24103773e-01  0.00000000e+00\n",
      "   8.77582562e-01  0.00000000e+00  4.79425539e-01]\n",
      " [ 1.04766630e-01  5.00000000e-01  9.24103773e-01  0.00000000e+00\n",
      "   8.77582562e-01  0.00000000e+00  4.79425539e-01]\n",
      " [ 1.04766630e-01  5.00000000e-01  9.24103773e-01  0.00000000e+00\n",
      "   8.77582562e-01  0.00000000e+00  4.79425539e-01]\n",
      " [ 1.04766630e-01  5.00000000e-01  9.24103773e-01  0.00000000e+00\n",
      "   8.77582562e-01  0.00000000e+00  4.79425539e-01]\n",
      " [ 1.94804025e-01  5.00000000e-01  8.66291427e-01  0.00000000e+00\n",
      "   8.77582562e-01  0.00000000e+00  4.79425539e-01]\n",
      " [ 1.94804025e-01  5.00000000e-01  8.66291427e-01  0.00000000e+00\n",
      "   8.77582562e-01  0.00000000e+00  4.79425539e-01]\n",
      " [ 1.94804025e-01  5.00000000e-01  8.66291427e-01  0.00000000e+00\n",
      "   8.77582562e-01  0.00000000e+00  4.79425539e-01]\n",
      " [ 1.94804025e-01  5.00000000e-01  8.66291427e-01  1.83467955e-01\n",
      "   8.10780761e-01  3.35835838e-01  4.42931549e-01]\n",
      " [ 1.94804025e-01  5.00000000e-01  8.66291427e-01  1.83467955e-01\n",
      "   8.10780761e-01  3.35835838e-01  4.42931549e-01]\n",
      " [ 1.94804025e-01  5.00000000e-01  8.66291427e-01  1.83467955e-01\n",
      "   8.10780761e-01  3.35835838e-01  4.42931549e-01]\n",
      " [ 1.94804025e-01  5.00000000e-01  8.66291427e-01  1.83467955e-01\n",
      "   8.10780761e-01  3.35835838e-01  4.42931549e-01]\n",
      " [ 2.43945931e-01  5.00000000e-01  8.34737772e-01  1.83467955e-01\n",
      "   8.10780761e-01  3.35835838e-01  4.42931549e-01]\n",
      " [ 2.43945931e-01  5.00000000e-01  8.34737772e-01  1.83467955e-01\n",
      "   8.10780761e-01  3.35835838e-01  4.42931549e-01]\n",
      " [ 2.63048480e-01  4.64644620e-01  8.64488229e-01  1.83467955e-01\n",
      "   8.10780761e-01  3.35835838e-01  4.42931549e-01]\n",
      " [ 2.24843382e-01  5.35355380e-01  8.04987314e-01  1.83467955e-01\n",
      "   8.10780761e-01  3.35835838e-01  4.42931549e-01]\n",
      " [ 2.63048480e-01  4.64644620e-01  8.64488229e-01  1.83467955e-01\n",
      "   8.10780761e-01  3.35835838e-01  4.42931549e-01]\n",
      " [ 2.24843382e-01  5.35355380e-01  8.04987314e-01  1.83467955e-01\n",
      "   8.10780761e-01  3.35835838e-01  4.42931549e-01]\n",
      " [ 2.63048480e-01  4.64644620e-01  8.64488229e-01  1.83467955e-01\n",
      "   8.10780761e-01  3.35835838e-01  4.42931549e-01]\n",
      " [ 2.24843382e-01  5.35355380e-01  8.04987314e-01  4.42931549e-01\n",
      "  -3.35835838e-01  8.10780761e-01 -1.83467955e-01]\n",
      " [-4.00000000e-02  5.00000000e-01  3.00000000e-02  7.07106781e-01\n",
      "   0.00000000e+00  7.07106781e-01  0.00000000e+00]\n",
      " [ 0.00000000e+00  5.00000000e-01  1.83000000e-01  1.00000000e+00\n",
      "   0.00000000e+00  0.00000000e+00  0.00000000e+00]\n",
      " [-1.39684183e-01  5.00000000e-01  4.22690183e-01  8.77582562e-01\n",
      "   0.00000000e+00 -4.79425539e-01  0.00000000e+00]\n",
      " [-1.11074170e-01  5.20000000e-01  7.41993865e-01  8.77582562e-01\n",
      "   0.00000000e+00  4.79425539e-01  0.00000000e+00]\n",
      " [ 0.00000000e+00  5.00000000e-01  3.33000000e-01  6.20544581e-01\n",
      "  -6.20544581e-01 -3.39005049e-01 -3.39005049e-01]\n",
      " [-2.21329891e-01  5.00000000e-01  5.73156885e-01  6.20544581e-01\n",
      "   6.20544581e-01  3.39005049e-01 -3.39005049e-01]\n",
      " [ 5.72200270e-02  5.40000000e-01  8.50054327e-01  6.20544581e-01\n",
      "   6.20544581e-01 -3.39005049e-01  3.39005049e-01]\n",
      " [ 1.13181340e-01  5.00000000e-01  9.18700750e-01  0.00000000e+00\n",
      "   8.77582562e-01  0.00000000e+00  4.79425539e-01]\n",
      " [ 2.81896272e-01  5.00000000e-01  8.10370138e-01  8.10780567e-01\n",
      "   1.83468211e-01 -4.42931442e-01 -3.35836307e-01]\n",
      " [ 1.94804025e-01  5.00000000e-01  8.66291427e-01  4.43577140e-01\n",
      "  -7.03040009e-01 -5.50671700e-01 -7.57281032e-02]\n",
      " [ 3.03197392e-01  4.44845607e-01  8.62237905e-01  1.83467955e-01\n",
      "   8.10780761e-01  3.35835838e-01  4.42931549e-01]\n",
      " [ 2.43597439e-01  5.55154393e-01  7.69416477e-01  1.83467955e-01\n",
      "   8.10780761e-01  3.35835838e-01  4.42931549e-01]]\n"
     ]
    }
   ],
   "source": [
    "X0 = C.getFrameState()\n",
    "print('frame state: ', X0)"
   ]
  },
  {
   "cell_type": "markdown",
   "metadata": {},
   "source": [
    "Let's do a very questionable thing: adding .1 to all numbers in the frame matrix!"
   ]
  },
  {
   "cell_type": "code",
   "execution_count": 21,
   "metadata": {},
   "outputs": [
    {
     "data": {
      "text/plain": [
       "0"
      ]
     },
     "execution_count": 21,
     "metadata": {},
     "output_type": "execute_result"
    }
   ],
   "source": [
    "X = X0 + .1\n",
    "C.setFrameState(X)\n",
    "C.view()"
   ]
  },
  {
   "cell_type": "markdown",
   "metadata": {},
   "source": [
    "That totally broke the original design of the robot! Setting global frame states overwrites the relative transformations between frames.\n",
    "\n",
    "(Also, the rows of X have non-normalized quaternions! These are normalized when setting the frame state.)\n",
    "\n",
    "Let's reset:"
   ]
  },
  {
   "cell_type": "code",
   "execution_count": 22,
   "metadata": {},
   "outputs": [
    {
     "data": {
      "text/plain": [
       "0"
      ]
     },
     "execution_count": 22,
     "metadata": {},
     "output_type": "execute_result"
    }
   ],
   "source": [
    "C.setFrameState(X0)\n",
    "C.view()"
   ]
  },
  {
   "cell_type": "markdown",
   "metadata": {},
   "source": [
    " ## Selecting joints\n",
    "\n",
    "Often one would like to choose which joints are actually active, that is, which joints are referred to in q. This allows one to sub-select joints and work only with projections of the full configuration state. This changes the joint state dimensionality, including ordering of entries in q. The frame state is not affected by such a selection of active joints."
   ]
  },
  {
   "cell_type": "code",
   "execution_count": 23,
   "metadata": {},
   "outputs": [
    {
     "name": "stdout",
     "output_type": "stream",
     "text": [
      "joint state:  [0. 0.]\n",
      "joint names:  ['panda_joint1', 'r_panda_joint1']\n"
     ]
    }
   ],
   "source": [
    "C.selectJoints(['panda_joint1', 'r_panda_joint1'])\n",
    "print('joint state: ', C.getJointState())\n",
    "print('joint names: ', C.getJointNames() )"
   ]
  },
  {
   "cell_type": "code",
   "execution_count": 24,
   "metadata": {},
   "outputs": [
    {
     "name": "stdout",
     "output_type": "stream",
     "text": [
      "joint state:  [ 0.      -1.00001  0.      -2.00001  0.       2.00001  0.       0.05\n",
      "  0.      -1.00001  0.      -2.00001  0.       2.00001  0.       0.05   ]\n",
      "joint names:  ['panda_joint1', 'panda_joint2', 'panda_joint3', 'panda_joint4', 'panda_joint5', 'panda_joint6', 'panda_joint7', 'panda_finger_joint1panda_finger_joint2', 'r_panda_joint1', 'r_panda_joint2', 'r_panda_joint3', 'r_panda_joint4', 'r_panda_joint5', 'r_panda_joint6', 'r_panda_joint7', 'r_panda_finger_joint1r_panda_finger_joint2']\n"
     ]
    }
   ],
   "source": [
    "C.selectJoints([], notThose=True)\n",
    "print('joint state: ', C.getJointState())\n",
    "print('joint names: ', C.getJointNames() )"
   ]
  },
  {
   "cell_type": "markdown",
   "metadata": {},
   "source": [
    "## View interaction and releasing objects"
   ]
  },
  {
   "cell_type": "markdown",
   "metadata": {},
   "source": [
    "You can close and re-open the view window"
   ]
  },
  {
   "cell_type": "code",
   "execution_count": 25,
   "metadata": {},
   "outputs": [],
   "source": [
    "C.view_close()"
   ]
  },
  {
   "cell_type": "code",
   "execution_count": 26,
   "metadata": {},
   "outputs": [
    {
     "data": {
      "text/plain": [
       "0"
      ]
     },
     "execution_count": 26,
     "metadata": {},
     "output_type": "execute_result"
    }
   ],
   "source": [
    "# things are still there\n",
    "C.view(pause=False, message='this is a message')"
   ]
  },
  {
   "cell_type": "markdown",
   "metadata": {},
   "source": [
    "For user interaction it is often useful to wait for a keypress (i.e., by making `view` a blocking call via `pause=True`):"
   ]
  },
  {
   "cell_type": "code",
   "execution_count": 27,
   "metadata": {},
   "outputs": [
    {
     "name": "stdout",
     "output_type": "stream",
     "text": [
      "pressed key: 0 \u0000\n"
     ]
    }
   ],
   "source": [
    "pressed_key = C.view(pause=True, message='press some key!')\n",
    "print('pressed key:', pressed_key, chr(pressed_key))"
   ]
  },
  {
   "cell_type": "markdown",
   "metadata": {},
   "source": [
    "As you can see above, `.view()` also returnes the ID of key that was pressed, which can be helpful for debugging purposes.\n",
    "\n",
    "To visualize your configuration outside of the viewer, you can also get a screenshot:"
   ]
  },
  {
   "cell_type": "code",
   "execution_count": 28,
   "metadata": {},
   "outputs": [
    {
     "name": "stdout",
     "output_type": "stream",
     "text": [
      "<class 'numpy.ndarray'> (400, 400, 3)\n"
     ]
    }
   ],
   "source": [
    "img = C.view_getRgb()\n",
    "print(type(img), img.shape)"
   ]
  },
  {
   "cell_type": "code",
   "execution_count": 29,
   "metadata": {},
   "outputs": [
    {
     "data": {
      "image/png": "[encoded data removed]",
      "text/plain": [
       "<Figure size 640x480 with 1 Axes>"
      ]
     },
     "metadata": {},
     "output_type": "display_data"
    }
   ],
   "source": [
    "import matplotlib.pyplot as plt\n",
    "plt.imshow(img)\n",
    "plt.show()"
   ]
  },
  {
   "cell_type": "markdown",
   "metadata": {},
   "source": [
    "## Cleanup\n",
    "\n",
    "Don't forget to release everything, including closing the view"
   ]
  },
  {
   "cell_type": "code",
   "execution_count": 30,
   "metadata": {},
   "outputs": [],
   "source": [
    "del C"
   ]
  },
  {
   "cell_type": "code",
   "execution_count": null,
   "metadata": {},
   "outputs": [],
   "source": []
  }
 ],
 "metadata": {
  "kernelspec": {
   "display_name": "Python 3 (ipykernel)",
   "language": "python",
   "name": "python3"
  },
  "language_info": {
   "codemirror_mode": {
    "name": "ipython",
    "version": 3
   },
   "file_extension": ".py",
   "mimetype": "text/x-python",
   "name": "python",
   "nbconvert_exporter": "python",
   "pygments_lexer": "ipython3",
   "version": "3.8.10"
  }
 },
 "nbformat": 4,
 "nbformat_minor": 4
}
