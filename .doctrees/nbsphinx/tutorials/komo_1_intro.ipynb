{
 "cells": [
  {
   "cell_type": "markdown",
   "id": "dffc232a",
   "metadata": {},
   "source": [
    "# Intro: KOMO - Motion Optimization\n",
    "\n",
    "KOMO is a framework for designing motion by formulating constrained non-linear optimization problems. Inverse kinematics (IK) is the special case of optimizing only over a single configuration rather than a path. Formulating KOMO problems is key to realizing motion in `rai`.\n",
    "\n",
    "The [Features tutorial](config_2_features.html) and the [Notes: NLP Interface](https://marctoussaint.github.io/robotic/notes#nlp-interface) provide the mathematical background on differentiable features and the convention of how NLPs can be defined via features.\n",
    "\n",
    "This tutorial shows how IK, rough waypoint optimization, and fine path optimization can be formulated as non-linear mathematical program (NLP) using KOMO. Essentially, the `addObjective` allows to add costs or constraints over any `Feature` to the NLP (same features that can be evaluated with `C.eval`)."
   ]
  },
  {
   "cell_type": "markdown",
   "id": "a177972b",
   "metadata": {},
   "source": [
    "## Minimal IK example\n",
    "\n",
    "Let's first setup a single panda with box (located hanging in the air):"
   ]
  },
  {
   "cell_type": "code",
   "execution_count": null,
   "id": "8e07bf36",
   "metadata": {},
   "outputs": [],
   "source": [
    "import robotic as ry\n",
    "import numpy as np\n",
    "import time\n",
    "\n",
    "C = ry.Config()\n",
    "C.addFile(ry.raiPath('scenarios/pandaSingle.g'))\n",
    "C.view()\n",
    "\n",
    "C.addFrame('box') \\\n",
    "    .setPosition([-.25,.1,1.]) \\\n",
    "    .setShape(ry.ST.ssBox, size=[.06,.06,.06,.005]) \\\n",
    "    .setColor([1,.5,0]) \\\n",
    "    .setContact(1)\n",
    "C.view()"
   ]
  },
  {
   "cell_type": "markdown",
   "id": "ac059dc2",
   "metadata": {},
   "source": [
    "The following defines an optimization problem over a single configuration.\n",
    "The constructor declares over how many configurations (single, waypoints, path..) we optimize. The addObjective methods add costs or constraints:"
   ]
  },
  {
   "cell_type": "code",
   "execution_count": null,
   "id": "bccb7b55",
   "metadata": {},
   "outputs": [],
   "source": [
    "qHome = C.getJointState()\n",
    "\n",
    "komo = ry.KOMO(C, phases=1, slicesPerPhase=1, kOrder=0, enableCollisions=False)\n",
    "komo.addObjective( # a sum-of-squares cost for staying close (in joint space) to qHome\n",
    "    times=[], \n",
    "    feature=ry.FS.jointState, \n",
    "    frames=[],\n",
    "    type=ry.OT.sos, \n",
    "    scale=[1e-1], \n",
    "    target=qHome\n",
    ")\n",
    "komo.addObjective([], ry.FS.positionDiff, ['l_gripper', 'box'], ry.OT.eq, [1e1]) # an equality constraint on the 3D position difference between gripper and box"
   ]
  },
  {
   "cell_type": "markdown",
   "id": "76895850",
   "metadata": {},
   "source": [
    "We explain the KOMO constructor arguments later. (The above defines an IK problem.)\n",
    "\n",
    "The `addObjective` method has signature\n",
    "\n",
    "* `times`: the time intervals (subset of configurations in a path) over which this feature is active (irrelevant for IK)\n",
    "* `feature`: the feature symbol (see the [Features tutorial](config_2_features.html))\n",
    "* `frames`: the frames for which the feature is computed, given as list of frame names\n",
    "* `type`: whether this is a sum-of-squares (sos) cost, or eq or ineq constraint\n",
    "* `scale`: the matrix(!) by which the feature is multiplied\n",
    "* `target`: the offset which is substracted from the feature (before scaling)\n",
    "\n",
    "Also concerning scale and target, see the [Features tutorial](config_2_features.html)) a mathematical description."
   ]
  },
  {
   "cell_type": "markdown",
   "id": "9e27cfa8",
   "metadata": {},
   "source": [
    "Given this definition of an optimization problem, we can call a generic NLP solver:"
   ]
  },
  {
   "cell_type": "code",
   "execution_count": null,
   "id": "178e3d42",
   "metadata": {},
   "outputs": [],
   "source": [
    "ret = ry.NLP_Solver(komo.nlp(), verbose=4) .solve()\n",
    "print(ret)"
   ]
  },
  {
   "cell_type": "markdown",
   "id": "5481e8b8",
   "metadata": {},
   "source": [
    "With this high verbosity, individual newton steps and Augmented Lagrangian outer loops are displayed (we need only very few steps here).\n",
    "\n",
    "The KOMO view displays the optimized configuration(s) stored by KOMO. (For paths, this is an overlay of many configurations. For IK, just one.):"
   ]
  },
  {
   "cell_type": "code",
   "execution_count": null,
   "id": "b727e37c",
   "metadata": {},
   "outputs": [],
   "source": [
    "komo.view(False, \"IK solution\")"
   ]
  },
  {
   "cell_type": "markdown",
   "id": "10840e1f",
   "metadata": {},
   "source": [
    "We can get the sequence of joint state vectors for the optimized configuration(s) with `getPath`. Since this is only an IK problem, the sequence contains only the joint state vector for the single optimized configuration:"
   ]
  },
  {
   "cell_type": "code",
   "execution_count": null,
   "id": "5adc15f8",
   "metadata": {},
   "outputs": [],
   "source": [
    "q = komo.getPath()\n",
    "print(type(q), q.shape)"
   ]
  },
  {
   "cell_type": "markdown",
   "id": "9f92e896",
   "metadata": {},
   "source": [
    "We're done with KOMO and can destroy it. Then set the optimal joint state in C and view it:"
   ]
  },
  {
   "cell_type": "code",
   "execution_count": null,
   "id": "b20fc581",
   "metadata": {},
   "outputs": [],
   "source": [
    "del komo #also closes komo view\n",
    "C.setJointState(q[0])\n",
    "C.view()"
   ]
  },
  {
   "cell_type": "markdown",
   "id": "57ccf739",
   "metadata": {},
   "source": [
    "## Example for more constraints: box grasping IK\n",
    "\n",
    "The key to design motions is to add clever constraints. Here is an example for more realistic box grasping:"
   ]
  },
  {
   "cell_type": "code",
   "execution_count": null,
   "id": "bdbbbe7b",
   "metadata": {},
   "outputs": [],
   "source": [
    "komo = ry.KOMO(C, 1,1,0, True)\n",
    "komo.addObjective([], ry.FS.jointState, [], ry.OT.sos, [1e-1], qHome)\n",
    "komo.addObjective([], ry.FS.accumulatedCollisions, [], ry.OT.eq)\n",
    "komo.addObjective([], ry.FS.jointLimits, [], ry.OT.ineq)\n",
    "komo.addObjective([], ry.FS.positionDiff, ['l_gripper', 'box'], ry.OT.eq, [1e1])\n",
    "komo.addObjective([], ry.FS.scalarProductXX, ['l_gripper', 'box'], ry.OT.eq, [1e1], [0])\n",
    "komo.addObjective([], ry.FS.scalarProductXZ, ['l_gripper', 'box'], ry.OT.eq, [1e1], [0])\n",
    "komo.addObjective([], ry.FS.distance, ['l_palm', 'box'], ry.OT.ineq, [1e1])"
   ]
  },
  {
   "cell_type": "markdown",
   "id": "de8fe5b5",
   "metadata": {},
   "source": [
    "The two `scalarProduct` feature state that the gripper x-axis (which is the axis connecting the fingers) should be orthogonal to the object x- and z-axes. That implies fingers to normally oppose the object's y-planes.\n",
    "\n",
    "Note that grasping could also be opposing the object x- or z- planes -- see below. Let solve it and then set the joint state to the solution:"
   ]
  },
  {
   "cell_type": "code",
   "execution_count": null,
   "id": "dab4fbee",
   "metadata": {},
   "outputs": [],
   "source": [
    "ret = ry.NLP_Solver(komo.nlp(), verbose=0 ) .solve()\n",
    "print(ret)\n",
    "if ret.feasible:\n",
    "    print('-- Always check feasibility flag of NLP solver return')\n",
    "else:\n",
    "    print('-- THIS IS INFEASIBLE!')"
   ]
  },
  {
   "cell_type": "code",
   "execution_count": null,
   "id": "f1970bb1",
   "metadata": {},
   "outputs": [],
   "source": [
    "q = komo.getPath()\n",
    "C.setJointState(q[0])\n",
    "C.view(False, \"IK solution\")"
   ]
  },
  {
   "cell_type": "markdown",
   "id": "bef1a139",
   "metadata": {},
   "source": [
    "Reusing the KOMO instance is ok if some aspect of the configuration changes and you want to resolve the same problem:"
   ]
  },
  {
   "cell_type": "code",
   "execution_count": null,
   "id": "a2d386d6",
   "metadata": {},
   "outputs": [],
   "source": [
    "box = C.getFrame('box')\n",
    "box.setPosition([-.25,.1,1.])\n",
    "p0 = box.getPosition() # memory the start box position\n",
    "\n",
    "for t in range(10):\n",
    "    box.setPosition(p0 + .2 * np.random.randn(3)) # randomize box position\n",
    "    komo.updateRootObjects(C) # only works for root objects (the 'box' is one)\n",
    "    ret = ry.NLP_Solver(komo.nlp(), verbose=0 ) .solve()\n",
    "    print(ret)\n",
    "    q = komo.getPath()\n",
    "    C.setJointState(q[0])\n",
    "    C.view(False, 'IK solution - ' + ('*** INFEASIBLE ***' if not ret.feasible else 'feasible'))\n",
    "    time.sleep(1.)"
   ]
  },
  {
   "cell_type": "markdown",
   "id": "c0e78a35",
   "metadata": {},
   "source": [
    "So the solver finds feasible grasps and exploits the null space of the constraints (grasps from different directions, but always opposing the y-planes).\n",
    "\n",
    "To make this proper, we should actually test all three possible grasps - so let's define 3 IK problems, solve each, and pick the best:"
   ]
  },
  {
   "cell_type": "code",
   "execution_count": null,
   "id": "8222658d",
   "metadata": {},
   "outputs": [],
   "source": [
    "del komo\n",
    "komo = []\n",
    "for k in range(3):\n",
    "    komo.append(ry.KOMO(C, 1,1,0, True))\n",
    "    komo[k].addObjective([], ry.FS.jointState, [], ry.OT.sos, [1e-1], qHome)\n",
    "    komo[k].addObjective([], ry.FS.accumulatedCollisions, [], ry.OT.eq)\n",
    "    komo[k].addObjective([], ry.FS.jointLimits, [], ry.OT.ineq)\n",
    "    komo[k].addObjective([], ry.FS.positionDiff, ['l_gripper', 'box'], ry.OT.eq, [1e1])\n",
    "    komo[k].addObjective([], ry.FS.distance, ['l_palm', 'box'], ry.OT.ineq, [1e1])\n",
    "\n",
    "komo[0].addObjective([], ry.FS.scalarProductXY, ['l_gripper', 'box'], ry.OT.eq, [1e1], [0])\n",
    "komo[0].addObjective([], ry.FS.scalarProductXZ, ['l_gripper', 'box'], ry.OT.eq, [1e1], [0])\n",
    "\n",
    "komo[1].addObjective([], ry.FS.scalarProductXX, ['l_gripper', 'box'], ry.OT.eq, [1e1], [0])\n",
    "komo[1].addObjective([], ry.FS.scalarProductXZ, ['l_gripper', 'box'], ry.OT.eq, [1e1], [0])\n",
    "\n",
    "komo[2].addObjective([], ry.FS.scalarProductXX, ['l_gripper', 'box'], ry.OT.eq, [1e1], [0])\n",
    "komo[2].addObjective([], ry.FS.scalarProductXY, ['l_gripper', 'box'], ry.OT.eq, [1e1], [0])"
   ]
  },
  {
   "cell_type": "code",
   "execution_count": null,
   "id": "09c7a057",
   "metadata": {},
   "outputs": [],
   "source": [
    "for t in range(10):\n",
    "    box.setPosition(p0 + .2 * np.random.randn(3))\n",
    "    box.setQuaternion(np.random.randn(4)) # also set random orientation (quaternions get internally normalized)\n",
    "    \n",
    "    score = []\n",
    "    for k in range(3):\n",
    "        komo[k].updateRootObjects(C)\n",
    "        ret = ry.NLP_Solver(komo[k].nlp(), verbose=0 ) .solve()\n",
    "        score.append( 100.*(ret.eq+ret.ineq) + ret.sos )\n",
    "        \n",
    "    k = np.argmin(score)\n",
    "    C.setJointState(komo[k].getPath()[0])\n",
    "    C.view(False, f'IK solution {k} - ' + ('*** INFEASIBLE ***' if not ret.feasible else 'feasible'))\n",
    "    time.sleep(1.)"
   ]
  },
  {
   "cell_type": "code",
   "execution_count": null,
   "id": "cda905f5",
   "metadata": {},
   "outputs": [],
   "source": [
    "del komo\n",
    "del C"
   ]
  },
  {
   "cell_type": "markdown",
   "id": "b5f24dbf",
   "metadata": {},
   "source": [
    "The above example is already quite elaborate: Defining multiple constraint problems, trying to solve them each, then picking the best. But this is good practise."
   ]
  },
  {
   "cell_type": "markdown",
   "id": "f7d69b02",
   "metadata": {},
   "source": [
    "## Waypoints example\n",
    "\n",
    "Motion design can often be done by computing waypoints, i.e. a coarse-resolution sequence of poses. After this, you can either use the BotOp interface directly to interpolate them using splines, or invest more compute and compute optimal paths (fulfilling additional constraints) using path optimization between the waypoints, which we discuss later.\n",
    "\n",
    "Let's define a configuration where the desired gripper waypoints are pre-defined as marker frames. (That's a common pattern: Simplify defining constraints by adding helper reference frames in the configuration.)"
   ]
  },
  {
   "cell_type": "code",
   "execution_count": null,
   "id": "a6da9bda",
   "metadata": {},
   "outputs": [],
   "source": [
    "C = ry.Config()\n",
    "C.addFile(ry.raiPath('scenarios/pandaSingle.g'))\n",
    "C.addFrame('way1'). setShape(ry.ST.marker, [.1]) .setPosition([.4, .2, 1.])\n",
    "C.addFrame('way2'). setShape(ry.ST.marker, [.1]) .setPosition([.4, .2, 1.4])\n",
    "C.addFrame('way3'). setShape(ry.ST.marker, [.1]) .setPosition([-.4, .2, 1.])\n",
    "C.addFrame('way4'). setShape(ry.ST.marker, [.1]) .setPosition([-.4, .2, 1.4])\n",
    "qHome = C.getJointState()\n",
    "C.view()"
   ]
  },
  {
   "cell_type": "markdown",
   "id": "53a2b1c8",
   "metadata": {},
   "source": [
    "Now we can define a KOMO problem over 4 configurations, where at each configuration we impose position equality between gripper and a waypoint:"
   ]
  },
  {
   "cell_type": "code",
   "execution_count": null,
   "id": "7c3a74d2",
   "metadata": {},
   "outputs": [],
   "source": [
    "komo = ry.KOMO(C, phases=4, slicesPerPhase=1, kOrder=1, enableCollisions=False)\n",
    "komo.addControlObjective([], 0, 1e-1)\n",
    "komo.addControlObjective([], 1, 1e0)\n",
    "komo.addObjective([1], ry.FS.positionDiff, ['l_gripper', 'way1'], ry.OT.eq, [1e1])\n",
    "komo.addObjective([2], ry.FS.positionDiff, ['l_gripper', 'way2'], ry.OT.eq, [1e1])\n",
    "komo.addObjective([3], ry.FS.positionDiff, ['l_gripper', 'way3'], ry.OT.eq, [1e1])\n",
    "komo.addObjective([4], ry.FS.positionDiff, ['l_gripper', 'way4'], ry.OT.eq, [1e1])\n",
    "\n",
    "ret = ry.NLP_Solver(komo.nlp(), verbose=0 ) .solve()\n",
    "print(ret)\n",
    "q = komo.getPath()\n",
    "print(q)\n",
    "\n",
    "for t in range(len(q)):\n",
    "    C.setJointState(q[t])\n",
    "    C.view(False, f'waypoint {t}')\n",
    "    time.sleep(1)"
   ]
  },
  {
   "cell_type": "markdown",
   "id": "f6263d5c",
   "metadata": {},
   "source": [
    "The `KOMO constructor` has arguments:\n",
    "\n",
    "* `config`: the configuration, which is copied once (for IK) or many times (for waypoints/paths) to be the optimization variable\n",
    "* `phases`: the number $P$ of phases (which essentially defines the real-valued interval $[0, P]$ over which objectives can be formulated)\n",
    "* `slicesPerPhase`: the discretizations per phase -> in total we have $\\texttt{phases} \\cdot \\texttt{slicesPerPhases}$ configurations which form the path and over which we optimize\n",
    "* `kOrder`: the \"Markov-order\", i.e., maximal tuple of configurations over which we formulate features (e.g. take finite differences)\n",
    "* enableCollisions: if True, KOMO runs a broadphase collision check (using libFCL) in each optimization step -- only then accumulative collision/penetration features will correctly evaluate to non-zero. But this is costly.\n",
    "\n",
    "In our waypoint case: We have 4 phases, one for each waypoint. We don't sub-sample the motion between waypoints, which is why we have slicesPerPhase=1. We formulate this as a 1-order problem: Some features take the finite difference between consecutive configurations (namely, to penalize velocities).\n",
    "\n",
    "The `addControlObjective` is /almost/ the same as adding a `FS.jointState` objective: It penalizes distances in joint space. It has three arguments:\n",
    "\n",
    "* `times`: (as for `addObjective`) the phase-interval in which this objective holds; [] means all times\n",
    "* `order`: Do we penalize the jointState directly (order=0: penalizing sqr distance to qHome, order=1: penalizing sqr distances between consecutive configurations (velocities), order=2: penalizing accelerations across 3 configurations)\n",
    "* `scale`: as usual, but modulated by a factor \"sqrt(delta t)\" that somehow ensures total control costs in approximately independent of the choice of stepsPerPhase\n",
    "\n",
    "In our waypoint case: We add control costs for both: homing (order 0, ensuring to stay close to homing), and velocities (order 1, penalizing movement between waypoints)\n",
    "\n",
    "And the `addObjective` method now makes use of `times` argument: Specifying [1] means that this objective only holds in the interval [1,1], i.e. at phase-time 1 only."
   ]
  },
  {
   "cell_type": "markdown",
   "id": "132f82a0",
   "metadata": {},
   "source": [
    "## Path example\n",
    "\n",
    "Let's do almost the same, but for a fine path. First order=1, leading to zig-zag, then order=2, leading to smooth path."
   ]
  },
  {
   "cell_type": "code",
   "execution_count": null,
   "id": "dd21ae9e",
   "metadata": {},
   "outputs": [],
   "source": [
    "# Note, the slicesPerPhase=10 is the only difference to above\n",
    "C.setJointState(qHome)\n",
    "komo = ry.KOMO(C, 4, 10, 1, False)\n",
    "komo.addControlObjective([], 0, 1e-1) # what happens if you change weighting to 1e0? why?\n",
    "komo.addControlObjective([], 1, 1e0)\n",
    "komo.addObjective([1], ry.FS.positionDiff, ['l_gripper', 'way1'], ry.OT.eq, [1e1])\n",
    "komo.addObjective([2], ry.FS.positionDiff, ['l_gripper', 'way2'], ry.OT.eq, [1e1])\n",
    "komo.addObjective([3], ry.FS.positionDiff, ['l_gripper', 'way3'], ry.OT.eq, [1e1])\n",
    "komo.addObjective([4], ry.FS.positionDiff, ['l_gripper', 'way4'], ry.OT.eq, [1e1])\n",
    "\n",
    "ret = ry.NLP_Solver(komo.nlp(), verbose=0 ) .solve()\n",
    "print(ret)\n",
    "q = komo.getPath()\n",
    "print('size of path:', q.shape)\n",
    "\n",
    "for t in range(q.shape[0]):\n",
    "    C.setJointState(q[t])\n",
    "    C.view(False, f'waypoint {t}')\n",
    "    time.sleep(.1)"
   ]
  },
  {
   "cell_type": "code",
   "execution_count": null,
   "id": "40341e34",
   "metadata": {},
   "outputs": [],
   "source": [
    "# only differences: the kOrder=2, control objective order 2, constrain final jointState velocity to zero\n",
    "C.setJointState(qHome)\n",
    "komo = ry.KOMO(C, 4, 10, 2, False)\n",
    "komo.addControlObjective([], 0, 1e-1) # what happens if you change weighting to 1e0? why?\n",
    "komo.addControlObjective([], 2, 1e0)\n",
    "komo.addObjective([1], ry.FS.positionDiff, ['l_gripper', 'way1'], ry.OT.eq, [1e1])\n",
    "komo.addObjective([2], ry.FS.positionDiff, ['l_gripper', 'way2'], ry.OT.eq, [1e1])\n",
    "komo.addObjective([3], ry.FS.positionDiff, ['l_gripper', 'way3'], ry.OT.eq, [1e1])\n",
    "komo.addObjective([4], ry.FS.positionDiff, ['l_gripper', 'way4'], ry.OT.eq, [1e1])\n",
    "komo.addObjective([4], ry.FS.jointState, [], ry.OT.eq, [1e1], [], order=1)\n",
    "\n",
    "ret = ry.NLP_Solver(komo.nlp(), verbose=0 ) .solve()\n",
    "print(ret)\n",
    "q = komo.getPath()\n",
    "print('size of path:', q.shape)\n",
    "\n",
    "for t in range(q.shape[0]):\n",
    "    C.setJointState(q[t])\n",
    "    C.view(False, f'waypoint {t}')\n",
    "    time.sleep(.1)"
   ]
  },
  {
   "cell_type": "markdown",
   "id": "154ea039",
   "metadata": {},
   "source": [
    "Notice the new last objective! Without it, *final velocity* would not be zero. The last objective constrains the order=1 (i.e. velocity!) of the jointState feature to be zero.\n",
    "\n",
    "Let's plot the trajectory:"
   ]
  },
  {
   "cell_type": "code",
   "execution_count": null,
   "id": "3d47d887",
   "metadata": {},
   "outputs": [],
   "source": [
    "from matplotlib import pyplot as plt\n",
    "\n",
    "print(q.shape)\n",
    "fig, ax = plt.subplots()\n",
    "ax.plot(q)\n",
    "ax.set_xlabel(\"time slice (0=first-to-be-optimized)\")\n",
    "ax.set_ylabel(\"joint angles\")\n",
    "fig.tight_layout()\n",
    "plt.show()"
   ]
  },
  {
   "cell_type": "markdown",
   "id": "748b6a95",
   "metadata": {},
   "source": [
    "Let's plot the errors/costs of the objectives over time:"
   ]
  },
  {
   "cell_type": "code",
   "execution_count": null,
   "id": "add05d33",
   "metadata": {},
   "outputs": [],
   "source": [
    "err = komo.info_objectiveErrorTraces()\n",
    "labels = komo.info_objectiveNames()\n",
    "\n",
    "fig, ax = plt.subplots()\n",
    "ax.plot(err, label=labels)\n",
    "ax.legend(loc=\"upper left\", prop={'size': 6})\n",
    "ax.set_xlabel(\"time slice (0=first-to-be-optimized)\")\n",
    "ax.set_ylabel(\"objectiv error\")\n",
    "fig.tight_layout()\n",
    "plt.show()"
   ]
  },
  {
   "cell_type": "markdown",
   "id": "6b6968ec",
   "metadata": {},
   "source": [
    "For fun, here is an interactive widget to slide through the solution. See the KOMO Viewer (raise to top). It follows the slider and displays the top error/cost objectives for the current time slice:"
   ]
  },
  {
   "cell_type": "code",
   "execution_count": null,
   "id": "3eff36e4",
   "metadata": {},
   "outputs": [],
   "source": [
    "%matplotlib widget\n",
    "from matplotlib.widgets import Slider\n",
    "\n",
    "T = komo.getT()\n",
    "komo.view()\n",
    "\n",
    "fig, ax = plt.subplots()\n",
    "fig.canvas.toolbar_visible = False\n",
    "fig.canvas.header_visible = False\n",
    "fig.canvas.footer_visible = False\n",
    "fig.subplots_adjust(left=.1, bottom=.2, right=.95, top=.9)\n",
    "\n",
    "ax.set_title('Use the slider to control view; raise KOMO Viewer \"Always on Top\"')\n",
    "ax.plot(err, label=labels)\n",
    "line, = ax.plot([0,0], ax.get_ylim(), linewidth=1.5, color='#b3b3b3')\n",
    "ax.legend(loc=\"upper left\", prop={'size': 6})\n",
    "ax.set_xlabel(\"time slice (0=first-to-be-optimized)\")\n",
    "ax.set_ylabel(\"objective error\")\n",
    "\n",
    "def slider_callback(val):\n",
    "    slice = max(-1, min(T-1, int(val)))\n",
    "    if slice==-1:\n",
    "        komo.view()\n",
    "    else:\n",
    "        komo.view_slice(slice, False)\n",
    "        line.set_xdata([slice, slice])\n",
    "    fig.canvas.draw_idle()\n",
    "\n",
    "axslider = fig.add_axes([0.05, 0.05, 0.9, 0.03])\n",
    "slider = Slider(ax=axslider, label='t', valmin=-1, valmax=T-1, valinit=0)\n",
    "slider.on_changed(slider_callback)\n",
    "\n",
    "plt.show()"
   ]
  },
  {
   "cell_type": "code",
   "execution_count": null,
   "id": "2c39b8cb",
   "metadata": {},
   "outputs": [],
   "source": [
    "plt.close('all')"
   ]
  },
  {
   "cell_type": "code",
   "execution_count": null,
   "id": "08aacd1a",
   "metadata": {},
   "outputs": [],
   "source": [
    "del komo\n",
    "del C"
   ]
  },
  {
   "cell_type": "code",
   "execution_count": null,
   "id": "a2a93b87",
   "metadata": {},
   "outputs": [],
   "source": []
  }
 ],
 "metadata": {
  "kernelspec": {
   "display_name": "venv",
   "language": "python",
   "name": "python3"
  },
  "language_info": {
   "codemirror_mode": {
    "name": "ipython",
    "version": 3
   },
   "file_extension": ".py",
   "mimetype": "text/x-python",
   "name": "python",
   "nbconvert_exporter": "python",
   "pygments_lexer": "ipython3",
   "version": "3.12.3"
  },
  "widgets": {
   "application/vnd.jupyter.widget-state+json": {
    "state": {
     "90b94b65cb924ba68c5b5b21aa9f6ceb": {
      "model_module": "jupyter-matplotlib",
      "model_module_version": "^0.11",
      "model_name": "MPLCanvasModel",
      "state": {
       "_cursor": "pointer",
       "_data_url": "data:image/png;base64,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",
       "_dom_classes": [],
       "_figure_label": "Figure",
       "_image_mode": "full",
       "_message": "",
       "_model_module": "jupyter-matplotlib",
       "_model_module_version": "^0.11",
       "_model_name": "MPLCanvasModel",
       "_rubberband_height": 0,
       "_rubberband_width": 0,
       "_rubberband_x": 0,
       "_rubberband_y": 0,
       "_size": [
        640.0,
        480.0
       ],
       "_view_count": null,
       "_view_module": "jupyter-matplotlib",
       "_view_module_version": "^0.11",
       "_view_name": "MPLCanvasView",
       "capture_scroll": false,
       "footer_visible": false,
       "header_visible": false,
       "layout": "IPY_MODEL_ad18c533fa3f4e94a595b05c4fe3c623",
       "pan_zoom_throttle": 33.0,
       "resizable": true,
       "tabbable": null,
       "toolbar": "IPY_MODEL_a7704a823e9a4ed2b8c3c4abca4eedb0",
       "toolbar_position": "left",
       "toolbar_visible": false,
       "tooltip": null
      }
     },
     "a7704a823e9a4ed2b8c3c4abca4eedb0": {
      "model_module": "jupyter-matplotlib",
      "model_module_version": "^0.11",
      "model_name": "ToolbarModel",
      "state": {
       "_current_action": "",
       "_dom_classes": [],
       "_model_module": "jupyter-matplotlib",
       "_model_module_version": "^0.11",
       "_model_name": "ToolbarModel",
       "_view_count": null,
       "_view_module": "jupyter-matplotlib",
       "_view_module_version": "^0.11",
       "_view_name": "ToolbarView",
       "button_style": "",
       "collapsed": true,
       "layout": "IPY_MODEL_fe9d60e461864b8d8c1a61df756ca99d",
       "orientation": "vertical",
       "tabbable": null,
       "toolitems": [
        [
         "Home",
         "Reset original view",
         "home",
         "home"
        ],
        [
         "Back",
         "Back to previous view",
         "arrow-left",
         "back"
        ],
        [
         "Forward",
         "Forward to next view",
         "arrow-right",
         "forward"
        ],
        [
         "Pan",
         "Left button pans, Right button zooms\nx/y fixes axis, CTRL fixes aspect",
         "arrows",
         "pan"
        ],
        [
         "Zoom",
         "Zoom to rectangle\nx/y fixes axis",
         "square-o",
         "zoom"
        ],
        [
         "Download",
         "Download plot",
         "floppy-o",
         "save_figure"
        ]
       ],
       "tooltip": null
      }
     },
     "ad18c533fa3f4e94a595b05c4fe3c623": {
      "model_module": "@jupyter-widgets/base",
      "model_module_version": "2.0.0",
      "model_name": "LayoutModel",
      "state": {
       "_model_module": "@jupyter-widgets/base",
       "_model_module_version": "2.0.0",
       "_model_name": "LayoutModel",
       "_view_count": null,
       "_view_module": "@jupyter-widgets/base",
       "_view_module_version": "2.0.0",
       "_view_name": "LayoutView",
       "align_content": null,
       "align_items": null,
       "align_self": null,
       "border_bottom": null,
       "border_left": null,
       "border_right": null,
       "border_top": null,
       "bottom": null,
       "display": null,
       "flex": null,
       "flex_flow": null,
       "grid_area": null,
       "grid_auto_columns": null,
       "grid_auto_flow": null,
       "grid_auto_rows": null,
       "grid_column": null,
       "grid_gap": null,
       "grid_row": null,
       "grid_template_areas": null,
       "grid_template_columns": null,
       "grid_template_rows": null,
       "height": null,
       "justify_content": null,
       "justify_items": null,
       "left": null,
       "margin": null,
       "max_height": null,
       "max_width": null,
       "min_height": null,
       "min_width": null,
       "object_fit": null,
       "object_position": null,
       "order": null,
       "overflow": null,
       "padding": null,
       "right": null,
       "top": null,
       "visibility": null,
       "width": null
      }
     },
     "fe9d60e461864b8d8c1a61df756ca99d": {
      "model_module": "@jupyter-widgets/base",
      "model_module_version": "2.0.0",
      "model_name": "LayoutModel",
      "state": {
       "_model_module": "@jupyter-widgets/base",
       "_model_module_version": "2.0.0",
       "_model_name": "LayoutModel",
       "_view_count": null,
       "_view_module": "@jupyter-widgets/base",
       "_view_module_version": "2.0.0",
       "_view_name": "LayoutView",
       "align_content": null,
       "align_items": null,
       "align_self": null,
       "border_bottom": null,
       "border_left": null,
       "border_right": null,
       "border_top": null,
       "bottom": null,
       "display": null,
       "flex": null,
       "flex_flow": null,
       "grid_area": null,
       "grid_auto_columns": null,
       "grid_auto_flow": null,
       "grid_auto_rows": null,
       "grid_column": null,
       "grid_gap": null,
       "grid_row": null,
       "grid_template_areas": null,
       "grid_template_columns": null,
       "grid_template_rows": null,
       "height": null,
       "justify_content": null,
       "justify_items": null,
       "left": null,
       "margin": null,
       "max_height": null,
       "max_width": null,
       "min_height": null,
       "min_width": null,
       "object_fit": null,
       "object_position": null,
       "order": null,
       "overflow": null,
       "padding": null,
       "right": null,
       "top": null,
       "visibility": null,
       "width": null
      }
     }
    },
    "version_major": 2,
    "version_minor": 0
   }
  }
 },
 "nbformat": 4,
 "nbformat_minor": 5
}
