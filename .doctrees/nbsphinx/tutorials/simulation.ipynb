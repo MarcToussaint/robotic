{
 "cells": [
  {
   "cell_type": "markdown",
   "metadata": {},
   "source": [
    "# Direct Simulation Interface\n",
    "\n",
    "BotOp is a narrow control interface to a real or simulated robot, which is also real time and threaded (as for a real robot). However, sometimes we need a more low-level interface to a physical simulator, e.g. to implement a Reinforcement Learning environment."
   ]
  },
  {
   "cell_type": "markdown",
   "metadata": {},
   "source": [
    "## Minimalistic example\n",
    "Let's first create the smallest possible example: A dropping ball. All we have to do is create a configuration with a ball, create an \"attached\" simulation, and step it:"
   ]
  },
  {
   "cell_type": "code",
   "execution_count": 1,
   "metadata": {},
   "outputs": [],
   "source": [
    "from robotic import ry\n",
    "import time"
   ]
  },
  {
   "cell_type": "code",
   "execution_count": 2,
   "metadata": {},
   "outputs": [],
   "source": [
    "# minimalistic configuration\n",
    "C = ry.Config()\n",
    "C.addFrame('ball') .setShape(ry.ST.sphere, [.2]) .setMass(.1) .setPosition([0,0,1])\n",
    "C.view()\n",
    "\n",
    "S = ry.Simulation(C, ry.SimulationEngine.physx, verbose=0)\n",
    "\n",
    "tau=.01\n",
    "for i in range(200):\n",
    "    time.sleep(tau)\n",
    "    S.step([], tau,  ry.ControlMode.none)\n",
    "    C.view()"
   ]
  },
  {
   "cell_type": "markdown",
   "metadata": {},
   "source": [
    "Note that a Simulation is *directly operating on the given configuration C*. E.g., when you step the simulation, it changes the state of C. In that sense, the simulation is rigidly associated/attached to C. (This is different to BotOp, where the real robot (or simulation) is separate from C and you have to explicitly sync them. It's also different from providing C in a constructor of KOMO, as KOMO creates it's own copies of configurations. The simulation class doesn't copy C, it operates directly on it.)"
   ]
  },
  {
   "cell_type": "markdown",
   "metadata": {},
   "source": [
    "There are a number of (global) parameters used when creating a simulation. As always, we can see which parameters were queried by `params_print`:"
   ]
  },
  {
   "cell_type": "code",
   "execution_count": 3,
   "metadata": {},
   "outputs": [
    {
     "name": "stdout",
     "output_type": "stream",
     "text": [
      "-- ry.cpp:operator():86(0) python,\n",
      "message: \"this parameter was loaded from 'rai.cfg'\",\n",
      "physx/verbose: 1,\n",
      "physx/yGravity!,\n",
      "physx/softBody!,\n",
      "physx/multiBody,\n",
      "physx/multiBodyDisableGravity,\n",
      "physx/jointedBodies!,\n",
      "physx/angularDamping: 0.1,\n",
      "physx/defaultFriction: 1,\n",
      "physx/defaultRestitution: 0.1,\n",
      "physx/motorKp: 1000,\n",
      "physx/motorKd: 100\n"
     ]
    }
   ],
   "source": [
    "ry.params_print()"
   ]
  },
  {
   "cell_type": "markdown",
   "metadata": {},
   "source": [
    "And `params_add` allows you to set parameters. (Actually append, which is why we first need to clear.)"
   ]
  },
  {
   "cell_type": "code",
   "execution_count": 4,
   "metadata": {},
   "outputs": [
    {
     "name": "stdout",
     "output_type": "stream",
     "text": [
      "-- ry.cpp:operator():86(0) physx/defaultRestitution: 1\n"
     ]
    }
   ],
   "source": [
    "ry.params_clear()\n",
    "ry.params_add({'physx/defaultRestitution': 1.})\n",
    "ry.params_print()"
   ]
  },
  {
   "cell_type": "markdown",
   "metadata": {},
   "source": [
    "Let's try again:"
   ]
  },
  {
   "cell_type": "code",
   "execution_count": 5,
   "metadata": {},
   "outputs": [
    {
     "name": "stdout",
     "output_type": "stream",
     "text": [
      "-- simulation.cpp:~Simulation:148(0) shutting down Simulation\n"
     ]
    }
   ],
   "source": [
    "del S\n",
    "C.getFrame('ball') .setPosition([0,0,1])\n",
    "S = ry.Simulation(C, ry.SimulationEngine.physx, verbose=0)\n",
    "\n",
    "tau=.01\n",
    "for i in range(200):\n",
    "    time.sleep(tau)\n",
    "    S.step([], tau,  ry.ControlMode.none)\n",
    "    C.view()"
   ]
  },
  {
   "cell_type": "markdown",
   "metadata": {},
   "source": [
    "As you can see, \"restitution\" means bouncing. Below is an example of how to set bounciness and friction per object."
   ]
  },
  {
   "cell_type": "code",
   "execution_count": 6,
   "metadata": {},
   "outputs": [
    {
     "name": "stdout",
     "output_type": "stream",
     "text": [
      "-- simulation.cpp:~Simulation:148(0) shutting down Simulation\n"
     ]
    }
   ],
   "source": [
    "del S\n",
    "del C\n",
    "ry.params_clear()"
   ]
  },
  {
   "cell_type": "markdown",
   "metadata": {},
   "source": [
    "## Including robots/articulated configurations\n",
    "Let's first give a basic example, pushing a block, which uses default settings and a predefined robot:"
   ]
  },
  {
   "cell_type": "code",
   "execution_count": 7,
   "metadata": {},
   "outputs": [],
   "source": [
    "from robotic import ry\n",
    "import numpy as np\n",
    "import time"
   ]
  },
  {
   "cell_type": "code",
   "execution_count": 8,
   "metadata": {},
   "outputs": [
    {
     "data": {
      "text/plain": [
       "0"
      ]
     },
     "execution_count": 8,
     "metadata": {},
     "output_type": "execute_result"
    }
   ],
   "source": [
    "C = ry.Config()\n",
    "C.addFile(ry.raiPath('scenarios/pandaSingle.g'))\n",
    "C.view(False)\n",
    "\n",
    "C.addFrame('box') \\\n",
    "    .setShape(ry.ST.ssBox, size=[.1,.1,.1,.005]) .setColor([1,.5,0]) \\\n",
    "    .setPosition([.1,.35,.9])\n",
    "\n",
    "C.addFrame('stick', 'l_gripper') \\\n",
    "    .setShape(ry.ST.capsule, size=[.3,.02]) .setColor([.5,1,0]) \\\n",
    "    .setRelativePosition([0,0,-.13])\n",
    "\n",
    "C.setJointState([.0], ['l_panda_joint2']) #only cosmetics\n",
    "C.setJointState([.02], ['l_panda_finger_joint1']) #only cosmetics\n",
    "\n",
    "q0 = C.getJointState()\n",
    "X0 = C.getFrameState()\n",
    "\n",
    "C.view()"
   ]
  },
  {
   "cell_type": "code",
   "execution_count": 9,
   "metadata": {},
   "outputs": [],
   "source": [
    "S = ry.Simulation(C, ry.SimulationEngine.physx, verbose=0)"
   ]
  },
  {
   "cell_type": "code",
   "execution_count": 10,
   "metadata": {},
   "outputs": [],
   "source": [
    "def move_a_bit(T=100):\n",
    "    tau = .01\n",
    "    q = q0.copy()\n",
    "    for i in range(T):\n",
    "        time.sleep(tau)\n",
    "        q[0] = q[0] - tau*1.\n",
    "        S.step(q, tau,  ry.ControlMode.position)\n",
    "        C.view()"
   ]
  },
  {
   "cell_type": "code",
   "execution_count": 11,
   "metadata": {},
   "outputs": [],
   "source": [
    "move_a_bit()"
   ]
  },
  {
   "cell_type": "code",
   "execution_count": 12,
   "metadata": {},
   "outputs": [
    {
     "name": "stdout",
     "output_type": "stream",
     "text": [
      "-- simulation.cpp:~Simulation:148(0) shutting down Simulation\n"
     ]
    }
   ],
   "source": [
    "del S\n",
    "C.setFrameState(X0)\n",
    "C.getFrame('box') .setMass(.1)\n",
    "S = ry.Simulation(C, ry.SimulationEngine.physx, verbose=0)\n",
    "move_a_bit()"
   ]
  },
  {
   "cell_type": "code",
   "execution_count": 13,
   "metadata": {},
   "outputs": [
    {
     "name": "stdout",
     "output_type": "stream",
     "text": [
      "-- simulation.cpp:~Simulation:148(0) shutting down Simulation\n"
     ]
    }
   ],
   "source": [
    "del S\n",
    "C.setFrameState(X0)\n",
    "S = ry.Simulation(C, ry.SimulationEngine.kinematic, verbose=0)\n",
    "move_a_bit()"
   ]
  },
  {
   "cell_type": "code",
   "execution_count": 14,
   "metadata": {},
   "outputs": [
    {
     "name": "stdout",
     "output_type": "stream",
     "text": [
      "-- simulation.cpp:~Simulation:148(0) shutting down Simulation\n"
     ]
    }
   ],
   "source": [
    "del S\n",
    "C.setFrameState(X0)\n",
    "C.getFrame('box') .setColor([1,1,0,.5])\n",
    "S = ry.Simulation(C, ry.SimulationEngine.physx, verbose=0)\n",
    "move_a_bit()"
   ]
  },
  {
   "cell_type": "code",
   "execution_count": 15,
   "metadata": {},
   "outputs": [
    {
     "name": "stdout",
     "output_type": "stream",
     "text": [
      "-- simulation.cpp:~Simulation:148(0) shutting down Simulation\n",
      "-- WARNING:kin_physx.cpp:prepareLinkShapes:626(-1) computing compound inertia for object frame 'world' -- this should have been done earlier?\n"
     ]
    }
   ],
   "source": [
    "del S\n",
    "C.setFrameState(X0)\n",
    "C.getFrame('box') .setColor([1,1,0,1]) .setParent(C.getFrame('table'))\n",
    "S = ry.Simulation(C, ry.SimulationEngine.physx, verbose=0)\n",
    "move_a_bit()"
   ]
  },
  {
   "cell_type": "code",
   "execution_count": 16,
   "metadata": {},
   "outputs": [
    {
     "name": "stdout",
     "output_type": "stream",
     "text": [
      "-- simulation.cpp:~Simulation:148(0) shutting down Simulation\n"
     ]
    }
   ],
   "source": [
    "del S\n",
    "del C"
   ]
  },
  {
   "cell_type": "markdown",
   "metadata": {},
   "source": [
    "## Friction and bouncing per object\n",
    "Let's build a configuration manually to test varying friction and bouncing (=restitution) per object:"
   ]
  },
  {
   "cell_type": "code",
   "execution_count": 17,
   "metadata": {},
   "outputs": [],
   "source": [
    "from robotic import ry\n",
    "import time"
   ]
  },
  {
   "cell_type": "code",
   "execution_count": 18,
   "metadata": {},
   "outputs": [
    {
     "data": {
      "text/plain": [
       "0"
      ]
     },
     "execution_count": 18,
     "metadata": {},
     "output_type": "execute_result"
    }
   ],
   "source": [
    "C = ry.Config()\n",
    "C.addFrame('table') .setShape(ry.ST.ssBox, [2., 1., .1, .02]) .setColor([.3]) \\\n",
    "    .setPosition([0,0,.3]) .setQuaternion([1,-.25,0,0])\n",
    "\n",
    "for i in range(10):\n",
    "    f = C.addFrame(f'block_{i}')\n",
    "    f.setShape(ry.ST.ssBox, [.1,.2,.1,.02]) .setColor([1,.1*i,1-.1*i])\n",
    "    f.setPosition([.7 - .15*i,-.2,1.])\n",
    "    f.setMass(1.)\n",
    "    f.setAttribute('friction', .05*i)\n",
    "\n",
    "for i in range(10):\n",
    "    f = C.addFrame(f'ball_{i}')\n",
    "    f.setShape(ry.ST.sphere, [.05]) .setColor([1,.1*i,1-.1*i])\n",
    "    f.setPosition([.7 - .15*i,.2,1.])\n",
    "    f.setMass(.2)\n",
    "    f.setAttribute('restitution', .5+.1*i)\n",
    "C.view()"
   ]
  },
  {
   "cell_type": "code",
   "execution_count": 19,
   "metadata": {},
   "outputs": [],
   "source": [
    "S = ry.Simulation(C, ry.SimulationEngine.physx, verbose=0)\n",
    "\n",
    "tau=.01\n",
    "for i in range(200):\n",
    "    time.sleep(tau)\n",
    "    S.step([], tau,  ry.ControlMode.none)\n",
    "    C.view()"
   ]
  },
  {
   "cell_type": "code",
   "execution_count": 20,
   "metadata": {},
   "outputs": [
    {
     "name": "stdout",
     "output_type": "stream",
     "text": [
      "-- simulation.cpp:~Simulation:148(0) shutting down Simulation\n"
     ]
    }
   ],
   "source": [
    "S=0\n",
    "C=0"
   ]
  },
  {
   "cell_type": "markdown",
   "metadata": {},
   "source": [
    "## Resetting and messing with state"
   ]
  },
  {
   "cell_type": "code",
   "execution_count": 21,
   "metadata": {},
   "outputs": [],
   "source": [
    "from robotic import ry\n",
    "import time"
   ]
  },
  {
   "cell_type": "code",
   "execution_count": 22,
   "metadata": {},
   "outputs": [
    {
     "data": {
      "text/plain": [
       "0"
      ]
     },
     "execution_count": 22,
     "metadata": {},
     "output_type": "execute_result"
    }
   ],
   "source": [
    "C = ry.Config()\n",
    "\n",
    "for i in range(5):\n",
    "    f = C.addFrame(f'block_{i}')\n",
    "    f.setShape(ry.ST.ssBox, [.2,.3,.2,.02]) .setColor([1,.2*i,1-.2*i])\n",
    "    f.setPosition([0,0, .25*(i+1)])\n",
    "    f.setMass(.1)\n",
    "\n",
    "C.addFrame('base') .setPosition([1., 0, .5]) .addAttributes({'multibody': True})\n",
    "\n",
    "C.addFrame('finger', 'base') .setShape(ry.ST.ssBox, [.3, .1, .1, .02]) .setColor([.9]) \\\n",
    "    .setMass(.1) \\\n",
    "    .setJoint(ry.JT.transX)\n",
    "\n",
    "q0 = C.getJointState()\n",
    "X0 = C.getFrameState()\n",
    "\n",
    "C.view()"
   ]
  },
  {
   "cell_type": "code",
   "execution_count": 23,
   "metadata": {},
   "outputs": [],
   "source": [
    "S = ry.Simulation(C, ry.SimulationEngine.physx, 1)"
   ]
  },
  {
   "cell_type": "code",
   "execution_count": 24,
   "metadata": {},
   "outputs": [],
   "source": [
    "def move_a_bit():\n",
    "    tau = .01\n",
    "    q = q0.copy()\n",
    "    for i in range(100):\n",
    "        time.sleep(tau)\n",
    "        q[0] = q[0] - tau*1.\n",
    "        S.step(q, tau,  ry.ControlMode.position)\n",
    "        C.view()\n",
    "\n",
    "move_a_bit()"
   ]
  },
  {
   "cell_type": "markdown",
   "metadata": {},
   "source": [
    "We are in the middle of some action. Let's swap two blocks (top/bottom). And also displace the bottom one:"
   ]
  },
  {
   "cell_type": "code",
   "execution_count": 25,
   "metadata": {},
   "outputs": [
    {
     "data": {
      "text/plain": [
       "0"
      ]
     },
     "execution_count": 25,
     "metadata": {},
     "output_type": "execute_result"
    }
   ],
   "source": [
    "#swap two blocks\n",
    "X = C.getFrameState()\n",
    "A = X[0,:].copy()\n",
    "X[0,:] = X[4,:]\n",
    "X[4,:] = A\n",
    "X[4,1] = .2\n",
    "C.setFrameState(X)\n",
    "C.view()"
   ]
  },
  {
   "cell_type": "markdown",
   "metadata": {},
   "source": [
    "If you compare the simulation display with the configuration display, you see the difference. Now, a simulation allows you to **push** the configuration back into the simulation, overwriting the physical state:"
   ]
  },
  {
   "cell_type": "code",
   "execution_count": 26,
   "metadata": {},
   "outputs": [],
   "source": [
    "S.setState(X)\n",
    "#updates the simulation window"
   ]
  },
  {
   "cell_type": "code",
   "execution_count": 27,
   "metadata": {},
   "outputs": [],
   "source": [
    "#recall that the position control starts from zero, leading to a hard PD jerk initially\n",
    "move_a_bit()"
   ]
  },
  {
   "cell_type": "markdown",
   "metadata": {},
   "source": [
    "We can also recreate the initial state:"
   ]
  },
  {
   "cell_type": "code",
   "execution_count": 28,
   "metadata": {},
   "outputs": [
    {
     "data": {
      "text/plain": [
       "0"
      ]
     },
     "execution_count": 28,
     "metadata": {},
     "output_type": "execute_result"
    }
   ],
   "source": [
    "S.setState(X0, q0)\n",
    "C.view()"
   ]
  },
  {
   "cell_type": "code",
   "execution_count": 29,
   "metadata": {},
   "outputs": [],
   "source": [
    "move_a_bit()"
   ]
  },
  {
   "cell_type": "markdown",
   "metadata": {},
   "source": [
    "Internally, not only the frame state (pose of all dynamic objects), but also the joint state (motor states/targets) are overwritten in the physics simulator. The optional arguments to `setState` allow you to also set the current frame and joint velocities. (Frame velocities is a n-by-2-by-3 tensor, as you get it from `getState`.)"
   ]
  },
  {
   "cell_type": "code",
   "execution_count": 30,
   "metadata": {},
   "outputs": [
    {
     "name": "stdout",
     "output_type": "stream",
     "text": [
      "-- simulation.cpp:~Simulation:148(0) shutting down Simulation\n"
     ]
    }
   ],
   "source": [
    "del S\n",
    "del C"
   ]
  },
  {
   "cell_type": "code",
   "execution_count": null,
   "metadata": {},
   "outputs": [],
   "source": []
  }
 ],
 "metadata": {
  "kernelspec": {
   "display_name": "Python 3 (ipykernel)",
   "language": "python",
   "name": "python3"
  },
  "language_info": {
   "codemirror_mode": {
    "name": "ipython",
    "version": 3
   },
   "file_extension": ".py",
   "mimetype": "text/x-python",
   "name": "python",
   "nbconvert_exporter": "python",
   "pygments_lexer": "ipython3",
   "version": "3.8.10"
  }
 },
 "nbformat": 4,
 "nbformat_minor": 2
}
