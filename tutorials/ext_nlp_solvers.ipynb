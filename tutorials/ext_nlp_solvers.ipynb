{
 "cells": [
  {
   "cell_type": "markdown",
   "metadata": {},
   "source": [
    "# Extension - NLP interface: Low-level NLP formulation and solving\n",
    "\n",
    "This is completely independent from all robotics code. Provides a generic interface to NLP formulation and calling various solvers."
   ]
  },
  {
   "cell_type": "code",
   "execution_count": null,
   "metadata": {},
   "outputs": [],
   "source": [
    "import robotic as ry\n",
    "import numpy as np\n",
    "import matplotlib.pylab as plt"
   ]
  },
  {
   "cell_type": "markdown",
   "metadata": {},
   "source": [
    "Define a function to compute differentiable features"
   ]
  },
  {
   "cell_type": "code",
   "execution_count": null,
   "metadata": {},
   "outputs": [],
   "source": [
    "#the function needs to have the signature (array) -> (array, array) with dimensionalities (n) -> (d, d-times-n)\n",
    "def sqrPot(x):\n",
    "    y = np.array(x)\n",
    "    y[0] = y[0] - 1.\n",
    "    J = np.eye(y.size)\n",
    "    return y,J"
   ]
  },
  {
   "cell_type": "markdown",
   "metadata": {},
   "source": [
    "Define a NLP (non-linear mathematical program)"
   ]
  },
  {
   "cell_type": "code",
   "execution_count": null,
   "metadata": {},
   "outputs": [],
   "source": [
    "nlp = ry.NLP_Factory()\n",
    "nlp.setDimension(3)\n",
    "nlp.setBounds([-2,-2,-2],[2,2,2])\n",
    "nlp.setFeatureTypes([ry.OT.sos, ry.OT.sos, ry.OT.sos])\n",
    "nlp.setEvalCallback(sqrPot)"
   ]
  },
  {
   "cell_type": "markdown",
   "metadata": {},
   "source": [
    "Define a solver"
   ]
  },
  {
   "cell_type": "code",
   "execution_count": null,
   "metadata": {},
   "outputs": [],
   "source": [
    "solver = ry.NLP_Solver()\n",
    "solver.setProblem(nlp)\n",
    "solver.setSolver(ry.NLP_SolverID.newton)"
   ]
  },
  {
   "cell_type": "code",
   "execution_count": null,
   "metadata": {},
   "outputs": [],
   "source": [
    "solver.solve(True)"
   ]
  },
  {
   "cell_type": "code",
   "execution_count": null,
   "metadata": {},
   "outputs": [],
   "source": [
    "solver.getTrace_costs()"
   ]
  },
  {
   "cell_type": "code",
   "execution_count": null,
   "metadata": {},
   "outputs": [],
   "source": [
    "import robotic as ry\n",
    "from robotic import nlp\n",
    "import numpy as np\n",
    "import matplotlib.pylab as plt"
   ]
  },
  {
   "cell_type": "code",
   "execution_count": null,
   "metadata": {},
   "outputs": [],
   "source": [
    "class MyNLP(nlp.NLP):\n",
    "    b = 3\n",
    "    def evaluate(self, x):\n",
    "        phi = np.array([ x[0]-1,\n",
    "                         self.b*(x[1]-x[0]**2) ])\n",
    "        J = np.array([[ 1, 0 ],\n",
    "                      [ -2*self.b*x[0], self.b ]])\n",
    "        return phi, J\n",
    "    \n",
    "    def f(self, x):\n",
    "        phi, _ = self.evaluate(x)\n",
    "        return np.sum(phi**2)\n",
    "    \n",
    "    def getDimension(self):\n",
    "        return 2\n",
    "    def getFeatureTypes(self):\n",
    "        return [ry.nlp.OT.sos] * 2\n",
    "    def getBounds(self):\n",
    "        return np.array([[-2,-1], [2,3]])"
   ]
  },
  {
   "cell_type": "code",
   "execution_count": null,
   "metadata": {},
   "outputs": [],
   "source": [
    "p = MyNLP()"
   ]
  },
  {
   "cell_type": "code",
   "execution_count": null,
   "metadata": {},
   "outputs": [],
   "source": [
    "solver = ry.NLP_Solver()\n",
    "solver.setPyProblem(p)\n",
    "solver.setOptions(maxStep=.5, damping=1e-4)"
   ]
  },
  {
   "cell_type": "code",
   "execution_count": null,
   "metadata": {},
   "outputs": [],
   "source": [
    "for i in range(20):\n",
    "    ret = solver.solve(1)\n",
    "    print(ret)\n",
    "x = solver.getTrace_x()\n",
    "z = solver.getTrace_costs()\n",
    "plt.plot(x[:,0], x[:,1], 'o-')"
   ]
  },
  {
   "cell_type": "code",
   "execution_count": null,
   "metadata": {},
   "outputs": [],
   "source": [
    "X = np.arange(-2, 2, 0.15)\n",
    "Y = np.arange(-1, 3, 0.15)\n",
    "X, Y = np.meshgrid(X, Y)\n",
    "xy = np.hstack((X.reshape(-1,1),Y.reshape(-1,1)))\n",
    "Z = np.apply_along_axis(p.f, 1, xy).reshape(X.shape)"
   ]
  },
  {
   "cell_type": "code",
   "execution_count": null,
   "metadata": {},
   "outputs": [],
   "source": [
    "fig, ax = plt.subplots()\n",
    "ax.contour(X,Y,Z, 200)\n",
    "ax.plot(x[:,0], x[:,1], 'o-r', ms=3)"
   ]
  },
  {
   "cell_type": "code",
   "execution_count": null,
   "metadata": {},
   "outputs": [],
   "source": [
    "for i in range(20):\n",
    "    x = solver.getProblem().getInitializationSample()\n",
    "    r = solver.getProblem().checkJacobian(x, 1e-6)\n",
    "    print(r, x)"
   ]
  },
  {
   "cell_type": "code",
   "execution_count": null,
   "metadata": {},
   "outputs": [],
   "source": []
  }
 ],
 "metadata": {
  "kernelspec": {
   "display_name": "Python 3 (ipykernel)",
   "language": "python",
   "name": "python3"
  },
  "language_info": {
   "codemirror_mode": {
    "name": "ipython",
    "version": 3
   },
   "file_extension": ".py",
   "mimetype": "text/x-python",
   "name": "python",
   "nbconvert_exporter": "python",
   "pygments_lexer": "ipython3",
   "version": "3.10.12"
  }
 },
 "nbformat": 4,
 "nbformat_minor": 4
}
