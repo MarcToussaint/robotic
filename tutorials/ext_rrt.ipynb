{
 "cells": [
  {
   "cell_type": "markdown",
   "id": "48bcf763",
   "metadata": {},
   "source": [
    "# RRT: basic finding example\n",
    "* Path finding is using sample-based (RRT) methods rather than constrained optimization to find a collision free path\n",
    "* Path finding is much easier if a final robot pose is given. We here use IK (formulated as KOMO problem) to first compute a final configuration 'qT'. (Path optimization does this jointly with optimizing the path.)\n",
    "* Then we can pass the current state and qT to a bi-directional RRT to find a collision free path.\n",
    "* Note that BotOp (the interface to sim/real) is opened only after we computed the motion. We simply pass the motion to be played by the sim/real."
   ]
  },
  {
   "cell_type": "code",
   "execution_count": 1,
   "id": "8e07bf36",
   "metadata": {},
   "outputs": [],
   "source": [
    "import robotic as ry\n",
    "import time"
   ]
  },
  {
   "cell_type": "markdown",
   "id": "445a6a71",
   "metadata": {},
   "source": [
    "first a minimalistic example for testing:"
   ]
  },
  {
   "cell_type": "code",
   "execution_count": 2,
   "id": "584507cd",
   "metadata": {},
   "outputs": [
    {
     "data": {
      "text/plain": [
       "0"
      ]
     },
     "execution_count": 2,
     "metadata": {},
     "output_type": "execute_result"
    }
   ],
   "source": [
    "\n",
    "C = ry.Config()\n",
    "C.addFrame(\"base\") .setPosition([0,0,.5])\n",
    "\n",
    "C.addFrame(\"ego\", \"base\") \\\n",
    "    .setJoint(ry.JT.transXYPhi, [-1.,1.,-1.,1.,-3.,3.]) \\\n",
    "    .setRelativePosition([.2, .0, .0]) \\\n",
    "    .setShape(ry.ST.ssBox, size=[.05, .3, .05, .01]) \\\n",
    "    .setColor([0, 1., 1.]) \\\n",
    "    .setContact(1)\n",
    "\n",
    "C.addFrame(\"obstacle\") \\\n",
    "    .setPosition([.0, .0, .5]) \\\n",
    "    .setShape(ry.ST.ssBox, size=[.05, .3, .05, .01]) \\\n",
    "    .setColor([1, .5, 0]) \\\n",
    "    .setContact(1)\n",
    "\n",
    "C.view(False)"
   ]
  },
  {
   "cell_type": "code",
   "execution_count": 3,
   "id": "c4d8417b",
   "metadata": {},
   "outputs": [
    {
     "name": "stdout",
     "output_type": "stream",
     "text": [
      "{ time: 0.339952, evals: 174, done: 1, feasible: 1, sos: -1, f: -1, ineq: -1, eq: -1 }\n",
      "-- kin.cpp:fcl:2078(0)   SKIPPING from FCL interface: base\n",
      "-- kin.cpp:fcl:2076(0)   adding to FCL interface: ego\n",
      "-- kin.cpp:fcl:2076(0)   adding to FCL interface: obstacle\n",
      "RRT queries=436 tree sizes = 41 39\n",
      "  -- rrt success: queries:762 tree sizes: 69 70\n",
      "  path-length=31\n",
      "rrt/stepsize: 0.1,\n",
      "rrt/verbose: 3,\n",
      "rrt/subsamples: 4,\n",
      "seed: 0"
     ]
    }
   ],
   "source": [
    "q0 = [-.2, 0, 0]\n",
    "qT = [+.2, 0, 0]\n",
    "\n",
    "ry.params_clear()\n",
    "ry.params_add({'rrt/stepsize':.1, 'rrt/verbose': 3}) #this makes it very slow, and displays result, and wait keypress..\n",
    "\n",
    "rrt = ry.PathFinder()\n",
    "rrt.setProblem(C, [q0], [qT])\n",
    "ret = rrt.solve()\n",
    "print(ret)\n",
    "path = ret.x\n",
    "\n",
    "ry.params_print()"
   ]
  },
  {
   "cell_type": "code",
   "execution_count": 4,
   "id": "edc4834c",
   "metadata": {},
   "outputs": [
    {
     "name": "stdout",
     "output_type": "stream",
     "text": [
      "path length: (31, 3)\n"
     ]
    }
   ],
   "source": [
    "del rrt\n",
    "\n",
    "print('path length:', path.shape)\n",
    "# display the path\n",
    "for t in path:\n",
    "    C.setJointState(t)\n",
    "    C.view()\n",
    "    time.sleep(1./path.shape[0])"
   ]
  },
  {
   "cell_type": "code",
   "execution_count": 5,
   "id": "96338c60",
   "metadata": {},
   "outputs": [
    {
     "name": "stdout",
     "output_type": "stream",
     "text": [
      "rrt/stepsize: 0.1,\n",
      "rrt/verbose: 3,\n",
      "rrt/subsamples: 4,\n",
      "seed: 0"
     ]
    }
   ],
   "source": [
    "#this prints all parameters used by the rrt:\n",
    "ry.params_print()"
   ]
  },
  {
   "cell_type": "code",
   "execution_count": 6,
   "id": "059a8ee7",
   "metadata": {},
   "outputs": [
    {
     "data": {
      "text/plain": [
       "0"
      ]
     },
     "execution_count": 6,
     "metadata": {},
     "output_type": "execute_result"
    }
   ],
   "source": [
    "C = ry.Config()\n",
    "C.addFile(ry.raiPath('../rai-robotModels/scenarios/pandasTable.g'))\n",
    "C.view()"
   ]
  },
  {
   "cell_type": "code",
   "execution_count": 7,
   "id": "582b68ba",
   "metadata": {},
   "outputs": [
    {
     "data": {
      "text/plain": [
       "0"
      ]
     },
     "execution_count": 7,
     "metadata": {},
     "output_type": "execute_result"
    }
   ],
   "source": [
    "C.addFrame('boxR','table') \\\n",
    "    .setRelativePosition([.15,0,.1]) \\\n",
    "    .setShape(ry.ST.ssBox, size=[.1,.1,.1,.02]) \\\n",
    "    .setColor([1,1,0])\n",
    "C.addFrame('boxL','table') \\\n",
    "    .setRelativePosition([-.15,0,.1]) \\\n",
    "    .setShape(ry.ST.ssBox, size=[.1,.1,.1,.02]) \\\n",
    "    .setColor([1,.5,0])\n",
    "C.view()"
   ]
  },
  {
   "cell_type": "code",
   "execution_count": 8,
   "id": "eab44514",
   "metadata": {},
   "outputs": [],
   "source": [
    "# store the start configuration\n",
    "q0 = C.getJointState()"
   ]
  },
  {
   "cell_type": "code",
   "execution_count": 9,
   "id": "bccb7b55",
   "metadata": {},
   "outputs": [],
   "source": [
    "# compute a goal configuration\n",
    "komo = ry.KOMO()\n",
    "komo.setConfig(C, True)\n",
    "komo.setTiming(1., 1, 5., 0)\n",
    "komo.addControlObjective([], 0, 1e-0)\n",
    "komo.addObjective([], ry.FS.accumulatedCollisions, [], ry.OT.eq);\n",
    "komo.addObjective([], ry.FS.jointLimits, [], ry.OT.ineq);\n",
    "komo.addObjective([], ry.FS.positionDiff, ['r_gripper', 'boxL'], ry.OT.eq, [1e1]);\n",
    "komo.addObjective([], ry.FS.positionDiff, ['l_gripper', 'boxR'], ry.OT.eq, [1e1]);"
   ]
  },
  {
   "cell_type": "code",
   "execution_count": 10,
   "id": "178e3d42",
   "metadata": {},
   "outputs": [
    {
     "name": "stdout",
     "output_type": "stream",
     "text": [
      "{ time: 0.14005, evals: 181, done: 1, feasible: 1, sos: 4.60525, f: 0, ineq: 0, eq: 0.00832905 }====nlp==== method:AugmentedLagrangian bounded: yes\n",
      "\n",
      "==nlp== it:0 evals:0 mu:1 nu:1 muLB:0.1\n",
      "----newton---- initial point f(x):118.878 alpha:1 beta:1\n",
      "--newton-- it:   1  |Delta|:        0.2  alpha:          1  evals:   2  f(y):    61.1067  ACCEPT\n",
      "--newton-- it:   2  |Delta|:        0.2  alpha:          1  evals:   3  f(y):    25.6233  ACCEPT\n",
      "--newton-- it:   3  |Delta|:        0.2  alpha:          1  evals:   4  f(y):     13.394  ACCEPT\n",
      "--newton-- it:   4  |Delta|:        0.2  alpha:          1  evals:   5  f(y):    8.78883  ACCEPT\n",
      "--newton-- it:   5  |Delta|:        0.2  alpha:          1  evals:   6  f(y):    5.72548  ACCEPT\n",
      "--newton-- it:   6  |Delta|:   0.199662  alpha:          1  evals:   7  f(y):     4.0143  ACCEPT\n",
      "--newton-- it:   7  |Delta|:        0.2  alpha:          1  evals:   8  f(y):    3.69354  ACCEPT\n",
      "--newton-- it:   8  |Delta|:   0.124542  alpha:          1  evals:   9  f(y):    3.58322  ACCEPT\n",
      "--newton-- it:   9  |Delta|:  0.0889825  alpha:          1  evals:  10  f(y):    3.53209  ACCEPT\n",
      "--newton-- it:  10  |Delta|:  "
     ]
    }
   ],
   "source": [
    "ret = ry.NLP_Solver() \\\n",
    "    .setProblem(komo.nlp()) \\\n",
    "    .setOptions( stopTolerance=1e-2, verbose=4 ) \\\n",
    "    .solve()\n",
    "print(ret)"
   ]
  },
  {
   "cell_type": "code",
   "execution_count": 11,
   "id": "b727e37c",
   "metadata": {},
   "outputs": [
    {
     "name": "stdout",
     "output_type": "stream",
     "text": [
      "0.0335182  alpha:          1  evals:  11  f(y):    3.52013  ACCEPT\n",
      "--newton-- it:  11  |Delta|:  0.0219181  alpha:          1  evals:  12  f(y):    3.51622  ACCEPT\n",
      "--newton-- stopping: 'absMax(Delta)<options.stopTolerance'\n",
      "==nlp== it:   0  evals:  12  A(x):    3.51622  f:     3.1564  g:          0  h:    1.44686  |x-x'|:    1.01145 \tstop:DeltaConverge\n",
      "==nlp== it:   1  evals:  12  A(x):    5.67514  mu:5\n",
      "--newton-- it:  12  |Delta|:   0.189886  alpha:          1  evals:  13  f(y):    4.21808  ACCEPT\n",
      "--newton-- it:  13  |Delta|:  0.0892271  alpha:          1  evals:  14  f(y):     4.2193  reject (lineSearch:0)\n",
      "                    (line search)        alpha:        0.5  evals:  15  f(y):    4.18509  ACCEPT\n",
      "--newton-- it:  14  |Delta|:  0.0511295  alpha:       0.75  evals:  16  f(y):    4.17105  ACCEPT\n",
      "--newton-- it:  15  |Delta|:  0.0602826  alpha:          1  evals:  17  f(y):     4.2128  reject (lineSearch:0)\n",
      "                    (line search)        alpha:        0.5  evals:  18  f(y):    4.17317  reject (lineSearch:1)\n",
      "                    (line search)        alpha:       0.25  evals:  19  f(y):    4.16823  ACCEPT\n",
      "--newton-- it:  16  |Delta|:  0.0393565  alpha:      0.375  evals:  20  f(y):    4.16546  ACCEPT\n",
      "--newton-- it:  17  |Delta|:   0.051868  alpha:     0.5625  evals:  21  f(y):    4.17642  reject (lineSearch:0)\n",
      "                    (line search)        alpha:    0.28125  evals:  22  f(y):    4.16582  reject (lineSearch:1)\n",
      "                    (line search)        alpha:   0.140625  evals:  23  f(y):    4.16374  ACCEPT\n",
      "--newton-- it:  18  |Delta|:  0.0372077  alpha:   0.210938  evals:  24  f(y):     4.1631  ACCEPT\n",
      "--newton-- it:  19  |Delta|:  0.0482501  alpha:   0.316406  evals:  25  f(y):    4.16503  reject (lineSearch:0)\n",
      "                    (line search)        alpha:   0.158203  evals:  26  f(y):    4.16243  ACCEPT\n",
      "--newton-- it:  20  |Delta|:  0.0375715  alpha:   0.237305  evals:  27  f(y):    4.16121  ACCEPT\n",
      "--newton-- it:  21  |Delta|:  0.0457415  alpha:   0.355957  evals:  28  f(y):    4.16624  reject (lineSearch:0)\n",
      "                    (line search)        alpha:   0.177979  evals:  29  f(y):     4.1609  ACCEPT\n",
      "--newton-- it:  22  |Delta|:  0.0375536  alpha:   0.266968  evals:  30  f(y):    4.15969  ACCEPT\n",
      "--newton-- it:  23  |Delta|:  0.0441635  alpha:   0.400452  evals:  31  f(y):    4.17017  reject (lineSearch:0)\n",
      "                    (line search)        alpha:   0.200226  evals:  32  f(y):    4.15912  ACCEPT\n",
      "--newton-- it:  24  |Delta|:  0.0372037  alpha:   0.300339  evals:  33  f(y):    4.15845  ACCEPT\n",
      "--newton-- it:  25  |Delta|:  0.0433228  alpha:   0.450508  evals:  34  f(y):     4.1743  reject (lineSearch:0)\n",
      "                    (line search)        alpha:   0.225254  evals:  35  f(y):    4.16079  reject (lineSearch:1)\n",
      "                    (line search)        alpha:   0.112627  evals:  36  f(y):    4.15604  ACCEPT\n",
      "--newton-- it:  26  |Delta|:   0.038075  alpha:   0.168941  evals:  37  f(y):    4.16303  reject (lineSearch:0)\n",
      "                    (line search)        alpha:  0.0844703  evals:  38  f(y):     4.1588  reject (lineSearch:1)\n",
      "                    (line search)        alpha:  0.0422351  evals:  39  f(y):    4.15677  reject (lineSearch:2)\n",
      "                    (line search)        alpha:  0.0211176  evals:  40  f(y):    4.15578  ACCEPT\n",
      "--newton-- it:  27  |Delta|:  0.0363583  alpha:  0.0316764  evals:  41  f(y):      4.156  reject (lineSearch:0)\n",
      "                    (line search)        alpha:  0.0158382  evals:  42  f(y):    4.15583  reject (lineSearch:1)\n",
      "                    (line search)        alpha: 0.00791909  evals:  43  f(y):    4.15574  ACCEPT\n",
      "--newton-- it:  28  |Delta|:  0.0373228  alpha:  0.0118786  evals:  44  f(y):    4.15609  reject (lineSearch:0)\n",
      "                    (line search)        alpha: 0.00593932  evals:  45  f(y):    4.15581  reject (lineSearch:1)\n",
      "                    (line search)        alpha: 0.00296966  evals:  46  f(y):    4.15571  ACCEPT\n",
      "--newton-- it:  29  |Delta|:  0.0362377  alpha: 0.00445449  evals:  47  f(y):    4.15573  reject (lineSearch:0)\n",
      "                    (line search)        alpha: 0.00222724  evals:  48  f(y):    4.15571  ACCEPT\n",
      "--newton-- it:  30  |Delta|:  0.0372346  alpha: 0.00334087  evals:  49  f(y):    4.15577  reject (lineSearch:0)\n",
      "                    (line search)        alpha: 0.00167043  evals:  50  f(y):    4.15571  ACCEPT\n",
      "--newton-- it:  31  |Delta|:  0.0362024  alpha: 0.00250565  evals:  51  f(y):    4.15571  reject (lineSearch:0)\n",
      "                    (line search)        alpha: 0.00125282  evals:  52  f(y):    4.15569  ACCEPT\n",
      "--newton-- it:  32  |Delta|:  0.0371853  alpha: 0.00187924  evals:  53  f(y):    4.15574  reject (lineSearch:0)\n",
      "                    (line search)        alpha:0.000939618  evals:  54  f(y):     4.1557  reject (lineSearch:1)\n",
      "                    (line search)        alpha:0.000469809  evals:  55  f(y):    4.15569  reject (lineSearch:2)\n",
      "                    (line search)        alpha:0.000234905  evals:  56  f(y):    4.15569  ACCEPT\n",
      "--newton-- it:  33  |Delta|:   0.036184  alpha:0.000352357  evals:  57  f(y):    4.15569  reject (lineSearch:0)\n",
      "                    (line search)        alpha:0.000176178  evals:  58  f(y):    4.15569  reject (lineSearch:1)\n",
      "                    (line search)        alpha:8.80892e-05  evals:  59  f(y):    4.15569  ACCEPT\n",
      "--newton-- stopping: 'numTinyXSteps>4'\n",
      "==nlp== it:   1  evals:  59  A(x):    4.15569  f:    3.84037  g:          0  h:   0.267311  |x-x'|:   0.221272 \tstop:TinyXSteps (bad:1)\n",
      "==nlp== it:   2  evals:  59  A(x):    5.18816  mu:25\n",
      "--newton-- it:  34  |Delta|:        0.2  alpha:       0.01  evals:  60  f(y):    5.17901  ACCEPT\n",
      "--newton-- it:  35  |Delta|:        0.2  alpha:      0.015  evals:  61  f(y):    5.16539  ACCEPT\n",
      "--newton-- it:  36  |Delta|:        0.2  alpha:     0.0225  evals:  62  f(y):    5.14524  ACCEPT\n",
      "--newton-- it:  37  |Delta|:        0.2  alpha:    0.03375  evals:  63  f(y):     5.1156  ACCEPT\n",
      "--newton-- it:  38  |Delta|:        0.2  alpha:   0.050625  evals:  64  f(y):    5.07248  ACCEPT\n",
      "--newton-- it:  39  |Delta|:        0.2  alpha:  0.0759375  evals:  65  f(y):    5.01075  ACCEPT\n",
      "--newton-- it:  40  |Delta|:        0.2  alpha:   0.113906  evals:  66  f(y):     4.9247  ACCEPT\n",
      "--newton-- it:  41  |Delta|:   0.188561  alpha:   0.170859  evals:  67  f(y):    4.81628  ACCEPT\n",
      "--newton-- it:  42  |Delta|:   0.164992  alpha:   0.256289  evals:  68  f(y):     4.6973  ACCEPT\n",
      "--newton-- it:  43  |Delta|:    0.13266  alpha:   0.384434  evals:  69  f(y):    4.58887  ACCEPT\n",
      "--newton-- it:  44  |Delta|:  0.0928887  alpha:    0.57665  evals:  70  f(y):    4.51652  ACCEPT\n",
      "--newton-- it:  45  |Delta|:  0.0520234  alpha:   0.864976  evals:  71  f(y):    4.48821  ACCEPT\n",
      "--newton-- it:  46  |Delta|:   0.020297  alpha:          1  evals:  72  f(y):    4.48438  ACCEPT\n",
      "--newton-- it:  47  |Delta|: 0.00789533  alpha:          1  evals:  73  f(y):    4.48501  reject (lineSearch:0)\n",
      "                    (line search)        alpha:        0.5  evals:  74  f(y):    4.48417  ACCEPT\n",
      "--newton-- stopping: 'absMax(Delta)<options.stopTolerance'\n",
      "==nlp== it:   2  evals:  74  A(x):    4.48417  f:    4.39502  g:          0  h:  0.0406677  |x-x'|:   0.312654 \tstop:DeltaConverge\n",
      "==nlp== it:   3  evals:  74  A(x):    4.59094  mu:125\n",
      "--newton-- it:  48  |Delta|:  0.0384178  alpha:       0.75  evals:  75  f(y):    4.56461  ACCEPT\n",
      "--newton-- it:  49  |Delta|:  0.0899624  alpha:          1  evals:  76  f(y):    4.95965  reject (lineSearch:0)\n",
      "                    (line search)        alpha:        0.5  evals:  77  f(y):    4.64573  reject (lineSearch:1)\n",
      "                    (line search)        alpha:       0.25  evals:  78  f(y):    4.57637  reject (lineSearch:2)\n",
      "                    (line search)        alpha:      0.125  evals:  79  f(y):    4.56409  ACCEPT\n",
      "--newton-- it:  50  |Delta|:   0.104742  alpha:     0.1875  evals:  80  f(y):    4.55027  ACCEPT\n",
      "--newton-- it:  51  |Delta|:  0.0764132  alpha:    0.28125  evals:  81  f(y):    4.61483  reject (lineSearch:0)\n",
      "                    (line search)        alpha:   0.140625  evals:  82  f(y):     4.5707  reject (lineSearch:1)\n",
      "                    (line search)        alpha:  0.0703125  evals:  83  f(y):    4.55562  reject (lineSearch:2)\n",
      "                    (line search)        alpha:  0.0351562  evals:  84  f(y):     4.5525  reject (lineSearch:3)\n",
      "                    (line search)        alpha:  0.0175781  evals:  85  f(y):    4.55105  reject (lineSearch:4)\n",
      "                    (line search)        alpha: 0.00878906  evals:  86  f(y):    4.55035  reject (lineSearch:5)\n",
      "                    (line search)        alpha: 0.00439453  evals:  87  f(y):    4.55001  ACCEPT\n",
      "--newton-- it:  52  |Delta|:   0.101763  alpha:  0.0065918  evals:  88  f(y):    4.54977  ACCEPT\n",
      "--newton-- it:  53  |Delta|:  0.0762081  alpha:  0.0098877  evals:  89  f(y):    4.54974  ACCEPT\n",
      "--newton-- it:  54  |Delta|:   0.101467  alpha:  0.0148315  evals:  90  f(y):    4.54868  ACCEPT\n",
      "--newton-- it:  55  |Delta|:  0.0757539  alpha:  0.0222473  evals:  91  f(y):    4.54914  reject (lineSearch:0)\n",
      "                    (line search)        alpha:  0.0111237  evals:  92  f(y):    4.54825  ACCEPT\n",
      "--newton-- it:  56  |Delta|:   0.101043  alpha:  0.0166855  evals:  93  f(y):    4.54749  ACCEPT\n",
      "--newton-- it:  57  |Delta|:  0.0752442  alpha:  0.0250282  evals:  94  f(y):    4.54996  reject (lineSearch:0)\n",
      "                    (line search)        alpha:  0.0125141  evals:  95  f(y):    4.54724  ACCEPT\n",
      "--newton-- it:  58  |Delta|:   0.104671  alpha:  0.0187712  evals:  96  f(y):    4.55044  reject (lineSearch:0)\n",
      "                    (line search)        alpha: 0.00938559  evals:  97  f(y):     4.5485  reject (lineSearch:1)\n",
      "                    (line search)        alpha: 0.00469279  evals:  98  f(y):     4.5476  reject (lineSearch:2)\n",
      "                    (line search)        alpha:  0.0023464  evals:  99  f(y):    4.54741  reject (lineSearch:3)\n",
      "                    (line search)        alpha:  0.0011732  evals: 100  f(y):    4.54732  reject (lineSearch:4)\n",
      "                    (line search)        alpha:0.000586599  evals: 101  f(y):    4.54727  reject (lineSearch:5)\n",
      "                    (line search)        alpha:  0.0002933  evals: 102  f(y):    4.54724  reject (lineSearch:6)\n",
      "                    (line search)        alpha: 0.00014665  evals: 103  f(y):    4.54723  ACCEPT\n",
      "--newton-- it:  59  |Delta|:  0.0378784  alpha:0.000219975  evals: 104  f(y):    4.54722  ACCEPT\n",
      "--newton-- it:  60  |Delta|:    0.10468  alpha:0.000329962  evals: 105  f(y):    4.54724  reject (lineSearch:0)\n",
      "                    (line search)        alpha:0.000164981  evals: 106  f(y):    4.54723  reject (lineSearch:1)\n",
      "                    (line search)        alpha:8.24905e-05  evals: 107  f(y):    4.54722  reject (lineSearch:2)\n",
      "                    (line search)        alpha:4.12453e-05  evals: 108  f(y):    4.54722  ACCEPT\n",
      "--newton-- it:  61  |Delta|:  0.0378732  alpha:6.18679e-05  evals: 109  f(y):    4.54721  ACCEPT\n",
      "--newton-- it:  62  |Delta|:   0.104683  alpha:9.28018e-05  evals: 110  f(y):    4.54722  reject (lineSearch:0)\n",
      "                    (line search)        alpha:4.64009e-05  evals: 111  f(y):    4.54721  reject (lineSearch:1)\n",
      "                    (line search)        alpha:2.32005e-05  evals: 112  f(y):    4.54721  ACCEPT\n",
      "--newton-- stopping: 'numTinyXSteps>4'\n",
      "==nlp== it:   3  evals: 112  A(x):    4.54721  f:     4.4298  g:          0  h:  0.0229623  |x-x'|:   0.015059 \tstop:TinyXSteps (bad:1)\n",
      "==nlp== it:   4  evals: 112  A(x):    4.81238  mu:625\n",
      "--newton-- it:  63  |Delta|:  0.0435782  alpha:       0.01  evals: 113  f(y):    4.80931  ACCEPT\n",
      "--newton-- it:  64  |Delta|:  0.0901473  alpha:      0.015  evals: 114  f(y):    4.81577  reject (lineSearch:0)\n",
      "                    (line search)        alpha:     0.0075  evals: 115  f(y):    4.81073  reject (lineSearch:1)\n",
      "                    (line search)        alpha:    0.00375  evals: 116  f(y):    4.80888  ACCEPT\n",
      "--newton-- it:  65  |Delta|:  0.0709075  alpha:   0.005625  evals: 117  f(y):    4.80731  ACCEPT\n",
      "--newton-- it:  66  |Delta|:  0.0703366  alpha:  0.0084375  evals: 118  f(y):    4.80497  ACCEPT\n",
      "--newton-- it:  67  |Delta|:   0.069486  alpha:  0.0126563  evals: 119  f(y):    4.80154  ACCEPT\n",
      "--newton-- it:  68  |Delta|:  0.0682233  alpha:  0.0189844  evals: 120  f(y):    4.79655  ACCEPT\n",
      "--newton-- it:  69  |Delta|:  0.0663586  alpha:  0.0284766  evals: 121  f(y):     4.7894  ACCEPT\n",
      "--newton-- it:  70  |Delta|:  0.0636267  alpha:  0.0427148  evals: 122  f(y):    4.77937  ACCEPT\n",
      "--newton-- it:  71  |Delta|:  0.0596725  alpha:  0.0640723  evals: 123  f(y):     4.7658  ACCEPT\n",
      "--newton-- it:  72  |Delta|:  0.0540546  alpha:  0.0961084  evals: 124  f(y):    4.74835  ACCEPT\n",
      "--newton-- it:  73  |Delta|:  0.0463003  alpha:   0.144163  evals: 125  f(y):    4.72763  ACCEPT\n",
      "--newton-- it:  74  |Delta|:  0.0360729  alpha:   0.216244  evals: 126  f(y):    4.70582  ACCEPT\n",
      "--newton-- it:  75  |Delta|:  0.0235348  alpha:   0.324366  evals: 127  f(y):    4.68672  ACCEPT\n",
      "--newton-- it:  76  |Delta|:  0.0212418  alpha:   0.486549  evals: 128  f(y):     4.6739  ACCEPT\n",
      "--newton-- it:  77  |Delta|:  0.0207017  alpha:   0.729823  evals: 129  f(y):    4.66701  ACCEPT\n",
      "--newton-- it:  78  |Delta|:  0.0241288  alpha:          1  evals: 130  f(y):    4.66119  ACCEPT\n",
      "--newton-- it:  79  |Delta|:  0.0277807  alpha:          1  evals: 131  f(y):    4.65531  ACCEPT\n",
      "--newton-- it:  80  |Delta|:  0.0303442  alpha:          1  evals: 132  f(y):    4.75661  reject (lineSearch:0)\n",
      "                    (line search)        alpha:        0.5  evals: 133  f(y):    4.69457  reject (lineSearch:1)\n",
      "                    (line search)        alpha:       0.25  evals: 134  f(y):     4.6702  reject (lineSearch:2)\n",
      "                    (line search)        alpha:      0.125  evals: 135  f(y):    4.65971  reject (lineSearch:3)\n",
      "                    (line search)        alpha:     0.0625  evals: 136  f(y):    4.65496  ACCEPT\n",
      "--newton-- it:  81  |Delta|:   0.100559  alpha:    0.09375  evals: 137  f(y):    4.65738  reject (lineSearch:0)\n",
      "                    (line search)        alpha:   0.046875  evals: 138  f(y):    4.65526  reject (lineSearch:1)\n",
      "                    (line search)        alpha:  0.0234375  evals: 139  f(y):    4.65446  ACCEPT\n",
      "--newton-- it:  82  |Delta|:  0.0308868  alpha:  0.0351562  evals: 140  f(y):    4.65394  ACCEPT\n",
      "--newton-- it:  83  |Delta|:  0.0997518  alpha:  0.0527344  evals: 141  f(y):    4.65544  reject (lineSearch:0)\n",
      "                    (line search)        alpha:  0.0263672  evals: 142  f(y):    4.65445  reject (lineSearch:1)\n",
      "                    (line search)        alpha:  0.0131836  evals: 143  f(y):    4.65404  reject (lineSearch:2)\n",
      "                    (line search)        alpha:  0.0065918  evals: 144  f(y):    4.65386  ACCEPT\n",
      "--newton-- it:  84  |Delta|:   0.031087  alpha:  0.0098877  evals: 145  f(y):    4.65365  ACCEPT\n",
      "--newton-- it:  85  |Delta|:  0.0995337  alpha:  0.0148315  evals: 146  f(y):    4.65406  reject (lineSearch:0)\n",
      "                    (line search)        alpha: 0.00741577  evals: 147  f(y):    4.65384  reject (lineSearch:1)\n",
      "                    (line search)        alpha: 0.00370789  evals: 148  f(y):    4.65374  reject (lineSearch:2)\n",
      "                    (line search)        alpha: 0.00185394  evals: 149  f(y):    4.65369  reject (lineSearch:3)\n",
      "                    (line search)        alpha:0.000926971  evals: 150  f(y):    4.65366  reject (lineSearch:4)\n",
      "                    (line search)        alpha:0.000463486  evals: 151  f(y):    4.65365  ACCEPT\n",
      "--newton-- it:  86  |Delta|:  0.0311264  alpha:0.000695229  evals: 152  f(y):    4.65364  ACCEPT\n",
      "--newton-- it:  87  |Delta|:  0.0311289  alpha: 0.00104284  evals: 153  f(y):    4.65371  reject (lineSearch:0)\n",
      "                    (line search)        alpha:0.000521421  evals: 154  f(y):    4.65367  reject (lineSearch:1)\n",
      "                    (line search)        alpha:0.000260711  evals: 155  f(y):    4.65365  reject (lineSearch:2)\n",
      "                    (line search)        alpha:0.000130355  evals: 156  f(y):    4.65364  reject (lineSearch:3)\n",
      "                    (line search)        alpha:6.51777e-05  evals: 157  f(y):    4.65364  reject (lineSearch:4)\n",
      "                    (line search)        alpha:3.25888e-05  evals: 158  f(y):    4.65364  reject (lineSearch:5)\n",
      "                    (line search)        alpha:1.62944e-05  evals: 159  f(y):    4.65364  ACCEPT\n",
      "--newton-- it:  88  |Delta|:  0.0311289  alpha:2.44416e-05  evals: 160  f(y):    4.65364  reject (lineSearch:0)\n",
      "                    (line search)        alpha:1.22208e-05  evals: 161  f(y):    4.65364  reject (lineSearch:1)\n",
      "                    (line search)        alpha:6.11041e-06  evals: 162  f(y):    4.65364  ACCEPT\n",
      "--newton-- it:  89  |Delta|:  0.0311289  alpha:9.16561e-06  evals: 163  f(y):    4.65364  reject (lineSearch:0)\n",
      "                    (line search)        alpha:4.58281e-06  evals: 164  f(y):    4.65364  reject (lineSearch:1)\n",
      "                    (line search)        alpha: 2.2914e-06  evals: 165  f(y):    4.65364  ACCEPT\n",
      "--newton-- stopping: 'numTinyXSteps>4'\n",
      "==nlp== it:   4  evals: 165  A(x):    4.65364  f:    4.60472  g:          0  h: 0.00852544  |x-x'|:  0.0890803 \tstop:TinyXSteps (bad:2)\n",
      "==nlp== it:   5  evals: 165  A(x):    4.73527  mu:3125\n",
      "--newton-- it:  90  |Delta|:   0.035329  alpha:       0.01  evals: 166  f(y):    4.73492  ACCEPT\n",
      "--newton-- it:  91  |Delta|:  0.0990208  alpha:      0.015  evals: 167  f(y):    4.73639  reject (lineSearch:0)\n",
      "                    (line search)        alpha:     0.0075  evals: 168  f(y):    4.73496  reject (lineSearch:1)\n",
      "                    (line search)        alpha:    0.00375  evals: 169  f(y):    4.73428  ACCEPT\n",
      "--newton-- it:  92  |Delta|:  0.0352407  alpha:   0.005625  evals: 170  f(y):    4.73354  ACCEPT\n",
      "--newton-- it:  93  |Delta|:  0.0988743  alpha:  0.0084375  evals: 171  f(y):    4.73488  reject (lineSearch:0)\n",
      "                    (line search)        alpha: 0.00421875  evals: 172  f(y):     4.7341  reject (lineSearch:1)\n",
      "                    (line search)        alpha: 0.00210938  evals: 173  f(y):    4.73372  reject (lineSearch:2)\n",
      "                    (line search)        alpha: 0.00105469  evals: 174  f(y):    4.73354  ACCEPT\n",
      "--newton-- it:  94  |Delta|:  0.0352273  alpha: 0.00158203  evals: 175  f(y):    4.73328  ACCEPT\n",
      "--newton-- it:  95  |Delta|:  0.0352335  alpha: 0.00237305  evals: 176  f(y):    4.73309  ACCEPT\n",
      "--newton-- it:  96  |Delta|:  0.0988479  alpha: 0.00355957  evals: 177  f(y):    4.73352  reject (lineSearch:0)\n",
      "                    (line search)        alpha: 0.00177979  evals: 178  f(y):    4.73321  reject (lineSearch:1)\n",
      "                    (line search)        alpha:0.000889893  evals: 179  f(y):    4.73305  ACCEPT\n",
      "--newton-- it:  97  |Delta|:  0.0352128  alpha: 0.00133484  evals: 180  f(y):    4.73283  ACCEPT\n",
      "--newton-- it:  98  |Delta|:   0.035218  alpha: 0.00200226  evals: 181  f(y):     4.7327  ACCEPT\n",
      "--newton-- stopping: 'numTinyXSteps>4'\n",
      "==nlp== it:   5  evals: 181  A(x):     4.7327  f:    4.60525  g:          0  h: 0.00832905  |x-x'|:0.000427023 \tstop:TinyXSteps (bad:3)\n",
      "==nlp== StoppingCriterion Delta<0.01\n",
      "----newton---- final f(x):4.7327\n"
     ]
    },
    {
     "data": {
      "text/plain": [
       "0"
      ]
     },
     "execution_count": 11,
     "metadata": {},
     "output_type": "execute_result"
    }
   ],
   "source": [
    "# that's the goal configuration\n",
    "qT = komo.getPath()[0]\n",
    "C.setJointState(qT)\n",
    "C.view(False, \"IK solution\")"
   ]
  },
  {
   "cell_type": "code",
   "execution_count": 12,
   "id": "b20fc581",
   "metadata": {},
   "outputs": [
    {
     "name": "stdout",
     "output_type": "stream",
     "text": [
      "-- kin.cpp:fcl:2078(0)   SKIPPING from FCL interface: world\n",
      "-- kin.cpp:fcl:2078(0)   SKIPPING from FCL interface: table_base\n",
      "-- kin.cpp:fcl:2076(0)   adding to FCL interface: table\n",
      "-- kin.cpp:fcl:2078(0)   SKIPPING from FCL interface: l_panda_base\n",
      "-- kin.cpp:fcl:2078(0)   SKIPPING from FCL interface: l_panda_link0\n",
      "-- kin.cpp:fcl:2078(0)   SKIPPING from FCL interface: l_panda_link0_0\n",
      "-- kin.cpp:fcl:2078(0)   SKIPPING from FCL interface: l_panda_joint1_origin\n",
      "-- kin.cpp:fcl:2078(0)   SKIPPING from FCL interface: l_panda_joint1\n",
      "-- kin.cpp:fcl:2078(0)   SKIPPING from FCL interface: l_panda_link1\n",
      "-- kin.cpp:fcl:2078(0)   SKIPPING from FCL interface: l_panda_link1_0\n",
      "-- kin.cpp:fcl:2078(0)   SKIPPING from FCL interface: l_panda_joint2_origin\n",
      "-- kin.cpp:fcl:2078(0)   SKIPPING from FCL interface: l_panda_joint2\n",
      "-- kin.cpp:fcl:2078(0)   SKIPPING from FCL interface: l_panda_link2\n",
      "-- kin.cpp:fcl:2078(0)   SKIPPING from FCL interface: l_panda_link2_0\n",
      "-- kin.cpp:fcl:2078(0)   SKIPPING from FCL interface: l_panda_joint3_origin\n",
      "-- kin.cpp:fcl:2078(0)   SKIPPING from FCL interface: l_panda_joint3\n",
      "-- kin.cpp:fcl:2078(0)   SKIPPING from FCL interface: l_panda_link3\n",
      "-- kin.cpp:fcl:2078(0)   SKIPPING from FCL interface: l_panda_link3_0\n",
      "-- kin.cpp:fcl:2078(0)   SKIPPING from FCL interface: l_panda_joint4_origin\n",
      "-- kin.cpp:fcl:2078(0)   SKIPPING from FCL interface: l_panda_joint4\n",
      "-- kin.cpp:fcl:2078(0)   SKIPPING from FCL interface: l_panda_link4\n",
      "-- kin.cpp:fcl:2078(0)   SKIPPING from FCL interface: l_panda_link4_0\n",
      "-- kin.cpp:fcl:2078(0)   SKIPPING from FCL interface: l_panda_joint5_origin\n",
      "-- kin.cpp:fcl:2078(0)   SKIPPING from FCL interface: l_panda_joint5\n",
      "-- kin.cpp:fcl:2078(0)   SKIPPING from FCL interface: l_panda_link5\n",
      "-- kin.cpp:fcl:2078(0)   SKIPPING from FCL interface: l_panda_link5_0\n",
      "-- kin.cpp:fcl:2078(0)   SKIPPING from FCL interface: l_panda_joint6_origin\n",
      "-- kin.cpp:fcl:2078(0)   SKIPPING from FCL interface: l_panda_joint6\n",
      "-- kin.cpp:fcl:2078(0)   SKIPPING from FCL interface: l_panda_link6\n",
      "-- kin.cpp:fcl:2078(0)   SKIPPING from FCL interface: l_panda_link6_0\n",
      "-- kin.cpp:fcl:2078(0)   SKIPPING from FCL interface: l_panda_joint7_origin\n",
      "-- kin.cpp:fcl:2078(0)   SKIPPING from FCL interface: l_panda_joint7\n",
      "-- kin.cpp:fcl:2078(0)   SKIPPING from FCL interface: l_panda_link7\n",
      "-- kin.cpp:fcl:2078(0)   SKIPPING from FCL interface: l_panda_link7_0\n",
      "-- kin.cpp:fcl:2078(0)   SKIPPING from FCL interface: l_panda_joint8_origin\n",
      "-- kin.cpp:fcl:2078(0)   SKIPPING from FCL interface: l_panda_joint8\n",
      "-- kin.cpp:fcl:2078(0)   SKIPPING from FCL interface: l_panda_link8\n",
      "-- kin.cpp:fcl:2078(0)   SKIPPING from FCL interface: l_panda_hand\n",
      "-- kin.cpp:fcl:2078(0)   SKIPPING from FCL interface: l_panda_leftfinger\n",
      "-- kin.cpp:fcl:2078(0)   SKIPPING from FCL interface: l_panda_rightfinger\n",
      "-- kin.cpp:fcl:2076(0)   adding to FCL interface: l_panda_coll0\n",
      "-- kin.cpp:fcl:2076(0)   adding to FCL interface: l_panda_coll1\n",
      "-- kin.cpp:fcl:2076(0)   adding to FCL interface: l_panda_coll3\n",
      "-- kin.cpp:fcl:2076(0)   adding to FCL interface: l_panda_coll5\n",
      "-- kin.cpp:fcl:2076(0)   adding to FCL interface: l_panda_coll2\n",
      "-- kin.cpp:fcl:2076(0)   adding to FCL interface: l_panda_coll4\n",
      "-- kin.cpp:fcl:2076(0)   adding to FCL interface: l_panda_coll6\n",
      "-- kin.cpp:fcl:2076(0)   adding to FCL interface: l_panda_coll7\n",
      "-- kin.cpp:fcl:2078(0)   SKIPPING from FCL interface: l_robotiq_base\n",
      "-- kin.cpp:fcl:2078(0)   SKIPPING from FCL interface: l_robotiq_arg2f_base_link\n",
      "-- kin.cpp:fcl:2078(0)   SKIPPING from FCL interface: l_robotiq_arg2f_base_link_0\n",
      "-- kin.cpp:fcl:2078(0)   SKIPPING from FCL interface: l_finger_joint_origin\n",
      "-- kin.cpp:fcl:2078(0)   SKIPPING from FCL interface: l_left_inner_knuckle_joint_origin\n",
      "-- kin.cpp:fcl:2078(0)   SKIPPING from FCL interface: l_right_outer_knuckle_joint_origin\n",
      "-- kin.cpp:fcl:2078(0)   SKIPPING from FCL interface: l_right_inner_knuckle_joint_origin\n",
      "-- kin.cpp:fcl:2078(0)   SKIPPING from FCL interface: l_finger_joint\n",
      "-- kin.cpp:fcl:2078(0)   SKIPPING from FCL interface: l_left_inner_knuckle_joint\n",
      "-- kin.cpp:fcl:2078(0)   SKIPPING from FCL interface: l_right_outer_knuckle_joint\n",
      "-- kin.cpp:fcl:2078(0)   SKIPPING from FCL interface: l_right_inner_knuckle_joint\n",
      "-- kin.cpp:fcl:2078(0)   SKIPPING from FCL interface: l_left_outer_knuckle_0\n",
      "-- kin.cpp:fcl:2078(0)   SKIPPING from FCL interface: l_left_outer_finger_0\n",
      "-- kin.cpp:fcl:2078(0)   SKIPPING from FCL interface: l_left_inner_finger_joint_origin\n",
      "-- kin.cpp:fcl:2078(0)   SKIPPING from FCL interface: l_left_inner_knuckle_0\n",
      "-- kin.cpp:fcl:2078(0)   SKIPPING from FCL interface: l_right_outer_knuckle_0\n",
      "-- kin.cpp:fcl:2078(0)   SKIPPING from FCL interface: l_right_outer_finger_0\n",
      "-- kin.cpp:fcl:2078(0)   SKIPPING from FCL interface: l_right_inner_finger_joint_origin\n",
      "-- kin.cpp:fcl:2078(0)   SKIPPING from FCL interface: l_right_inner_knuckle_0\n",
      "-- kin.cpp:fcl:2078(0)   SKIPPING from FCL interface: l_left_inner_finger_joint\n",
      "-- kin.cpp:fcl:2078(0)   SKIPPING from FCL interface: l_right_inner_finger_joint\n",
      "-- kin.cpp:fcl:2078(0)   SKIPPING from FCL interface: l_left_inner_finger_0\n",
      "-- kin.cpp:fcl:2078(0)   SKIPPING from FCL interface: l_left_inner_finger_pad_0\n",
      "-- kin.cpp:fcl:2078(0)   SKIPPING from FCL interface: l_right_inner_finger_0\n",
      "-- kin.cpp:fcl:2078(0)   SKIPPING from FCL interface: l_right_inner_finger_pad_0\n",
      "-- kin.cpp:fcl:2078(0)   SKIPPING from FCL interface: l_ftsensor\n",
      "-- kin.cpp:fcl:2078(0)   SKIPPING from FCL interface: l_gripper\n",
      "-- kin.cpp:fcl:2076(0)   adding to FCL interface: l_palm\n",
      "-- kin.cpp:fcl:2076(0)   adding to FCL interface: l_finger1\n",
      "-- kin.cpp:fcl:2076(0)   adding to FCL interface: l_finger2\n",
      "-- kin.cpp:fcl:2078(0)   SKIPPING from FCL interface: l_robotiq_optitrackMarker\n",
      "-- kin.cpp:fcl:2076(0)   adding to FCL interface: l_panda_coll7b\n",
      "-- kin.cpp:fcl:2078(0)   SKIPPING from FCL interface: r_panda_base\n",
      "-- kin.cpp:fcl:2078(0)   SKIPPING from FCL interface: r_panda_link0\n",
      "-- kin.cpp:fcl:2078(0)   SKIPPING from FCL interface: r_panda_link0_0\n",
      "-- kin.cpp:fcl:2078(0)   SKIPPING from FCL interface: r_panda_joint1_origin\n",
      "-- kin.cpp:fcl:2078(0)   SKIPPING from FCL interface: r_panda_joint1\n",
      "-- kin.cpp:fcl:2078(0)   SKIPPING from FCL interface: r_panda_link1\n",
      "-- kin.cpp:fcl:2078(0)   SKIPPING from FCL interface: r_panda_link1_0\n",
      "-- kin.cpp:fcl:2078(0)   SKIPPING from FCL interface: r_panda_joint2_origin\n",
      "-- kin.cpp:fcl:2078(0)   SKIPPING from FCL interface: r_panda_joint2\n",
      "-- kin.cpp:fcl:2078(0)   SKIPPING from FCL interface: r_panda_link2\n",
      "-- kin.cpp:fcl:2078(0)   SKIPPING from FCL interface: r_panda_link2_0\n",
      "-- kin.cpp:fcl:2078(0)   SKIPPING from FCL interface: r_panda_joint3_origin\n",
      "-- kin.cpp:fcl:2078(0)   SKIPPING from FCL interface: r_panda_joint3\n",
      "-- kin.cpp:fcl:2078(0)   SKIPPING from FCL interface: r_panda_link3\n",
      "-- kin.cpp:fcl:2078(0)   SKIPPING from FCL interface: r_panda_link3_0\n",
      "-- kin.cpp:fcl:2078(0)   SKIPPING from FCL interface: r_panda_joint4_origin\n",
      "-- kin.cpp:fcl:2078(0)   SKIPPING from FCL interface: r_panda_joint4\n",
      "-- kin.cpp:fcl:2078(0)   SKIPPING from FCL interface: r_panda_link4\n",
      "-- kin.cpp:fcl:2078(0)   SKIPPING from FCL interface: r_panda_link4_0\n",
      "-- kin.cpp:fcl:2078(0)   SKIPPING from FCL interface: r_panda_joint5_origin\n",
      "-- kin.cpp:fcl:2078(0)   SKIPPING from FCL interface: r_panda_joint5\n",
      "-- kin.cpp:fcl:2078(0)   SKIPPING from FCL interface: r_panda_link5\n",
      "-- kin.cpp:fcl:2078(0)   SKIPPING from FCL interface: r_panda_link5_0\n",
      "-- kin.cpp:fcl:2078(0)   SKIPPING from FCL interface: r_panda_joint6_origin\n",
      "-- kin.cpp:fcl:2078(0)   SKIPPING from FCL interface: r_panda_joint6\n",
      "-- kin.cpp:fcl:2078(0)   SKIPPING from FCL interface: r_panda_link6\n",
      "-- kin.cpp:fcl:2078(0)   SKIPPING from FCL interface: r_panda_link6_0\n",
      "-- kin.cpp:fcl:2078(0)   SKIPPING from FCL interface: r_panda_joint7_origin\n",
      "-- kin.cpp:fcl:2078(0)   SKIPPING from FCL interface: r_panda_joint7\n",
      "-- kin.cpp:fcl:2078(0)   SKIPPING from FCL interface: r_panda_link7\n",
      "-- kin.cpp:fcl:2078(0)   SKIPPING from FCL interface: r_panda_link7_0\n",
      "-- kin.cpp:fcl:2078(0)   SKIPPING from FCL interface: r_panda_joint8_origin\n",
      "-- kin.cpp:fcl:2078(0)   SKIPPING from FCL interface: r_panda_joint8\n",
      "-- kin.cpp:fcl:2078(0)   SKIPPING from FCL interface: r_panda_link8\n",
      "-- kin.cpp:fcl:2078(0)   SKIPPING from FCL interface: r_panda_hand\n",
      "-- kin.cpp:fcl:2078(0)   SKIPPING from FCL interface: r_panda_leftfinger\n",
      "-- kin.cpp:fcl:2078(0)   SKIPPING from FCL interface: r_panda_rightfinger\n",
      "-- kin.cpp:fcl:2076(0)   adding to FCL interface: r_panda_coll0\n",
      "-- kin.cpp:fcl:2076(0)   adding to FCL interface: r_panda_coll1\n",
      "-- kin.cpp:fcl:2076(0)   adding to FCL interface: r_panda_coll3\n",
      "-- kin.cpp:fcl:2076(0)   adding to FCL interface: r_panda_coll5\n",
      "-- kin.cpp:fcl:2076(0)   adding to FCL interface: r_panda_coll2\n",
      "-- kin.cpp:fcl:2076(0)   adding to FCL interface: r_panda_coll4\n",
      "-- kin.cpp:fcl:2076(0)   adding to FCL interface: r_panda_coll6\n",
      "-- kin.cpp:fcl:2076(0)   adding to FCL interface: r_panda_coll7\n",
      "-- kin.cpp:fcl:2078(0)   SKIPPING from FCL interface: r_robotiq_base\n",
      "-- kin.cpp:fcl:2078(0)   SKIPPING from FCL interface: r_robotiq_arg2f_base_link\n",
      "-- kin.cpp:fcl:2078(0)   SKIPPING from FCL interface: r_robotiq_arg2f_base_link_0\n",
      "-- kin.cpp:fcl:2078(0)   SKIPPING from FCL interface: r_finger_joint_origin\n",
      "-- kin.cpp:fcl:2078(0)   SKIPPING from FCL interface: r_left_inner_knuckle_joint_origin\n",
      "-- kin.cpp:fcl:2078(0)   SKIPPING from FCL interface: r_right_outer_knuckle_joint_origin\n",
      "-- kin.cpp:fcl:2078(0)   SKIPPING from FCL interface: r_right_inner_knuckle_joint_origin\n",
      "-- kin.cpp:fcl:2078(0)   SKIPPING from FCL interface: r_finger_joint\n",
      "-- kin.cpp:fcl:2078(0)   SKIPPING from FCL interface: r_left_inner_knuckle_joint\n",
      "-- kin.cpp:fcl:2078(0)   SKIPPING from FCL interface: r_right_outer_knuckle_joint\n",
      "-- kin.cpp:fcl:2078(0)   SKIPPING from FCL interface: r_right_inner_knuckle_joint\n",
      "-- kin.cpp:fcl:2078(0)   SKIPPING from FCL interface: r_left_outer_knuckle_0\n",
      "-- kin.cpp:fcl:2078(0)   SKIPPING from FCL interface: r_left_outer_finger_0\n",
      "-- kin.cpp:fcl:2078(0)   SKIPPING from FCL interface: r_left_inner_finger_joint_origin\n",
      "-- kin.cpp:fcl:2078(0)   SKIPPING from FCL interface: r_left_inner_knuckle_0\n",
      "-- kin.cpp:fcl:2078(0)   SKIPPING from FCL interface: r_right_outer_knuckle_0\n",
      "-- kin.cpp:fcl:2078(0)   SKIPPING from FCL interface: r_right_outer_finger_0\n",
      "-- kin.cpp:fcl:2078(0)   SKIPPING from FCL interface: r_right_inner_finger_joint_origin\n",
      "-- kin.cpp:fcl:2078(0)   SKIPPING from FCL interface: r_right_inner_knuckle_0\n",
      "-- kin.cpp:fcl:2078(0)   SKIPPING from FCL interface: r_left_inner_finger_joint\n",
      "-- kin.cpp:fcl:2078(0)   SKIPPING from FCL interface: r_right_inner_finger_joint\n",
      "-- kin.cpp:fcl:2078(0)   SKIPPING from FCL interface: r_left_inner_finger_0\n",
      "-- kin.cpp:fcl:2078(0)   SKIPPING from FCL interface: r_left_inner_finger_pad_0\n",
      "-- kin.cpp:fcl:2078(0)   SKIPPING from FCL interface: r_right_inner_finger_0\n",
      "-- kin.cpp:fcl:2078(0)   SKIPPING from FCL interface: r_right_inner_finger_pad_0\n",
      "-- kin.cpp:fcl:2078(0)   SKIPPING from FCL interface: r_ftsensor\n",
      "-- kin.cpp:fcl:2078(0)   SKIPPING from FCL interface: r_gripper\n",
      "-- kin.cpp:fcl:2076(0)   adding to FCL interface: r_palm\n",
      "-- kin.cpp:fcl:2076(0)   adding to FCL interface: r_finger1\n",
      "-- kin.cpp:fcl:2076(0)   adding to FCL interface: r_finger2\n",
      "-- kin.cpp:fcl:2078(0)   SKIPPING from FCL interface: r_robotiq_optitrackMarker\n",
      "-- kin.cpp:fcl:2076(0)   adding to FCL interface: r_panda_coll7b\n",
      "-- kin.cpp:fcl:2078(0)   SKIPPING from FCL interface: camera\n",
      "-- kin.cpp:fcl:2078(0)   SKIPPING from FCL interface: boxR\n",
      "-- kin.cpp:fcl:2078(0)   SKIPPING from FCL interface: boxL\n",
      "-- RRT_PathFinder.cpp:RRT_PathFinder:251(0) initializing with infeasible qT:\n",
      "query: h_goal: 0 g_coll: 0 isGoal: 1 isFeasible: 0\n",
      "proxy:  (r_panda_coll5)-(l_panda_coll5) [120,43] \td=-0\n",
      "proxy:  (r_panda_coll6)-(l_panda_coll5) [123,43] \td=-0\n"
     ]
    }
   ],
   "source": [
    "#define a path finding problem\n",
    "rrt = ry.PathFinder()\n",
    "rrt.setProblem(C, [q0], [qT])"
   ]
  },
  {
   "cell_type": "code",
   "execution_count": 13,
   "id": "b0cde20c",
   "metadata": {},
   "outputs": [
    {
     "name": "stdout",
     "output_type": "stream",
     "text": [
      "RRT queries=502 tree sizes = 70 32\n",
      "{ time: 0.530418, evals: 177, done: 1, feasible: 1, sos: -1, f: -1, ineq: -1, eq: -1 }\n",
      "  -- rrt success: queries:1028 tree sizes: 120 106\n",
      "  path-length=37\n"
     ]
    }
   ],
   "source": [
    "ret = rrt.solve()\n",
    "print(ret)\n",
    "path = ret.x"
   ]
  },
  {
   "cell_type": "code",
   "execution_count": 14,
   "id": "a615cc68",
   "metadata": {},
   "outputs": [],
   "source": [
    "# display the path\n",
    "for t in range(0, path.shape[0]-1):\n",
    "    C.setJointState(path[t])\n",
    "    C.view()\n",
    "    time.sleep(.1)"
   ]
  },
  {
   "cell_type": "code",
   "execution_count": 15,
   "id": "51d2e8e7",
   "metadata": {},
   "outputs": [],
   "source": [
    "# run the path with botop\n",
    "C.setJointState(q0)\n",
    "ry.params_add({'botsim/verbose': 1., 'physx/motorKp': 10000., 'physx/motorKd': 1000.})\n",
    "bot = ry.BotOp(C, False)\n",
    "bot.home(C)"
   ]
  },
  {
   "cell_type": "code",
   "execution_count": 16,
   "id": "f0d8e62c",
   "metadata": {},
   "outputs": [],
   "source": [
    "bot.moveAutoTimed(path, 1., 1.)\n",
    "while bot.getTimeToEnd()>0:\n",
    "    bot.sync(C, .1)"
   ]
  },
  {
   "cell_type": "code",
   "execution_count": 17,
   "id": "9c02685e",
   "metadata": {},
   "outputs": [
    {
     "name": "stdout",
     "output_type": "stream",
     "text": [
      "-- bot.cpp:~BotOp:128(0) shutting down BotOp...\n",
      "-- simulation.cpp:~BotThreadedSim:56(0) shutting down SimThread\n",
      "-- simulation.cpp:~Simulation:149(0) shutting down Simulation\n"
     ]
    }
   ],
   "source": [
    "del bot"
   ]
  },
  {
   "cell_type": "code",
   "execution_count": 18,
   "id": "929345e5",
   "metadata": {},
   "outputs": [],
   "source": [
    "del rrt\n",
    "del C"
   ]
  },
  {
   "cell_type": "code",
   "execution_count": null,
   "id": "337ab0da",
   "metadata": {},
   "outputs": [],
   "source": []
  }
 ],
 "metadata": {
  "kernelspec": {
   "display_name": "Python 3 (ipykernel)",
   "language": "python",
   "name": "python3"
  },
  "language_info": {
   "codemirror_mode": {
    "name": "ipython",
    "version": 3
   },
   "file_extension": ".py",
   "mimetype": "text/x-python",
   "name": "python",
   "nbconvert_exporter": "python",
   "pygments_lexer": "ipython3",
   "version": "3.8.10"
  }
 },
 "nbformat": 4,
 "nbformat_minor": 5
}
