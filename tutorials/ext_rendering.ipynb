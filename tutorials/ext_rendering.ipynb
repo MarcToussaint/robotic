{
 "cells": [
  {
   "cell_type": "markdown",
   "id": "a7fa063a",
   "metadata": {},
   "source": [
    "# Extension - Rendering: Basic opengl, offscreen (headless), and interface to physics-based rendering\n",
    "\n",
    "The `view` is realized using very basic OpenGL rendering. It is straight-forward to grab the image (and, e.g., make a video from such images), as well as the depth (e.g. to simulate a depth camera).\n",
    "\n",
    "However, grabbing from the actual view window is brittle, as it depends on the window manager and might give weird results if the window is not visible. The package provides an offscreen (headless) implementation of the OpenGL rendering, which allows to compute images and depth (also object segmentation labels) without window or X.\n",
    "\n",
    "The simple OpenGL rendering is ok for depth camera simulation, but not visually realistic. An interface to Nvidia's NVISSI physics-based rendering enables very flexible realistic rendering."
   ]
  },
  {
   "cell_type": "markdown",
   "id": "17617137",
   "metadata": {},
   "source": [
    "## Grabbing images and depth from the view window\n",
    "The view is internally implemented using glfw and most basic opengl. It's simple to grab the rgb and depth buffers."
   ]
  },
  {
   "cell_type": "code",
   "execution_count": null,
   "id": "1dba9c3b",
   "metadata": {},
   "outputs": [],
   "source": [
    "import robotic as ry\n",
    "import numpy as np\n",
    "import matplotlib.pyplot as plt\n",
    "print(ry.__version__, ry.compiled())"
   ]
  },
  {
   "cell_type": "code",
   "execution_count": null,
   "id": "e9a8d544",
   "metadata": {},
   "outputs": [],
   "source": [
    "C = ry.Config()\n",
    "C.addFile(ry.raiPath('scenarios/pandaSingle.g'))\n",
    "C.view()"
   ]
  },
  {
   "cell_type": "code",
   "execution_count": null,
   "id": "984645b0",
   "metadata": {},
   "outputs": [],
   "source": [
    "rgb = C.view_getRgb()\n",
    "depth = C.view_getDepth()\n",
    "print(rgb.shape, depth.shape)"
   ]
  },
  {
   "cell_type": "code",
   "execution_count": null,
   "id": "979ef513",
   "metadata": {},
   "outputs": [],
   "source": [
    "fig = plt.figure()\n",
    "fig.add_subplot(1,2,1)\n",
    "plt.imshow(rgb)\n",
    "fig.add_subplot(1,2,2)\n",
    "plt.imshow(depth)\n",
    "plt.show()"
   ]
  },
  {
   "cell_type": "markdown",
   "id": "7febb758",
   "metadata": {},
   "source": [
    "The camera pose can be set to be at a particular frame. (Create a dedicated frame, if you want freedom to set the camera). Also camera intrinsics (focalLength, width, height) can be set with frame attributes. Our scene has a `cameraTop` predefined:"
   ]
  },
  {
   "cell_type": "code",
   "execution_count": null,
   "id": "07d64c52",
   "metadata": {},
   "outputs": [],
   "source": [
    "f = C.getFrame('cameraTop')\n",
    "f.setAttribute('focalLength', .5) # wide angle\n",
    "f.setAttribute('width', 500)\n",
    "f.setAttribute('height', 500)\n",
    "C.view_setCamera(f)"
   ]
  },
  {
   "cell_type": "code",
   "execution_count": null,
   "id": "697df6de",
   "metadata": {},
   "outputs": [],
   "source": [
    "C.view_setCamera(None)"
   ]
  },
  {
   "cell_type": "markdown",
   "id": "1c32c65c",
   "metadata": {},
   "source": [
    "## Saving pngs for video generation\n",
    "\n",
    "There might be many better ways to generate a video. But a simple one it to write many numered pngs and call ffmpeg on shell. For instance:"
   ]
  },
  {
   "cell_type": "code",
   "execution_count": null,
   "id": "ca0a81f2",
   "metadata": {},
   "outputs": [],
   "source": [
    "# first ensure a folder\n",
    "import os\n",
    "os.system('mkdir -p z.vid') "
   ]
  },
  {
   "cell_type": "code",
   "execution_count": null,
   "id": "b5b73522",
   "metadata": {},
   "outputs": [],
   "source": [
    "q = C.getJointState()\n",
    "\n",
    "for t in range(30):\n",
    "    q = q + .02\n",
    "    C.setJointState(q)\n",
    "    C.view()\n",
    "    C.view_savePng('z.vid/')"
   ]
  },
  {
   "cell_type": "code",
   "execution_count": null,
   "id": "c290669d",
   "metadata": {},
   "outputs": [],
   "source": [
    "os.system('ffmpeg -v 16 -f image2 -framerate 12 -i z.vid/%04d.png -c:v libx264 -r 25 -pix_fmt yuv420p -y vid.mp4')"
   ]
  },
  {
   "cell_type": "markdown",
   "id": "c802a69d",
   "metadata": {},
   "source": [
    "...which creates an mp4 with 12 images per second."
   ]
  },
  {
   "cell_type": "markdown",
   "id": "e9799e05",
   "metadata": {},
   "source": [
    "## Offscreen (headless) CameraView\n",
    "\n",
    "But this way of grabbing images and depth from the view window is brittle (as it depends on the window manager) and also includes markers and non-visual objects. A much better way is to use offscreen method:"
   ]
  },
  {
   "cell_type": "code",
   "execution_count": null,
   "id": "1692a1b0",
   "metadata": {},
   "outputs": [],
   "source": [
    "cam = ry.CameraView(C)"
   ]
  },
  {
   "cell_type": "code",
   "execution_count": null,
   "id": "72812f56",
   "metadata": {},
   "outputs": [],
   "source": [
    "rgb, depth = cam.computeImageAndDepth(C)"
   ]
  },
  {
   "cell_type": "code",
   "execution_count": null,
   "id": "4263c41b",
   "metadata": {},
   "outputs": [],
   "source": [
    "fig = plt.figure()\n",
    "fig.add_subplot(1,2,1)\n",
    "plt.imshow(rgb)\n",
    "fig.add_subplot(1,2,2)\n",
    "plt.imshow(depth)\n",
    "plt.show()"
   ]
  },
  {
   "cell_type": "code",
   "execution_count": null,
   "id": "58a4780d",
   "metadata": {},
   "outputs": [],
   "source": [
    "cam.setCamera('cameraTop') # cameraWrist is another pre-defined frame"
   ]
  },
  {
   "cell_type": "code",
   "execution_count": null,
   "id": "b45c63d9",
   "metadata": {},
   "outputs": [],
   "source": [
    "rgb, depth = cam.computeImageAndDepth(C)"
   ]
  },
  {
   "cell_type": "code",
   "execution_count": null,
   "id": "b5349790",
   "metadata": {},
   "outputs": [],
   "source": [
    "fig = plt.figure()\n",
    "fig.add_subplot(1,2,1)\n",
    "plt.imshow(rgb)\n",
    "fig.add_subplot(1,2,2)\n",
    "plt.imshow(depth)\n",
    "plt.show()"
   ]
  },
  {
   "cell_type": "markdown",
   "id": "add5d90f",
   "metadata": {},
   "source": [
    "## Point Cloud"
   ]
  },
  {
   "cell_type": "code",
   "execution_count": null,
   "id": "40853083",
   "metadata": {},
   "outputs": [],
   "source": [
    "import robotic as ry\n",
    "import matplotlib.pyplot as plt"
   ]
  },
  {
   "cell_type": "code",
   "execution_count": null,
   "id": "25ce340b",
   "metadata": {},
   "outputs": [],
   "source": [
    "C = ry.Config()\n",
    "C.addFile(ry.raiPath('scenarios/pandaSingle.g'))\n",
    "C.view()"
   ]
  },
  {
   "cell_type": "code",
   "execution_count": null,
   "id": "c5f0c0f9",
   "metadata": {},
   "outputs": [],
   "source": [
    "cam = ry.CameraView(C)\n",
    "cam.setCamera('cameraTop')\n",
    "rgb, depth = cam.computeImageAndDepth(C)\n",
    "pcl = ry.depthImage2PointCloud(depth, cam.getFxycxy())"
   ]
  },
  {
   "cell_type": "code",
   "execution_count": null,
   "id": "76b348c7",
   "metadata": {},
   "outputs": [],
   "source": [
    "print(rgb.shape, depth.shape, pcl.shape)\n",
    "print(C.view_fxycxy())"
   ]
  },
  {
   "cell_type": "code",
   "execution_count": null,
   "id": "9646e4f7",
   "metadata": {},
   "outputs": [],
   "source": [
    "fig = plt.figure()\n",
    "fig.add_subplot(1,2,1)\n",
    "plt.imshow(rgb)\n",
    "fig.add_subplot(1,2,2)\n",
    "plt.imshow(depth)\n",
    "plt.show()"
   ]
  },
  {
   "cell_type": "code",
   "execution_count": null,
   "id": "0e71b7fb",
   "metadata": {},
   "outputs": [],
   "source": [
    "f = C.addFrame('pcl', 'cameraTop')\n",
    "f.setPointCloud(pcl, [255,0,0])\n",
    "C.view()"
   ]
  },
  {
   "cell_type": "markdown",
   "id": "d36c34e2",
   "metadata": {},
   "source": [
    "## Physics-based Rendering using Nvidia NVISII"
   ]
  },
  {
   "cell_type": "code",
   "execution_count": null,
   "id": "b13bfb7e",
   "metadata": {},
   "outputs": [],
   "source": [
    "import robotic as ry\n",
    "from matplotlib import pyplot as plt\n",
    "from robotic import render\n",
    "print('version', ry.compiled())"
   ]
  },
  {
   "cell_type": "code",
   "execution_count": null,
   "id": "96b0cba5",
   "metadata": {},
   "outputs": [],
   "source": [
    "C = ry.Config()\n",
    "C.addFile(ry.raiPath('scenarios/pandaSingle.g'))\n",
    "C.view()"
   ]
  },
  {
   "cell_type": "code",
   "execution_count": null,
   "id": "c8a61052-c89a-4542-9bd4-87e3dc599a50",
   "metadata": {},
   "outputs": [],
   "source": [
    "C.addFrame('light1') .setPosition([1,0,2]) .setShape(ry.ST.ssBox, [.5,2,.1,.02]) .setColor([.5]) .setAttribute('temperature', 6000)\n",
    "C.addFrame('light2') .setPosition([-1,0,2]) .setShape(ry.ST.ssBox, [.5,2,.1,.02]) .setColor([.8]) .setAttribute('temperature', 6000)\n",
    "C.view()"
   ]
  },
  {
   "cell_type": "code",
   "execution_count": null,
   "id": "17014710",
   "metadata": {},
   "outputs": [],
   "source": [
    "nv = render.NvisiiRenderer(600, 400, C.view_focalLength())\n",
    "nv.addConfig(C)"
   ]
  },
  {
   "cell_type": "code",
   "execution_count": null,
   "id": "26a50413",
   "metadata": {},
   "outputs": [],
   "source": [
    "nv.setCamera(C)\n",
    "rgb = nv.render(256)\n",
    "plt.imshow(rgb)\n",
    "plt.show()"
   ]
  },
  {
   "cell_type": "code",
   "execution_count": null,
   "id": "8f3e851d",
   "metadata": {},
   "outputs": [],
   "source": [
    "del nv"
   ]
  },
  {
   "cell_type": "code",
   "execution_count": null,
   "id": "520c9ce7-e87d-4fc4-9025-a3e180ca024b",
   "metadata": {},
   "outputs": [],
   "source": []
  }
 ],
 "metadata": {
  "kernelspec": {
   "display_name": "Python 3 (ipykernel)",
   "language": "python",
   "name": "python3"
  },
  "language_info": {
   "codemirror_mode": {
    "name": "ipython",
    "version": 3
   },
   "file_extension": ".py",
   "mimetype": "text/x-python",
   "name": "python",
   "nbconvert_exporter": "python",
   "pygments_lexer": "ipython3",
   "version": "3.10.12"
  }
 },
 "nbformat": 4,
 "nbformat_minor": 5
}
