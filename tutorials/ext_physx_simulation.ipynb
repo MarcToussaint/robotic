{
 "cells": [
  {
   "cell_type": "markdown",
   "metadata": {},
   "source": [
    "# Extension - Simulation: Low-level stepping interface & gym environments\n",
    "\n",
    "BotOp is a narrow control interface to a real or simulated robot, which is also real time and threaded (as for a real robot). However, sometimes we need a more low-level interface to a physics simulator, e.g. to implement a Reinforcement Learning environment."
   ]
  },
  {
   "cell_type": "markdown",
   "metadata": {},
   "source": [
    "## Minimalistic example\n",
    "Let's first create the smallest possible example: A dropping ball. All we have to do is create a configuration with a ball, create an \"attached\" simulation, and step it:"
   ]
  },
  {
   "cell_type": "code",
   "execution_count": null,
   "metadata": {},
   "outputs": [],
   "source": [
    "import robotic as ry\n",
    "import time"
   ]
  },
  {
   "cell_type": "code",
   "execution_count": null,
   "metadata": {},
   "outputs": [],
   "source": [
    "# minimalistic configuration\n",
    "C = ry.Config()\n",
    "C.addFrame('ball') .setShape(ry.ST.sphere, [.2]) .setMass(.1) .setPosition([0,0,1])\n",
    "C.view()\n",
    "\n",
    "S = ry.Simulation(C, ry.SimulationEngine.physx, verbose=0)\n",
    "\n",
    "tau=.01\n",
    "for i in range(200):\n",
    "    time.sleep(tau)\n",
    "    S.step([], tau,  ry.ControlMode.none)\n",
    "    C.view()"
   ]
  },
  {
   "cell_type": "markdown",
   "metadata": {},
   "source": [
    "Note that a Simulation is *directly operating on the given configuration C*. E.g., when you step the simulation, it changes the state of C. In that sense, the simulation is rigidly associated/attached to C. (This is different to BotOp, where the real robot (or simulation) is separate from C and you have to explicitly sync them. It's also different from providing C in a constructor of KOMO, as KOMO creates it's own copies of configurations. The simulation class doesn't copy C, it operates directly on it.)"
   ]
  },
  {
   "cell_type": "markdown",
   "metadata": {},
   "source": [
    "There are a number of (global) parameters used when creating a simulation. As always, we can see which parameters were queried by `params_print`:"
   ]
  },
  {
   "cell_type": "code",
   "execution_count": null,
   "metadata": {},
   "outputs": [],
   "source": [
    "ry.params_print()"
   ]
  },
  {
   "cell_type": "markdown",
   "metadata": {},
   "source": [
    "And `params_add` allows you to set parameters. (Actually append, which is why we first need to clear.)\n",
    "\n",
    "As an example, let's increase restitution, which is bounciness."
   ]
  },
  {
   "cell_type": "code",
   "execution_count": null,
   "metadata": {},
   "outputs": [],
   "source": [
    "ry.params_clear()\n",
    "ry.params_add({'physx/defaultRestitution': .9})\n",
    "ry.params_print()"
   ]
  },
  {
   "cell_type": "markdown",
   "metadata": {},
   "source": [
    "Let's try again:"
   ]
  },
  {
   "cell_type": "code",
   "execution_count": null,
   "metadata": {},
   "outputs": [],
   "source": [
    "del S\n",
    "C.getFrame('ball') .setPosition([0,0,1])\n",
    "S = ry.Simulation(C, ry.SimulationEngine.physx, verbose=0)\n",
    "\n",
    "tau=.01\n",
    "for i in range(200):\n",
    "    time.sleep(tau)\n",
    "    S.step([], tau,  ry.ControlMode.none)\n",
    "    C.view()"
   ]
  },
  {
   "cell_type": "markdown",
   "metadata": {},
   "source": [
    "Below is an example of how to set bounciness and friction per object.\n",
    "\n",
    "The display window might not show a smooth video. That's because C.view does not force a rendering of the current frame, but only triggers it if the display thread is idle. Depending on the window manager that might lead to gaps in the display."
   ]
  },
  {
   "cell_type": "code",
   "execution_count": null,
   "metadata": {},
   "outputs": [],
   "source": [
    "del S\n",
    "del C\n",
    "ry.params_clear()"
   ]
  },
  {
   "cell_type": "markdown",
   "metadata": {},
   "source": [
    "## Including robots/articulated configurations\n",
    "Let's first give a basic example, pushing a block, which uses default settings and a predefined robot:"
   ]
  },
  {
   "cell_type": "code",
   "execution_count": null,
   "metadata": {},
   "outputs": [],
   "source": [
    "import robotic as ry\n",
    "import numpy as np\n",
    "import time"
   ]
  },
  {
   "cell_type": "code",
   "execution_count": null,
   "metadata": {},
   "outputs": [],
   "source": [
    "C = ry.Config()\n",
    "C.addFile(ry.raiPath('scenarios/pandaSingle.g'))\n",
    "C.view(False)\n",
    "\n",
    "C.addFrame('box') \\\n",
    "    .setShape(ry.ST.ssBox, size=[.1,.1,.1,.005]) .setColor([1,.5,0]) \\\n",
    "    .setPosition([.1,.35,.9])\n",
    "\n",
    "C.addFrame('stick', 'l_gripper') \\\n",
    "    .setShape(ry.ST.capsule, size=[.3,.02]) .setColor([.5,1,0]) \\\n",
    "    .setRelativePosition([0,0,-.13])\n",
    "\n",
    "C.setJointState([.0], ['l_panda_joint2']) #only cosmetics\n",
    "C.setJointState([.02], ['l_panda_finger_joint1']) #only cosmetics\n",
    "\n",
    "q0 = C.getJointState()\n",
    "X0 = C.getFrameState()\n",
    "\n",
    "C.view()"
   ]
  },
  {
   "cell_type": "markdown",
   "metadata": {},
   "source": [
    "In this scene, the orange box is above the table and will fall, and the robot will execute a trivial turn to the right that should push the box. In the following, we will create a simulation engine for this scene several times, with different parameters. The first will actually lead to a frequent error..."
   ]
  },
  {
   "cell_type": "code",
   "execution_count": null,
   "metadata": {},
   "outputs": [],
   "source": [
    "def move_a_bit(T=100):\n",
    "    tau = .01\n",
    "    q = q0.copy()\n",
    "    for i in range(T):\n",
    "        time.sleep(tau)\n",
    "        q[0] = q[0] - tau*1.\n",
    "        S.step(q, tau,  ry.ControlMode.position)\n",
    "        C.view()"
   ]
  },
  {
   "cell_type": "code",
   "execution_count": null,
   "metadata": {},
   "outputs": [],
   "source": [
    "S = ry.Simulation(C, ry.SimulationEngine.physx, verbose=0)\n",
    "move_a_bit()"
   ]
  },
  {
   "cell_type": "markdown",
   "metadata": {},
   "source": [
    "As you can see, the robot actually moved a bit and started to push, but got blocked by the box hanging in the air instead of dropping. **The error: the box was created as a static object.** You can verify this by setting verbose=2, which gives valuable information on the instantiation of the scene in the physical simulation.\n",
    "\n",
    "First rule: Only objects that have a non-zero mass become a dynamic object in the physics engine.\n",
    "\n",
    "So let's add mass, and destroy and recreate the physics engine again:"
   ]
  },
  {
   "cell_type": "code",
   "execution_count": null,
   "metadata": {},
   "outputs": [],
   "source": [
    "del S\n",
    "C.setFrameState(X0)\n",
    "C.getFrame('box') .setMass(.1)\n",
    "S = ry.Simulation(C, ry.SimulationEngine.physx, verbose=0)\n",
    "move_a_bit()"
   ]
  },
  {
   "cell_type": "markdown",
   "metadata": {},
   "source": [
    "That worked. But let's try another fail: setting a transparent color:"
   ]
  },
  {
   "cell_type": "code",
   "execution_count": null,
   "metadata": {},
   "outputs": [],
   "source": [
    "del S\n",
    "C.setFrameState(X0)\n",
    "C.getFrame('box') .setColor([1,1,0,.5])\n",
    "S = ry.Simulation(C, ry.SimulationEngine.physx, verbose=0)\n",
    "move_a_bit()"
   ]
  },
  {
   "cell_type": "markdown",
   "metadata": {},
   "source": [
    "Second rule: Transparent objects or shapes are not at all considered for creation in the physx engine. (The rational is that I use transparent colors only for helper shapes, not real objects.)\n",
    "\n",
    "And another fail: Let's attach the box to the table:"
   ]
  },
  {
   "cell_type": "code",
   "execution_count": null,
   "metadata": {},
   "outputs": [],
   "source": [
    "del S\n",
    "C.setFrameState(X0)\n",
    "C.getFrame('box') .setColor([1,1,0]) .setParent(C.getFrame('table')) .setRelativePosition([.1,.35,.3])\n",
    "S = ry.Simulation(C, ry.SimulationEngine.physx, verbose=0)\n",
    "move_a_bit()"
   ]
  },
  {
   "cell_type": "markdown",
   "metadata": {},
   "source": [
    "What happened here is more surprising and involved: The box is now a child frame of the table. Direct child frames (where there is no joint between child and parent) are really considered to be part of the parent. Also recursively. So the box is now just a sub-frame of the table, which is a sub-frame of the 'world' frame. (In general, this is how composed objects are represented, with one parent frame that may have multiple child frames carrying shapes and/or inertia.) In addition, the box as a child is giving mass to it's root frame (here the 'world' frame) -- therefore, while 'world' (with table shape) was previously a static object in physx, it now becomes dynamic, with two attached shapes. Again, setting verbose=2 reports this."
   ]
  },
  {
   "cell_type": "markdown",
   "metadata": {},
   "source": [
    "Finally, the 2nd argument allows a choice of underlying physics engine, namely PhysX (by Nvidia), bullet (as in pybullet), and 'kinematic'. The latter is actually no physics engine at all, but just kinematically executes articulated motion. Therefore, objects do not move at all -- and also collision is not avoided:"
   ]
  },
  {
   "cell_type": "code",
   "execution_count": null,
   "metadata": {},
   "outputs": [],
   "source": [
    "del S\n",
    "C.setFrameState(X0)\n",
    "C.getFrame('box') .unLink()\n",
    "S = ry.Simulation(C, ry.SimulationEngine.kinematic, verbose=0)\n",
    "move_a_bit()"
   ]
  },
  {
   "cell_type": "code",
   "execution_count": null,
   "metadata": {},
   "outputs": [],
   "source": [
    "del S\n",
    "del C"
   ]
  },
  {
   "cell_type": "markdown",
   "metadata": {},
   "source": [
    "## Friction and bouncing per object\n",
    "Let's build a configuration manually to test varying friction and bouncing (=restitution) per object:"
   ]
  },
  {
   "cell_type": "code",
   "execution_count": null,
   "metadata": {},
   "outputs": [],
   "source": [
    "import robotic as ry\n",
    "import time"
   ]
  },
  {
   "cell_type": "code",
   "execution_count": null,
   "metadata": {},
   "outputs": [],
   "source": [
    "C = ry.Config()\n",
    "C.addFrame('table') .setShape(ry.ST.ssBox, [2., 1., .1, .02]) .setColor([.3]) \\\n",
    "    .setPosition([0,0,.3]) .setQuaternion([1,-.25,0,0])\n",
    "\n",
    "for i in range(10):\n",
    "    f = C.addFrame(f'block_{i}')\n",
    "    f.setShape(ry.ST.ssBox, [.1,.2,.1,.02]) .setColor([1,.1*i,1-.1*i])\n",
    "    f.setPosition([.7 - .15*i,-.2,1.])\n",
    "    f.setMass(1.)\n",
    "    f.setAttribute('friction', .05*i)\n",
    "\n",
    "for i in range(10):\n",
    "    f = C.addFrame(f'ball_{i}')\n",
    "    f.setShape(ry.ST.sphere, [.05]) .setColor([1,.1*i,1-.1*i])\n",
    "    f.setPosition([.7 - .15*i,.2,1.])\n",
    "    f.setMass(.2)\n",
    "    f.setAttribute('restitution', .5+.1*i)\n",
    "C.view()"
   ]
  },
  {
   "cell_type": "code",
   "execution_count": null,
   "metadata": {},
   "outputs": [],
   "source": [
    "S = ry.Simulation(C, ry.SimulationEngine.physx, verbose=0)\n",
    "\n",
    "tau=.01\n",
    "for i in range(200):\n",
    "    time.sleep(tau)\n",
    "    S.step([], tau,  ry.ControlMode.none)\n",
    "    C.view()"
   ]
  },
  {
   "cell_type": "code",
   "execution_count": null,
   "metadata": {},
   "outputs": [],
   "source": [
    "S=0\n",
    "C=0"
   ]
  },
  {
   "cell_type": "markdown",
   "metadata": {},
   "source": [
    "## Resetting and messing with state\n",
    "Resetting state without recreating the engine can save a lot of time. The interface supports (re)set and overwrite the physis engine state arbitrarily. Let's create a basic stack of blocks and a minimalistic finger:"
   ]
  },
  {
   "cell_type": "code",
   "execution_count": null,
   "metadata": {},
   "outputs": [],
   "source": [
    "import robotic as ry\n",
    "import time"
   ]
  },
  {
   "cell_type": "code",
   "execution_count": null,
   "metadata": {},
   "outputs": [],
   "source": [
    "C = ry.Config()\n",
    "\n",
    "for i in range(5):\n",
    "    f = C.addFrame(f'block_{i}')\n",
    "    f.setShape(ry.ST.ssBox, [.2,.3,.2,.02]) .setColor([1,.2*i,1-.2*i])\n",
    "    f.setPosition([0,0, .25*(i+1)])\n",
    "    f.setMass(.1)\n",
    "\n",
    "C.addFrame('base') .setPosition([1., 0, .5]) .addAttributes({'multibody': True})\n",
    "\n",
    "C.addFrame('finger', 'base') .setShape(ry.ST.ssBox, [.3, .1, .1, .02]) .setColor([.9]) \\\n",
    "    .setMass(.1) \\\n",
    "    .setJoint(ry.JT.transX)\n",
    "\n",
    "q0 = C.getJointState()\n",
    "X0 = C.getFrameState()\n",
    "\n",
    "C.view()"
   ]
  },
  {
   "cell_type": "markdown",
   "metadata": {},
   "source": [
    "The blocks will fall, and we realize a simple forward motion of the finger:"
   ]
  },
  {
   "cell_type": "code",
   "execution_count": null,
   "metadata": {},
   "outputs": [],
   "source": [
    "def move_a_bit():\n",
    "    tau = .01\n",
    "    q = q0.copy()\n",
    "    for i in range(100):\n",
    "        time.sleep(tau)\n",
    "        q[0] = q[0] - tau*1.\n",
    "        S.step(q, tau,  ry.ControlMode.position)\n",
    "        C.view()"
   ]
  },
  {
   "cell_type": "code",
   "execution_count": null,
   "metadata": {},
   "outputs": [],
   "source": [
    "S = ry.Simulation(C, ry.SimulationEngine.physx, 1)\n",
    "move_a_bit()"
   ]
  },
  {
   "cell_type": "markdown",
   "metadata": {},
   "source": [
    "Here we set verbose=1 to have an additional simulation display; which will help understanding the following:\n",
    "\n",
    "We are in the middle of some action. Let's swap two blocks (top/bottom) by manipulating the configuration's *frame state*. And also displace the bottom one:"
   ]
  },
  {
   "cell_type": "code",
   "execution_count": null,
   "metadata": {},
   "outputs": [],
   "source": [
    "#swap two blocks\n",
    "X = C.getFrameState()\n",
    "A = X[0,:].copy()\n",
    "X[0,:] = X[4,:]\n",
    "X[4,:] = A\n",
    "X[4,1] = .2\n",
    "C.setFrameState(X)\n",
    "C.view()"
   ]
  },
  {
   "cell_type": "markdown",
   "metadata": {},
   "source": [
    "If you compare the simulation display with the configuration display, you see the difference. Now, the simulation interface allows you to **push** the configuration back into the physics simulation, overwriting the physical state:"
   ]
  },
  {
   "cell_type": "code",
   "execution_count": null,
   "metadata": {},
   "outputs": [],
   "source": [
    "S.setState(X)\n",
    "#updates also the simulation window"
   ]
  },
  {
   "cell_type": "markdown",
   "metadata": {},
   "source": [
    "If we continue with the simulation, all behaves 'normal'. We tricked the physics engine to adopt the previous pose of the orange block to be the new one of the pink, without it getting broken."
   ]
  },
  {
   "cell_type": "code",
   "execution_count": null,
   "metadata": {},
   "outputs": [],
   "source": [
    "move_a_bit()"
   ]
  },
  {
   "cell_type": "markdown",
   "metadata": {},
   "source": [
    "If the finger motion surprised you: We called the 'move_a_bit' method, which always starts with setting the finger reference position (of the underlying PD actuation) back to q0. (We could have reset the finger to its original position, by calling `S.setState(X, q0)` instead, see below.)\n",
    "\n",
    "Instead of messing with the state, we can also reset it to the original frame state (including the joint state). And the result should be a simulation (approx.) idential to the first time we simulated:"
   ]
  },
  {
   "cell_type": "code",
   "execution_count": null,
   "metadata": {},
   "outputs": [],
   "source": [
    "S.setState(X0, q0)\n",
    "C.view()"
   ]
  },
  {
   "cell_type": "code",
   "execution_count": null,
   "metadata": {},
   "outputs": [],
   "source": [
    "move_a_bit()"
   ]
  },
  {
   "cell_type": "markdown",
   "metadata": {},
   "source": [
    "Internally, not only the frame state (pose of all dynamic objects), but also the joint state (motor states/targets) are now overwritten in the physics simulator. The optional arguments to `setState` allow you to also set the current frame and joint velocities. (Frame velocities is a n-by-2-by-3 tensor, as you get it from `getState`.)"
   ]
  },
  {
   "cell_type": "code",
   "execution_count": null,
   "metadata": {},
   "outputs": [],
   "source": [
    "del S\n",
    "del C"
   ]
  },
  {
   "cell_type": "code",
   "execution_count": null,
   "metadata": {},
   "outputs": [],
   "source": []
  }
 ],
 "metadata": {
  "kernelspec": {
   "display_name": "Python 3 (ipykernel)",
   "language": "python",
   "name": "python3"
  },
  "language_info": {
   "codemirror_mode": {
    "name": "ipython",
    "version": 3
   },
   "file_extension": ".py",
   "mimetype": "text/x-python",
   "name": "python",
   "nbconvert_exporter": "python",
   "pygments_lexer": "ipython3",
   "version": "3.10.12"
  }
 },
 "nbformat": 4,
 "nbformat_minor": 4
}
